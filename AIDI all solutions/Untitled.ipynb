{
 "cells": [
  {
   "cell_type": "code",
   "execution_count": 1,
   "id": "ed00685e",
   "metadata": {},
   "outputs": [],
   "source": [
    "import numpy as np"
   ]
  },
  {
   "cell_type": "code",
   "execution_count": 421,
   "id": "df7ec9c9",
   "metadata": {},
   "outputs": [
    {
     "name": "stdout",
     "output_type": "stream",
     "text": [
      "[123 999   0]\n",
      "[123   0 999]\n",
      "[999   0 123]\n"
     ]
    }
   ],
   "source": [
    "a = [0,123,999]\n",
    "\n",
    "tmp = np.random.choice(a, size=3, replace=False, p=None)\n",
    "print(tmp)\n",
    "tmp = np.random.choice(a, size=3, replace=False, p=None)\n",
    "print(tmp)\n",
    "tmp = np.random.choice(a, size=3, replace=False, p=None)\n",
    "print(tmp)"
   ]
  },
  {
   "cell_type": "code",
   "execution_count": 422,
   "id": "418074cb",
   "metadata": {},
   "outputs": [
    {
     "name": "stdout",
     "output_type": "stream",
     "text": [
      "0.3366\n"
     ]
    }
   ],
   "source": [
    "cnt = 0\n",
    "r = 10000\n",
    "for i in range(r):\n",
    "    tmp = np.random.choice(a, size=3, replace=False, p=None)\n",
    "    if(tmp[0]==0): # first choice, always choose idx 0\n",
    "        cnt+=1\n",
    "print(cnt/r)"
   ]
  },
  {
   "cell_type": "code",
   "execution_count": 425,
   "id": "3e9127b8",
   "metadata": {},
   "outputs": [
    {
     "name": "stdout",
     "output_type": "stream",
     "text": [
      "[999 123   0]\n",
      "2\n"
     ]
    }
   ],
   "source": [
    "# cheat\n",
    "def cheat(arr):\n",
    "    return np.argmin(arr, axis=0)\n",
    "\n",
    "cnt = 0\n",
    "r = 1\n",
    "for i in range(r):\n",
    "    tmp = np.random.choice(a, size=3, replace=False, p=None)\n",
    "    print(tmp)\n",
    "    print(cheat(tmp))"
   ]
  },
  {
   "cell_type": "code",
   "execution_count": 571,
   "id": "d55b6953",
   "metadata": {},
   "outputs": [
    {
     "name": "stdout",
     "output_type": "stream",
     "text": [
      "我现在选了 0 号格子，但是不公开获奖情况\n",
      "--现在作弊了，剩下的格子 1 里没有奖品，不要选啊\n",
      "--好的，我听你的，我放弃格子 0，改选格子 2\n",
      "现在看看我中奖没：False\n"
     ]
    }
   ],
   "source": [
    "def cheat(arr):\n",
    "    win = np.argmin(arr, axis=0)\n",
    "    if(win==0):\n",
    "        cheat=1\n",
    "        suggest=2\n",
    "    elif(win==1):\n",
    "        cheat=2\n",
    "        suggest=1\n",
    "    elif(win==2):\n",
    "        cheat=1\n",
    "        suggest=2\n",
    "    print(\"--现在作弊了，剩下的格子 %d 里没有奖品，不要选啊\"%(cheat))\n",
    "    return cheat,suggest\n",
    "\n",
    "cnt = 0\n",
    "r = 1\n",
    "for i in range(r):\n",
    "    tmp = np.random.choice(a, size=3, replace=False, p=None)\n",
    "    first_time_choice = tmp[0]\n",
    "    print(\"我现在选了 0 号格子，但是不公开获奖情况\")\n",
    "    cheat,suggest = cheat(tmp)\n",
    "    print(\"--好的，我听你的，我放弃格子 0，改选格子 %d\" % suggest)\n",
    "    second_time_choice = tmp[suggest]\n",
    "    print(\"现在看看我中奖没：%s\" % str(second_time_choice==0))\n",
    "    "
   ]
  },
  {
   "cell_type": "code",
   "execution_count": 562,
   "id": "1ed47a3a",
   "metadata": {},
   "outputs": [
    {
     "name": "stdout",
     "output_type": "stream",
     "text": [
      "0.6696\n"
     ]
    }
   ],
   "source": [
    "def cheat(arr):\n",
    "    win = np.argmin(arr, axis=0)\n",
    "    if(win==0):\n",
    "        cheat=1\n",
    "        suggest=2\n",
    "    elif(win==1):\n",
    "        cheat=2\n",
    "        suggest=1\n",
    "    elif(win==2):\n",
    "        cheat=1\n",
    "        suggest=2\n",
    "    return suggest\n",
    "\n",
    "cnt = 0\n",
    "r = 10000\n",
    "for i in range(r):\n",
    "    tmp = np.random.choice(a, size=3, replace=False, p=None)\n",
    "    suggest = cheat(tmp)\n",
    "    second_time_choice = tmp[suggest]\n",
    "    if(second_time_choice==0):\n",
    "        cnt+=1\n",
    "print(cnt/r)"
   ]
  },
  {
   "cell_type": "code",
   "execution_count": null,
   "id": "b0e67b06",
   "metadata": {},
   "outputs": [],
   "source": []
  },
  {
   "cell_type": "code",
   "execution_count": null,
   "id": "9794cd15",
   "metadata": {},
   "outputs": [],
   "source": []
  },
  {
   "cell_type": "code",
   "execution_count": null,
   "id": "88b55842",
   "metadata": {},
   "outputs": [],
   "source": []
  },
  {
   "cell_type": "code",
   "execution_count": 8,
   "id": "d2efd2e6",
   "metadata": {},
   "outputs": [
    {
     "ename": "NameError",
     "evalue": "name 'pop' is not defined",
     "output_type": "error",
     "traceback": [
      "\u001b[0;31m---------------------------------------------------------------------------\u001b[0m",
      "\u001b[0;31mNameError\u001b[0m                                 Traceback (most recent call last)",
      "\u001b[0;32m/var/folders/lm/kt3nd3_d5xbdlqg_f3xz91y40000gn/T/ipykernel_39611/597349080.py\u001b[0m in \u001b[0;36m<module>\u001b[0;34m\u001b[0m\n\u001b[0;32m----> 1\u001b[0;31m \u001b[0mpop\u001b[0m\u001b[0;34m(\u001b[0m\u001b[0ma\u001b[0m\u001b[0;34m)\u001b[0m\u001b[0;34m\u001b[0m\u001b[0;34m\u001b[0m\u001b[0m\n\u001b[0m",
      "\u001b[0;31mNameError\u001b[0m: name 'pop' is not defined"
     ]
    }
   ],
   "source": [
    "pop(a)"
   ]
  },
  {
   "cell_type": "code",
   "execution_count": null,
   "id": "06d28a31",
   "metadata": {},
   "outputs": [],
   "source": []
  },
  {
   "cell_type": "code",
   "execution_count": null,
   "id": "e7534fc0",
   "metadata": {},
   "outputs": [],
   "source": []
  }
 ],
 "metadata": {
  "kernelspec": {
   "display_name": "Python 3 (ipykernel)",
   "language": "python",
   "name": "python3"
  },
  "language_info": {
   "codemirror_mode": {
    "name": "ipython",
    "version": 3
   },
   "file_extension": ".py",
   "mimetype": "text/x-python",
   "name": "python",
   "nbconvert_exporter": "python",
   "pygments_lexer": "ipython3",
   "version": "3.8.12"
  }
 },
 "nbformat": 4,
 "nbformat_minor": 5
}
