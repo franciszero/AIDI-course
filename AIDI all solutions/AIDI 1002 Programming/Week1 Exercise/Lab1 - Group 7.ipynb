{
 "cells": [
  {
   "cell_type": "markdown",
   "id": "1e4d2317",
   "metadata": {},
   "source": [
    "# lab 1\n",
    "\n",
    "Group 7"
   ]
  },
  {
   "cell_type": "markdown",
   "id": "69945989",
   "metadata": {},
   "source": [
    "## Exercise 1"
   ]
  },
  {
   "cell_type": "code",
   "execution_count": 1,
   "id": "0b9436a6",
   "metadata": {},
   "outputs": [
    {
     "data": {
      "image/png": "[encoded data removed]",
      "text/plain": [
       "<Figure size 432x288 with 1 Axes>"
      ]
     },
     "metadata": {
      "needs_background": "light"
     },
     "output_type": "display_data"
    }
   ],
   "source": [
    "# coding=utf-8\n",
    "import time\n",
    "import pandas as pd\n",
    "from scipy.sparse import lil_matrix\n",
    "import matplotlib.pyplot as plt\n",
    "\n",
    "\n",
    "def solution1(n, c, print_log=False):\n",
    "    r = n - 1\n",
    "    cnt = 0\n",
    "    s = ''\n",
    "    for i in range(n):\n",
    "        for j in range(n):\n",
    "            if j == 0 or j == i or j == r - i or j == r:\n",
    "                s = str(s + c)\n",
    "                cnt += 1\n",
    "            else:\n",
    "                s = str(s + \" \")\n",
    "        s = s + '\\n'\n",
    "    if print_log:\n",
    "        print(cnt)\n",
    "        print(s[0:-1])\n",
    "\n",
    "\n",
    "def solution2(n, c, print_log=False):\n",
    "    # c = bytes(c.encode())\n",
    "    # init the right bound\n",
    "    r = n - 1\n",
    "    # fill in the matrix\n",
    "    mat = lil_matrix((n, n) , dtype=str)\n",
    "    for i in range(n):\n",
    "        mat[i, 0] = c\n",
    "        mat[i, i] = c\n",
    "        mat[i, r] = c\n",
    "        mat[i, r - i] = c\n",
    "    # print it\n",
    "    if print_log:\n",
    "        print(mat.nnz)\n",
    "        df = pd.DataFrame(mat.toarray())\n",
    "        print(df.to_string(index=False, header=False))\n",
    "\n",
    "\n",
    "def get_time_cost(n, c, solution, if_print=False, i=1):\n",
    "    if n > 1000:\n",
    "        return 0\n",
    "    # print(solution.func_name + \" timer start\")\n",
    "    t = time.time()\n",
    "    for tmp in range(i):\n",
    "        solution(n, c, if_print)\n",
    "    return time.time() - t\n",
    "    # print(solution.func_name + \" timer end: \" + str(time.time() - t) + '\\n')\n",
    "\n",
    "\n",
    "def plot_time_cost(c1, c2):\n",
    "    fig, ax = plt.subplots()\n",
    "    ax.set_xscale(\"log\")\n",
    "    ax.set_yscale(\"log\")\n",
    "    ax.plot(x_axis_range, c1, \"r--\", label='solution1')\n",
    "    ax.plot(x_axis_range, c2, \"b--\", label='solution2')\n",
    "    plt.plot(x_axis_range, c1, \"ro-\", x_axis_range, c2, \"b^-\")\n",
    "    plt.xlabel('matrix size')\n",
    "    plt.ylabel('time cost')\n",
    "    plt.title('compare time cost')\n",
    "    plt.legend()\n",
    "    plt.savefig(\"./output/Week1 Exercise.png\")\n",
    "\n",
    "\n",
    "if __name__ == '__main__':\n",
    "    # num = 1000\n",
    "    char = '+'\n",
    "    interval = 1\n",
    "\n",
    "    x_axis_range = [1, 2, 5, 10, 20, 50, 100, 200, 500]\n",
    "    cost1 = []\n",
    "    cost2 = []\n",
    "    for num in x_axis_range:\n",
    "        cost1.append(get_time_cost(num, char, solution1))\n",
    "        cost2.append(get_time_cost(num, char, solution2))\n",
    "\n",
    "    plot_time_cost(cost1, cost2)\n"
   ]
  },
  {
   "cell_type": "code",
   "execution_count": 2,
   "id": "b34e2932",
   "metadata": {},
   "outputs": [
    {
     "name": "stdout",
     "output_type": "stream",
     "text": [
      "15\n",
      "o   o\n",
      "oo oo\n",
      "o o o\n",
      "oo oo\n",
      "o   o\n",
      "15\n",
      "o       o\n",
      "o o   o o\n",
      "o   o   o\n",
      "o o   o o\n",
      "o       o\n",
      "23\n",
      "*     *\n",
      "**   **\n",
      "* * * *\n",
      "*  *  *\n",
      "* * * *\n",
      "**   **\n",
      "*     *\n",
      "23\n",
      "*           *\n",
      "* *       * *\n",
      "*   *   *   *\n",
      "*     *     *\n",
      "*   *   *   *\n",
      "* *       * *\n",
      "*           *\n",
      "31\n",
      "=       =\n",
      "==     ==\n",
      "= =   = =\n",
      "=  = =  =\n",
      "=   =   =\n",
      "=  = =  =\n",
      "= =   = =\n",
      "==     ==\n",
      "=       =\n",
      "31\n",
      "=               =\n",
      "= =           = =\n",
      "=   =       =   =\n",
      "=     =   =     =\n",
      "=       =       =\n",
      "=     =   =     =\n",
      "=   =       =   =\n",
      "= =           = =\n",
      "=               =\n"
     ]
    }
   ],
   "source": [
    "def foo(n, c, print_log=True):\n",
    "    solution1(n, c, print_log)\n",
    "    solution2(n, c, print_log)\n",
    "\n",
    "foo(5, 'o')\n",
    "foo(7, '*')\n",
    "foo(9, '=')"
   ]
  },
  {
   "cell_type": "markdown",
   "id": "bdee4b22",
   "metadata": {},
   "source": [
    "## Exercise 2"
   ]
  },
  {
   "cell_type": "code",
   "execution_count": 3,
   "id": "efec9f07",
   "metadata": {},
   "outputs": [
    {
     "name": "stdout",
     "output_type": "stream",
     "text": [
      "car year 2016 mpg 20 speed 80.\n",
      "car year 2016 mpg 20 speed 110.\n",
      "car year 2013 mpg 25 speed 60.\n",
      "car year 2013 mpg 25 speed 0.\n"
     ]
    }
   ],
   "source": [
    "# coding=utf-8\n",
    "from __future__ import print_function\n",
    "\n",
    "import time\n",
    "import pandas as pd\n",
    "from scipy.sparse import lil_matrix\n",
    "import matplotlib.pyplot as plt\n",
    "\n",
    "import math\n",
    "import sys\n",
    "\n",
    "\n",
    "class Car:\n",
    "    def __init__(self, year, mpg, speed):\n",
    "        self.year = year\n",
    "        self.mpg = mpg\n",
    "        self.speed = speed\n",
    "        self.owners = []\n",
    "\n",
    "    def accelerate(self):\n",
    "        self.speed += 30\n",
    "\n",
    "    def brake(self):\n",
    "        self.speed -= 60\n",
    "        if self.speed < 0:\n",
    "            self.speed = 0\n",
    "\n",
    "    def __str__(self):\n",
    "        return \"car year {} mpg {} speed {}.\".format(self.year, self.mpg, self.speed)\n",
    "\n",
    "\n",
    "def func():\n",
    "    car1 = Car(2016, 20, 80)\n",
    "    print(car1)\n",
    "    car1.accelerate()\n",
    "    print(car1)\n",
    "\n",
    "    car2 = Car(2013, 25, 60)\n",
    "    print(car2)\n",
    "    car2.brake()\n",
    "    print(car2)\n",
    "\n",
    "\n",
    "if __name__ == '__main__':\n",
    "    func()\n"
   ]
  },
  {
   "cell_type": "code",
   "execution_count": null,
   "id": "701e016a",
   "metadata": {},
   "outputs": [],
   "source": []
  }
 ],
 "metadata": {
  "kernelspec": {
   "display_name": "Python 3 (ipykernel)",
   "language": "python",
   "name": "python3"
  },
  "language_info": {
   "codemirror_mode": {
    "name": "ipython",
    "version": 3
   },
   "file_extension": ".py",
   "mimetype": "text/x-python",
   "name": "python",
   "nbconvert_exporter": "python",
   "pygments_lexer": "ipython3",
   "version": "3.8.12"
  }
 },
 "nbformat": 4,
 "nbformat_minor": 5
}
