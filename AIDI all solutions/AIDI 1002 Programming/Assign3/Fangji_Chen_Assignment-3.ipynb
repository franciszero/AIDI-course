{
 "cells": [
  {
   "cell_type": "code",
   "execution_count": 1,
   "id": "427f5143",
   "metadata": {},
   "outputs": [],
   "source": [
    "import numpy as np\n",
    "import pandas as pd\n",
    "import matplotlib.pyplot as plt\n",
    "\n",
    "import os\n",
    "os.environ[\"CUDA_VISIBLE_DEVICES\"] = \"-1\"  # Force TF to use only the CPU"
   ]
  },
  {
   "cell_type": "code",
   "execution_count": 2,
   "id": "89a9b0af",
   "metadata": {},
   "outputs": [
    {
     "name": "stderr",
     "output_type": "stream",
     "text": [
      "2022-12-06 22:30:01.415216: I tensorflow/core/platform/cpu_feature_guard.cc:193] This TensorFlow binary is optimized with oneAPI Deep Neural Network Library (oneDNN) to use the following CPU instructions in performance-critical operations:  AVX2 FMA\n",
      "To enable them in other operations, rebuild TensorFlow with the appropriate compiler flags.\n"
     ]
    }
   ],
   "source": [
    "from keras.preprocessing.text import Tokenizer\n",
    "from keras.datasets import imdb\n",
    "from keras import preprocessing\n",
    "\n",
    "from keras import models\n",
    "from keras import layers\n",
    "from keras import optimizers\n",
    "from keras import losses\n",
    "from keras import metrics\n",
    "\n",
    "from keras.models import Sequential\n",
    "from keras.layers import Flatten, Dense\n",
    "from keras.layers import Embedding\n",
    "\n",
    "from keras.layers import LSTM\n",
    "from keras.layers import GRU\n",
    "\n",
    "import warnings\n",
    "warnings.filterwarnings(\"ignore\")\n",
    "pd.set_option('display.max_rows', 100)\n",
    "pd.set_option('display.max_columns', 100)\n",
    "pd.set_option('display.width', 5000)"
   ]
  },
  {
   "cell_type": "code",
   "execution_count": 3,
   "id": "b6186394",
   "metadata": {},
   "outputs": [],
   "source": [
    "traindf = pd.read_csv('./train.csv')\n",
    "testdf = pd.read_csv('./test.csv')"
   ]
  },
  {
   "cell_type": "code",
   "execution_count": 4,
   "id": "e261afdb",
   "metadata": {},
   "outputs": [
    {
     "data": {
      "text/html": [
       "<div>\n",
       "<style scoped>\n",
       "    .dataframe tbody tr th:only-of-type {\n",
       "        vertical-align: middle;\n",
       "    }\n",
       "\n",
       "    .dataframe tbody tr th {\n",
       "        vertical-align: top;\n",
       "    }\n",
       "\n",
       "    .dataframe thead th {\n",
       "        text-align: right;\n",
       "    }\n",
       "</style>\n",
       "<table border=\"1\" class=\"dataframe\">\n",
       "  <thead>\n",
       "    <tr style=\"text-align: right;\">\n",
       "      <th></th>\n",
       "      <th>ID</th>\n",
       "      <th>Gender</th>\n",
       "      <th>Ever_Married</th>\n",
       "      <th>Age</th>\n",
       "      <th>Graduated</th>\n",
       "      <th>Profession</th>\n",
       "      <th>Work_Experience</th>\n",
       "      <th>Spending_Score</th>\n",
       "      <th>Family_Size</th>\n",
       "      <th>Var_1</th>\n",
       "      <th>Segmentation</th>\n",
       "    </tr>\n",
       "  </thead>\n",
       "  <tbody>\n",
       "    <tr>\n",
       "      <th>0</th>\n",
       "      <td>462809</td>\n",
       "      <td>Male</td>\n",
       "      <td>No</td>\n",
       "      <td>22</td>\n",
       "      <td>No</td>\n",
       "      <td>Healthcare</td>\n",
       "      <td>1.0</td>\n",
       "      <td>Low</td>\n",
       "      <td>4.0</td>\n",
       "      <td>Cat_4</td>\n",
       "      <td>D</td>\n",
       "    </tr>\n",
       "    <tr>\n",
       "      <th>1</th>\n",
       "      <td>462643</td>\n",
       "      <td>Female</td>\n",
       "      <td>Yes</td>\n",
       "      <td>38</td>\n",
       "      <td>Yes</td>\n",
       "      <td>Engineer</td>\n",
       "      <td>NaN</td>\n",
       "      <td>Average</td>\n",
       "      <td>3.0</td>\n",
       "      <td>Cat_4</td>\n",
       "      <td>A</td>\n",
       "    </tr>\n",
       "    <tr>\n",
       "      <th>2</th>\n",
       "      <td>466315</td>\n",
       "      <td>Female</td>\n",
       "      <td>Yes</td>\n",
       "      <td>67</td>\n",
       "      <td>Yes</td>\n",
       "      <td>Engineer</td>\n",
       "      <td>1.0</td>\n",
       "      <td>Low</td>\n",
       "      <td>1.0</td>\n",
       "      <td>Cat_6</td>\n",
       "      <td>B</td>\n",
       "    </tr>\n",
       "    <tr>\n",
       "      <th>3</th>\n",
       "      <td>461735</td>\n",
       "      <td>Male</td>\n",
       "      <td>Yes</td>\n",
       "      <td>67</td>\n",
       "      <td>Yes</td>\n",
       "      <td>Lawyer</td>\n",
       "      <td>0.0</td>\n",
       "      <td>High</td>\n",
       "      <td>2.0</td>\n",
       "      <td>Cat_6</td>\n",
       "      <td>B</td>\n",
       "    </tr>\n",
       "    <tr>\n",
       "      <th>4</th>\n",
       "      <td>462669</td>\n",
       "      <td>Female</td>\n",
       "      <td>Yes</td>\n",
       "      <td>40</td>\n",
       "      <td>Yes</td>\n",
       "      <td>Entertainment</td>\n",
       "      <td>NaN</td>\n",
       "      <td>High</td>\n",
       "      <td>6.0</td>\n",
       "      <td>Cat_6</td>\n",
       "      <td>A</td>\n",
       "    </tr>\n",
       "    <tr>\n",
       "      <th>...</th>\n",
       "      <td>...</td>\n",
       "      <td>...</td>\n",
       "      <td>...</td>\n",
       "      <td>...</td>\n",
       "      <td>...</td>\n",
       "      <td>...</td>\n",
       "      <td>...</td>\n",
       "      <td>...</td>\n",
       "      <td>...</td>\n",
       "      <td>...</td>\n",
       "      <td>...</td>\n",
       "    </tr>\n",
       "    <tr>\n",
       "      <th>8063</th>\n",
       "      <td>464018</td>\n",
       "      <td>Male</td>\n",
       "      <td>No</td>\n",
       "      <td>22</td>\n",
       "      <td>No</td>\n",
       "      <td>NaN</td>\n",
       "      <td>0.0</td>\n",
       "      <td>Low</td>\n",
       "      <td>7.0</td>\n",
       "      <td>Cat_1</td>\n",
       "      <td>D</td>\n",
       "    </tr>\n",
       "    <tr>\n",
       "      <th>8064</th>\n",
       "      <td>464685</td>\n",
       "      <td>Male</td>\n",
       "      <td>No</td>\n",
       "      <td>35</td>\n",
       "      <td>No</td>\n",
       "      <td>Executive</td>\n",
       "      <td>3.0</td>\n",
       "      <td>Low</td>\n",
       "      <td>4.0</td>\n",
       "      <td>Cat_4</td>\n",
       "      <td>D</td>\n",
       "    </tr>\n",
       "    <tr>\n",
       "      <th>8065</th>\n",
       "      <td>465406</td>\n",
       "      <td>Female</td>\n",
       "      <td>No</td>\n",
       "      <td>33</td>\n",
       "      <td>Yes</td>\n",
       "      <td>Healthcare</td>\n",
       "      <td>1.0</td>\n",
       "      <td>Low</td>\n",
       "      <td>1.0</td>\n",
       "      <td>Cat_6</td>\n",
       "      <td>D</td>\n",
       "    </tr>\n",
       "    <tr>\n",
       "      <th>8066</th>\n",
       "      <td>467299</td>\n",
       "      <td>Female</td>\n",
       "      <td>No</td>\n",
       "      <td>27</td>\n",
       "      <td>Yes</td>\n",
       "      <td>Healthcare</td>\n",
       "      <td>1.0</td>\n",
       "      <td>Low</td>\n",
       "      <td>4.0</td>\n",
       "      <td>Cat_6</td>\n",
       "      <td>B</td>\n",
       "    </tr>\n",
       "    <tr>\n",
       "      <th>8067</th>\n",
       "      <td>461879</td>\n",
       "      <td>Male</td>\n",
       "      <td>Yes</td>\n",
       "      <td>37</td>\n",
       "      <td>Yes</td>\n",
       "      <td>Executive</td>\n",
       "      <td>0.0</td>\n",
       "      <td>Average</td>\n",
       "      <td>3.0</td>\n",
       "      <td>Cat_4</td>\n",
       "      <td>B</td>\n",
       "    </tr>\n",
       "  </tbody>\n",
       "</table>\n",
       "<p>8068 rows × 11 columns</p>\n",
       "</div>"
      ],
      "text/plain": [
       "          ID  Gender Ever_Married  Age Graduated     Profession  Work_Experience Spending_Score  Family_Size  Var_1 Segmentation\n",
       "0     462809    Male           No   22        No     Healthcare              1.0            Low          4.0  Cat_4            D\n",
       "1     462643  Female          Yes   38       Yes       Engineer              NaN        Average          3.0  Cat_4            A\n",
       "2     466315  Female          Yes   67       Yes       Engineer              1.0            Low          1.0  Cat_6            B\n",
       "3     461735    Male          Yes   67       Yes         Lawyer              0.0           High          2.0  Cat_6            B\n",
       "4     462669  Female          Yes   40       Yes  Entertainment              NaN           High          6.0  Cat_6            A\n",
       "...      ...     ...          ...  ...       ...            ...              ...            ...          ...    ...          ...\n",
       "8063  464018    Male           No   22        No            NaN              0.0            Low          7.0  Cat_1            D\n",
       "8064  464685    Male           No   35        No      Executive              3.0            Low          4.0  Cat_4            D\n",
       "8065  465406  Female           No   33       Yes     Healthcare              1.0            Low          1.0  Cat_6            D\n",
       "8066  467299  Female           No   27       Yes     Healthcare              1.0            Low          4.0  Cat_6            B\n",
       "8067  461879    Male          Yes   37       Yes      Executive              0.0        Average          3.0  Cat_4            B\n",
       "\n",
       "[8068 rows x 11 columns]"
      ]
     },
     "execution_count": 4,
     "metadata": {},
     "output_type": "execute_result"
    }
   ],
   "source": [
    "traindf"
   ]
  },
  {
   "cell_type": "code",
   "execution_count": 5,
   "id": "f0d136c7",
   "metadata": {},
   "outputs": [
    {
     "data": {
      "text/html": [
       "<div>\n",
       "<style scoped>\n",
       "    .dataframe tbody tr th:only-of-type {\n",
       "        vertical-align: middle;\n",
       "    }\n",
       "\n",
       "    .dataframe tbody tr th {\n",
       "        vertical-align: top;\n",
       "    }\n",
       "\n",
       "    .dataframe thead th {\n",
       "        text-align: right;\n",
       "    }\n",
       "</style>\n",
       "<table border=\"1\" class=\"dataframe\">\n",
       "  <thead>\n",
       "    <tr style=\"text-align: right;\">\n",
       "      <th></th>\n",
       "      <th>ID</th>\n",
       "      <th>Gender</th>\n",
       "      <th>Ever_Married</th>\n",
       "      <th>Age</th>\n",
       "      <th>Graduated</th>\n",
       "      <th>Profession</th>\n",
       "      <th>Work_Experience</th>\n",
       "      <th>Spending_Score</th>\n",
       "      <th>Family_Size</th>\n",
       "      <th>Var_1</th>\n",
       "    </tr>\n",
       "  </thead>\n",
       "  <tbody>\n",
       "    <tr>\n",
       "      <th>0</th>\n",
       "      <td>458989</td>\n",
       "      <td>Female</td>\n",
       "      <td>Yes</td>\n",
       "      <td>36</td>\n",
       "      <td>Yes</td>\n",
       "      <td>Engineer</td>\n",
       "      <td>0.0</td>\n",
       "      <td>Low</td>\n",
       "      <td>1.0</td>\n",
       "      <td>Cat_6</td>\n",
       "    </tr>\n",
       "    <tr>\n",
       "      <th>1</th>\n",
       "      <td>458994</td>\n",
       "      <td>Male</td>\n",
       "      <td>Yes</td>\n",
       "      <td>37</td>\n",
       "      <td>Yes</td>\n",
       "      <td>Healthcare</td>\n",
       "      <td>8.0</td>\n",
       "      <td>Average</td>\n",
       "      <td>4.0</td>\n",
       "      <td>Cat_6</td>\n",
       "    </tr>\n",
       "    <tr>\n",
       "      <th>2</th>\n",
       "      <td>458996</td>\n",
       "      <td>Female</td>\n",
       "      <td>Yes</td>\n",
       "      <td>69</td>\n",
       "      <td>No</td>\n",
       "      <td>NaN</td>\n",
       "      <td>0.0</td>\n",
       "      <td>Low</td>\n",
       "      <td>1.0</td>\n",
       "      <td>Cat_6</td>\n",
       "    </tr>\n",
       "    <tr>\n",
       "      <th>3</th>\n",
       "      <td>459000</td>\n",
       "      <td>Male</td>\n",
       "      <td>Yes</td>\n",
       "      <td>59</td>\n",
       "      <td>No</td>\n",
       "      <td>Executive</td>\n",
       "      <td>11.0</td>\n",
       "      <td>High</td>\n",
       "      <td>2.0</td>\n",
       "      <td>Cat_6</td>\n",
       "    </tr>\n",
       "    <tr>\n",
       "      <th>4</th>\n",
       "      <td>459001</td>\n",
       "      <td>Female</td>\n",
       "      <td>No</td>\n",
       "      <td>19</td>\n",
       "      <td>No</td>\n",
       "      <td>Marketing</td>\n",
       "      <td>NaN</td>\n",
       "      <td>Low</td>\n",
       "      <td>4.0</td>\n",
       "      <td>Cat_6</td>\n",
       "    </tr>\n",
       "    <tr>\n",
       "      <th>...</th>\n",
       "      <td>...</td>\n",
       "      <td>...</td>\n",
       "      <td>...</td>\n",
       "      <td>...</td>\n",
       "      <td>...</td>\n",
       "      <td>...</td>\n",
       "      <td>...</td>\n",
       "      <td>...</td>\n",
       "      <td>...</td>\n",
       "      <td>...</td>\n",
       "    </tr>\n",
       "    <tr>\n",
       "      <th>2622</th>\n",
       "      <td>467954</td>\n",
       "      <td>Male</td>\n",
       "      <td>No</td>\n",
       "      <td>29</td>\n",
       "      <td>No</td>\n",
       "      <td>Healthcare</td>\n",
       "      <td>9.0</td>\n",
       "      <td>Low</td>\n",
       "      <td>4.0</td>\n",
       "      <td>Cat_6</td>\n",
       "    </tr>\n",
       "    <tr>\n",
       "      <th>2623</th>\n",
       "      <td>467958</td>\n",
       "      <td>Female</td>\n",
       "      <td>No</td>\n",
       "      <td>35</td>\n",
       "      <td>Yes</td>\n",
       "      <td>Doctor</td>\n",
       "      <td>1.0</td>\n",
       "      <td>Low</td>\n",
       "      <td>1.0</td>\n",
       "      <td>Cat_6</td>\n",
       "    </tr>\n",
       "    <tr>\n",
       "      <th>2624</th>\n",
       "      <td>467960</td>\n",
       "      <td>Female</td>\n",
       "      <td>No</td>\n",
       "      <td>53</td>\n",
       "      <td>Yes</td>\n",
       "      <td>Entertainment</td>\n",
       "      <td>NaN</td>\n",
       "      <td>Low</td>\n",
       "      <td>2.0</td>\n",
       "      <td>Cat_6</td>\n",
       "    </tr>\n",
       "    <tr>\n",
       "      <th>2625</th>\n",
       "      <td>467961</td>\n",
       "      <td>Male</td>\n",
       "      <td>Yes</td>\n",
       "      <td>47</td>\n",
       "      <td>Yes</td>\n",
       "      <td>Executive</td>\n",
       "      <td>1.0</td>\n",
       "      <td>High</td>\n",
       "      <td>5.0</td>\n",
       "      <td>Cat_4</td>\n",
       "    </tr>\n",
       "    <tr>\n",
       "      <th>2626</th>\n",
       "      <td>467968</td>\n",
       "      <td>Female</td>\n",
       "      <td>No</td>\n",
       "      <td>43</td>\n",
       "      <td>Yes</td>\n",
       "      <td>Healthcare</td>\n",
       "      <td>9.0</td>\n",
       "      <td>Low</td>\n",
       "      <td>3.0</td>\n",
       "      <td>Cat_7</td>\n",
       "    </tr>\n",
       "  </tbody>\n",
       "</table>\n",
       "<p>2627 rows × 10 columns</p>\n",
       "</div>"
      ],
      "text/plain": [
       "          ID  Gender Ever_Married  Age Graduated     Profession  Work_Experience Spending_Score  Family_Size  Var_1\n",
       "0     458989  Female          Yes   36       Yes       Engineer              0.0            Low          1.0  Cat_6\n",
       "1     458994    Male          Yes   37       Yes     Healthcare              8.0        Average          4.0  Cat_6\n",
       "2     458996  Female          Yes   69        No            NaN              0.0            Low          1.0  Cat_6\n",
       "3     459000    Male          Yes   59        No      Executive             11.0           High          2.0  Cat_6\n",
       "4     459001  Female           No   19        No      Marketing              NaN            Low          4.0  Cat_6\n",
       "...      ...     ...          ...  ...       ...            ...              ...            ...          ...    ...\n",
       "2622  467954    Male           No   29        No     Healthcare              9.0            Low          4.0  Cat_6\n",
       "2623  467958  Female           No   35       Yes         Doctor              1.0            Low          1.0  Cat_6\n",
       "2624  467960  Female           No   53       Yes  Entertainment              NaN            Low          2.0  Cat_6\n",
       "2625  467961    Male          Yes   47       Yes      Executive              1.0           High          5.0  Cat_4\n",
       "2626  467968  Female           No   43       Yes     Healthcare              9.0            Low          3.0  Cat_7\n",
       "\n",
       "[2627 rows x 10 columns]"
      ]
     },
     "execution_count": 5,
     "metadata": {},
     "output_type": "execute_result"
    }
   ],
   "source": [
    "testdf"
   ]
  },
  {
   "cell_type": "markdown",
   "id": "9b5ed1b5",
   "metadata": {},
   "source": [
    "# data preprocessing: fillna()"
   ]
  },
  {
   "cell_type": "code",
   "execution_count": 6,
   "id": "e21a78a0",
   "metadata": {},
   "outputs": [
    {
     "name": "stdout",
     "output_type": "stream",
     "text": [
      "ID                 False\n",
      "Gender             False\n",
      "Ever_Married        True\n",
      "Age                False\n",
      "Graduated           True\n",
      "Profession          True\n",
      "Work_Experience     True\n",
      "Spending_Score     False\n",
      "Family_Size         True\n",
      "Var_1               True\n",
      "Segmentation       False\n",
      "dtype: bool\n"
     ]
    },
    {
     "data": {
      "text/plain": [
       "<AxesSubplot:>"
      ]
     },
     "execution_count": 6,
     "metadata": {},
     "output_type": "execute_result"
    },
    {
     "data": {
      "image/png": "[encoded data removed]",
      "text/plain": [
       "<Figure size 550x300 with 2 Axes>"
      ]
     },
     "metadata": {
      "needs_background": "light"
     },
     "output_type": "display_data"
    }
   ],
   "source": [
    "import seaborn as sns\n",
    "print(traindf.isnull().any())\n",
    "plt.figure(figsize=(traindf.shape[1] / 2, 3), dpi=100)\n",
    "sns.heatmap(traindf.isnull(), cmap=\"viridis\")"
   ]
  },
  {
   "cell_type": "code",
   "execution_count": 7,
   "id": "4bd21e78",
   "metadata": {},
   "outputs": [
    {
     "data": {
      "text/plain": [
       "Index(['ID', 'Gender', 'Ever_Married', 'Age', 'Graduated', 'Profession', 'Work_Experience', 'Spending_Score', 'Family_Size', 'Var_1', 'Segmentation'], dtype='object')"
      ]
     },
     "execution_count": 7,
     "metadata": {},
     "output_type": "execute_result"
    }
   ],
   "source": [
    "df = traindf\n",
    "df.columns"
   ]
  },
  {
   "cell_type": "code",
   "execution_count": 8,
   "id": "082da148",
   "metadata": {},
   "outputs": [
    {
     "data": {
      "text/plain": [
       "count     7928\n",
       "unique       2\n",
       "top        Yes\n",
       "freq      4643\n",
       "Name: Ever_Married, dtype: object"
      ]
     },
     "execution_count": 8,
     "metadata": {},
     "output_type": "execute_result"
    }
   ],
   "source": [
    "df['Ever_Married'].describe()"
   ]
  },
  {
   "cell_type": "code",
   "execution_count": 9,
   "id": "fa8e9f13",
   "metadata": {},
   "outputs": [],
   "source": [
    "df['Ever_Married'].fillna('Yes', inplace=True)"
   ]
  },
  {
   "cell_type": "code",
   "execution_count": 10,
   "id": "cbead599",
   "metadata": {},
   "outputs": [
    {
     "data": {
      "text/plain": [
       "count     7990\n",
       "unique       2\n",
       "top        Yes\n",
       "freq      4968\n",
       "Name: Graduated, dtype: object"
      ]
     },
     "execution_count": 10,
     "metadata": {},
     "output_type": "execute_result"
    }
   ],
   "source": [
    "df['Graduated'].describe()"
   ]
  },
  {
   "cell_type": "code",
   "execution_count": 11,
   "id": "f9cf14b4",
   "metadata": {},
   "outputs": [],
   "source": [
    "df['Graduated'].fillna('Yes', inplace=True)"
   ]
  },
  {
   "cell_type": "code",
   "execution_count": 12,
   "id": "1f5f3362",
   "metadata": {},
   "outputs": [
    {
     "data": {
      "text/plain": [
       "count       7944\n",
       "unique         9\n",
       "top       Artist\n",
       "freq        2516\n",
       "Name: Profession, dtype: object"
      ]
     },
     "execution_count": 12,
     "metadata": {},
     "output_type": "execute_result"
    }
   ],
   "source": [
    "df['Profession'].describe()"
   ]
  },
  {
   "cell_type": "code",
   "execution_count": 13,
   "id": "8ab807e3",
   "metadata": {},
   "outputs": [],
   "source": [
    "df['Profession'].fillna('', inplace=True)"
   ]
  },
  {
   "cell_type": "code",
   "execution_count": 14,
   "id": "93c54194",
   "metadata": {},
   "outputs": [
    {
     "data": {
      "text/plain": [
       "count    7239.000000\n",
       "mean        2.641663\n",
       "std         3.406763\n",
       "min         0.000000\n",
       "25%         0.000000\n",
       "50%         1.000000\n",
       "75%         4.000000\n",
       "max        14.000000\n",
       "Name: Work_Experience, dtype: float64"
      ]
     },
     "execution_count": 14,
     "metadata": {},
     "output_type": "execute_result"
    }
   ],
   "source": [
    "df['Work_Experience'].describe()"
   ]
  },
  {
   "cell_type": "code",
   "execution_count": 15,
   "id": "233373ac",
   "metadata": {},
   "outputs": [],
   "source": [
    "df['Work_Experience'].fillna(df['Work_Experience'].mean(), inplace=True)"
   ]
  },
  {
   "cell_type": "code",
   "execution_count": 16,
   "id": "ebb53a17",
   "metadata": {},
   "outputs": [
    {
     "data": {
      "text/plain": [
       "count     8068\n",
       "unique       3\n",
       "top        Low\n",
       "freq      4878\n",
       "Name: Spending_Score, dtype: object"
      ]
     },
     "execution_count": 16,
     "metadata": {},
     "output_type": "execute_result"
    }
   ],
   "source": [
    "df['Spending_Score'].describe()"
   ]
  },
  {
   "cell_type": "code",
   "execution_count": 17,
   "id": "80301a09",
   "metadata": {},
   "outputs": [],
   "source": [
    "df['Spending_Score'].fillna('Low', inplace=True)"
   ]
  },
  {
   "cell_type": "code",
   "execution_count": 18,
   "id": "1b3f2d71",
   "metadata": {},
   "outputs": [
    {
     "data": {
      "text/plain": [
       "count    7733.000000\n",
       "mean        2.850123\n",
       "std         1.531413\n",
       "min         1.000000\n",
       "25%         2.000000\n",
       "50%         3.000000\n",
       "75%         4.000000\n",
       "max         9.000000\n",
       "Name: Family_Size, dtype: float64"
      ]
     },
     "execution_count": 18,
     "metadata": {},
     "output_type": "execute_result"
    }
   ],
   "source": [
    "df['Family_Size'].describe()"
   ]
  },
  {
   "cell_type": "code",
   "execution_count": 19,
   "id": "1229e3b0",
   "metadata": {},
   "outputs": [],
   "source": [
    "df['Family_Size'].fillna(df['Family_Size'].mean(), inplace=True)"
   ]
  },
  {
   "cell_type": "code",
   "execution_count": 20,
   "id": "55577ffe",
   "metadata": {},
   "outputs": [
    {
     "data": {
      "text/plain": [
       "count      7992\n",
       "unique        7\n",
       "top       Cat_6\n",
       "freq       5238\n",
       "Name: Var_1, dtype: object"
      ]
     },
     "execution_count": 20,
     "metadata": {},
     "output_type": "execute_result"
    }
   ],
   "source": [
    "df['Var_1'].describe()"
   ]
  },
  {
   "cell_type": "code",
   "execution_count": 21,
   "id": "1ededfc9",
   "metadata": {},
   "outputs": [],
   "source": [
    "df['Var_1'].fillna('Cat_6', inplace=True)"
   ]
  },
  {
   "cell_type": "code",
   "execution_count": 22,
   "id": "7d98eff3",
   "metadata": {},
   "outputs": [
    {
     "name": "stdout",
     "output_type": "stream",
     "text": [
      "ID                 False\n",
      "Gender             False\n",
      "Ever_Married       False\n",
      "Age                False\n",
      "Graduated          False\n",
      "Profession         False\n",
      "Work_Experience    False\n",
      "Spending_Score     False\n",
      "Family_Size        False\n",
      "Var_1              False\n",
      "Segmentation       False\n",
      "dtype: bool\n"
     ]
    },
    {
     "data": {
      "text/plain": [
       "<AxesSubplot:>"
      ]
     },
     "execution_count": 22,
     "metadata": {},
     "output_type": "execute_result"
    },
    {
     "data": {
      "image/png": "[encoded data removed]",
      "text/plain": [
       "<Figure size 550x300 with 2 Axes>"
      ]
     },
     "metadata": {
      "needs_background": "light"
     },
     "output_type": "display_data"
    }
   ],
   "source": [
    "traindf = df\n",
    "print(traindf.isnull().any())\n",
    "plt.figure(figsize=(traindf.shape[1] / 2, 3), dpi=100)\n",
    "sns.heatmap(traindf.isnull(), cmap=\"viridis\")"
   ]
  },
  {
   "cell_type": "code",
   "execution_count": 23,
   "id": "f200c3dc",
   "metadata": {},
   "outputs": [
    {
     "name": "stdout",
     "output_type": "stream",
     "text": [
      "ID                 False\n",
      "Gender             False\n",
      "Ever_Married        True\n",
      "Age                False\n",
      "Graduated           True\n",
      "Profession          True\n",
      "Work_Experience     True\n",
      "Spending_Score     False\n",
      "Family_Size         True\n",
      "Var_1               True\n",
      "dtype: bool\n"
     ]
    },
    {
     "data": {
      "text/plain": [
       "<AxesSubplot:>"
      ]
     },
     "execution_count": 23,
     "metadata": {},
     "output_type": "execute_result"
    },
    {
     "data": {
      "image/png": "[encoded data removed]",
      "text/plain": [
       "<Figure size 500x300 with 2 Axes>"
      ]
     },
     "metadata": {
      "needs_background": "light"
     },
     "output_type": "display_data"
    }
   ],
   "source": [
    "print(testdf.isnull().any())\n",
    "plt.figure(figsize=(testdf.shape[1] / 2, 3), dpi=100)\n",
    "sns.heatmap(testdf.isnull(), cmap=\"viridis\")"
   ]
  },
  {
   "cell_type": "code",
   "execution_count": 24,
   "id": "e0eda0a4",
   "metadata": {},
   "outputs": [
    {
     "name": "stdout",
     "output_type": "stream",
     "text": [
      "ID                 False\n",
      "Gender             False\n",
      "Ever_Married       False\n",
      "Age                False\n",
      "Graduated          False\n",
      "Profession         False\n",
      "Work_Experience    False\n",
      "Spending_Score     False\n",
      "Family_Size        False\n",
      "Var_1              False\n",
      "Segmentation       False\n",
      "dtype: bool\n"
     ]
    },
    {
     "data": {
      "text/plain": [
       "<AxesSubplot:>"
      ]
     },
     "execution_count": 24,
     "metadata": {},
     "output_type": "execute_result"
    },
    {
     "data": {
      "image/png": "[encoded data removed]",
      "text/plain": [
       "<Figure size 550x300 with 2 Axes>"
      ]
     },
     "metadata": {
      "needs_background": "light"
     },
     "output_type": "display_data"
    }
   ],
   "source": [
    "testdf['Ever_Married'].fillna('Yes', inplace=True)\n",
    "testdf['Graduated'].fillna('Yes', inplace=True)\n",
    "testdf['Profession'].fillna('', inplace=True)\n",
    "testdf['Work_Experience'].fillna(testdf['Work_Experience'].mean(), inplace=True)\n",
    "testdf['Spending_Score'].fillna('Low', inplace=True)\n",
    "testdf['Family_Size'].fillna(testdf['Family_Size'].mean(), inplace=True)\n",
    "\n",
    "print(traindf.isnull().any())\n",
    "plt.figure(figsize=(traindf.shape[1] / 2, 3), dpi=100)\n",
    "sns.heatmap(traindf.isnull(), cmap=\"viridis\")"
   ]
  },
  {
   "cell_type": "code",
   "execution_count": 100,
   "id": "4edb7155",
   "metadata": {},
   "outputs": [
    {
     "data": {
      "text/plain": [
       "(8068, 9)"
      ]
     },
     "execution_count": 100,
     "metadata": {},
     "output_type": "execute_result"
    }
   ],
   "source": [
    "traindfx = traindf.drop(['Var_1', 'Segmentation'], axis=1)\n",
    "traindfy = traindf['Var_1']\n",
    "traindfx.shape"
   ]
  },
  {
   "cell_type": "code",
   "execution_count": 104,
   "id": "ec2edf0b",
   "metadata": {},
   "outputs": [
    {
     "data": {
      "text/plain": [
       "(8068,)"
      ]
     },
     "execution_count": 104,
     "metadata": {},
     "output_type": "execute_result"
    }
   ],
   "source": [
    "from sklearn.preprocessing import LabelEncoder\n",
    "traindfy = LabelEncoder().fit_transform(traindfy)\n",
    "traindfy.shape"
   ]
  },
  {
   "cell_type": "code",
   "execution_count": 102,
   "id": "6ecc2135",
   "metadata": {},
   "outputs": [
    {
     "data": {
      "text/plain": [
       "(2627, 9)"
      ]
     },
     "execution_count": 102,
     "metadata": {},
     "output_type": "execute_result"
    }
   ],
   "source": [
    "X_test = testdf.drop(['Var_1'], axis=1)\n",
    "y_test = testdf['Var_1']\n",
    "X_test.shape"
   ]
  },
  {
   "cell_type": "code",
   "execution_count": 105,
   "id": "a9192627",
   "metadata": {},
   "outputs": [
    {
     "data": {
      "text/plain": [
       "(2627,)"
      ]
     },
     "execution_count": 105,
     "metadata": {},
     "output_type": "execute_result"
    }
   ],
   "source": [
    "from sklearn.preprocessing import LabelEncoder\n",
    "y_test = LabelEncoder().fit_transform(y_test)\n",
    "y_test.shape"
   ]
  },
  {
   "cell_type": "markdown",
   "id": "da70ae12",
   "metadata": {},
   "source": [
    "# data encoding"
   ]
  },
  {
   "cell_type": "code",
   "execution_count": 110,
   "id": "e3c445b4",
   "metadata": {},
   "outputs": [
    {
     "data": {
      "text/plain": [
       "array([[-0.14732985,  0.        ,  0.        , ...,  0.        ,\n",
       "         0.        ,  0.57493857],\n",
       "       [-0.18419007, -1.        ,  1.        , ...,  1.        ,\n",
       "         0.        ,  0.07493857],\n",
       "       [ 0.63117575, -1.        ,  1.        , ...,  0.        ,\n",
       "         0.        , -0.92506143],\n",
       "       ...,\n",
       "       [ 0.42933274, -1.        ,  1.        , ...,  0.        ,\n",
       "         0.        , -0.92506143],\n",
       "       [ 0.84967248, -1.        ,  1.        , ...,  0.        ,\n",
       "         0.        ,  0.57493857],\n",
       "       [-0.35383591,  0.        ,  0.        , ...,  1.        ,\n",
       "         0.        ,  0.07493857]])"
      ]
     },
     "execution_count": 110,
     "metadata": {},
     "output_type": "execute_result"
    }
   ],
   "source": [
    "import category_encoders as ce\n",
    "from sklearn.preprocessing import *\n",
    "def onehot_encoding(x_train, x_test):\n",
    "    categorical_data = [var for var in x_train.columns if x_train[var].dtype == 'O']\n",
    "\n",
    "    encoder = ce.OneHotEncoder(cols=categorical_data)\n",
    "    x_train = encoder.fit_transform(x_train)\n",
    "    x_test = encoder.transform(x_test)\n",
    "\n",
    "    scaler = RobustScaler()\n",
    "    x_train = scaler.fit_transform(x_train)\n",
    "    x_test = scaler.transform(x_test)\n",
    "    return x_train, x_test\n",
    "\n",
    "traindfx, X_test = onehot_encoding(traindfx, X_test)\n",
    "traindfx"
   ]
  },
  {
   "cell_type": "code",
   "execution_count": 107,
   "id": "1afad964",
   "metadata": {},
   "outputs": [],
   "source": [
    "# from tensorflow.keras.utils import to_categorical\n",
    "# n_classes = np.unique(y_test)\n",
    "# to_categorical(y_test, n_classes)"
   ]
  },
  {
   "cell_type": "code",
   "execution_count": null,
   "id": "9a5575d5",
   "metadata": {},
   "outputs": [],
   "source": []
  },
  {
   "cell_type": "markdown",
   "id": "11aacb1e",
   "metadata": {},
   "source": [
    "# 1.1 Shuffling of the data before training (2 points)\n",
    "\n",
    "shuffling data with random_state=0"
   ]
  },
  {
   "cell_type": "code",
   "execution_count": 112,
   "id": "2876eeb1",
   "metadata": {},
   "outputs": [],
   "source": [
    "from sklearn.model_selection import train_test_split\n",
    "X_train, X_valid, y_train, y_valid = \\\n",
    "    train_test_split(traindfx, traindfy, test_size=0.2, random_state=0, stratify=traindfy)"
   ]
  },
  {
   "cell_type": "code",
   "execution_count": 113,
   "id": "43898144",
   "metadata": {},
   "outputs": [
    {
     "data": {
      "text/plain": [
       "array([[-0.12268236,  0.        ,  0.        , ...,  0.        ,\n",
       "         1.        ,  1.07493857],\n",
       "       [-0.39646941, -1.        ,  1.        , ...,  0.        ,\n",
       "         1.        , -0.42506143],\n",
       "       [ 0.10380815, -1.        ,  1.        , ...,  0.        ,\n",
       "         0.        ,  2.57493857],\n",
       "       ...,\n",
       "       [ 0.05362496,  0.        ,  0.        , ...,  1.        ,\n",
       "         0.        , -0.42506143],\n",
       "       [ 0.13134229, -1.        ,  1.        , ...,  0.        ,\n",
       "         0.        , -0.42506143],\n",
       "       [ 0.18085933,  0.        ,  0.        , ...,  1.        ,\n",
       "         0.        ,  0.07493857]])"
      ]
     },
     "execution_count": 113,
     "metadata": {},
     "output_type": "execute_result"
    }
   ],
   "source": [
    "X_train"
   ]
  },
  {
   "cell_type": "code",
   "execution_count": 114,
   "id": "f5fb8c82",
   "metadata": {},
   "outputs": [
    {
     "data": {
      "text/plain": [
       "array([5, 5, 3, ..., 3, 5, 1])"
      ]
     },
     "execution_count": 114,
     "metadata": {},
     "output_type": "execute_result"
    }
   ],
   "source": [
    "y_train"
   ]
  },
  {
   "cell_type": "code",
   "execution_count": 115,
   "id": "9e6ab497",
   "metadata": {},
   "outputs": [
    {
     "data": {
      "text/plain": [
       "array([[ 0.20150994, -1.        ,  1.        , ...,  1.        ,\n",
       "         0.        ,  1.57493857],\n",
       "       [ 0.47685134,  0.        ,  0.        , ...,  0.        ,\n",
       "         0.        ,  0.07493857],\n",
       "       [-0.52214944,  0.        ,  0.        , ...,  0.        ,\n",
       "         0.        ,  0.57493857],\n",
       "       ...,\n",
       "       [-0.70356389, -1.        ,  1.        , ...,  0.        ,\n",
       "         0.        , -0.92506143],\n",
       "       [ 0.87942711,  0.        ,  0.        , ...,  0.        ,\n",
       "         0.        , -0.92506143],\n",
       "       [-0.87587432, -1.        ,  1.        , ...,  1.        ,\n",
       "         0.        , -0.42506143]])"
      ]
     },
     "execution_count": 115,
     "metadata": {},
     "output_type": "execute_result"
    }
   ],
   "source": [
    "X_valid"
   ]
  },
  {
   "cell_type": "code",
   "execution_count": 116,
   "id": "a9cd3e87",
   "metadata": {},
   "outputs": [
    {
     "data": {
      "text/plain": [
       "array([5, 5, 2, ..., 5, 5, 5])"
      ]
     },
     "execution_count": 116,
     "metadata": {},
     "output_type": "execute_result"
    }
   ],
   "source": [
    "y_valid"
   ]
  },
  {
   "cell_type": "markdown",
   "id": "52082af3",
   "metadata": {},
   "source": [
    "# 1.2 Design and train a neural network model (e.g. you can use DNN network or if you want to use any other models it is also acceptable) (10 points)"
   ]
  },
  {
   "cell_type": "code",
   "execution_count": 170,
   "id": "6f16dfb2",
   "metadata": {},
   "outputs": [
    {
     "name": "stdout",
     "output_type": "stream",
     "text": [
      "51/51 [==============================] - 0s 1ms/step - loss: 18.4029 - accuracy: 0.3922\n"
     ]
    },
    {
     "data": {
      "text/plain": [
       "[18.402856826782227, 0.3921933174133301]"
      ]
     },
     "execution_count": 170,
     "metadata": {},
     "output_type": "execute_result"
    }
   ],
   "source": [
    "from tensorflow.keras.models import Sequential\n",
    "model = Sequential()\n",
    "model.add(Dense(256, activation='ReLU'))\n",
    "model.add(Dense(256, activation='ReLU'))\n",
    "model.add(Dense(64, activation='ReLU'))\n",
    "model.add(Dense(64, activation='ReLU'))\n",
    "model.add(Dense(10, activation='softmax'))\n",
    "\n",
    "from tensorflow.keras.optimizers import SGD\n",
    "model.compile(loss='mean_squared_error', optimizer=SGD(lr=0.0001), metrics=['accuracy'])  # optimizer='rmsprop', \n",
    "\n",
    "model.fit(X_train, y_train, batch_size=200, epochs=50, verbose=0, validation_data=(X_valid, y_valid))  # , validation_data=(X_valid, y_valid)\n",
    "\n",
    "model.evaluate(X_valid, y_valid)"
   ]
  },
  {
   "cell_type": "code",
   "execution_count": null,
   "id": "b20ffae1",
   "metadata": {},
   "outputs": [],
   "source": []
  },
  {
   "cell_type": "code",
   "execution_count": 123,
   "id": "5ae7a5c9",
   "metadata": {
    "scrolled": true
   },
   "outputs": [
    {
     "data": {
      "text/plain": [
       "<keras.callbacks.History at 0x7f84c5c3b790>"
      ]
     },
     "execution_count": 123,
     "metadata": {},
     "output_type": "execute_result"
    }
   ],
   "source": []
  },
  {
   "cell_type": "code",
   "execution_count": 128,
   "id": "04e12c3c",
   "metadata": {},
   "outputs": [
    {
     "name": "stdout",
     "output_type": "stream",
     "text": [
      "Model: \"sequential_3\"\n",
      "_________________________________________________________________\n",
      " Layer (type)                Output Shape              Param #   \n",
      "=================================================================\n",
      " dense_6 (Dense)             (None, 64)                1536      \n",
      "                                                                 \n",
      " dense_7 (Dense)             (None, 10)                650       \n",
      "                                                                 \n",
      "=================================================================\n",
      "Total params: 2,186\n",
      "Trainable params: 2,186\n",
      "Non-trainable params: 0\n",
      "_________________________________________________________________\n"
     ]
    }
   ],
   "source": [
    "model.summary()"
   ]
  },
  {
   "cell_type": "code",
   "execution_count": 124,
   "id": "a14a411b",
   "metadata": {},
   "outputs": [
    {
     "name": "stdout",
     "output_type": "stream",
     "text": [
      "51/51 [==============================] - 0s 733us/step - loss: 18.4029 - accuracy: 0.1258\n"
     ]
    },
    {
     "data": {
      "text/plain": [
       "[18.402894973754883, 0.12577447295188904]"
      ]
     },
     "execution_count": 124,
     "metadata": {},
     "output_type": "execute_result"
    }
   ],
   "source": []
  },
  {
   "cell_type": "code",
   "execution_count": null,
   "id": "4147e03a",
   "metadata": {},
   "outputs": [],
   "source": []
  },
  {
   "cell_type": "code",
   "execution_count": null,
   "id": "e62f213e",
   "metadata": {},
   "outputs": [],
   "source": []
  },
  {
   "cell_type": "code",
   "execution_count": null,
   "id": "bb865614",
   "metadata": {},
   "outputs": [],
   "source": []
  },
  {
   "cell_type": "code",
   "execution_count": null,
   "id": "8741b028",
   "metadata": {},
   "outputs": [],
   "source": []
  },
  {
   "cell_type": "code",
   "execution_count": null,
   "id": "c90eeb50",
   "metadata": {},
   "outputs": [],
   "source": []
  },
  {
   "cell_type": "code",
   "execution_count": null,
   "id": "a50d8a32",
   "metadata": {},
   "outputs": [],
   "source": []
  },
  {
   "cell_type": "code",
   "execution_count": null,
   "id": "4cb6b982",
   "metadata": {},
   "outputs": [],
   "source": [
    "model1 = models.Sequential()\n",
    "\n",
    "# two intermediate layers with 16 hiddent units each with relu activation functions (which zero out negative values)\n",
    "model1.add(layers.Dense(16, activation='relu'))\n",
    "model1.add(layers.Dense(16, activation='relu'))\n",
    "\n",
    "# output layer with sigmoid activation function to output something that can be interpreted as probability\n",
    "model1.add(layers.Dense(1, activation='sigmoid'))\n",
    "\n",
    "# compile the model\n",
    "model1.compile(optimizer='rmsprop', loss='binary_crossentropy', metrics=['accuracy'])\n",
    "\n",
    "model1.fit(X_train, y_train, epochs=4, batch_size = 512) # train the model in mini-batches of 512 samples"
   ]
  },
  {
   "cell_type": "code",
   "execution_count": null,
   "id": "91f1ebbc",
   "metadata": {},
   "outputs": [],
   "source": [
    "\n",
    "# summarize model\n",
    "print(model1.summary())"
   ]
  }
 ],
 "metadata": {
  "kernelspec": {
   "display_name": "Python 3 (ipykernel)",
   "language": "python",
   "name": "python3"
  },
  "language_info": {
   "codemirror_mode": {
    "name": "ipython",
    "version": 3
   },
   "file_extension": ".py",
   "mimetype": "text/x-python",
   "name": "python",
   "nbconvert_exporter": "python",
   "pygments_lexer": "ipython3",
   "version": "3.8.12"
  }
 },
 "nbformat": 4,
 "nbformat_minor": 5
}
