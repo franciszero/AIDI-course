{
 "cells": [
  {
   "cell_type": "code",
   "execution_count": 1,
   "id": "427f5143",
   "metadata": {},
   "outputs": [
    {
     "name": "stderr",
     "output_type": "stream",
     "text": [
      "2022-12-09 01:01:29.132528: I tensorflow/core/platform/cpu_feature_guard.cc:193] This TensorFlow binary is optimized with oneAPI Deep Neural Network Library (oneDNN) to use the following CPU instructions in performance-critical operations:  AVX2 FMA\n",
      "To enable them in other operations, rebuild TensorFlow with the appropriate compiler flags.\n"
     ]
    }
   ],
   "source": [
    "import numpy as np\n",
    "import pandas as pd\n",
    "import matplotlib.pyplot as plt\n",
    "\n",
    "import seaborn as sns\n",
    "import os\n",
    "from sklearn.preprocessing import LabelEncoder\n",
    "import category_encoders as ce\n",
    "from sklearn.preprocessing import *\n",
    "from keras.utils import to_categorical\n",
    "from sklearn.model_selection import train_test_split\n",
    "from keras.models import Sequential\n",
    "from keras.optimizers import SGD, Adam\n",
    "from keras import callbacks\n",
    "from keras import backend as K\n",
    "from keras.callbacks import EarlyStopping\n",
    "from keras import layers\n",
    "from sklearn.datasets import fetch_openml\n",
    "from sklearn.preprocessing import StandardScaler\n",
    "from sklearn.pipeline import make_pipeline\n",
    "from sklearn.linear_model import LogisticRegression\n",
    "from sklearn.model_selection import train_test_split\n",
    "from sklearn.metrics import confusion_matrix\n",
    "from sklearn.metrics import ConfusionMatrixDisplay\n",
    "from sklearn.metrics import roc_curve\n",
    "from sklearn.metrics import RocCurveDisplay\n",
    "import matplotlib.pyplot as plt \n",
    "from sklearn.preprocessing import LabelBinarizer\n",
    "from sklearn.metrics import roc_curve, auc, roc_auc_score\n",
    "\n",
    "os.environ[\"CUDA_VISIBLE_DEVICES\"] = \"-1\"  # Force TF to use only the CPU"
   ]
  },
  {
   "cell_type": "code",
   "execution_count": 2,
   "id": "89a9b0af",
   "metadata": {},
   "outputs": [],
   "source": [
    "from keras.preprocessing.text import Tokenizer\n",
    "from keras.datasets import imdb\n",
    "from keras import preprocessing\n",
    "\n",
    "from keras import models\n",
    "from keras import layers\n",
    "from keras import optimizers\n",
    "from keras import losses\n",
    "from keras import metrics\n",
    "\n",
    "from keras.models import Sequential\n",
    "from keras.layers import Flatten, Dense\n",
    "from keras.layers import Embedding\n",
    "\n",
    "from keras.layers import LSTM\n",
    "from keras.layers import GRU\n",
    "\n",
    "import warnings\n",
    "warnings.filterwarnings(\"ignore\")\n",
    "pd.set_option('display.max_rows', 100)\n",
    "pd.set_option('display.max_columns', 100)\n",
    "pd.set_option('display.width', 5000)"
   ]
  },
  {
   "cell_type": "code",
   "execution_count": 3,
   "id": "b6186394",
   "metadata": {},
   "outputs": [],
   "source": [
    "traindf = pd.read_csv('./train.csv')\n",
    "testdf = pd.read_csv('./test.csv')"
   ]
  },
  {
   "cell_type": "code",
   "execution_count": 4,
   "id": "833bc529",
   "metadata": {},
   "outputs": [],
   "source": [
    "# testdf = pd.merge(left=testdf, right=traindf[['ID', 'Segmentation']], how='left', on='ID')"
   ]
  },
  {
   "cell_type": "code",
   "execution_count": 5,
   "id": "f7f12585",
   "metadata": {},
   "outputs": [],
   "source": [
    "# testdf['Segmentation'].describe()"
   ]
  },
  {
   "cell_type": "code",
   "execution_count": 6,
   "id": "e261afdb",
   "metadata": {},
   "outputs": [],
   "source": [
    "# testdf['Segmentation'].fillna('D')"
   ]
  },
  {
   "cell_type": "markdown",
   "id": "9b5ed1b5",
   "metadata": {},
   "source": [
    "# data preprocessing: fillna()"
   ]
  },
  {
   "cell_type": "code",
   "execution_count": 7,
   "id": "e21a78a0",
   "metadata": {},
   "outputs": [
    {
     "name": "stdout",
     "output_type": "stream",
     "text": [
      "ID                 False\n",
      "Gender             False\n",
      "Ever_Married        True\n",
      "Age                False\n",
      "Graduated           True\n",
      "Profession          True\n",
      "Work_Experience     True\n",
      "Spending_Score     False\n",
      "Family_Size         True\n",
      "Var_1               True\n",
      "Segmentation       False\n",
      "dtype: bool\n"
     ]
    },
    {
     "data": {
      "text/plain": [
       "<AxesSubplot:>"
      ]
     },
     "execution_count": 7,
     "metadata": {},
     "output_type": "execute_result"
    },
    {
     "data": {
      "image/png": "[encoded data removed]",
      "text/plain": [
       "<Figure size 550x300 with 2 Axes>"
      ]
     },
     "metadata": {
      "needs_background": "light"
     },
     "output_type": "display_data"
    }
   ],
   "source": [
    "import seaborn as sns\n",
    "print(traindf.isnull().any())\n",
    "plt.figure(figsize=(traindf.shape[1] / 2, 3), dpi=100)\n",
    "sns.heatmap(traindf.isnull(), cmap=\"viridis\")"
   ]
  },
  {
   "cell_type": "code",
   "execution_count": 8,
   "id": "4bd21e78",
   "metadata": {},
   "outputs": [
    {
     "data": {
      "text/plain": [
       "Index(['ID', 'Gender', 'Ever_Married', 'Age', 'Graduated', 'Profession', 'Work_Experience', 'Spending_Score', 'Family_Size', 'Var_1', 'Segmentation'], dtype='object')"
      ]
     },
     "execution_count": 8,
     "metadata": {},
     "output_type": "execute_result"
    }
   ],
   "source": [
    "df = traindf\n",
    "df.columns"
   ]
  },
  {
   "cell_type": "code",
   "execution_count": 9,
   "id": "082da148",
   "metadata": {},
   "outputs": [
    {
     "data": {
      "text/plain": [
       "count     7928\n",
       "unique       2\n",
       "top        Yes\n",
       "freq      4643\n",
       "Name: Ever_Married, dtype: object"
      ]
     },
     "execution_count": 9,
     "metadata": {},
     "output_type": "execute_result"
    }
   ],
   "source": [
    "df['Ever_Married'].describe()"
   ]
  },
  {
   "cell_type": "code",
   "execution_count": 10,
   "id": "fa8e9f13",
   "metadata": {},
   "outputs": [],
   "source": [
    "df['Ever_Married'].fillna('Yes', inplace=True)"
   ]
  },
  {
   "cell_type": "code",
   "execution_count": 11,
   "id": "cbead599",
   "metadata": {},
   "outputs": [
    {
     "data": {
      "text/plain": [
       "count     7990\n",
       "unique       2\n",
       "top        Yes\n",
       "freq      4968\n",
       "Name: Graduated, dtype: object"
      ]
     },
     "execution_count": 11,
     "metadata": {},
     "output_type": "execute_result"
    }
   ],
   "source": [
    "df['Graduated'].describe()"
   ]
  },
  {
   "cell_type": "code",
   "execution_count": 12,
   "id": "f9cf14b4",
   "metadata": {},
   "outputs": [],
   "source": [
    "df['Graduated'].fillna('Yes', inplace=True)"
   ]
  },
  {
   "cell_type": "code",
   "execution_count": 13,
   "id": "1f5f3362",
   "metadata": {},
   "outputs": [
    {
     "data": {
      "text/plain": [
       "count       7944\n",
       "unique         9\n",
       "top       Artist\n",
       "freq        2516\n",
       "Name: Profession, dtype: object"
      ]
     },
     "execution_count": 13,
     "metadata": {},
     "output_type": "execute_result"
    }
   ],
   "source": [
    "df['Profession'].describe()"
   ]
  },
  {
   "cell_type": "code",
   "execution_count": 14,
   "id": "8ab807e3",
   "metadata": {},
   "outputs": [],
   "source": [
    "df['Profession'].fillna('', inplace=True)"
   ]
  },
  {
   "cell_type": "code",
   "execution_count": 15,
   "id": "93c54194",
   "metadata": {},
   "outputs": [
    {
     "data": {
      "text/plain": [
       "count    7239.000000\n",
       "mean        2.641663\n",
       "std         3.406763\n",
       "min         0.000000\n",
       "25%         0.000000\n",
       "50%         1.000000\n",
       "75%         4.000000\n",
       "max        14.000000\n",
       "Name: Work_Experience, dtype: float64"
      ]
     },
     "execution_count": 15,
     "metadata": {},
     "output_type": "execute_result"
    }
   ],
   "source": [
    "df['Work_Experience'].describe()"
   ]
  },
  {
   "cell_type": "code",
   "execution_count": 16,
   "id": "233373ac",
   "metadata": {},
   "outputs": [],
   "source": [
    "df['Work_Experience'].fillna(df['Work_Experience'].mean(), inplace=True)"
   ]
  },
  {
   "cell_type": "code",
   "execution_count": 17,
   "id": "ebb53a17",
   "metadata": {},
   "outputs": [
    {
     "data": {
      "text/plain": [
       "count     8068\n",
       "unique       3\n",
       "top        Low\n",
       "freq      4878\n",
       "Name: Spending_Score, dtype: object"
      ]
     },
     "execution_count": 17,
     "metadata": {},
     "output_type": "execute_result"
    }
   ],
   "source": [
    "df['Spending_Score'].describe()"
   ]
  },
  {
   "cell_type": "code",
   "execution_count": 18,
   "id": "80301a09",
   "metadata": {},
   "outputs": [],
   "source": [
    "df['Spending_Score'].fillna('Low', inplace=True)"
   ]
  },
  {
   "cell_type": "code",
   "execution_count": 19,
   "id": "1b3f2d71",
   "metadata": {},
   "outputs": [
    {
     "data": {
      "text/plain": [
       "count    7733.000000\n",
       "mean        2.850123\n",
       "std         1.531413\n",
       "min         1.000000\n",
       "25%         2.000000\n",
       "50%         3.000000\n",
       "75%         4.000000\n",
       "max         9.000000\n",
       "Name: Family_Size, dtype: float64"
      ]
     },
     "execution_count": 19,
     "metadata": {},
     "output_type": "execute_result"
    }
   ],
   "source": [
    "df['Family_Size'].describe()"
   ]
  },
  {
   "cell_type": "code",
   "execution_count": 20,
   "id": "1229e3b0",
   "metadata": {},
   "outputs": [],
   "source": [
    "df['Family_Size'].fillna(df['Family_Size'].mean(), inplace=True)"
   ]
  },
  {
   "cell_type": "code",
   "execution_count": 21,
   "id": "55577ffe",
   "metadata": {},
   "outputs": [
    {
     "data": {
      "text/plain": [
       "count      7992\n",
       "unique        7\n",
       "top       Cat_6\n",
       "freq       5238\n",
       "Name: Var_1, dtype: object"
      ]
     },
     "execution_count": 21,
     "metadata": {},
     "output_type": "execute_result"
    }
   ],
   "source": [
    "df['Var_1'].describe()"
   ]
  },
  {
   "cell_type": "code",
   "execution_count": 22,
   "id": "1ededfc9",
   "metadata": {},
   "outputs": [],
   "source": [
    "df['Var_1'].fillna('Cat_6', inplace=True)"
   ]
  },
  {
   "cell_type": "code",
   "execution_count": 23,
   "id": "7d98eff3",
   "metadata": {},
   "outputs": [
    {
     "name": "stdout",
     "output_type": "stream",
     "text": [
      "ID                 False\n",
      "Gender             False\n",
      "Ever_Married       False\n",
      "Age                False\n",
      "Graduated          False\n",
      "Profession         False\n",
      "Work_Experience    False\n",
      "Spending_Score     False\n",
      "Family_Size        False\n",
      "Var_1              False\n",
      "Segmentation       False\n",
      "dtype: bool\n"
     ]
    },
    {
     "data": {
      "text/plain": [
       "<AxesSubplot:>"
      ]
     },
     "execution_count": 23,
     "metadata": {},
     "output_type": "execute_result"
    },
    {
     "data": {
      "image/png": "[encoded data removed]",
      "text/plain": [
       "<Figure size 550x300 with 2 Axes>"
      ]
     },
     "metadata": {
      "needs_background": "light"
     },
     "output_type": "display_data"
    }
   ],
   "source": [
    "traindf = df\n",
    "print(traindf.isnull().any())\n",
    "plt.figure(figsize=(traindf.shape[1] / 2, 3), dpi=100)\n",
    "sns.heatmap(traindf.isnull(), cmap=\"viridis\")"
   ]
  },
  {
   "cell_type": "code",
   "execution_count": 24,
   "id": "f200c3dc",
   "metadata": {},
   "outputs": [
    {
     "name": "stdout",
     "output_type": "stream",
     "text": [
      "ID                 False\n",
      "Gender             False\n",
      "Ever_Married        True\n",
      "Age                False\n",
      "Graduated           True\n",
      "Profession          True\n",
      "Work_Experience     True\n",
      "Spending_Score     False\n",
      "Family_Size         True\n",
      "Var_1               True\n",
      "dtype: bool\n"
     ]
    },
    {
     "data": {
      "text/plain": [
       "<AxesSubplot:>"
      ]
     },
     "execution_count": 24,
     "metadata": {},
     "output_type": "execute_result"
    },
    {
     "data": {
      "image/png": "[encoded data removed]",
      "text/plain": [
       "<Figure size 500x300 with 2 Axes>"
      ]
     },
     "metadata": {
      "needs_background": "light"
     },
     "output_type": "display_data"
    }
   ],
   "source": [
    "print(testdf.isnull().any())\n",
    "plt.figure(figsize=(testdf.shape[1] / 2, 3), dpi=100)\n",
    "sns.heatmap(testdf.isnull(), cmap=\"viridis\")"
   ]
  },
  {
   "cell_type": "code",
   "execution_count": 25,
   "id": "e0eda0a4",
   "metadata": {},
   "outputs": [
    {
     "name": "stdout",
     "output_type": "stream",
     "text": [
      "ID                 False\n",
      "Gender             False\n",
      "Ever_Married       False\n",
      "Age                False\n",
      "Graduated          False\n",
      "Profession         False\n",
      "Work_Experience    False\n",
      "Spending_Score     False\n",
      "Family_Size        False\n",
      "Var_1              False\n",
      "Segmentation       False\n",
      "dtype: bool\n"
     ]
    },
    {
     "data": {
      "text/plain": [
       "<AxesSubplot:>"
      ]
     },
     "execution_count": 25,
     "metadata": {},
     "output_type": "execute_result"
    },
    {
     "data": {
      "image/png": "[encoded data removed]",
      "text/plain": [
       "<Figure size 550x300 with 2 Axes>"
      ]
     },
     "metadata": {
      "needs_background": "light"
     },
     "output_type": "display_data"
    }
   ],
   "source": [
    "testdf['Ever_Married'].fillna('Yes', inplace=True)\n",
    "testdf['Graduated'].fillna('Yes', inplace=True)\n",
    "testdf['Profession'].fillna('', inplace=True)\n",
    "testdf['Work_Experience'].fillna(testdf['Work_Experience'].mean(), inplace=True)\n",
    "testdf['Spending_Score'].fillna('Low', inplace=True)\n",
    "testdf['Family_Size'].fillna(testdf['Family_Size'].mean(), inplace=True)\n",
    "\n",
    "print(traindf.isnull().any())\n",
    "plt.figure(figsize=(traindf.shape[1] / 2, 3), dpi=100)\n",
    "sns.heatmap(traindf.isnull(), cmap=\"viridis\")"
   ]
  },
  {
   "cell_type": "code",
   "execution_count": 26,
   "id": "4edb7155",
   "metadata": {},
   "outputs": [
    {
     "name": "stdout",
     "output_type": "stream",
     "text": [
      "['Cat_4' 'Cat_6' 'Other']\n"
     ]
    },
    {
     "data": {
      "text/plain": [
       "(8068, 9)"
      ]
     },
     "execution_count": 26,
     "metadata": {},
     "output_type": "execute_result"
    }
   ],
   "source": [
    "traindfx = traindf.drop(['Var_1', 'Segmentation'], axis=1)\n",
    "traindf.loc[(traindf['Var_1'] != 'Cat_4') & (traindf['Var_1'] != 'Cat_6'), ['Var_1']] = 'Other'\n",
    "traindfy = traindf['Var_1']\n",
    "print(np.unique(traindfy))\n",
    "traindfx.shape"
   ]
  },
  {
   "cell_type": "code",
   "execution_count": 27,
   "id": "98f6ed4e",
   "metadata": {},
   "outputs": [
    {
     "name": "stdout",
     "output_type": "stream",
     "text": [
      "[0 1 2]\n"
     ]
    },
    {
     "data": {
      "text/plain": [
       "(8068,)"
      ]
     },
     "execution_count": 27,
     "metadata": {},
     "output_type": "execute_result"
    }
   ],
   "source": [
    "from sklearn.preprocessing import LabelEncoder\n",
    "traindfy = LabelEncoder().fit_transform(traindfy)\n",
    "print(np.unique(traindfy))\n",
    "traindfy.shape"
   ]
  },
  {
   "cell_type": "code",
   "execution_count": 28,
   "id": "6ecc2135",
   "metadata": {},
   "outputs": [
    {
     "name": "stdout",
     "output_type": "stream",
     "text": [
      "['Cat_4' 'Cat_6' 'Other']\n"
     ]
    },
    {
     "data": {
      "text/plain": [
       "(2627, 9)"
      ]
     },
     "execution_count": 28,
     "metadata": {},
     "output_type": "execute_result"
    }
   ],
   "source": [
    "X_test = testdf.drop(['Var_1'], axis=1)\n",
    "testdf.loc[(testdf['Var_1'] != 'Cat_4') & (testdf['Var_1'] != 'Cat_6'), ['Var_1']] = 'Other'\n",
    "y_test = testdf['Var_1']\n",
    "print(np.unique(y_test))\n",
    "X_test.shape"
   ]
  },
  {
   "cell_type": "code",
   "execution_count": 29,
   "id": "c0777031",
   "metadata": {},
   "outputs": [
    {
     "name": "stdout",
     "output_type": "stream",
     "text": [
      "[0 1 2]\n"
     ]
    },
    {
     "data": {
      "text/plain": [
       "(2627,)"
      ]
     },
     "execution_count": 29,
     "metadata": {},
     "output_type": "execute_result"
    }
   ],
   "source": [
    "from sklearn.preprocessing import LabelEncoder\n",
    "y_test = LabelEncoder().fit_transform(y_test)\n",
    "print(np.unique(traindfy))\n",
    "y_test.shape"
   ]
  },
  {
   "cell_type": "markdown",
   "id": "da70ae12",
   "metadata": {},
   "source": [
    "# data encoding"
   ]
  },
  {
   "cell_type": "code",
   "execution_count": 30,
   "id": "e3c445b4",
   "metadata": {},
   "outputs": [
    {
     "data": {
      "text/plain": [
       "array([[-0.14732985,  0.        ,  0.        , ...,  0.        ,\n",
       "         0.        ,  0.57493857],\n",
       "       [-0.18419007, -1.        ,  1.        , ...,  1.        ,\n",
       "         0.        ,  0.07493857],\n",
       "       [ 0.63117575, -1.        ,  1.        , ...,  0.        ,\n",
       "         0.        , -0.92506143],\n",
       "       ...,\n",
       "       [ 0.42933274, -1.        ,  1.        , ...,  0.        ,\n",
       "         0.        , -0.92506143],\n",
       "       [ 0.84967248, -1.        ,  1.        , ...,  0.        ,\n",
       "         0.        ,  0.57493857],\n",
       "       [-0.35383591,  0.        ,  0.        , ...,  1.        ,\n",
       "         0.        ,  0.07493857]])"
      ]
     },
     "execution_count": 30,
     "metadata": {},
     "output_type": "execute_result"
    }
   ],
   "source": [
    "import category_encoders as ce\n",
    "from sklearn.preprocessing import *\n",
    "def onehot_encoding(x_train, x_test):\n",
    "    categorical_data = [var for var in x_train.columns if x_train[var].dtype == 'O']\n",
    "\n",
    "    encoder = ce.OneHotEncoder(cols=categorical_data)\n",
    "    x_train = encoder.fit_transform(x_train)\n",
    "    x_test = encoder.transform(x_test)\n",
    "\n",
    "    scaler = RobustScaler()\n",
    "    x_train = scaler.fit_transform(x_train)\n",
    "    x_test = scaler.transform(x_test)\n",
    "    return x_train, x_test\n",
    "\n",
    "traindfx, X_test = onehot_encoding(traindfx, X_test)\n",
    "traindfx"
   ]
  },
  {
   "cell_type": "code",
   "execution_count": 31,
   "id": "1afad964",
   "metadata": {},
   "outputs": [
    {
     "data": {
      "text/plain": [
       "(8068, 3)"
      ]
     },
     "execution_count": 31,
     "metadata": {},
     "output_type": "execute_result"
    }
   ],
   "source": [
    "from tensorflow.keras.utils import to_categorical\n",
    "n_classes = len(np.unique(traindfy))\n",
    "traindfy = to_categorical(traindfy,n_classes)\n",
    "np.shape(traindfy)"
   ]
  },
  {
   "cell_type": "code",
   "execution_count": 32,
   "id": "9a5575d5",
   "metadata": {},
   "outputs": [
    {
     "data": {
      "text/plain": [
       "(2627, 3)"
      ]
     },
     "execution_count": 32,
     "metadata": {},
     "output_type": "execute_result"
    }
   ],
   "source": [
    "n_classes = len(np.unique(y_test))\n",
    "y_test = to_categorical(y_test,n_classes)\n",
    "np.shape(y_test)"
   ]
  },
  {
   "cell_type": "markdown",
   "id": "11aacb1e",
   "metadata": {},
   "source": [
    "# 1.1 Shuffling of the data before training (2 points)\n",
    "\n",
    "shuffling data with random_state=0"
   ]
  },
  {
   "cell_type": "code",
   "execution_count": 33,
   "id": "26399a03",
   "metadata": {},
   "outputs": [],
   "source": [
    "import numpy as np\n",
    "index = np.arange(traindfx.shape[0])\n",
    "np.random.seed(0)\n",
    "np.random.shuffle(index)\n",
    "traindfx=traindfx[index]\n",
    "traindfy=traindfy[index]"
   ]
  },
  {
   "cell_type": "code",
   "execution_count": 34,
   "id": "2876eeb1",
   "metadata": {},
   "outputs": [],
   "source": [
    "from sklearn.model_selection import train_test_split\n",
    "X_train, X_valid, y_train, y_valid = \\\n",
    "    train_test_split(traindfx, traindfy, test_size=0.2, random_state=0, stratify=traindfy)"
   ]
  },
  {
   "cell_type": "code",
   "execution_count": 35,
   "id": "43898144",
   "metadata": {},
   "outputs": [
    {
     "data": {
      "text/plain": [
       "array([[ 0.01920728, -1.        ,  1.        , ...,  0.        ,\n",
       "         1.        ,  0.07493857],\n",
       "       [-0.65271456, -1.        ,  1.        , ...,  0.        ,\n",
       "         0.        , -0.92506143],\n",
       "       [-0.48107028,  0.        ,  0.        , ...,  0.        ,\n",
       "         0.        ,  0.57493857],\n",
       "       ...,\n",
       "       [ 0.37670701, -1.        ,  1.        , ...,  0.        ,\n",
       "         0.        ,  0.57493857],\n",
       "       [ 0.70778284,  0.        ,  0.        , ...,  0.        ,\n",
       "         0.        ,  0.57493857],\n",
       "       [-0.58054846,  0.        ,  0.        , ...,  0.        ,\n",
       "         0.        ,  0.57493857]])"
      ]
     },
     "execution_count": 35,
     "metadata": {},
     "output_type": "execute_result"
    }
   ],
   "source": [
    "X_train"
   ]
  },
  {
   "cell_type": "code",
   "execution_count": 36,
   "id": "f5fb8c82",
   "metadata": {},
   "outputs": [
    {
     "data": {
      "text/plain": [
       "array([[0., 1., 0.],\n",
       "       [0., 1., 0.],\n",
       "       [0., 1., 0.],\n",
       "       ...,\n",
       "       [0., 1., 0.],\n",
       "       [0., 1., 0.],\n",
       "       [0., 0., 1.]], dtype=float32)"
      ]
     },
     "execution_count": 36,
     "metadata": {},
     "output_type": "execute_result"
    }
   ],
   "source": [
    "y_train"
   ]
  },
  {
   "cell_type": "code",
   "execution_count": 37,
   "id": "9e6ab497",
   "metadata": {},
   "outputs": [
    {
     "data": {
      "text/plain": [
       "array([[-0.84478739,  0.        ,  0.        , ...,  1.        ,\n",
       "         0.        ,  0.07493857],\n",
       "       [-0.45509049,  0.        ,  0.        , ...,  0.        ,\n",
       "         0.        ,  0.07493857],\n",
       "       [-0.90274231, -1.        ,  1.        , ...,  0.        ,\n",
       "         0.        ,  0.07493857],\n",
       "       ...,\n",
       "       [-0.12934384, -1.        ,  1.        , ...,  0.        ,\n",
       "         0.        , -0.92506143],\n",
       "       [ 0.65826579,  0.        ,  0.        , ...,  0.        ,\n",
       "         0.        , -0.92506143],\n",
       "       [ 0.85788831, -1.        ,  1.        , ...,  1.        ,\n",
       "         0.        ,  0.57493857]])"
      ]
     },
     "execution_count": 37,
     "metadata": {},
     "output_type": "execute_result"
    }
   ],
   "source": [
    "X_valid"
   ]
  },
  {
   "cell_type": "code",
   "execution_count": 38,
   "id": "58acbeb4",
   "metadata": {},
   "outputs": [
    {
     "data": {
      "text/plain": [
       "array([[0., 1., 0.],\n",
       "       [1., 0., 0.],\n",
       "       [0., 1., 0.],\n",
       "       ...,\n",
       "       [0., 1., 0.],\n",
       "       [0., 1., 0.],\n",
       "       [0., 1., 0.]], dtype=float32)"
      ]
     },
     "execution_count": 38,
     "metadata": {},
     "output_type": "execute_result"
    }
   ],
   "source": [
    "y_valid"
   ]
  },
  {
   "cell_type": "code",
   "execution_count": 39,
   "id": "3f578440",
   "metadata": {
    "scrolled": false
   },
   "outputs": [
    {
     "data": {
      "text/html": [
       "<div>\n",
       "<style scoped>\n",
       "    .dataframe tbody tr th:only-of-type {\n",
       "        vertical-align: middle;\n",
       "    }\n",
       "\n",
       "    .dataframe tbody tr th {\n",
       "        vertical-align: top;\n",
       "    }\n",
       "\n",
       "    .dataframe thead th {\n",
       "        text-align: right;\n",
       "    }\n",
       "</style>\n",
       "<table border=\"1\" class=\"dataframe\">\n",
       "  <thead>\n",
       "    <tr style=\"text-align: right;\">\n",
       "      <th></th>\n",
       "      <th>Gender_1</th>\n",
       "      <th>Gender_2</th>\n",
       "      <th>Ever_Married_1</th>\n",
       "      <th>Ever_Married_2</th>\n",
       "      <th>Age</th>\n",
       "      <th>Graduated_1</th>\n",
       "      <th>Graduated_2</th>\n",
       "      <th>Profession_1</th>\n",
       "      <th>Profession_2</th>\n",
       "      <th>Profession_3</th>\n",
       "      <th>Profession_4</th>\n",
       "      <th>Profession_5</th>\n",
       "      <th>Profession_6</th>\n",
       "      <th>Profession_7</th>\n",
       "      <th>Profession_8</th>\n",
       "      <th>Profession_9</th>\n",
       "      <th>Profession_10</th>\n",
       "      <th>Work_Experience</th>\n",
       "      <th>Spending_Score_1</th>\n",
       "      <th>Spending_Score_2</th>\n",
       "      <th>Spending_Score_3</th>\n",
       "      <th>Family_Size</th>\n",
       "    </tr>\n",
       "  </thead>\n",
       "  <tbody>\n",
       "    <tr>\n",
       "      <th>1754</th>\n",
       "      <td>0.912689</td>\n",
       "      <td>-0.912689</td>\n",
       "      <td>1.199263</td>\n",
       "      <td>-1.199263</td>\n",
       "      <td>-0.959079</td>\n",
       "      <td>1.30227</td>\n",
       "      <td>-1.30227</td>\n",
       "      <td>3.256979</td>\n",
       "      <td>-0.438286</td>\n",
       "      <td>-0.312739</td>\n",
       "      <td>-0.177903</td>\n",
       "      <td>-0.368873</td>\n",
       "      <td>-0.281218</td>\n",
       "      <td>-0.672529</td>\n",
       "      <td>-0.290416</td>\n",
       "      <td>-0.192666</td>\n",
       "      <td>-0.122878</td>\n",
       "      <td>0.819744</td>\n",
       "      <td>0.805837</td>\n",
       "      <td>-0.418270</td>\n",
       "      <td>-0.569358</td>\n",
       "      <td>0.288661</td>\n",
       "    </tr>\n",
       "    <tr>\n",
       "      <th>6468</th>\n",
       "      <td>0.912689</td>\n",
       "      <td>-0.912689</td>\n",
       "      <td>1.199263</td>\n",
       "      <td>-1.199263</td>\n",
       "      <td>-1.250745</td>\n",
       "      <td>-0.76789</td>\n",
       "      <td>0.76789</td>\n",
       "      <td>-0.307033</td>\n",
       "      <td>2.281615</td>\n",
       "      <td>-0.312739</td>\n",
       "      <td>-0.177903</td>\n",
       "      <td>-0.368873</td>\n",
       "      <td>-0.281218</td>\n",
       "      <td>-0.672529</td>\n",
       "      <td>-0.290416</td>\n",
       "      <td>-0.192666</td>\n",
       "      <td>-0.122878</td>\n",
       "      <td>-0.310872</td>\n",
       "      <td>0.805837</td>\n",
       "      <td>-0.418270</td>\n",
       "      <td>-0.569358</td>\n",
       "      <td>0.875748</td>\n",
       "    </tr>\n",
       "    <tr>\n",
       "      <th>4291</th>\n",
       "      <td>-1.095663</td>\n",
       "      <td>1.095663</td>\n",
       "      <td>-0.833845</td>\n",
       "      <td>0.833845</td>\n",
       "      <td>0.441897</td>\n",
       "      <td>-0.76789</td>\n",
       "      <td>0.76789</td>\n",
       "      <td>-0.307033</td>\n",
       "      <td>-0.438286</td>\n",
       "      <td>3.197553</td>\n",
       "      <td>-0.177903</td>\n",
       "      <td>-0.368873</td>\n",
       "      <td>-0.281218</td>\n",
       "      <td>-0.672529</td>\n",
       "      <td>-0.290416</td>\n",
       "      <td>-0.192666</td>\n",
       "      <td>-0.122878</td>\n",
       "      <td>-1.166150</td>\n",
       "      <td>-1.240945</td>\n",
       "      <td>2.390799</td>\n",
       "      <td>-0.569358</td>\n",
       "      <td>0.875748</td>\n",
       "    </tr>\n",
       "    <tr>\n",
       "      <th>1962</th>\n",
       "      <td>-1.095663</td>\n",
       "      <td>1.095663</td>\n",
       "      <td>1.199263</td>\n",
       "      <td>-1.199263</td>\n",
       "      <td>-0.959079</td>\n",
       "      <td>-0.76789</td>\n",
       "      <td>0.76789</td>\n",
       "      <td>-0.307033</td>\n",
       "      <td>-0.438286</td>\n",
       "      <td>-0.312739</td>\n",
       "      <td>5.621028</td>\n",
       "      <td>-0.368873</td>\n",
       "      <td>-0.281218</td>\n",
       "      <td>-0.672529</td>\n",
       "      <td>-0.290416</td>\n",
       "      <td>-0.192666</td>\n",
       "      <td>-0.122878</td>\n",
       "      <td>0.428599</td>\n",
       "      <td>0.805837</td>\n",
       "      <td>-0.418270</td>\n",
       "      <td>-0.569358</td>\n",
       "      <td>-0.468227</td>\n",
       "    </tr>\n",
       "    <tr>\n",
       "      <th>7844</th>\n",
       "      <td>0.912689</td>\n",
       "      <td>-0.912689</td>\n",
       "      <td>-0.833845</td>\n",
       "      <td>0.833845</td>\n",
       "      <td>-0.959079</td>\n",
       "      <td>-0.76789</td>\n",
       "      <td>0.76789</td>\n",
       "      <td>-0.307033</td>\n",
       "      <td>2.281615</td>\n",
       "      <td>-0.312739</td>\n",
       "      <td>-0.177903</td>\n",
       "      <td>-0.368873</td>\n",
       "      <td>-0.281218</td>\n",
       "      <td>-0.672529</td>\n",
       "      <td>-0.290416</td>\n",
       "      <td>-0.192666</td>\n",
       "      <td>-0.122878</td>\n",
       "      <td>1.545017</td>\n",
       "      <td>-1.240945</td>\n",
       "      <td>2.390799</td>\n",
       "      <td>-0.569358</td>\n",
       "      <td>-0.468227</td>\n",
       "    </tr>\n",
       "    <tr>\n",
       "      <th>...</th>\n",
       "      <td>...</td>\n",
       "      <td>...</td>\n",
       "      <td>...</td>\n",
       "      <td>...</td>\n",
       "      <td>...</td>\n",
       "      <td>...</td>\n",
       "      <td>...</td>\n",
       "      <td>...</td>\n",
       "      <td>...</td>\n",
       "      <td>...</td>\n",
       "      <td>...</td>\n",
       "      <td>...</td>\n",
       "      <td>...</td>\n",
       "      <td>...</td>\n",
       "      <td>...</td>\n",
       "      <td>...</td>\n",
       "      <td>...</td>\n",
       "      <td>...</td>\n",
       "      <td>...</td>\n",
       "      <td>...</td>\n",
       "      <td>...</td>\n",
       "      <td>...</td>\n",
       "    </tr>\n",
       "    <tr>\n",
       "      <th>5609</th>\n",
       "      <td>-1.095663</td>\n",
       "      <td>1.095663</td>\n",
       "      <td>1.199263</td>\n",
       "      <td>-1.199263</td>\n",
       "      <td>-1.578209</td>\n",
       "      <td>1.30227</td>\n",
       "      <td>-1.30227</td>\n",
       "      <td>-0.307033</td>\n",
       "      <td>2.281615</td>\n",
       "      <td>-0.312739</td>\n",
       "      <td>-0.177903</td>\n",
       "      <td>-0.368873</td>\n",
       "      <td>-0.281218</td>\n",
       "      <td>-0.672529</td>\n",
       "      <td>-0.290416</td>\n",
       "      <td>-0.192666</td>\n",
       "      <td>-0.122878</td>\n",
       "      <td>-0.310872</td>\n",
       "      <td>0.805837</td>\n",
       "      <td>-0.418270</td>\n",
       "      <td>-0.569358</td>\n",
       "      <td>0.875748</td>\n",
       "    </tr>\n",
       "    <tr>\n",
       "      <th>9</th>\n",
       "      <td>-1.095663</td>\n",
       "      <td>1.095663</td>\n",
       "      <td>-0.833845</td>\n",
       "      <td>0.833845</td>\n",
       "      <td>0.798552</td>\n",
       "      <td>-0.76789</td>\n",
       "      <td>0.76789</td>\n",
       "      <td>-0.307033</td>\n",
       "      <td>-0.438286</td>\n",
       "      <td>-0.312739</td>\n",
       "      <td>-0.177903</td>\n",
       "      <td>-0.368873</td>\n",
       "      <td>-0.281218</td>\n",
       "      <td>1.486925</td>\n",
       "      <td>-0.290416</td>\n",
       "      <td>-0.192666</td>\n",
       "      <td>-0.122878</td>\n",
       "      <td>-0.310872</td>\n",
       "      <td>-1.240945</td>\n",
       "      <td>-0.418270</td>\n",
       "      <td>1.756363</td>\n",
       "      <td>0.875748</td>\n",
       "    </tr>\n",
       "    <tr>\n",
       "      <th>6912</th>\n",
       "      <td>-1.095663</td>\n",
       "      <td>1.095663</td>\n",
       "      <td>-0.833845</td>\n",
       "      <td>0.833845</td>\n",
       "      <td>0.093018</td>\n",
       "      <td>1.30227</td>\n",
       "      <td>-1.30227</td>\n",
       "      <td>3.256979</td>\n",
       "      <td>-0.438286</td>\n",
       "      <td>-0.312739</td>\n",
       "      <td>-0.177903</td>\n",
       "      <td>-0.368873</td>\n",
       "      <td>-0.281218</td>\n",
       "      <td>-0.672529</td>\n",
       "      <td>-0.290416</td>\n",
       "      <td>-0.192666</td>\n",
       "      <td>-0.122878</td>\n",
       "      <td>-0.310872</td>\n",
       "      <td>0.805837</td>\n",
       "      <td>-0.418270</td>\n",
       "      <td>-0.569358</td>\n",
       "      <td>-1.535000</td>\n",
       "    </tr>\n",
       "    <tr>\n",
       "      <th>3258</th>\n",
       "      <td>0.912689</td>\n",
       "      <td>-0.912689</td>\n",
       "      <td>1.199263</td>\n",
       "      <td>-1.199263</td>\n",
       "      <td>-0.613962</td>\n",
       "      <td>1.30227</td>\n",
       "      <td>-1.30227</td>\n",
       "      <td>-0.307033</td>\n",
       "      <td>2.281615</td>\n",
       "      <td>-0.312739</td>\n",
       "      <td>-0.177903</td>\n",
       "      <td>-0.368873</td>\n",
       "      <td>-0.281218</td>\n",
       "      <td>-0.672529</td>\n",
       "      <td>-0.290416</td>\n",
       "      <td>-0.192666</td>\n",
       "      <td>-0.122878</td>\n",
       "      <td>1.998754</td>\n",
       "      <td>0.805837</td>\n",
       "      <td>-0.418270</td>\n",
       "      <td>-0.569358</td>\n",
       "      <td>0.875748</td>\n",
       "    </tr>\n",
       "    <tr>\n",
       "      <th>4067</th>\n",
       "      <td>-1.095663</td>\n",
       "      <td>1.095663</td>\n",
       "      <td>-0.833845</td>\n",
       "      <td>0.833845</td>\n",
       "      <td>2.005780</td>\n",
       "      <td>-0.76789</td>\n",
       "      <td>0.76789</td>\n",
       "      <td>-0.307033</td>\n",
       "      <td>-0.438286</td>\n",
       "      <td>-0.312739</td>\n",
       "      <td>-0.177903</td>\n",
       "      <td>-0.368873</td>\n",
       "      <td>-0.281218</td>\n",
       "      <td>1.486925</td>\n",
       "      <td>-0.290416</td>\n",
       "      <td>-0.192666</td>\n",
       "      <td>-0.122878</td>\n",
       "      <td>-0.310872</td>\n",
       "      <td>-1.240945</td>\n",
       "      <td>2.390799</td>\n",
       "      <td>-0.569358</td>\n",
       "      <td>-0.468227</td>\n",
       "    </tr>\n",
       "  </tbody>\n",
       "</table>\n",
       "<p>6454 rows × 22 columns</p>\n",
       "</div>"
      ],
      "text/plain": [
       "      Gender_1  Gender_2  Ever_Married_1  Ever_Married_2       Age  Graduated_1  Graduated_2  Profession_1  Profession_2  Profession_3  Profession_4  Profession_5  Profession_6  Profession_7  Profession_8  Profession_9  Profession_10  Work_Experience  Spending_Score_1  Spending_Score_2  Spending_Score_3  Family_Size\n",
       "1754  0.912689 -0.912689        1.199263       -1.199263 -0.959079      1.30227     -1.30227      3.256979     -0.438286     -0.312739     -0.177903     -0.368873     -0.281218     -0.672529     -0.290416     -0.192666      -0.122878         0.819744          0.805837         -0.418270         -0.569358     0.288661\n",
       "6468  0.912689 -0.912689        1.199263       -1.199263 -1.250745     -0.76789      0.76789     -0.307033      2.281615     -0.312739     -0.177903     -0.368873     -0.281218     -0.672529     -0.290416     -0.192666      -0.122878        -0.310872          0.805837         -0.418270         -0.569358     0.875748\n",
       "4291 -1.095663  1.095663       -0.833845        0.833845  0.441897     -0.76789      0.76789     -0.307033     -0.438286      3.197553     -0.177903     -0.368873     -0.281218     -0.672529     -0.290416     -0.192666      -0.122878        -1.166150         -1.240945          2.390799         -0.569358     0.875748\n",
       "1962 -1.095663  1.095663        1.199263       -1.199263 -0.959079     -0.76789      0.76789     -0.307033     -0.438286     -0.312739      5.621028     -0.368873     -0.281218     -0.672529     -0.290416     -0.192666      -0.122878         0.428599          0.805837         -0.418270         -0.569358    -0.468227\n",
       "7844  0.912689 -0.912689       -0.833845        0.833845 -0.959079     -0.76789      0.76789     -0.307033      2.281615     -0.312739     -0.177903     -0.368873     -0.281218     -0.672529     -0.290416     -0.192666      -0.122878         1.545017         -1.240945          2.390799         -0.569358    -0.468227\n",
       "...        ...       ...             ...             ...       ...          ...          ...           ...           ...           ...           ...           ...           ...           ...           ...           ...            ...              ...               ...               ...               ...          ...\n",
       "5609 -1.095663  1.095663        1.199263       -1.199263 -1.578209      1.30227     -1.30227     -0.307033      2.281615     -0.312739     -0.177903     -0.368873     -0.281218     -0.672529     -0.290416     -0.192666      -0.122878        -0.310872          0.805837         -0.418270         -0.569358     0.875748\n",
       "9    -1.095663  1.095663       -0.833845        0.833845  0.798552     -0.76789      0.76789     -0.307033     -0.438286     -0.312739     -0.177903     -0.368873     -0.281218      1.486925     -0.290416     -0.192666      -0.122878        -0.310872         -1.240945         -0.418270          1.756363     0.875748\n",
       "6912 -1.095663  1.095663       -0.833845        0.833845  0.093018      1.30227     -1.30227      3.256979     -0.438286     -0.312739     -0.177903     -0.368873     -0.281218     -0.672529     -0.290416     -0.192666      -0.122878        -0.310872          0.805837         -0.418270         -0.569358    -1.535000\n",
       "3258  0.912689 -0.912689        1.199263       -1.199263 -0.613962      1.30227     -1.30227     -0.307033      2.281615     -0.312739     -0.177903     -0.368873     -0.281218     -0.672529     -0.290416     -0.192666      -0.122878         1.998754          0.805837         -0.418270         -0.569358     0.875748\n",
       "4067 -1.095663  1.095663       -0.833845        0.833845  2.005780     -0.76789      0.76789     -0.307033     -0.438286     -0.312739     -0.177903     -0.368873     -0.281218      1.486925     -0.290416     -0.192666      -0.122878        -0.310872         -1.240945          2.390799         -0.569358    -0.468227\n",
       "\n",
       "[6454 rows x 22 columns]"
      ]
     },
     "execution_count": 39,
     "metadata": {},
     "output_type": "execute_result"
    }
   ],
   "source": [
    "class Foo:\n",
    "    def __init__(self):\n",
    "        self.traindf = pd.read_csv('./train.csv')\n",
    "        self.traindf = self.traindf.drop(['ID', 'Segmentation'], axis=1)\n",
    "        # self.traindf['source'] = 0\n",
    "        self.testdf = pd.read_csv('./test.csv')\n",
    "        self.testdf = self.testdf.drop(['ID'], axis=1)\n",
    "        # self.testdf['source'] = 1\n",
    "        # self.testdf = pd.merge(left=self.testdf, right=self.traindf[['ID', 'Segmentation']], how='left', on='ID')\n",
    "        # self.df = pd.concat([self.traindf, self.testdf])\n",
    "        self.traindf = self.fillna(self.traindf)\n",
    "        self.testdf = self.fillna(self.testdf)\n",
    "\n",
    "        self.X_train, self.y_train, self.n_classes = self.getXy(self.traindf)\n",
    "        self.X_test, self.y_test, _ = self.getXy(self.testdf)\n",
    "\n",
    "        self.X_train, self.X_valid, self.y_train, self.y_valid = \\\n",
    "            train_test_split(self.X_train, self.y_train, test_size=0.2, random_state=0, shuffle=True,\n",
    "                             stratify=self.y_train)\n",
    "        pass\n",
    "\n",
    "    def getXy(self, f):\n",
    "        # f = self.df[self.df['source'] == c]\n",
    "        y = f['Var_1']  # LabelEncoder().fit_transform()\n",
    "        n = len(np.unique(y))\n",
    "        y = to_categorical(y, n)\n",
    "        x = f.drop(['Var_1'], axis=1)\n",
    "        return x, y, n\n",
    "\n",
    "    def fillna(self, f):\n",
    "        f['Ever_Married'].fillna('Yes', inplace=True)\n",
    "        f['Graduated'].fillna('Yes', inplace=True)\n",
    "        f['Profession'].fillna('', inplace=True)\n",
    "        f['Work_Experience'].fillna(f['Work_Experience'].mean(), inplace=True)\n",
    "        f['Spending_Score'].fillna('Low', inplace=True)\n",
    "        f['Family_Size'].fillna(f['Family_Size'].mean(), inplace=True)\n",
    "        f['Var_1'].fillna('Cat_6', inplace=True)\n",
    "        # f['Segmentation'].fillna(f['Segmentation'].mode().values[0])\n",
    "        f.loc[(f['Var_1'] != 'Cat_4') & (f['Var_1'] != 'Cat_6'), ['Var_1']] = 'Other'\n",
    "        f.loc[f['Var_1'] == 'Cat_4', ['Var_1']] = 0\n",
    "        f.loc[f['Var_1'] == 'Cat_6', ['Var_1']] = 1\n",
    "        f.loc[f['Var_1'] == 'Other', ['Var_1']] = 2\n",
    "        return f\n",
    "\n",
    "    def label_encoding(self, method='onehot'):\n",
    "        if method == 'onehot':\n",
    "            categorical_data = [var for var in self.X_train.columns if self.X_train[var].dtype == 'O']\n",
    "            enc = ce.OneHotEncoder(cols=categorical_data)\n",
    "            self.X_train = enc.fit_transform(self.X_train)\n",
    "            self.X_valid = enc.transform(self.X_valid)\n",
    "            self.X_test = enc.transform(self.X_test)\n",
    "        elif method == 'labeling':\n",
    "            for col in self.X_train.columns:\n",
    "                if self.X_train[col].dtype == 'O':\n",
    "                    le = LabelEncoder().fit(self.X_train[col])\n",
    "                    self.X_train[col] = le.transform(self.X_train[col])\n",
    "                    self.X_valid[col] = le.transform(self.X_valid[col])\n",
    "                    self.X_test[col] = le.transform(self.X_test[col])\n",
    "        else:\n",
    "            pass\n",
    "        pass\n",
    "\n",
    "    def log_scaling(self):\n",
    "        for col in self.X_train.columns:\n",
    "            if self.X_train[col].dtype != 'O':\n",
    "                self.X_train[col] = np.log(self.X_train[col].values + 1)\n",
    "                self.X_valid[col] = np.log(self.X_valid[col].values + 1)\n",
    "                self.X_test[col] = np.log(self.X_test[col].values + 1)\n",
    "\n",
    "    def feature_scaling(self, plot=True):\n",
    "        for col in self.X_train.columns:\n",
    "            if self.X_train[col].dtype != 'O':\n",
    "                ss = StandardScaler()\n",
    "                self.X_train[col] = ss.fit_transform(self.X_train[[col]])\n",
    "                self.X_valid[col] = ss.transform(self.X_valid[[col]])\n",
    "                self.X_test[col] = ss.transform(self.X_test[[col]])\n",
    "\n",
    "                if plot:\n",
    "                    self.scaling_plot(self.X_train[col], 'X_train %s ' % col, 'r')\n",
    "                    self.scaling_plot(self.X_valid[col], 'X_valid %s ' % col, 'g')\n",
    "                    self.scaling_plot(self.X_test[col], 'X_test %s ' % col, 'b')\n",
    "        pass\n",
    "\n",
    "    def scaling_plot(self, tmp, title, color):\n",
    "        plt.figure(figsize=(7, 2), dpi=70)\n",
    "        sns.histplot(tmp, kde=True, color=color)\n",
    "        plt.title(\"%s scaling: (%.2f, %.2f)\" % (title, tmp.min(), tmp.max()))\n",
    "        plt.show()\n",
    "\n",
    "    def onehot_encoding(self, x_train, x_test):\n",
    "        categorical_data = [var for var in x_train.columns if x_train[var].dtype == 'O']\n",
    "\n",
    "        encoder = ce.OneHotEncoder(cols=categorical_data)\n",
    "        x_train = encoder.fit_transform(x_train)\n",
    "        x_test = encoder.transform(x_test)\n",
    "\n",
    "        #         scaler = RobustScaler()\n",
    "        #         x_train = scaler.fit_transform(x_train)\n",
    "        #         x_test = scaler.transform(x_test)\n",
    "        return x_train, x_test\n",
    "\n",
    "\n",
    "foo = Foo()\n",
    "foo.label_encoding(method='onehot')  # 'onehot', 'labeling'\n",
    "foo.log_scaling()\n",
    "foo.feature_scaling(plot=False)\n",
    "foo.X_train"
   ]
  },
  {
   "cell_type": "code",
   "execution_count": 40,
   "id": "1b090828",
   "metadata": {},
   "outputs": [
    {
     "data": {
      "text/plain": [
       "array([[0., 1., 0.],\n",
       "       [0., 1., 0.],\n",
       "       [0., 1., 0.],\n",
       "       [0., 1., 0.],\n",
       "       [0., 1., 0.],\n",
       "       [1., 0., 0.],\n",
       "       [0., 1., 0.],\n",
       "       [0., 1., 0.],\n",
       "       [0., 1., 0.],\n",
       "       [0., 1., 0.]], dtype=float32)"
      ]
     },
     "execution_count": 40,
     "metadata": {},
     "output_type": "execute_result"
    }
   ],
   "source": [
    "foo.y_test[:10]"
   ]
  },
  {
   "cell_type": "markdown",
   "id": "52082af3",
   "metadata": {},
   "source": [
    "# 1.2 Design and train a neural network model (e.g. you can use DNN network or if you want to use any other models it is also acceptable) (10 points)"
   ]
  },
  {
   "cell_type": "code",
   "execution_count": 41,
   "id": "6f16dfb2",
   "metadata": {
    "scrolled": false
   },
   "outputs": [
    {
     "name": "stderr",
     "output_type": "stream",
     "text": [
      "2022-12-09 01:01:36.392114: I tensorflow/core/platform/cpu_feature_guard.cc:193] This TensorFlow binary is optimized with oneAPI Deep Neural Network Library (oneDNN) to use the following CPU instructions in performance-critical operations:  AVX2 FMA\n",
      "To enable them in other operations, rebuild TensorFlow with the appropriate compiler flags.\n"
     ]
    }
   ],
   "source": [
    "model = Sequential()\n",
    "model.add(layers.ReLU(64))\n",
    "model.add(layers.Dropout(0.5))\n",
    "model.add(layers.ReLU(foo.n_classes))\n",
    "model.add(layers.Dense(foo.n_classes, activation='softmax', bias_initializer=None)) # foo.n_classes"
   ]
  },
  {
   "cell_type": "markdown",
   "id": "8e1fd610",
   "metadata": {},
   "source": [
    "# 1.3 Use validation data for model tuning and monitor the f1-score while applying the early stopping logic from keras library (10 points)"
   ]
  },
  {
   "cell_type": "code",
   "execution_count": 42,
   "id": "6f48f427",
   "metadata": {},
   "outputs": [
    {
     "data": {
      "text/plain": [
       "array([[0., 1., 0.],\n",
       "       [0., 1., 0.],\n",
       "       [0., 1., 0.],\n",
       "       ...,\n",
       "       [0., 1., 0.],\n",
       "       [0., 1., 0.],\n",
       "       [0., 0., 1.]], dtype=float32)"
      ]
     },
     "execution_count": 42,
     "metadata": {},
     "output_type": "execute_result"
    }
   ],
   "source": [
    "foo.y_train"
   ]
  },
  {
   "cell_type": "code",
   "execution_count": 43,
   "id": "5ae7a5c9",
   "metadata": {
    "scrolled": false
   },
   "outputs": [
    {
     "name": "stdout",
     "output_type": "stream",
     "text": [
      "input_shape :  6454\n",
      "Epoch 1/100\n",
      "13/13 - 2s - loss: 1.5761 - tp: 1416.0000 - fp: 3767.0000 - tn: 9141.0000 - fn: 5038.0000 - accuracy: 0.5452 - precision: 0.2732 - recall: 0.2194 - auc: 0.4511 - prc: 0.3013 - f1: 0.2471 - val_loss: 1.1579 - val_tp: 500.0000 - val_fp: 627.0000 - val_tn: 2601.0000 - val_fn: 1114.0000 - val_accuracy: 0.6404 - val_precision: 0.4437 - val_recall: 0.3098 - val_auc: 0.5985 - val_prc: 0.4320 - val_f1: 0.3559 - 2s/epoch - 121ms/step\n",
      "Epoch 2/100\n",
      "13/13 - 0s - loss: 1.1768 - tp: 2354.0000 - fp: 2337.0000 - tn: 10571.0000 - fn: 4100.0000 - accuracy: 0.6675 - precision: 0.5018 - recall: 0.3647 - auc: 0.6295 - prc: 0.4743 - f1: 0.4249 - val_loss: 0.9494 - val_tp: 873.0000 - val_fp: 480.0000 - val_tn: 2748.0000 - val_fn: 741.0000 - val_accuracy: 0.7478 - val_precision: 0.6452 - val_recall: 0.5409 - val_auc: 0.7497 - val_prc: 0.5969 - val_f1: 0.5897 - 35ms/epoch - 3ms/step\n",
      "Epoch 3/100\n",
      "13/13 - 0s - loss: 1.0254 - tp: 2912.0000 - fp: 1851.0000 - tn: 11057.0000 - fn: 3542.0000 - accuracy: 0.7215 - precision: 0.6114 - recall: 0.4512 - auc: 0.7168 - prc: 0.5641 - f1: 0.5205 - val_loss: 0.8831 - val_tp: 1040.0000 - val_fp: 537.0000 - val_tn: 2691.0000 - val_fn: 574.0000 - val_accuracy: 0.7705 - val_precision: 0.6595 - val_recall: 0.6444 - val_auc: 0.7879 - val_prc: 0.6634 - val_f1: 0.6477 - 34ms/epoch - 3ms/step\n",
      "Epoch 4/100\n",
      "13/13 - 0s - loss: 0.9567 - tp: 3163.0000 - fp: 1706.0000 - tn: 11202.0000 - fn: 3291.0000 - accuracy: 0.7419 - precision: 0.6496 - recall: 0.4901 - auc: 0.7499 - prc: 0.6082 - f1: 0.5598 - val_loss: 0.8538 - val_tp: 1030.0000 - val_fp: 525.0000 - val_tn: 2703.0000 - val_fn: 584.0000 - val_accuracy: 0.7710 - val_precision: 0.6624 - val_recall: 0.6382 - val_auc: 0.8002 - val_prc: 0.6875 - val_f1: 0.6425 - 33ms/epoch - 3ms/step\n",
      "Epoch 5/100\n",
      "13/13 - 0s - loss: 0.9295 - tp: 3155.0000 - fp: 1704.0000 - tn: 11204.0000 - fn: 3299.0000 - accuracy: 0.7416 - precision: 0.6493 - recall: 0.4888 - auc: 0.7575 - prc: 0.6198 - f1: 0.5573 - val_loss: 0.8410 - val_tp: 1030.0000 - val_fp: 518.0000 - val_tn: 2710.0000 - val_fn: 584.0000 - val_accuracy: 0.7724 - val_precision: 0.6654 - val_recall: 0.6382 - val_auc: 0.8056 - val_prc: 0.6937 - val_f1: 0.6453 - 32ms/epoch - 2ms/step\n",
      "Epoch 6/100\n",
      "13/13 - 0s - loss: 0.9120 - tp: 3195.0000 - fp: 1652.0000 - tn: 11256.0000 - fn: 3259.0000 - accuracy: 0.7464 - precision: 0.6592 - recall: 0.4950 - auc: 0.7646 - prc: 0.6239 - f1: 0.5659 - val_loss: 0.8363 - val_tp: 1033.0000 - val_fp: 515.0000 - val_tn: 2713.0000 - val_fn: 581.0000 - val_accuracy: 0.7736 - val_precision: 0.6673 - val_recall: 0.6400 - val_auc: 0.8070 - val_prc: 0.6938 - val_f1: 0.6440 - 34ms/epoch - 3ms/step\n",
      "Epoch 7/100\n",
      "13/13 - 0s - loss: 0.8990 - tp: 3237.0000 - fp: 1642.0000 - tn: 11266.0000 - fn: 3217.0000 - accuracy: 0.7490 - precision: 0.6635 - recall: 0.5015 - auc: 0.7711 - prc: 0.6332 - f1: 0.5714 - val_loss: 0.8323 - val_tp: 1020.0000 - val_fp: 496.0000 - val_tn: 2732.0000 - val_fn: 594.0000 - val_accuracy: 0.7749 - val_precision: 0.6728 - val_recall: 0.6320 - val_auc: 0.8088 - val_prc: 0.6964 - val_f1: 0.6427 - 34ms/epoch - 3ms/step\n",
      "Epoch 8/100\n",
      "13/13 - 0s - loss: 0.9007 - tp: 3346.0000 - fp: 1736.0000 - tn: 11172.0000 - fn: 3108.0000 - accuracy: 0.7498 - precision: 0.6584 - recall: 0.5184 - auc: 0.7701 - prc: 0.6359 - f1: 0.5778 - val_loss: 0.8290 - val_tp: 1023.0000 - val_fp: 506.0000 - val_tn: 2722.0000 - val_fn: 591.0000 - val_accuracy: 0.7734 - val_precision: 0.6691 - val_recall: 0.6338 - val_auc: 0.8105 - val_prc: 0.6981 - val_f1: 0.6440 - 33ms/epoch - 3ms/step\n",
      "Epoch 9/100\n",
      "13/13 - 0s - loss: 0.8866 - tp: 3421.0000 - fp: 1698.0000 - tn: 11210.0000 - fn: 3033.0000 - accuracy: 0.7557 - precision: 0.6683 - recall: 0.5301 - auc: 0.7776 - prc: 0.6432 - f1: 0.5906 - val_loss: 0.8270 - val_tp: 1013.0000 - val_fp: 489.0000 - val_tn: 2739.0000 - val_fn: 601.0000 - val_accuracy: 0.7749 - val_precision: 0.6744 - val_recall: 0.6276 - val_auc: 0.8115 - val_prc: 0.6997 - val_f1: 0.6432 - 33ms/epoch - 3ms/step\n",
      "Epoch 10/100\n",
      "13/13 - 0s - loss: 0.8863 - tp: 3408.0000 - fp: 1654.0000 - tn: 11254.0000 - fn: 3046.0000 - accuracy: 0.7573 - precision: 0.6733 - recall: 0.5280 - auc: 0.7767 - prc: 0.6403 - f1: 0.5918 - val_loss: 0.8273 - val_tp: 1025.0000 - val_fp: 509.0000 - val_tn: 2719.0000 - val_fn: 589.0000 - val_accuracy: 0.7732 - val_precision: 0.6682 - val_recall: 0.6351 - val_auc: 0.8113 - val_prc: 0.6993 - val_f1: 0.6423 - 31ms/epoch - 2ms/step\n",
      "Epoch 11/100\n",
      "13/13 - 0s - loss: 0.8803 - tp: 3475.0000 - fp: 1698.0000 - tn: 11210.0000 - fn: 2979.0000 - accuracy: 0.7584 - precision: 0.6718 - recall: 0.5384 - auc: 0.7793 - prc: 0.6452 - f1: 0.5980 - val_loss: 0.8257 - val_tp: 1034.0000 - val_fp: 510.0000 - val_tn: 2718.0000 - val_fn: 580.0000 - val_accuracy: 0.7749 - val_precision: 0.6697 - val_recall: 0.6406 - val_auc: 0.8121 - val_prc: 0.7008 - val_f1: 0.6463 - 33ms/epoch - 3ms/step\n",
      "Epoch 12/100\n",
      "13/13 - 0s - loss: 0.8752 - tp: 3466.0000 - fp: 1644.0000 - tn: 11264.0000 - fn: 2988.0000 - accuracy: 0.7608 - precision: 0.6783 - recall: 0.5370 - auc: 0.7823 - prc: 0.6486 - f1: 0.5995 - val_loss: 0.8251 - val_tp: 1032.0000 - val_fp: 497.0000 - val_tn: 2731.0000 - val_fn: 582.0000 - val_accuracy: 0.7772 - val_precision: 0.6750 - val_recall: 0.6394 - val_auc: 0.8119 - val_prc: 0.7005 - val_f1: 0.6477 - 32ms/epoch - 2ms/step\n",
      "Epoch 13/100\n",
      "13/13 - 0s - loss: 0.8738 - tp: 3495.0000 - fp: 1675.0000 - tn: 11233.0000 - fn: 2959.0000 - accuracy: 0.7607 - precision: 0.6760 - recall: 0.5415 - auc: 0.7808 - prc: 0.6501 - f1: 0.6019 - val_loss: 0.8249 - val_tp: 1025.0000 - val_fp: 494.0000 - val_tn: 2734.0000 - val_fn: 589.0000 - val_accuracy: 0.7763 - val_precision: 0.6748 - val_recall: 0.6351 - val_auc: 0.8125 - val_prc: 0.7020 - val_f1: 0.6459 - 31ms/epoch - 2ms/step\n",
      "Epoch 14/100\n",
      "13/13 - 0s - loss: 0.8704 - tp: 3535.0000 - fp: 1649.0000 - tn: 11259.0000 - fn: 2919.0000 - accuracy: 0.7641 - precision: 0.6819 - recall: 0.5477 - auc: 0.7830 - prc: 0.6543 - f1: 0.6077 - val_loss: 0.8240 - val_tp: 1030.0000 - val_fp: 502.0000 - val_tn: 2726.0000 - val_fn: 584.0000 - val_accuracy: 0.7757 - val_precision: 0.6723 - val_recall: 0.6382 - val_auc: 0.8144 - val_prc: 0.7036 - val_f1: 0.6462 - 31ms/epoch - 2ms/step\n",
      "Epoch 15/100\n",
      "13/13 - 0s - loss: 0.8567 - tp: 3639.0000 - fp: 1694.0000 - tn: 11214.0000 - fn: 2815.0000 - accuracy: 0.7671 - precision: 0.6824 - recall: 0.5638 - auc: 0.7910 - prc: 0.6627 - f1: 0.6168 - val_loss: 0.8246 - val_tp: 1027.0000 - val_fp: 492.0000 - val_tn: 2736.0000 - val_fn: 587.0000 - val_accuracy: 0.7772 - val_precision: 0.6761 - val_recall: 0.6363 - val_auc: 0.8127 - val_prc: 0.7000 - val_f1: 0.6477 - 33ms/epoch - 3ms/step\n",
      "Epoch 16/100\n",
      "13/13 - 0s - loss: 0.8644 - tp: 3608.0000 - fp: 1675.0000 - tn: 11233.0000 - fn: 2846.0000 - accuracy: 0.7665 - precision: 0.6829 - recall: 0.5590 - auc: 0.7876 - prc: 0.6556 - f1: 0.6148 - val_loss: 0.8269 - val_tp: 1029.0000 - val_fp: 503.0000 - val_tn: 2725.0000 - val_fn: 585.0000 - val_accuracy: 0.7753 - val_precision: 0.6717 - val_recall: 0.6375 - val_auc: 0.8110 - val_prc: 0.6978 - val_f1: 0.6457 - 32ms/epoch - 2ms/step\n",
      "Epoch 17/100\n",
      "13/13 - 0s - loss: 0.8608 - tp: 3701.0000 - fp: 1792.0000 - tn: 11116.0000 - fn: 2753.0000 - accuracy: 0.7653 - precision: 0.6738 - recall: 0.5734 - auc: 0.7873 - prc: 0.6554 - f1: 0.6200 - val_loss: 0.8247 - val_tp: 1026.0000 - val_fp: 499.0000 - val_tn: 2729.0000 - val_fn: 588.0000 - val_accuracy: 0.7755 - val_precision: 0.6728 - val_recall: 0.6357 - val_auc: 0.8120 - val_prc: 0.6992 - val_f1: 0.6462 - 31ms/epoch - 2ms/step\n",
      "Epoch 18/100\n",
      "13/13 - 0s - loss: 0.8617 - tp: 3727.0000 - fp: 1755.0000 - tn: 11153.0000 - fn: 2727.0000 - accuracy: 0.7685 - precision: 0.6799 - recall: 0.5775 - auc: 0.7874 - prc: 0.6573 - f1: 0.6244 - val_loss: 0.8227 - val_tp: 1027.0000 - val_fp: 488.0000 - val_tn: 2740.0000 - val_fn: 587.0000 - val_accuracy: 0.7780 - val_precision: 0.6779 - val_recall: 0.6363 - val_auc: 0.8123 - val_prc: 0.6989 - val_f1: 0.6512 - 33ms/epoch - 3ms/step\n",
      "Epoch 19/100\n",
      "13/13 - 0s - loss: 0.8568 - tp: 3748.0000 - fp: 1708.0000 - tn: 11200.0000 - fn: 2706.0000 - accuracy: 0.7720 - precision: 0.6870 - recall: 0.5807 - auc: 0.7897 - prc: 0.6609 - f1: 0.6295 - val_loss: 0.8219 - val_tp: 1029.0000 - val_fp: 494.0000 - val_tn: 2734.0000 - val_fn: 585.0000 - val_accuracy: 0.7772 - val_precision: 0.6756 - val_recall: 0.6375 - val_auc: 0.8128 - val_prc: 0.6991 - val_f1: 0.6500 - 33ms/epoch - 3ms/step\n"
     ]
    },
    {
     "name": "stdout",
     "output_type": "stream",
     "text": [
      "Epoch 20/100\n",
      "13/13 - 0s - loss: 0.8479 - tp: 3836.0000 - fp: 1777.0000 - tn: 11131.0000 - fn: 2618.0000 - accuracy: 0.7730 - precision: 0.6834 - recall: 0.5944 - auc: 0.7934 - prc: 0.6626 - f1: 0.6337 - val_loss: 0.8206 - val_tp: 1031.0000 - val_fp: 498.0000 - val_tn: 2730.0000 - val_fn: 583.0000 - val_accuracy: 0.7767 - val_precision: 0.6743 - val_recall: 0.6388 - val_auc: 0.8140 - val_prc: 0.7014 - val_f1: 0.6481 - 33ms/epoch - 3ms/step\n",
      "Epoch 21/100\n",
      "13/13 - 0s - loss: 0.8513 - tp: 3772.0000 - fp: 1781.0000 - tn: 11127.0000 - fn: 2682.0000 - accuracy: 0.7695 - precision: 0.6793 - recall: 0.5844 - auc: 0.7927 - prc: 0.6687 - f1: 0.6272 - val_loss: 0.8192 - val_tp: 1018.0000 - val_fp: 478.0000 - val_tn: 2750.0000 - val_fn: 596.0000 - val_accuracy: 0.7782 - val_precision: 0.6805 - val_recall: 0.6307 - val_auc: 0.8143 - val_prc: 0.7019 - val_f1: 0.6470 - 32ms/epoch - 2ms/step\n",
      "Epoch 22/100\n",
      "13/13 - 0s - loss: 0.8528 - tp: 3748.0000 - fp: 1730.0000 - tn: 11178.0000 - fn: 2706.0000 - accuracy: 0.7709 - precision: 0.6842 - recall: 0.5807 - auc: 0.7925 - prc: 0.6629 - f1: 0.6287 - val_loss: 0.8210 - val_tp: 1016.0000 - val_fp: 481.0000 - val_tn: 2747.0000 - val_fn: 598.0000 - val_accuracy: 0.7772 - val_precision: 0.6787 - val_recall: 0.6295 - val_auc: 0.8129 - val_prc: 0.6997 - val_f1: 0.6458 - 37ms/epoch - 3ms/step\n",
      "Epoch 23/100\n",
      "13/13 - 0s - loss: 0.8491 - tp: 3831.0000 - fp: 1803.0000 - tn: 11105.0000 - fn: 2623.0000 - accuracy: 0.7714 - precision: 0.6800 - recall: 0.5936 - auc: 0.7924 - prc: 0.6646 - f1: 0.6351 - val_loss: 0.8215 - val_tp: 1027.0000 - val_fp: 495.0000 - val_tn: 2733.0000 - val_fn: 587.0000 - val_accuracy: 0.7765 - val_precision: 0.6748 - val_recall: 0.6363 - val_auc: 0.8135 - val_prc: 0.7012 - val_f1: 0.6472 - 40ms/epoch - 3ms/step\n",
      "Epoch 24/100\n",
      "13/13 - 0s - loss: 0.8477 - tp: 3946.0000 - fp: 1874.0000 - tn: 11034.0000 - fn: 2508.0000 - accuracy: 0.7737 - precision: 0.6780 - recall: 0.6114 - auc: 0.7934 - prc: 0.6642 - f1: 0.6423 - val_loss: 0.8207 - val_tp: 1030.0000 - val_fp: 500.0000 - val_tn: 2728.0000 - val_fn: 584.0000 - val_accuracy: 0.7761 - val_precision: 0.6732 - val_recall: 0.6382 - val_auc: 0.8138 - val_prc: 0.7004 - val_f1: 0.6474 - 48ms/epoch - 4ms/step\n",
      "Epoch 25/100\n",
      "13/13 - 0s - loss: 0.8477 - tp: 3933.0000 - fp: 1881.0000 - tn: 11027.0000 - fn: 2521.0000 - accuracy: 0.7726 - precision: 0.6765 - recall: 0.6094 - auc: 0.7944 - prc: 0.6647 - f1: 0.6421 - val_loss: 0.8193 - val_tp: 1016.0000 - val_fp: 464.0000 - val_tn: 2764.0000 - val_fn: 598.0000 - val_accuracy: 0.7807 - val_precision: 0.6865 - val_recall: 0.6295 - val_auc: 0.8139 - val_prc: 0.7006 - val_f1: 0.6475 - 50ms/epoch - 4ms/step\n",
      "Epoch 26/100\n",
      "13/13 - 0s - loss: 0.8546 - tp: 3888.0000 - fp: 1857.0000 - tn: 11051.0000 - fn: 2566.0000 - accuracy: 0.7716 - precision: 0.6768 - recall: 0.6024 - auc: 0.7901 - prc: 0.6607 - f1: 0.6371 - val_loss: 0.8195 - val_tp: 1018.0000 - val_fp: 487.0000 - val_tn: 2741.0000 - val_fn: 596.0000 - val_accuracy: 0.7763 - val_precision: 0.6764 - val_recall: 0.6307 - val_auc: 0.8147 - val_prc: 0.7019 - val_f1: 0.6455 - 48ms/epoch - 4ms/step\n",
      "Epoch 27/100\n",
      "13/13 - 0s - loss: 0.8469 - tp: 3986.0000 - fp: 1893.0000 - tn: 11015.0000 - fn: 2468.0000 - accuracy: 0.7748 - precision: 0.6780 - recall: 0.6176 - auc: 0.7941 - prc: 0.6652 - f1: 0.6475 - val_loss: 0.8199 - val_tp: 1024.0000 - val_fp: 491.0000 - val_tn: 2737.0000 - val_fn: 590.0000 - val_accuracy: 0.7767 - val_precision: 0.6759 - val_recall: 0.6344 - val_auc: 0.8154 - val_prc: 0.7028 - val_f1: 0.6469 - 52ms/epoch - 4ms/step\n",
      "Epoch 28/100\n",
      "13/13 - 0s - loss: 0.8484 - tp: 3957.0000 - fp: 1886.0000 - tn: 11022.0000 - fn: 2497.0000 - accuracy: 0.7736 - precision: 0.6772 - recall: 0.6131 - auc: 0.7929 - prc: 0.6627 - f1: 0.6438 - val_loss: 0.8210 - val_tp: 1027.0000 - val_fp: 490.0000 - val_tn: 2738.0000 - val_fn: 587.0000 - val_accuracy: 0.7776 - val_precision: 0.6770 - val_recall: 0.6363 - val_auc: 0.8151 - val_prc: 0.7020 - val_f1: 0.6480 - 46ms/epoch - 4ms/step\n",
      "Epoch 29/100\n",
      "13/13 - 0s - loss: 0.8466 - tp: 3924.0000 - fp: 1864.0000 - tn: 11044.0000 - fn: 2530.0000 - accuracy: 0.7731 - precision: 0.6780 - recall: 0.6080 - auc: 0.7939 - prc: 0.6654 - f1: 0.6417 - val_loss: 0.8196 - val_tp: 1026.0000 - val_fp: 494.0000 - val_tn: 2734.0000 - val_fn: 588.0000 - val_accuracy: 0.7765 - val_precision: 0.6750 - val_recall: 0.6357 - val_auc: 0.8154 - val_prc: 0.7025 - val_f1: 0.6470 - 48ms/epoch - 4ms/step\n",
      "Epoch 30/100\n",
      "13/13 - 0s - loss: 0.8466 - tp: 4000.0000 - fp: 1904.0000 - tn: 11004.0000 - fn: 2454.0000 - accuracy: 0.7749 - precision: 0.6775 - recall: 0.6198 - auc: 0.7941 - prc: 0.6614 - f1: 0.6470 - val_loss: 0.8171 - val_tp: 1020.0000 - val_fp: 486.0000 - val_tn: 2742.0000 - val_fn: 594.0000 - val_accuracy: 0.7770 - val_precision: 0.6773 - val_recall: 0.6320 - val_auc: 0.8160 - val_prc: 0.7036 - val_f1: 0.6463 - 49ms/epoch - 4ms/step\n",
      "Epoch 31/100\n",
      "13/13 - 0s - loss: 0.8424 - tp: 3947.0000 - fp: 1873.0000 - tn: 11035.0000 - fn: 2507.0000 - accuracy: 0.7738 - precision: 0.6782 - recall: 0.6116 - auc: 0.7977 - prc: 0.6685 - f1: 0.6427 - val_loss: 0.8172 - val_tp: 1025.0000 - val_fp: 492.0000 - val_tn: 2736.0000 - val_fn: 589.0000 - val_accuracy: 0.7767 - val_precision: 0.6757 - val_recall: 0.6351 - val_auc: 0.8167 - val_prc: 0.7046 - val_f1: 0.6470 - 49ms/epoch - 4ms/step\n",
      "Epoch 32/100\n",
      "13/13 - 0s - loss: 0.8458 - tp: 4064.0000 - fp: 1957.0000 - tn: 10951.0000 - fn: 2390.0000 - accuracy: 0.7755 - precision: 0.6750 - recall: 0.6297 - auc: 0.7943 - prc: 0.6616 - f1: 0.6513 - val_loss: 0.8219 - val_tp: 1013.0000 - val_fp: 486.0000 - val_tn: 2742.0000 - val_fn: 601.0000 - val_accuracy: 0.7755 - val_precision: 0.6758 - val_recall: 0.6276 - val_auc: 0.8131 - val_prc: 0.7001 - val_f1: 0.6420 - 54ms/epoch - 4ms/step\n",
      "Epoch 33/100\n",
      "13/13 - 0s - loss: 0.8469 - tp: 3955.0000 - fp: 1885.0000 - tn: 11023.0000 - fn: 2499.0000 - accuracy: 0.7736 - precision: 0.6772 - recall: 0.6128 - auc: 0.7941 - prc: 0.6635 - f1: 0.6438 - val_loss: 0.8181 - val_tp: 1017.0000 - val_fp: 481.0000 - val_tn: 2747.0000 - val_fn: 597.0000 - val_accuracy: 0.7774 - val_precision: 0.6789 - val_recall: 0.6301 - val_auc: 0.8166 - val_prc: 0.7038 - val_f1: 0.6470 - 59ms/epoch - 5ms/step\n",
      "Epoch 34/100\n",
      "13/13 - 0s - loss: 0.8408 - tp: 3965.0000 - fp: 1899.0000 - tn: 11009.0000 - fn: 2489.0000 - accuracy: 0.7734 - precision: 0.6762 - recall: 0.6143 - auc: 0.7982 - prc: 0.6702 - f1: 0.6423 - val_loss: 0.8174 - val_tp: 1028.0000 - val_fp: 489.0000 - val_tn: 2739.0000 - val_fn: 586.0000 - val_accuracy: 0.7780 - val_precision: 0.6777 - val_recall: 0.6369 - val_auc: 0.8169 - val_prc: 0.7046 - val_f1: 0.6494 - 53ms/epoch - 4ms/step\n",
      "Epoch 35/100\n",
      "13/13 - 0s - loss: 0.8393 - tp: 3979.0000 - fp: 1862.0000 - tn: 11046.0000 - fn: 2475.0000 - accuracy: 0.7760 - precision: 0.6812 - recall: 0.6165 - auc: 0.7976 - prc: 0.6709 - f1: 0.6469 - val_loss: 0.8145 - val_tp: 1017.0000 - val_fp: 456.0000 - val_tn: 2772.0000 - val_fn: 597.0000 - val_accuracy: 0.7825 - val_precision: 0.6904 - val_recall: 0.6301 - val_auc: 0.8177 - val_prc: 0.7063 - val_f1: 0.6492 - 57ms/epoch - 4ms/step\n",
      "Epoch 36/100\n",
      "13/13 - 0s - loss: 0.8433 - tp: 3976.0000 - fp: 1904.0000 - tn: 11004.0000 - fn: 2478.0000 - accuracy: 0.7737 - precision: 0.6762 - recall: 0.6161 - auc: 0.7959 - prc: 0.6652 - f1: 0.6453 - val_loss: 0.8155 - val_tp: 1020.0000 - val_fp: 482.0000 - val_tn: 2746.0000 - val_fn: 594.0000 - val_accuracy: 0.7778 - val_precision: 0.6791 - val_recall: 0.6320 - val_auc: 0.8168 - val_prc: 0.7047 - val_f1: 0.6470 - 54ms/epoch - 4ms/step\n",
      "Epoch 37/100\n",
      "13/13 - 0s - loss: 0.8432 - tp: 4005.0000 - fp: 1942.0000 - tn: 10966.0000 - fn: 2449.0000 - accuracy: 0.7732 - precision: 0.6734 - recall: 0.6205 - auc: 0.7973 - prc: 0.6674 - f1: 0.6460 - val_loss: 0.8179 - val_tp: 1023.0000 - val_fp: 487.0000 - val_tn: 2741.0000 - val_fn: 591.0000 - val_accuracy: 0.7774 - val_precision: 0.6775 - val_recall: 0.6338 - val_auc: 0.8156 - val_prc: 0.7029 - val_f1: 0.6472 - 53ms/epoch - 4ms/step\n",
      "Epoch 38/100\n",
      "13/13 - 0s - loss: 0.8415 - tp: 4010.0000 - fp: 1914.0000 - tn: 10994.0000 - fn: 2444.0000 - accuracy: 0.7749 - precision: 0.6769 - recall: 0.6213 - auc: 0.7978 - prc: 0.6676 - f1: 0.6480 - val_loss: 0.8193 - val_tp: 1027.0000 - val_fp: 493.0000 - val_tn: 2735.0000 - val_fn: 587.0000 - val_accuracy: 0.7770 - val_precision: 0.6757 - val_recall: 0.6363 - val_auc: 0.8148 - val_prc: 0.7025 - val_f1: 0.6476 - 55ms/epoch - 4ms/step\n"
     ]
    },
    {
     "name": "stdout",
     "output_type": "stream",
     "text": [
      "Epoch 39/100\n",
      "13/13 - 0s - loss: 0.8435 - tp: 4060.0000 - fp: 1952.0000 - tn: 10956.0000 - fn: 2394.0000 - accuracy: 0.7755 - precision: 0.6753 - recall: 0.6291 - auc: 0.7959 - prc: 0.6662 - f1: 0.6517 - val_loss: 0.8170 - val_tp: 1020.0000 - val_fp: 466.0000 - val_tn: 2762.0000 - val_fn: 594.0000 - val_accuracy: 0.7811 - val_precision: 0.6864 - val_recall: 0.6320 - val_auc: 0.8156 - val_prc: 0.7033 - val_f1: 0.6486 - 41ms/epoch - 3ms/step\n",
      "Epoch 40/100\n",
      "13/13 - 0s - loss: 0.8398 - tp: 3995.0000 - fp: 1865.0000 - tn: 11043.0000 - fn: 2459.0000 - accuracy: 0.7767 - precision: 0.6817 - recall: 0.6190 - auc: 0.7984 - prc: 0.6720 - f1: 0.6485 - val_loss: 0.8186 - val_tp: 1014.0000 - val_fp: 469.0000 - val_tn: 2759.0000 - val_fn: 600.0000 - val_accuracy: 0.7792 - val_precision: 0.6837 - val_recall: 0.6283 - val_auc: 0.8146 - val_prc: 0.7013 - val_f1: 0.6471 - 33ms/epoch - 3ms/step\n",
      "Epoch 41/100\n",
      "13/13 - 0s - loss: 0.8446 - tp: 3930.0000 - fp: 1869.0000 - tn: 11039.0000 - fn: 2524.0000 - accuracy: 0.7731 - precision: 0.6777 - recall: 0.6089 - auc: 0.7953 - prc: 0.6656 - f1: 0.6412 - val_loss: 0.8202 - val_tp: 1021.0000 - val_fp: 485.0000 - val_tn: 2743.0000 - val_fn: 593.0000 - val_accuracy: 0.7774 - val_precision: 0.6780 - val_recall: 0.6326 - val_auc: 0.8149 - val_prc: 0.7014 - val_f1: 0.6468 - 31ms/epoch - 2ms/step\n",
      "Epoch 42/100\n",
      "13/13 - 0s - loss: 0.8416 - tp: 4042.0000 - fp: 1922.0000 - tn: 10986.0000 - fn: 2412.0000 - accuracy: 0.7762 - precision: 0.6777 - recall: 0.6263 - auc: 0.7976 - prc: 0.6713 - f1: 0.6514 - val_loss: 0.8192 - val_tp: 1013.0000 - val_fp: 470.0000 - val_tn: 2758.0000 - val_fn: 601.0000 - val_accuracy: 0.7788 - val_precision: 0.6831 - val_recall: 0.6276 - val_auc: 0.8157 - val_prc: 0.7020 - val_f1: 0.6474 - 34ms/epoch - 3ms/step\n",
      "Epoch 43/100\n",
      "13/13 - 0s - loss: 0.8389 - tp: 3991.0000 - fp: 1881.0000 - tn: 11027.0000 - fn: 2463.0000 - accuracy: 0.7756 - precision: 0.6797 - recall: 0.6184 - auc: 0.7992 - prc: 0.6690 - f1: 0.6472 - val_loss: 0.8178 - val_tp: 1019.0000 - val_fp: 473.0000 - val_tn: 2755.0000 - val_fn: 595.0000 - val_accuracy: 0.7794 - val_precision: 0.6830 - val_recall: 0.6314 - val_auc: 0.8160 - val_prc: 0.7028 - val_f1: 0.6490 - 31ms/epoch - 2ms/step\n",
      "Epoch 44/100\n",
      "13/13 - 0s - loss: 0.8417 - tp: 4021.0000 - fp: 1932.0000 - tn: 10976.0000 - fn: 2433.0000 - accuracy: 0.7746 - precision: 0.6755 - recall: 0.6230 - auc: 0.7973 - prc: 0.6666 - f1: 0.6479 - val_loss: 0.8178 - val_tp: 1023.0000 - val_fp: 492.0000 - val_tn: 2736.0000 - val_fn: 591.0000 - val_accuracy: 0.7763 - val_precision: 0.6752 - val_recall: 0.6338 - val_auc: 0.8162 - val_prc: 0.7038 - val_f1: 0.6463 - 31ms/epoch - 2ms/step\n",
      "Epoch 45/100\n",
      "13/13 - 0s - loss: 0.8380 - tp: 3995.0000 - fp: 1896.0000 - tn: 11012.0000 - fn: 2459.0000 - accuracy: 0.7751 - precision: 0.6782 - recall: 0.6190 - auc: 0.8008 - prc: 0.6728 - f1: 0.6470 - val_loss: 0.8175 - val_tp: 1013.0000 - val_fp: 469.0000 - val_tn: 2759.0000 - val_fn: 601.0000 - val_accuracy: 0.7790 - val_precision: 0.6835 - val_recall: 0.6276 - val_auc: 0.8159 - val_prc: 0.7018 - val_f1: 0.6476 - 32ms/epoch - 2ms/step\n",
      "Epoch 46/100\n",
      "13/13 - 0s - loss: 0.8368 - tp: 3997.0000 - fp: 1895.0000 - tn: 11013.0000 - fn: 2457.0000 - accuracy: 0.7752 - precision: 0.6784 - recall: 0.6193 - auc: 0.8001 - prc: 0.6749 - f1: 0.6494 - val_loss: 0.8171 - val_tp: 1009.0000 - val_fp: 472.0000 - val_tn: 2756.0000 - val_fn: 605.0000 - val_accuracy: 0.7776 - val_precision: 0.6813 - val_recall: 0.6252 - val_auc: 0.8156 - val_prc: 0.7014 - val_f1: 0.6457 - 32ms/epoch - 2ms/step\n",
      "Epoch 47/100\n",
      "13/13 - 0s - loss: 0.8379 - tp: 3978.0000 - fp: 1874.0000 - tn: 11034.0000 - fn: 2476.0000 - accuracy: 0.7753 - precision: 0.6798 - recall: 0.6164 - auc: 0.8009 - prc: 0.6720 - f1: 0.6452 - val_loss: 0.8146 - val_tp: 1014.0000 - val_fp: 475.0000 - val_tn: 2753.0000 - val_fn: 600.0000 - val_accuracy: 0.7780 - val_precision: 0.6810 - val_recall: 0.6283 - val_auc: 0.8166 - val_prc: 0.7025 - val_f1: 0.6469 - 32ms/epoch - 2ms/step\n",
      "Epoch 48/100\n",
      "13/13 - 0s - loss: 0.8390 - tp: 3989.0000 - fp: 1890.0000 - tn: 11018.0000 - fn: 2465.0000 - accuracy: 0.7751 - precision: 0.6785 - recall: 0.6181 - auc: 0.7984 - prc: 0.6709 - f1: 0.6471 - val_loss: 0.8185 - val_tp: 1017.0000 - val_fp: 476.0000 - val_tn: 2752.0000 - val_fn: 597.0000 - val_accuracy: 0.7784 - val_precision: 0.6812 - val_recall: 0.6301 - val_auc: 0.8155 - val_prc: 0.7015 - val_f1: 0.6470 - 32ms/epoch - 2ms/step\n",
      "Epoch 49/100\n",
      "Restoring model weights from the end of the best epoch: 39.\n",
      "13/13 - 0s - loss: 0.8406 - tp: 3999.0000 - fp: 1889.0000 - tn: 11019.0000 - fn: 2455.0000 - accuracy: 0.7756 - precision: 0.6792 - recall: 0.6196 - auc: 0.7979 - prc: 0.6663 - f1: 0.6487 - val_loss: 0.8157 - val_tp: 1014.0000 - val_fp: 465.0000 - val_tn: 2763.0000 - val_fn: 600.0000 - val_accuracy: 0.7800 - val_precision: 0.6856 - val_recall: 0.6283 - val_auc: 0.8163 - val_prc: 0.7026 - val_f1: 0.6467 - 33ms/epoch - 3ms/step\n",
      "Epoch 49: early stopping\n",
      "83/83 [==============================] - 0s 508us/step\n"
     ]
    },
    {
     "data": {
      "text/plain": [
       "array([[0.2246181 , 0.56165224, 0.21372963],\n",
       "       [0.12168144, 0.6169547 , 0.26136392],\n",
       "       [0.22224781, 0.56534404, 0.21240814],\n",
       "       ...,\n",
       "       [0.09153672, 0.6929229 , 0.21554029],\n",
       "       [0.11030126, 0.7381039 , 0.15159486],\n",
       "       [0.09857234, 0.65479976, 0.24662787]], dtype=float32)"
      ]
     },
     "execution_count": 43,
     "metadata": {},
     "output_type": "execute_result"
    }
   ],
   "source": [
    "# see: https://stackoverflow.com/questions/43547402/how-to-calculate-f1-macro-in-keras/45305384#45305384\n",
    "def f1(y_true, y_pred):\n",
    "    def recall(y_true, y_pred):\n",
    "        true_positives = K.sum(K.round(K.clip(y_true * y_pred, 0, 1)))\n",
    "        possible_positives = K.sum(K.round(K.clip(y_true, 0, 1)))\n",
    "        recall = true_positives / (possible_positives + K.epsilon())\n",
    "        return recall\n",
    "\n",
    "    def precision(y_true, y_pred):\n",
    "        true_positives = K.sum(K.round(K.clip(y_true * y_pred, 0, 1)))\n",
    "        predicted_positives = K.sum(K.round(K.clip(y_pred, 0, 1)))\n",
    "        precision = true_positives / (predicted_positives + K.epsilon())\n",
    "        return precision\n",
    "    precision = precision(y_true, y_pred)\n",
    "    recall = recall(y_true, y_pred)\n",
    "    return 2*((precision*recall)/(precision+recall+K.epsilon()))\n",
    "\n",
    "METRICS = [\n",
    "    metrics.TruePositives(name='tp'),\n",
    "    metrics.FalsePositives(name='fp'),\n",
    "    metrics.TrueNegatives(name='tn'),\n",
    "    metrics.FalseNegatives(name='fn'), \n",
    "    metrics.BinaryAccuracy(name='accuracy'),\n",
    "    metrics.Precision(name='precision'),\n",
    "    metrics.Recall(name='recall'),\n",
    "    metrics.AUC(name='auc'),\n",
    "    metrics.AUC(name='prc', curve='PR'), # precision-recall curve\n",
    "    f1\n",
    "]\n",
    "\n",
    "def make_model(metrics=METRICS):\n",
    "    input_shape = np.shape(foo.X_train)[0]\n",
    "    print(\"input_shape : \", input_shape)\n",
    "    model = Sequential()\n",
    "    model.add(layers.ReLU(64))\n",
    "    model.add(layers.Dropout(0.5))\n",
    "    model.add(layers.ReLU(foo.n_classes))\n",
    "    model.add(layers.Dense(foo.n_classes, activation='softmax', bias_initializer=None)) # foo.n_classes\n",
    "    model.compile(loss=losses.categorical_crossentropy, optimizer=Adam(lr=0.01), metrics=metrics)\n",
    "    return model\n",
    "\n",
    "model = make_model()\n",
    "# early_stopping\n",
    "early_stopping = EarlyStopping(monitor='f1', verbose=2, patience=10, \n",
    "                               mode='max', \n",
    "                               restore_best_weights=True)\n",
    "\n",
    "# training model\n",
    "training_history = model.fit(foo.X_train, foo.y_train, batch_size = 512, epochs=100, verbose = 2, \n",
    "                             callbacks=early_stopping,\n",
    "                             validation_data=(foo.X_valid, foo.y_valid)\n",
    "                            )\n",
    "\n",
    "# predicting X_test\n",
    "y_pred = model.predict(foo.X_test)\n",
    "y_pred"
   ]
  },
  {
   "cell_type": "markdown",
   "id": "8dda0570",
   "metadata": {},
   "source": [
    "# 1.4 Use test data to calculate the appropriate classification metrics. (5 points)"
   ]
  },
  {
   "cell_type": "code",
   "execution_count": 44,
   "id": "e237d2e7",
   "metadata": {},
   "outputs": [
    {
     "name": "stdout",
     "output_type": "stream",
     "text": [
      "[  19 2604    4] [ 386. 1704.  537.]\n"
     ]
    },
    {
     "data": {
      "text/plain": [
       "(array([[0.2246181 , 0.56165224, 0.21372963],\n",
       "        [0.12168144, 0.6169547 , 0.26136392],\n",
       "        [0.22224781, 0.56534404, 0.21240814],\n",
       "        ...,\n",
       "        [0.09153672, 0.6929229 , 0.21554029],\n",
       "        [0.11030126, 0.7381039 , 0.15159486],\n",
       "        [0.09857234, 0.65479976, 0.24662787]], dtype=float32),\n",
       " array([[0, 1, 0],\n",
       "        [0, 1, 0],\n",
       "        [0, 1, 0],\n",
       "        ...,\n",
       "        [0, 1, 0],\n",
       "        [0, 1, 0],\n",
       "        [0, 1, 0]]))"
      ]
     },
     "execution_count": 44,
     "metadata": {},
     "output_type": "execute_result"
    }
   ],
   "source": [
    "l = np.shape(y_pred)[1]\n",
    "result=[]\n",
    "for i in range(len(y_pred)):\n",
    "    idx = np.argmax(y_pred[i])\n",
    "    arr = [0] * l\n",
    "    arr[idx] = 1\n",
    "    result.append(arr)\n",
    "result = np.array(result)\n",
    "pred_result = np.array([result.T[0].sum(),result.T[1].sum(),result.T[2].sum()])\n",
    "vali_labels = np.array([foo.y_valid.T[0].sum(),foo.y_valid.T[1].sum(),foo.y_valid.T[2].sum()])\n",
    "test_labels = np.array([foo.y_test.T[0].sum(),foo.y_test.T[1].sum(),foo.y_test.T[2].sum()])\n",
    "print(pred_result, test_labels)\n",
    "y_pred, result"
   ]
  },
  {
   "cell_type": "code",
   "execution_count": 45,
   "id": "e62f213e",
   "metadata": {},
   "outputs": [
    {
     "name": "stdout",
     "output_type": "stream",
     "text": [
      "accuracy :  0.6509326227636086\n",
      "precision :  [0.57894737 0.65245776 0.        ]\n",
      "recall :  [0.02849741 0.99706573 0.        ]\n"
     ]
    }
   ],
   "source": [
    "from sklearn.metrics import accuracy_score, precision_score, recall_score\n",
    "print(\"accuracy : \", accuracy_score(foo.y_test, result))\n",
    "print(\"precision : \", precision_score(foo.y_test, result, average=None))\n",
    "print(\"recall : \", recall_score(foo.y_test, result, average=None))"
   ]
  },
  {
   "cell_type": "markdown",
   "id": "25f1b5af",
   "metadata": {},
   "source": [
    "# 1.5 Explain the significance of each metrics. e.g what recall denotes in terms of multi class classification. (3 points)"
   ]
  },
  {
   "cell_type": "markdown",
   "id": "c7bb4b91",
   "metadata": {},
   "source": [
    "Accuracy simply explains how exactly the model classified all the test samples. Precision is the fraction of relevant instances among the retrieved instances. Recall shows how many positive samples of particular class are correctly classified with the right label, no matter how many mistakes the model take to the other classes.\n",
    "\n",
    "This model performs a high precision score with a low recall score for the the second class: the biggest class. A high precision with low recall always means a guess of that class is always right but not enough: there are more potential candidate members should belongs to that class."
   ]
  },
  {
   "cell_type": "markdown",
   "id": "da01aee0",
   "metadata": {},
   "source": [
    "# 1.6 Generate the loss and f1-score curve for training and validation set. (10 points)"
   ]
  },
  {
   "cell_type": "markdown",
   "id": "31b9ac33",
   "metadata": {},
   "source": [
    "## 1.6.1. loss curve"
   ]
  },
  {
   "cell_type": "code",
   "execution_count": 46,
   "id": "04e12c3c",
   "metadata": {},
   "outputs": [
    {
     "data": {
      "image/png": "[encoded data removed]",
      "text/plain": [
       "<Figure size 432x288 with 1 Axes>"
      ]
     },
     "metadata": {
      "needs_background": "light"
     },
     "output_type": "display_data"
    }
   ],
   "source": [
    "def plot_loss(history, metric, label='', title=''):\n",
    "    plt.plot(history.epoch,  history.history[metric], label='Train '+label)  # semilogy\n",
    "    plt.plot(history.epoch,  history.history['val_'+metric], label='Val '+label, linestyle=\"--\")  # semilogy\n",
    "    plt.title(title)\n",
    "    plt.xlabel('Epoch')\n",
    "    plt.ylabel('Loss')\n",
    "    plt.legend()\n",
    "    plt.show()\n",
    "\n",
    "plot_loss(training_history, 'loss', label=\"loss\", title='Training and validation loss')"
   ]
  },
  {
   "cell_type": "markdown",
   "id": "06a11b4b",
   "metadata": {},
   "source": [
    "## 1.6.2. f1_score curve"
   ]
  },
  {
   "cell_type": "code",
   "execution_count": 47,
   "id": "a14a411b",
   "metadata": {},
   "outputs": [
    {
     "data": {
      "image/png": "[encoded data removed]",
      "text/plain": [
       "<Figure size 432x288 with 1 Axes>"
      ]
     },
     "metadata": {
      "needs_background": "light"
     },
     "output_type": "display_data"
    }
   ],
   "source": [
    "plot_loss(training_history, 'f1', label=\"f1_score\", title='Training and validation f1_score')"
   ]
  },
  {
   "cell_type": "markdown",
   "id": "25b0318a",
   "metadata": {},
   "source": [
    "## 1.6.3. other metrics"
   ]
  },
  {
   "cell_type": "code",
   "execution_count": 48,
   "id": "aed3094c",
   "metadata": {},
   "outputs": [
    {
     "data": {
      "image/png": "[encoded data removed]",
      "text/plain": [
       "<Figure size 800x640 with 4 Axes>"
      ]
     },
     "metadata": {
      "needs_background": "light"
     },
     "output_type": "display_data"
    }
   ],
   "source": [
    "def plot_metrics(history):\n",
    "    metrics = ['loss', 'prc', 'precision', 'recall']\n",
    "    plt.figure(figsize=(10, 8), dpi=80)\n",
    "    for n, metric in enumerate(metrics):\n",
    "        name = metric.replace(\"_\",\" \").capitalize()\n",
    "        plt.subplot(2,2,n+1)\n",
    "        plt.plot(history.epoch, history.history[metric], label='Train')\n",
    "        plt.plot(history.epoch, history.history['val_'+metric], linestyle=\"--\", label='Val')\n",
    "        plt.xlabel('Epoch')\n",
    "        plt.ylabel(name)\n",
    "#         if metric == 'loss':\n",
    "#             plt.ylim([0, plt.ylim()[1]])\n",
    "#         elif metric == 'auc':\n",
    "#             plt.ylim([0.8,1])\n",
    "#         else:\n",
    "#             plt.ylim([0,1])\n",
    "        plt.legend()\n",
    "\n",
    "\n",
    "plot_metrics(training_history)\n"
   ]
  },
  {
   "cell_type": "code",
   "execution_count": 50,
   "id": "76d2d256",
   "metadata": {},
   "outputs": [
    {
     "name": "stdout",
     "output_type": "stream",
     "text": [
      "loss :  0.8299255967140198\n",
      "tp :  1627.0\n",
      "fp :  762.0\n",
      "tn :  4492.0\n",
      "fn :  1000.0\n",
      "accuracy :  0.7764242887496948\n",
      "precision :  0.6810380816459656\n",
      "recall :  0.6193376183509827\n",
      "auc :  0.8079864382743835\n",
      "prc :  0.6912423372268677\n",
      "f1 :  0.656281054019928\n",
      "\n"
     ]
    }
   ],
   "source": [
    "def plot_cm(labels, predictions, p=0.5):\n",
    "    cm = confusion_matrix(labels, predictions > p)\n",
    "    plt.figure(figsize=(5,5))\n",
    "    sns.heatmap(cm, annot=True, fmt=\"d\")\n",
    "    plt.title('Confusion matrix @{:.2f}'.format(p))\n",
    "    plt.ylabel('Actual label')\n",
    "    plt.xlabel('Predicted label')\n",
    "\n",
    "    print('Legitimate Transactions Detected (True Negatives): ', cm[0][0])\n",
    "    print('Legitimate Transactions Incorrectly Detected (False Positives): ', cm[0][1])\n",
    "    print('Fraudulent Transactions Missed (False Negatives): ', cm[1][0])\n",
    "    print('Fraudulent Transactions Detected (True Positives): ', cm[1][1])\n",
    "    print('Total Fraudulent Transactions: ', np.sum(cm[1]))\n",
    "\n",
    "\n",
    "baseline_results = model.evaluate(foo.X_test, foo.y_test, batch_size=512, verbose=0)\n",
    "for name, value in zip(model.metrics_names, baseline_results):\n",
    "    print(name, ': ', value)\n",
    "print()\n",
    "\n",
    "# BATCH_SIZE=200\n",
    "# train_predictions_baseline = model.predict(foo.X_train, batch_size=BATCH_SIZE)\n",
    "# test_predictions_baseline = model.predict(foo.X_test, batch_size=BATCH_SIZE)\n",
    "# plot_cm(test_labels, test_predictions_baseline)"
   ]
  },
  {
   "cell_type": "code",
   "execution_count": null,
   "id": "ac0f4ea5",
   "metadata": {},
   "outputs": [],
   "source": []
  },
  {
   "cell_type": "code",
   "execution_count": null,
   "id": "c3934433",
   "metadata": {},
   "outputs": [],
   "source": []
  },
  {
   "cell_type": "code",
   "execution_count": null,
   "id": "37bd3385",
   "metadata": {},
   "outputs": [],
   "source": []
  },
  {
   "cell_type": "markdown",
   "id": "c5b6fe39",
   "metadata": {},
   "source": [
    "# 1.7 Generate a ROC-AUC curve and comment on your model accuracy and find the optimal threshold from the curve. (10 points)"
   ]
  },
  {
   "cell_type": "code",
   "execution_count": 51,
   "id": "4147e03a",
   "metadata": {},
   "outputs": [],
   "source": [
    "y_train_labels = foo.y_train.argmax(axis=-1)\n",
    "y_valid_labels = foo.y_valid.argmax(axis=-1)\n",
    "y_test_labels = foo.y_test.argmax(axis=-1)\n",
    "y_pred_labels = y_pred.argmax(axis=-1)"
   ]
  },
  {
   "cell_type": "code",
   "execution_count": 52,
   "id": "4be152d6",
   "metadata": {},
   "outputs": [
    {
     "name": "stdout",
     "output_type": "stream",
     "text": [
      "ROC AUC score: 0.5065968419446935\n"
     ]
    },
    {
     "data": {
      "image/png": "[encoded data removed]",
      "text/plain": [
       "<Figure size 640x640 with 1 Axes>"
      ]
     },
     "metadata": {
      "needs_background": "light"
     },
     "output_type": "display_data"
    }
   ],
   "source": [
    "# function for scoring roc auc score for multi-class\n",
    "def multiclass_roc_auc_score(y_test, y_pred, average=\"macro\"):\n",
    "    lb = LabelBinarizer()\n",
    "    lb.fit(y_test)\n",
    "    y_test = lb.transform(y_test)\n",
    "    y_pred = lb.transform(y_pred)\n",
    "\n",
    "    for (idx, c_label) in enumerate(target):\n",
    "        fpr, tpr, thresholds = roc_curve(y_test[:,idx].astype(int), y_pred[:,idx])\n",
    "        c_ax.plot(fpr, tpr, label = '%s (AUC:%0.2f)'  % (c_label, auc(fpr, tpr)))\n",
    "    c_ax.plot(fpr, fpr, 'b-', label = 'Random Guessing')\n",
    "    return roc_auc_score(y_test, y_pred, average=average)\n",
    "\n",
    "\n",
    "# set plot figure size\n",
    "fig, c_ax = plt.subplots(1,1, figsize = (8, 8), dpi=80)\n",
    "target= [0,1,2]\n",
    "print('ROC AUC score:', multiclass_roc_auc_score(y_test_labels, y_pred_labels))\n",
    "c_ax.legend()\n",
    "c_ax.set_xlabel('False Positive Rate')\n",
    "c_ax.set_ylabel('True Positive Rate')\n",
    "plt.show()"
   ]
  },
  {
   "cell_type": "code",
   "execution_count": 53,
   "id": "1c093630",
   "metadata": {},
   "outputs": [],
   "source": [
    "# from sklearn.metrics import roc_curve, precision_recall_curve\n",
    "# def plot_prc(name, labels, predictions, **kwargs):\n",
    "#     precision, recall, _ = precision_recall_curve(labels, predictions)\n",
    "\n",
    "#     plt.plot(precision, recall, label=name, linewidth=2, **kwargs)\n",
    "#     plt.xlabel('Precision')\n",
    "#     plt.ylabel('Recall')\n",
    "#     plt.grid(True)\n",
    "#     ax = plt.gca()\n",
    "#     ax.set_aspect('equal')\n",
    "\n",
    "\n",
    "# plot_prc(\"Train Baseline\", y_train_labels, y_pred_labels)\n",
    "# plot_prc(\"Test Baseline\", y_test_labels, y_pred_labels, linestyle='--')\n",
    "# plt.legend(loc='lower right');"
   ]
  },
  {
   "cell_type": "markdown",
   "id": "a97dbe08",
   "metadata": {},
   "source": [
    "# 1.8 Repeat the steps from 1.1 to 1.7 with sampling in training set. (you can do over sampling to increase the instances of majority class in training set) Compare and comment on the results you get from sampled data and original data distribution. (50 points) \n",
    "\n",
    "(You are expected to do some research on how to apply sampling over a dataset and which libraries usually employed to do so.)"
   ]
  },
  {
   "cell_type": "markdown",
   "id": "effa9aaa",
   "metadata": {},
   "source": [
    "### 1.8.1. applying class weighting"
   ]
  },
  {
   "cell_type": "code",
   "execution_count": 54,
   "id": "4a37695c",
   "metadata": {},
   "outputs": [
    {
     "name": "stdout",
     "output_type": "stream",
     "text": [
      "Weight for class 0: 3.70\n",
      "Weight for class 1: 0.76\n",
      "Weight for class 2: 2.42\n"
     ]
    },
    {
     "data": {
      "text/plain": [
       "(871, 4251, 1332)"
      ]
     },
     "execution_count": 54,
     "metadata": {},
     "output_type": "execute_result"
    }
   ],
   "source": [
    "# Scaling by total/2 helps keep the loss to a similar magnitude.\n",
    "# The sum of the weights of all examples stays the same.\n",
    "\n",
    "c0,c1,c2 = np.bincount(foo.y_train.argmax(axis=-1))\n",
    "total = c0+c1+c2\n",
    "\n",
    "weight_for_0 = (1 / c0)*(total)/2.0\n",
    "weight_for_1 = (1 / c1)*(total)/2.0\n",
    "weight_for_2 = (1 / c2)*(total)/2.0\n",
    "\n",
    "class_weight = {0: weight_for_0, 1: weight_for_1, 2: weight_for_2}\n",
    "\n",
    "print('Weight for class 0: {:.2f}'.format(weight_for_0))\n",
    "print('Weight for class 1: {:.2f}'.format(weight_for_1))\n",
    "print('Weight for class 2: {:.2f}'.format(weight_for_2))\n",
    "c0,c1,c2"
   ]
  },
  {
   "cell_type": "code",
   "execution_count": 55,
   "id": "2b370296",
   "metadata": {},
   "outputs": [
    {
     "name": "stdout",
     "output_type": "stream",
     "text": [
      "input_shape :  6454\n",
      "Epoch 1/100\n",
      "13/13 - 1s - loss: 1.9882 - tp: 3271.0000 - fp: 3801.0000 - tn: 14361.0000 - fn: 5810.0000 - accuracy: 0.6472 - precision: 0.4625 - recall: 0.3602 - auc: 0.6158 - prc: 0.4509 - f1: 0.2965 - val_loss: 1.1199 - val_tp: 370.0000 - val_fp: 369.0000 - val_tn: 2859.0000 - val_fn: 1244.0000 - val_accuracy: 0.6669 - val_precision: 0.5007 - val_recall: 0.2292 - val_auc: 0.5977 - val_prc: 0.4508 - val_f1: 0.3268 - 1s/epoch - 91ms/step\n",
      "Epoch 2/100\n",
      "13/13 - 0s - loss: 1.7855 - tp: 1353.0000 - fp: 1980.0000 - tn: 10928.0000 - fn: 5101.0000 - accuracy: 0.6343 - precision: 0.4059 - recall: 0.2096 - auc: 0.5635 - prc: 0.3974 - f1: 0.2767 - val_loss: 1.0844 - val_tp: 272.0000 - val_fp: 331.0000 - val_tn: 2897.0000 - val_fn: 1342.0000 - val_accuracy: 0.6545 - val_precision: 0.4511 - val_recall: 0.1685 - val_auc: 0.5941 - val_prc: 0.4463 - val_f1: 0.2552 - 45ms/epoch - 3ms/step\n",
      "Epoch 3/100\n",
      "13/13 - 0s - loss: 1.6711 - tp: 1177.0000 - fp: 1380.0000 - tn: 11528.0000 - fn: 5277.0000 - accuracy: 0.6562 - precision: 0.4603 - recall: 0.1824 - auc: 0.5963 - prc: 0.4268 - f1: 0.2628 - val_loss: 1.0267 - val_tp: 231.0000 - val_fp: 168.0000 - val_tn: 3060.0000 - val_fn: 1383.0000 - val_accuracy: 0.6797 - val_precision: 0.5789 - val_recall: 0.1431 - val_auc: 0.6463 - val_prc: 0.4943 - val_f1: 0.2323 - 41ms/epoch - 3ms/step\n",
      "Epoch 4/100\n",
      "13/13 - 0s - loss: 1.6209 - tp: 945.0000 - fp: 1011.0000 - tn: 11897.0000 - fn: 5509.0000 - accuracy: 0.6633 - precision: 0.4831 - recall: 0.1464 - auc: 0.6044 - prc: 0.4253 - f1: 0.2235 - val_loss: 1.0341 - val_tp: 211.0000 - val_fp: 174.0000 - val_tn: 3054.0000 - val_fn: 1403.0000 - val_accuracy: 0.6743 - val_precision: 0.5481 - val_recall: 0.1307 - val_auc: 0.6455 - val_prc: 0.4790 - val_f1: 0.2105 - 38ms/epoch - 3ms/step\n",
      "Epoch 5/100\n",
      "13/13 - 0s - loss: 1.6175 - tp: 866.0000 - fp: 795.0000 - tn: 12113.0000 - fn: 5588.0000 - accuracy: 0.6703 - precision: 0.5214 - recall: 0.1342 - auc: 0.6203 - prc: 0.4357 - f1: 0.2131 - val_loss: 1.0210 - val_tp: 206.0000 - val_fp: 133.0000 - val_tn: 3095.0000 - val_fn: 1408.0000 - val_accuracy: 0.6817 - val_precision: 0.6077 - val_recall: 0.1276 - val_auc: 0.6636 - val_prc: 0.4998 - val_f1: 0.2105 - 49ms/epoch - 4ms/step\n",
      "Epoch 6/100\n",
      "13/13 - 0s - loss: 1.6042 - tp: 823.0000 - fp: 691.0000 - tn: 12217.0000 - fn: 5631.0000 - accuracy: 0.6735 - precision: 0.5436 - recall: 0.1275 - auc: 0.6242 - prc: 0.4454 - f1: 0.2050 - val_loss: 1.0326 - val_tp: 192.0000 - val_fp: 124.0000 - val_tn: 3104.0000 - val_fn: 1422.0000 - val_accuracy: 0.6807 - val_precision: 0.6076 - val_recall: 0.1190 - val_auc: 0.6526 - val_prc: 0.4868 - val_f1: 0.2019 - 57ms/epoch - 4ms/step\n",
      "Epoch 7/100\n",
      "13/13 - 0s - loss: 1.6080 - tp: 698.0000 - fp: 537.0000 - tn: 12371.0000 - fn: 5756.0000 - accuracy: 0.6750 - precision: 0.5652 - recall: 0.1081 - auc: 0.6207 - prc: 0.4427 - f1: 0.1816 - val_loss: 1.0296 - val_tp: 179.0000 - val_fp: 100.0000 - val_tn: 3128.0000 - val_fn: 1435.0000 - val_accuracy: 0.6830 - val_precision: 0.6416 - val_recall: 0.1109 - val_auc: 0.6606 - val_prc: 0.4944 - val_f1: 0.1905 - 66ms/epoch - 5ms/step\n",
      "Epoch 8/100\n",
      "13/13 - 0s - loss: 1.6010 - tp: 660.0000 - fp: 433.0000 - tn: 12475.0000 - fn: 5794.0000 - accuracy: 0.6784 - precision: 0.6038 - recall: 0.1023 - auc: 0.6130 - prc: 0.4400 - f1: 0.1749 - val_loss: 1.0268 - val_tp: 186.0000 - val_fp: 92.0000 - val_tn: 3136.0000 - val_fn: 1428.0000 - val_accuracy: 0.6861 - val_precision: 0.6691 - val_recall: 0.1152 - val_auc: 0.6600 - val_prc: 0.5074 - val_f1: 0.1969 - 54ms/epoch - 4ms/step\n",
      "Epoch 9/100\n",
      "13/13 - 0s - loss: 1.5917 - tp: 822.0000 - fp: 408.0000 - tn: 12500.0000 - fn: 5632.0000 - accuracy: 0.6880 - precision: 0.6683 - recall: 0.1274 - auc: 0.6431 - prc: 0.4848 - f1: 0.2134 - val_loss: 1.0263 - val_tp: 202.0000 - val_fp: 82.0000 - val_tn: 3146.0000 - val_fn: 1412.0000 - val_accuracy: 0.6914 - val_precision: 0.7113 - val_recall: 0.1252 - val_auc: 0.6597 - val_prc: 0.5182 - val_f1: 0.2138 - 43ms/epoch - 3ms/step\n",
      "Epoch 10/100\n",
      "13/13 - 0s - loss: 1.5988 - tp: 693.0000 - fp: 442.0000 - tn: 12466.0000 - fn: 5761.0000 - accuracy: 0.6796 - precision: 0.6106 - recall: 0.1074 - auc: 0.6122 - prc: 0.4514 - f1: 0.1825 - val_loss: 1.0505 - val_tp: 174.0000 - val_fp: 94.0000 - val_tn: 3134.0000 - val_fn: 1440.0000 - val_accuracy: 0.6832 - val_precision: 0.6493 - val_recall: 0.1078 - val_auc: 0.6248 - val_prc: 0.4773 - val_f1: 0.1871 - 52ms/epoch - 4ms/step\n",
      "Epoch 11/100\n",
      "Restoring model weights from the end of the best epoch: 1.\n",
      "13/13 - 0s - loss: 1.6013 - tp: 728.0000 - fp: 484.0000 - tn: 12424.0000 - fn: 5726.0000 - accuracy: 0.6793 - precision: 0.6007 - recall: 0.1128 - auc: 0.6251 - prc: 0.4608 - f1: 0.1888 - val_loss: 1.0294 - val_tp: 177.0000 - val_fp: 99.0000 - val_tn: 3129.0000 - val_fn: 1437.0000 - val_accuracy: 0.6828 - val_precision: 0.6413 - val_recall: 0.1097 - val_auc: 0.6558 - val_prc: 0.5022 - val_f1: 0.1848 - 50ms/epoch - 4ms/step\n",
      "Epoch 11: early stopping\n",
      "83/83 [==============================] - 0s 594us/step\n"
     ]
    },
    {
     "data": {
      "text/plain": [
       "array([[0.54902494, 0.30188742, 0.14908767],\n",
       "       [0.43978256, 0.21695486, 0.34326258],\n",
       "       [0.5067189 , 0.17413917, 0.31914195],\n",
       "       ...,\n",
       "       [0.5332915 , 0.16111532, 0.3055931 ],\n",
       "       [0.29524815, 0.44780996, 0.25694194],\n",
       "       [0.45189732, 0.30067232, 0.24743032]], dtype=float32)"
      ]
     },
     "execution_count": 55,
     "metadata": {},
     "output_type": "execute_result"
    }
   ],
   "source": [
    "def make_model(metrics=METRICS):\n",
    "    input_shape = np.shape(foo.X_train)[0]\n",
    "    print(\"input_shape : \", input_shape)\n",
    "    model = Sequential()\n",
    "    model.add(layers.ReLU(64))\n",
    "    model.add(layers.Dropout(0.5))\n",
    "    model.add(layers.ReLU(foo.n_classes))\n",
    "    model.add(layers.Dense(foo.n_classes, activation='softmax', bias_initializer=None)) # foo.n_classes\n",
    "    model.compile(loss=losses.categorical_crossentropy, optimizer=Adam(lr=0.01), metrics=metrics)\n",
    "    return model\n",
    "\n",
    "model = make_model()\n",
    "# early_stopping\n",
    "early_stopping = EarlyStopping(monitor='f1', verbose=2, patience=10, \n",
    "                               mode='max', \n",
    "                               restore_best_weights=True)\n",
    "\n",
    "# training model\n",
    "weighted_history = model.fit(foo.X_train, foo.y_train, batch_size = 512, epochs=100, verbose = 2, \n",
    "                             callbacks=early_stopping,\n",
    "                             validation_data=(foo.X_valid, foo.y_valid),\n",
    "                             class_weight=class_weight  # The class weights\n",
    "                            )\n",
    "\n",
    "# predicting X_test\n",
    "y_pred = model.predict(foo.X_test)\n",
    "y_pred"
   ]
  },
  {
   "cell_type": "code",
   "execution_count": 56,
   "id": "697d0ede",
   "metadata": {},
   "outputs": [
    {
     "data": {
      "image/png": "[encoded data removed]",
      "text/plain": [
       "<Figure size 432x288 with 1 Axes>"
      ]
     },
     "metadata": {
      "needs_background": "light"
     },
     "output_type": "display_data"
    }
   ],
   "source": [
    "plot_loss(training_history, 'f1', label=\"f1_score\", title='Training and validation f1_score')"
   ]
  },
  {
   "cell_type": "code",
   "execution_count": 57,
   "id": "0b8135d9",
   "metadata": {},
   "outputs": [
    {
     "data": {
      "image/png": "[encoded data removed]",
      "text/plain": [
       "<Figure size 800x640 with 4 Axes>"
      ]
     },
     "metadata": {
      "needs_background": "light"
     },
     "output_type": "display_data"
    }
   ],
   "source": [
    "plot_metrics(weighted_history)"
   ]
  },
  {
   "cell_type": "code",
   "execution_count": 58,
   "id": "7dd495d7",
   "metadata": {},
   "outputs": [
    {
     "name": "stdout",
     "output_type": "stream",
     "text": [
      "[ 817 1167  643] [ 386. 1704.  537.]\n",
      "accuracy :  0.4507042253521127\n",
      "precision :  [0.19094247 0.73693231 0.26127527]\n",
      "recall :  [0.40414508 0.50469484 0.31284916]\n"
     ]
    }
   ],
   "source": [
    "l = np.shape(y_pred)[1]\n",
    "result=[]\n",
    "for i in range(len(y_pred)):\n",
    "    idx = np.argmax(y_pred[i])\n",
    "    arr = [0] * l\n",
    "    arr[idx] = 1\n",
    "    result.append(arr)\n",
    "result = np.array(result)\n",
    "pred_result = np.array([result.T[0].sum(),result.T[1].sum(),result.T[2].sum()])\n",
    "test_labels = np.array([foo.y_test.T[0].sum(),foo.y_test.T[1].sum(),foo.y_test.T[2].sum()])\n",
    "print(pred_result, test_labels)\n",
    "# too much predicted class 0\n",
    "\n",
    "from sklearn.metrics import accuracy_score, precision_score, recall_score\n",
    "print(\"accuracy : \", accuracy_score(foo.y_test, result))\n",
    "print(\"precision : \", precision_score(foo.y_test, result, average=None))\n",
    "print(\"recall : \", recall_score(foo.y_test, result, average=None))"
   ]
  },
  {
   "cell_type": "code",
   "execution_count": 59,
   "id": "00910aa6",
   "metadata": {},
   "outputs": [
    {
     "name": "stdout",
     "output_type": "stream",
     "text": [
      "ROC AUC score: 0.5611412815013123\n"
     ]
    },
    {
     "data": {
      "image/png": "[encoded data removed]",
      "text/plain": [
       "<Figure size 640x640 with 1 Axes>"
      ]
     },
     "metadata": {
      "needs_background": "light"
     },
     "output_type": "display_data"
    }
   ],
   "source": [
    "y_test_labels = foo.y_test.argmax(axis=-1)\n",
    "y_pred_labels = y_pred.argmax(axis=-1)\n",
    "# set plot figure size\n",
    "fig, c_ax = plt.subplots(1,1, figsize = (8, 8), dpi=80)\n",
    "target= [0,1,2]\n",
    "print('ROC AUC score:', multiclass_roc_auc_score(y_test_labels, y_pred_labels))\n",
    "c_ax.legend()\n",
    "c_ax.set_xlabel('False Positive Rate')\n",
    "c_ax.set_ylabel('True Positive Rate')\n",
    "plt.show()"
   ]
  },
  {
   "cell_type": "markdown",
   "id": "f3a05578",
   "metadata": {},
   "source": [
    "### 1.8.2. over sampling"
   ]
  },
  {
   "cell_type": "code",
   "execution_count": null,
   "id": "f5edf6d0",
   "metadata": {},
   "outputs": [],
   "source": [
    "foo = Foo()\n",
    "foo.label_encoding(method='onehot')  # 'onehot', 'labeling'\n",
    "foo.log_scaling()\n",
    "foo.feature_scaling(plot=False)"
   ]
  },
  {
   "cell_type": "code",
   "execution_count": null,
   "id": "061a7842",
   "metadata": {},
   "outputs": [],
   "source": []
  },
  {
   "cell_type": "code",
   "execution_count": null,
   "id": "cb912af6",
   "metadata": {},
   "outputs": [],
   "source": [
    "# fpr_keras, tpr_keras, thresholds_keras = roc_curve(y_test_labels, y_pred_labels, pos_label=0)"
   ]
  },
  {
   "cell_type": "code",
   "execution_count": null,
   "id": "c957b13a",
   "metadata": {},
   "outputs": [],
   "source": [
    "from sklearn.datasets import fetch_openml\n",
    "from sklearn.preprocessing import StandardScaler\n",
    "from sklearn.pipeline import make_pipeline\n",
    "from sklearn.linear_model import LogisticRegression\n",
    "from sklearn.model_selection import train_test_split\n",
    "\n",
    "X, y = fetch_openml(data_id=1464, return_X_y=True)\n",
    "X_train, X_test, y_train, y_test = train_test_split(X, y, stratify=y)\n",
    "\n",
    "clf = make_pipeline(StandardScaler(), LogisticRegression(random_state=0))\n",
    "clf.fit(X_train, y_train)\n",
    "\n",
    "from sklearn.metrics import confusion_matrix\n",
    "from sklearn.metrics import ConfusionMatrixDisplay\n",
    "\n",
    "y_pred = clf.predict(X_test)\n",
    "cm = confusion_matrix(y_test, y_pred)\n",
    "\n",
    "cm_display = ConfusionMatrixDisplay(cm).plot()\n",
    "\n",
    "from sklearn.metrics import roc_curve\n",
    "from sklearn.metrics import RocCurveDisplay\n",
    "\n",
    "y_score = clf.decision_function(X_test)\n",
    "\n",
    "fpr, tpr, _ = roc_curve(y_test, y_score, pos_label=clf.classes_[1])\n",
    "roc_display = RocCurveDisplay(fpr=fpr, tpr=tpr).plot()\n",
    "\n",
    "y_score"
   ]
  },
  {
   "cell_type": "code",
   "execution_count": null,
   "id": "b1a23a5a",
   "metadata": {},
   "outputs": [],
   "source": [
    "clf.classes_"
   ]
  },
  {
   "cell_type": "code",
   "execution_count": null,
   "id": "63bbd3ef",
   "metadata": {},
   "outputs": [],
   "source": []
  },
  {
   "cell_type": "code",
   "execution_count": null,
   "id": "e356cf18",
   "metadata": {},
   "outputs": [],
   "source": []
  },
  {
   "cell_type": "code",
   "execution_count": null,
   "id": "4cb6b982",
   "metadata": {},
   "outputs": [],
   "source": []
  },
  {
   "cell_type": "code",
   "execution_count": null,
   "id": "ac0003b1",
   "metadata": {},
   "outputs": [],
   "source": []
  },
  {
   "cell_type": "code",
   "execution_count": null,
   "id": "f8b30bc8",
   "metadata": {},
   "outputs": [],
   "source": []
  },
  {
   "cell_type": "code",
   "execution_count": null,
   "id": "b52224fd",
   "metadata": {},
   "outputs": [],
   "source": []
  },
  {
   "cell_type": "code",
   "execution_count": null,
   "id": "ce998779",
   "metadata": {},
   "outputs": [],
   "source": []
  },
  {
   "cell_type": "code",
   "execution_count": null,
   "id": "842306f6",
   "metadata": {},
   "outputs": [],
   "source": []
  },
  {
   "cell_type": "code",
   "execution_count": null,
   "id": "0c9238e8",
   "metadata": {},
   "outputs": [],
   "source": []
  },
  {
   "cell_type": "code",
   "execution_count": null,
   "id": "95bf554b",
   "metadata": {},
   "outputs": [],
   "source": []
  },
  {
   "cell_type": "code",
   "execution_count": null,
   "id": "d2788839",
   "metadata": {},
   "outputs": [],
   "source": []
  },
  {
   "cell_type": "code",
   "execution_count": null,
   "id": "46bf04a7",
   "metadata": {},
   "outputs": [],
   "source": []
  },
  {
   "cell_type": "code",
   "execution_count": null,
   "id": "b07f87d4",
   "metadata": {},
   "outputs": [],
   "source": []
  },
  {
   "cell_type": "code",
   "execution_count": null,
   "id": "75aed2df",
   "metadata": {},
   "outputs": [],
   "source": []
  },
  {
   "cell_type": "code",
   "execution_count": null,
   "id": "6fb8dc2b",
   "metadata": {},
   "outputs": [],
   "source": []
  },
  {
   "cell_type": "code",
   "execution_count": null,
   "id": "91f1ebbc",
   "metadata": {},
   "outputs": [],
   "source": []
  }
 ],
 "metadata": {
  "kernelspec": {
   "display_name": "Python 3 (ipykernel)",
   "language": "python",
   "name": "python3"
  },
  "language_info": {
   "codemirror_mode": {
    "name": "ipython",
    "version": 3
   },
   "file_extension": ".py",
   "mimetype": "text/x-python",
   "name": "python",
   "nbconvert_exporter": "python",
   "pygments_lexer": "ipython3",
   "version": "3.8.12"
  }
 },
 "nbformat": 4,
 "nbformat_minor": 5
}
