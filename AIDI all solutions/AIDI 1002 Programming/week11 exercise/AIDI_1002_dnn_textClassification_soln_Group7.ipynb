{
 "cells": [
  {
   "cell_type": "code",
   "execution_count": 3,
   "metadata": {
    "id": "-o8NTpQg1DqG"
   },
   "outputs": [],
   "source": [
    "import numpy as np\n",
    "import matplotlib.pyplot as plt\n",
    "\n",
    "import os\n",
    "os.environ[\"CUDA_VISIBLE_DEVICES\"] = \"-1\"  # Force TF to use only the CPU"
   ]
  },
  {
   "cell_type": "code",
   "execution_count": 4,
   "metadata": {
    "id": "0vZeY_x31DqI"
   },
   "outputs": [
    {
     "name": "stderr",
     "output_type": "stream",
     "text": [
      "2022-12-06 19:01:15.870882: I tensorflow/core/platform/cpu_feature_guard.cc:193] This TensorFlow binary is optimized with oneAPI Deep Neural Network Library (oneDNN) to use the following CPU instructions in performance-critical operations:  AVX2 FMA\n",
      "To enable them in other operations, rebuild TensorFlow with the appropriate compiler flags.\n"
     ]
    }
   ],
   "source": [
    "from keras.preprocessing.text import Tokenizer\n",
    "from keras.datasets import imdb\n",
    "from keras import preprocessing\n",
    "\n",
    "from keras import models\n",
    "from keras import layers\n",
    "from keras import optimizers\n",
    "from keras import losses\n",
    "from keras import metrics\n",
    "\n",
    "from keras.models import Sequential\n",
    "from keras.layers import Flatten, Dense\n",
    "from keras.layers import Embedding\n",
    "\n",
    "from keras.layers import LSTM\n",
    "from keras.layers import GRU"
   ]
  },
  {
   "cell_type": "markdown",
   "metadata": {
    "id": "li9EwnNC1DqJ"
   },
   "source": [
    "# load imdb data"
   ]
  },
  {
   "cell_type": "code",
   "execution_count": 5,
   "metadata": {
    "colab": {
     "base_uri": "https://localhost:8080/"
    },
    "id": "BsFnVohX1DqK",
    "outputId": "c17e4795-90a7-4f87-c2b0-c09dd32ff2ee"
   },
   "outputs": [],
   "source": [
    "max_features = 10000 # Number of words to consider as features\n",
    "\n",
    "# Loads the data as lists of integers\n",
    "(x_train, y_train), (x_test, y_test) = imdb.load_data(num_words=max_features)"
   ]
  },
  {
   "cell_type": "code",
   "execution_count": 9,
   "metadata": {},
   "outputs": [
    {
     "data": {
      "text/plain": [
       "0    False\n",
       "dtype: bool"
      ]
     },
     "execution_count": 9,
     "metadata": {},
     "output_type": "execute_result"
    }
   ],
   "source": [
    "import pandas as pd\n",
    "tmp = pd.DataFrame(x_train)\n",
    "tmp.isnull().any()"
   ]
  },
  {
   "cell_type": "code",
   "execution_count": 4,
   "metadata": {
    "colab": {
     "base_uri": "https://localhost:8080/"
    },
    "id": "_s0AverC1DqL",
    "outputId": "ec2b04f5-7c2f-40b6-9fa5-58efd57ea531"
   },
   "outputs": [
    {
     "name": "stdout",
     "output_type": "stream",
     "text": [
      "(25000,)\n",
      "218\n",
      "1\n",
      "[1, 14, 22, 16, 43, 530, 973, 1622, 1385, 65, 458, 4468, 66, 3941, 4, 173, 36, 256, 5, 25, 100, 43, 838, 112, 50, 670, 2, 9, 35, 480, 284, 5, 150, 4, 172, 112, 167, 2, 336, 385, 39, 4, 172, 4536, 1111, 17, 546, 38, 13, 447, 4, 192, 50, 16, 6, 147, 2025, 19, 14, 22, 4, 1920, 4613, 469, 4, 22, 71, 87, 12, 16, 43, 530, 38, 76, 15, 13, 1247, 4, 22, 17, 515, 17, 12, 16, 626, 18, 2, 5, 62, 386, 12, 8, 316, 8, 106, 5, 4, 2223, 5244, 16, 480, 66, 3785, 33, 4, 130, 12, 16, 38, 619, 5, 25, 124, 51, 36, 135, 48, 25, 1415, 33, 6, 22, 12, 215, 28, 77, 52, 5, 14, 407, 16, 82, 2, 8, 4, 107, 117, 5952, 15, 256, 4, 2, 7, 3766, 5, 723, 36, 71, 43, 530, 476, 26, 400, 317, 46, 7, 4, 2, 1029, 13, 104, 88, 4, 381, 15, 297, 98, 32, 2071, 56, 26, 141, 6, 194, 7486, 18, 4, 226, 22, 21, 134, 476, 26, 480, 5, 144, 30, 5535, 18, 51, 36, 28, 224, 92, 25, 104, 4, 226, 65, 16, 38, 1334, 88, 12, 16, 283, 5, 16, 4472, 113, 103, 32, 15, 16, 5345, 19, 178, 32]\n"
     ]
    }
   ],
   "source": [
    "print(x_train.shape)\n",
    "print(len(x_train[0]))\n",
    "print(y_train[0])\n",
    "print(x_train[0])"
   ]
  },
  {
   "cell_type": "markdown",
   "metadata": {
    "id": "SWGIkDZN1DqL"
   },
   "source": [
    "# imdb binary clf - densely connected model"
   ]
  },
  {
   "cell_type": "markdown",
   "metadata": {
    "id": "_neuHHLU1DqM"
   },
   "source": [
    "## preparing data"
   ]
  },
  {
   "cell_type": "code",
   "execution_count": 5,
   "metadata": {
    "id": "KgV0RXyM1DqM"
   },
   "outputs": [],
   "source": [
    "# encoding integer sequences into a binary matrix\n",
    "def vectorize_sequences(sequences, dimension=10000):\n",
    "    # create an all-zero matrix of shape (len(sequences), dimension)\n",
    "    results = np.zeros((len(sequences), dimension))\n",
    "    for i, sequence in enumerate(sequences):\n",
    "        results[i, sequence] = 1.0 # set specific indices of results[i] to 1s\n",
    "    return results"
   ]
  },
  {
   "cell_type": "code",
   "execution_count": 6,
   "metadata": {
    "id": "dfXiooZP1DqM"
   },
   "outputs": [],
   "source": [
    "x_train_v1 = vectorize_sequences(x_train) # vectorized training data\n",
    "x_test_v1 = vectorize_sequences(x_test) # vectorized test data\n",
    "\n",
    "y_train_v1 = np.asarray(y_train, dtype = 'float32') # vectorize labels\n",
    "y_test_v1 = np.asarray(y_test, dtype = 'float32')"
   ]
  },
  {
   "cell_type": "code",
   "execution_count": 7,
   "metadata": {
    "colab": {
     "base_uri": "https://localhost:8080/"
    },
    "id": "ETRy7V-71DqM",
    "outputId": "a41e2e78-9618-436b-8fe8-f4d9632b6b54"
   },
   "outputs": [
    {
     "name": "stdout",
     "output_type": "stream",
     "text": [
      "10000\n",
      "[0. 1. 1. ... 0. 0. 0.]\n"
     ]
    }
   ],
   "source": [
    "print(len(x_train_v1[0]))\n",
    "print(x_train_v1[0])"
   ]
  },
  {
   "cell_type": "code",
   "execution_count": 8,
   "metadata": {
    "colab": {
     "base_uri": "https://localhost:8080/"
    },
    "id": "lpfUxcVD1DqN",
    "outputId": "624f72e9-5f09-4892-e394-f0234f26ef0c"
   },
   "outputs": [
    {
     "name": "stdout",
     "output_type": "stream",
     "text": [
      "10000\n",
      "120.0\n"
     ]
    }
   ],
   "source": [
    "print(len(np.array(x_train_v1[0]))) # one hot encoded\n",
    "print(sum(np.array(x_train_v1[0]))) # should be equal to len(np.unique((np.array(train_data[0]))))"
   ]
  },
  {
   "cell_type": "code",
   "execution_count": 9,
   "metadata": {
    "colab": {
     "base_uri": "https://localhost:8080/"
    },
    "id": "WJtBssqf1DqN",
    "outputId": "8bf1e425-5e9b-49d9-8ed4-6675f84b4e82"
   },
   "outputs": [
    {
     "data": {
      "text/plain": [
       "(25000, 10000)"
      ]
     },
     "execution_count": 9,
     "metadata": {},
     "output_type": "execute_result"
    }
   ],
   "source": [
    "x_train_v1.shape"
   ]
  },
  {
   "cell_type": "markdown",
   "metadata": {
    "id": "qO1nwuFV1DqN"
   },
   "source": [
    "## build model"
   ]
  },
  {
   "cell_type": "code",
   "execution_count": 10,
   "metadata": {
    "colab": {
     "base_uri": "https://localhost:8080/"
    },
    "id": "YrK3JtWP1DqN",
    "outputId": "2a88d4d9-566a-44a3-ccdd-dc648bc809a0"
   },
   "outputs": [
    {
     "name": "stderr",
     "output_type": "stream",
     "text": [
      "2022-12-05 16:51:44.303304: I tensorflow/core/platform/cpu_feature_guard.cc:193] This TensorFlow binary is optimized with oneAPI Deep Neural Network Library (oneDNN) to use the following CPU instructions in performance-critical operations:  AVX2 FMA\n",
      "To enable them in other operations, rebuild TensorFlow with the appropriate compiler flags.\n"
     ]
    },
    {
     "name": "stdout",
     "output_type": "stream",
     "text": [
      "Model: \"sequential\"\n",
      "_________________________________________________________________\n",
      " Layer (type)                Output Shape              Param #   \n",
      "=================================================================\n",
      " dense (Dense)               (None, 16)                160016    \n",
      "                                                                 \n",
      " dense_1 (Dense)             (None, 16)                272       \n",
      "                                                                 \n",
      " dense_2 (Dense)             (None, 1)                 17        \n",
      "                                                                 \n",
      "=================================================================\n",
      "Total params: 160,305\n",
      "Trainable params: 160,305\n",
      "Non-trainable params: 0\n",
      "_________________________________________________________________\n",
      "None\n",
      "Epoch 1/4\n",
      "49/49 [==============================] - 1s 9ms/step - loss: 0.4585 - accuracy: 0.8240\n",
      "Epoch 2/4\n",
      "49/49 [==============================] - 0s 8ms/step - loss: 0.2639 - accuracy: 0.9088\n",
      "Epoch 3/4\n",
      "49/49 [==============================] - 0s 8ms/step - loss: 0.2031 - accuracy: 0.9279\n",
      "Epoch 4/4\n",
      "49/49 [==============================] - 0s 9ms/step - loss: 0.1699 - accuracy: 0.9395\n"
     ]
    },
    {
     "data": {
      "text/plain": [
       "<keras.callbacks.History at 0x7fd710dadf40>"
      ]
     },
     "execution_count": 10,
     "metadata": {},
     "output_type": "execute_result"
    }
   ],
   "source": [
    "model1 = models.Sequential()\n",
    "\n",
    "# two intermediate layers with 16 hiddent units each with relu activation functions (which zero out negative values)\n",
    "model1.add(layers.Dense(16, activation='relu', input_shape=(10000,)))\n",
    "model1.add(layers.Dense(16, activation='relu'))\n",
    "\n",
    "# output layer with sigmoid activation function to output something that can be interpreted as probability\n",
    "model1.add(layers.Dense(1, activation='sigmoid'))\n",
    "\n",
    "# compile the model\n",
    "model1.compile(optimizer='rmsprop', loss='binary_crossentropy', metrics=['accuracy'])\n",
    "\n",
    "# summarize model\n",
    "print(model1.summary())\n",
    "\n",
    "model1.fit(x_train_v1, y_train_v1, epochs=4, batch_size = 512) # train the model in mini-batches of 512 samples"
   ]
  },
  {
   "cell_type": "code",
   "execution_count": 11,
   "metadata": {
    "colab": {
     "base_uri": "https://localhost:8080/"
    },
    "id": "yd-fEGSS1DqO",
    "outputId": "564ad723-154a-41d7-e761-bc321ef5b7b3"
   },
   "outputs": [
    {
     "name": "stdout",
     "output_type": "stream",
     "text": [
      "782/782 [==============================] - 1s 1ms/step - loss: 0.2906 - accuracy: 0.8836\n",
      "test_loss: 0.291, test_accuracy: 0.884\n"
     ]
    }
   ],
   "source": [
    "test_loss, test_accuracy = model1.evaluate(x_test_v1, y_test_v1)\n",
    "print(\"test_loss: %s, test_accuracy: %s\" %(np.round(test_loss,3), np.round(test_accuracy,3)))"
   ]
  },
  {
   "cell_type": "markdown",
   "metadata": {
    "id": "4F9taiMM1DqO"
   },
   "source": [
    "## Exercise 1\n",
    "- Try using larger or smaller layers: E.g. 32 units, 128 units\n",
    "- Instead of two hidden layers, try using a single hidden layer, or three hidden layers"
   ]
  },
  {
   "cell_type": "markdown",
   "metadata": {
    "id": "93JxUpjq1DqO"
   },
   "source": [
    "### Exercise 1a"
   ]
  },
  {
   "cell_type": "code",
   "execution_count": 12,
   "metadata": {
    "colab": {
     "base_uri": "https://localhost:8080/"
    },
    "id": "LDeqFewN1DqO",
    "outputId": "67f1bef4-d41e-4236-8804-ba154dcdb72d"
   },
   "outputs": [
    {
     "name": "stdout",
     "output_type": "stream",
     "text": [
      "Epoch 1/4\n",
      "49/49 [==============================] - 1s 10ms/step - loss: 0.4323 - accuracy: 0.8148\n",
      "Epoch 2/4\n",
      "49/49 [==============================] - 1s 10ms/step - loss: 0.2406 - accuracy: 0.9122\n",
      "Epoch 3/4\n",
      "49/49 [==============================] - 1s 11ms/step - loss: 0.1911 - accuracy: 0.9306\n",
      "Epoch 4/4\n",
      "49/49 [==============================] - 1s 11ms/step - loss: 0.1571 - accuracy: 0.9415\n",
      "782/782 [==============================] - 1s 905us/step - loss: 0.3147 - accuracy: 0.8799\n",
      "test_loss: 0.315, test_accuracy: 0.88\n"
     ]
    }
   ],
   "source": [
    "# 32\n",
    "\n",
    "model1a = models.Sequential()\n",
    "\n",
    "model1a.add(layers.Dense(32, activation='relu', input_shape=(10000,)))\n",
    "model1a.add(layers.Dense(32, activation='relu'))\n",
    "\n",
    "model1a.add(layers.Dense(1, activation='sigmoid'))\n",
    "model1a.compile(optimizer='rmsprop', loss='binary_crossentropy', metrics=['accuracy'])\n",
    "\n",
    "model1a.fit(x_train_v1, y_train_v1, epochs=4, batch_size = 512) # train the model in mini-batches of 512 samples\n",
    "\n",
    "test_loss, test_accuracy = model1a.evaluate(x_test_v1, y_test_v1)\n",
    "print(\"test_loss: %s, test_accuracy: %s\" %(np.round(test_loss,3), np.round(test_accuracy,3)))"
   ]
  },
  {
   "cell_type": "code",
   "execution_count": 13,
   "metadata": {
    "colab": {
     "base_uri": "https://localhost:8080/"
    },
    "id": "oXF_I-sV1HTo",
    "outputId": "11b5dbdf-700f-49ce-ca05-01d67a5e4211"
   },
   "outputs": [
    {
     "name": "stdout",
     "output_type": "stream",
     "text": [
      "Epoch 1/4\n",
      "49/49 [==============================] - 2s 22ms/step - loss: 0.4299 - accuracy: 0.8005\n",
      "Epoch 2/4\n",
      "49/49 [==============================] - 1s 20ms/step - loss: 0.2247 - accuracy: 0.9121\n",
      "Epoch 3/4\n",
      "49/49 [==============================] - 1s 21ms/step - loss: 0.1628 - accuracy: 0.9374\n",
      "Epoch 4/4\n",
      "49/49 [==============================] - 1s 20ms/step - loss: 0.1080 - accuracy: 0.9592\n",
      "782/782 [==============================] - 1s 1ms/step - loss: 0.3549 - accuracy: 0.8774\n",
      "test_loss: 0.355, test_accuracy: 0.877\n"
     ]
    }
   ],
   "source": [
    "# 128\n",
    "model1a = models.Sequential()\n",
    "\n",
    "model1a.add(layers.Dense(128, activation='relu', input_shape=(10000,)))\n",
    "model1a.add(layers.Dense(128, activation='relu'))\n",
    "\n",
    "model1a.add(layers.Dense(1, activation='sigmoid'))\n",
    "model1a.compile(optimizer='rmsprop', loss='binary_crossentropy', metrics=['accuracy'])\n",
    "\n",
    "model1a.fit(x_train_v1, y_train_v1, epochs=4, batch_size = 512) # train the model in mini-batches of 512 samples\n",
    "\n",
    "test_loss, test_accuracy = model1a.evaluate(x_test_v1, y_test_v1)\n",
    "print(\"test_loss: %s, test_accuracy: %s\" %(np.round(test_loss,3), np.round(test_accuracy,3)))"
   ]
  },
  {
   "cell_type": "markdown",
   "metadata": {
    "id": "bAQPN77V1DqP"
   },
   "source": [
    "### Exercise 1b"
   ]
  },
  {
   "cell_type": "code",
   "execution_count": 17,
   "metadata": {
    "colab": {
     "base_uri": "https://localhost:8080/"
    },
    "id": "TJ3AfiOr2yeC",
    "outputId": "11244c90-2280-452b-85e3-426f43118dcc"
   },
   "outputs": [
    {
     "name": "stdout",
     "output_type": "stream",
     "text": [
      "Epoch 1/4\n",
      "49/49 [==============================] - 1s 8ms/step - loss: 0.5819 - accuracy: 0.7786\n",
      "Epoch 2/4\n",
      "49/49 [==============================] - 0s 8ms/step - loss: 0.4654 - accuracy: 0.8588\n",
      "Epoch 3/4\n",
      "49/49 [==============================] - 0s 8ms/step - loss: 0.3985 - accuracy: 0.8788\n",
      "Epoch 4/4\n",
      "49/49 [==============================] - 0s 8ms/step - loss: 0.3535 - accuracy: 0.8914\n",
      "782/782 [==============================] - 1s 881us/step - loss: 0.3731 - accuracy: 0.8719\n",
      "test_loss: 0.373, test_accuracy: 0.872\n"
     ]
    }
   ],
   "source": [
    "# single hidden layer\n",
    "model1b = models.Sequential()\n",
    "\n",
    "model1b.add(layers.Dense(1, activation='sigmoid'))\n",
    "model1b.compile(optimizer='rmsprop', loss='binary_crossentropy', metrics=['accuracy'])\n",
    "\n",
    "model1b.fit(x_train_v1, y_train_v1, epochs=4, batch_size = 512) # train the model in mini-batches of 512 samples\n",
    "\n",
    "test_loss, test_accuracy = model1b.evaluate(x_test_v1, y_test_v1)\n",
    "print(\"test_loss: %s, test_accuracy: %s\" %(np.round(test_loss,3), np.round(test_accuracy,3)))"
   ]
  },
  {
   "cell_type": "code",
   "execution_count": 15,
   "metadata": {
    "colab": {
     "base_uri": "https://localhost:8080/"
    },
    "id": "gbOzlwjh1DqP",
    "outputId": "5706aa74-3c6b-45c9-acdc-cbf2d222a43e"
   },
   "outputs": [
    {
     "name": "stdout",
     "output_type": "stream",
     "text": [
      "Epoch 1/4\n",
      "49/49 [==============================] - 1s 9ms/step - loss: 0.4484 - accuracy: 0.8297\n",
      "Epoch 2/4\n",
      "49/49 [==============================] - 0s 9ms/step - loss: 0.2779 - accuracy: 0.9071\n",
      "Epoch 3/4\n",
      "49/49 [==============================] - 0s 9ms/step - loss: 0.2198 - accuracy: 0.9246\n",
      "Epoch 4/4\n",
      "49/49 [==============================] - 0s 9ms/step - loss: 0.1879 - accuracy: 0.9366\n",
      "782/782 [==============================] - 1s 858us/step - loss: 0.2846 - accuracy: 0.8850\n",
      "test_loss: 0.285, test_accuracy: 0.885\n"
     ]
    }
   ],
   "source": [
    "# two hidden layers\n",
    "model1b = models.Sequential()\n",
    "\n",
    "model1b.add(layers.Dense(16, activation='relu', input_shape=(10000,)))\n",
    "model1b.add(layers.Dense(1, activation='sigmoid'))\n",
    "model1b.compile(optimizer='rmsprop', loss='binary_crossentropy', metrics=['accuracy'])\n",
    "\n",
    "model1b.fit(x_train_v1, y_train_v1, epochs=4, batch_size = 512) # train the model in mini-batches of 512 samples\n",
    "\n",
    "test_loss, test_accuracy = model1b.evaluate(x_test_v1, y_test_v1)\n",
    "print(\"test_loss: %s, test_accuracy: %s\" %(np.round(test_loss,3), np.round(test_accuracy,3)))"
   ]
  },
  {
   "cell_type": "code",
   "execution_count": 16,
   "metadata": {
    "colab": {
     "base_uri": "https://localhost:8080/",
     "height": 245
    },
    "id": "V1GQn2-Y27sL",
    "outputId": "58f1ca7a-35ee-49a8-fa6b-ecdd7df24888"
   },
   "outputs": [
    {
     "name": "stdout",
     "output_type": "stream",
     "text": [
      "Epoch 1/4\n",
      "49/49 [==============================] - 1s 9ms/step - loss: 0.4358 - accuracy: 0.8192\n",
      "Epoch 2/4\n",
      "49/49 [==============================] - 0s 9ms/step - loss: 0.2485 - accuracy: 0.9127\n",
      "Epoch 3/4\n",
      "49/49 [==============================] - 0s 10ms/step - loss: 0.1930 - accuracy: 0.9290\n",
      "Epoch 4/4\n",
      "49/49 [==============================] - 0s 9ms/step - loss: 0.1619 - accuracy: 0.9413\n",
      "782/782 [==============================] - 1s 898us/step - loss: 0.3441 - accuracy: 0.8677\n",
      "test_loss: 0.344, test_accuracy: 0.868\n"
     ]
    }
   ],
   "source": [
    "# three hidden layers\n",
    "model1b = models.Sequential()\n",
    "\n",
    "model1b.add(layers.Dense(32, activation='relu', input_shape=(10000,)))\n",
    "model1b.add(layers.Dense(16, activation='relu', input_shape=(10000,)))\n",
    "model1b.add(layers.Dense(1, activation='sigmoid'))\n",
    "model1b.compile(optimizer='rmsprop', loss='binary_crossentropy', metrics=['accuracy'])\n",
    "\n",
    "model1b.fit(x_train_v1, y_train_v1, epochs=4, batch_size = 512) # train the model in mini-batches of 512 samples\n",
    "\n",
    "test_loss, test_accuracy = model1b.evaluate(x_test_v1, y_test_v1)\n",
    "print(\"test_loss: %s, test_accuracy: %s\" %(np.round(test_loss,3), np.round(test_accuracy,3)))"
   ]
  },
  {
   "cell_type": "markdown",
   "metadata": {
    "id": "0rHbt3ze1DqP"
   },
   "source": [
    "# imdb binary classification with word embeddings\n",
    "- The Embedding layer is best understood as a dictionary that maps integer indices (which stand for specific words) to dense vectors. \n",
    "- It takes integers as input, it looks up these integers in an internal dictionary, and it returns the associated vectors. It’s effectively a dictionary lookup"
   ]
  },
  {
   "cell_type": "code",
   "execution_count": 19,
   "metadata": {
    "id": "6najotAJ1DqX"
   },
   "outputs": [],
   "source": [
    "# Turn the lists of integers into a 2D integer tensor of shape (samples, maxlen)\n",
    "\n",
    "maxlen = 200 # Cuts off the text after this number of words (among the max_features most common words)\n",
    "\n",
    "from keras.utils import pad_sequences\n",
    "\n",
    "x_train_v2 = pad_sequences(x_train, maxlen=maxlen) # preprocessing.sequence.\n",
    "x_test_v2 = pad_sequences(x_test, maxlen=maxlen) # preprocessing.sequence."
   ]
  },
  {
   "cell_type": "code",
   "execution_count": 20,
   "metadata": {
    "id": "2XlJ74pW1DqX"
   },
   "outputs": [
    {
     "name": "stdout",
     "output_type": "stream",
     "text": [
      "(25000, 200)\n",
      "200\n",
      "[   5   25  100   43  838  112   50  670    2    9   35  480  284    5\n",
      "  150    4  172  112  167    2  336  385   39    4  172 4536 1111   17\n",
      "  546   38   13  447    4  192   50   16    6  147 2025   19   14   22\n",
      "    4 1920 4613  469    4   22   71   87   12   16   43  530   38   76\n",
      "   15   13 1247    4   22   17  515   17   12   16  626   18    2    5\n",
      "   62  386   12    8  316    8  106    5    4 2223 5244   16  480   66\n",
      " 3785   33    4  130   12   16   38  619    5   25  124   51   36  135\n",
      "   48   25 1415   33    6   22   12  215   28   77   52    5   14  407\n",
      "   16   82    2    8    4  107  117 5952   15  256    4    2    7 3766\n",
      "    5  723   36   71   43  530  476   26  400  317   46    7    4    2\n",
      " 1029   13  104   88    4  381   15  297   98   32 2071   56   26  141\n",
      "    6  194 7486   18    4  226   22   21  134  476   26  480    5  144\n",
      "   30 5535   18   51   36   28  224   92   25  104    4  226   65   16\n",
      "   38 1334   88   12   16  283    5   16 4472  113  103   32   15   16\n",
      " 5345   19  178   32]\n",
      "1\n"
     ]
    }
   ],
   "source": [
    "print(x_train_v2.shape)\n",
    "print(len(x_train_v2[0]))\n",
    "print(x_train_v2[0])\n",
    "print(y_train[0])"
   ]
  },
  {
   "cell_type": "markdown",
   "metadata": {
    "id": "mkqWiJxE1DqX"
   },
   "source": [
    "## build model"
   ]
  },
  {
   "cell_type": "code",
   "execution_count": 22,
   "metadata": {
    "id": "TW7RyIv11DqX",
    "scrolled": false
   },
   "outputs": [
    {
     "name": "stdout",
     "output_type": "stream",
     "text": [
      "Model: \"sequential_8\"\n",
      "_________________________________________________________________\n",
      " Layer (type)                Output Shape              Param #   \n",
      "=================================================================\n",
      " embedding_1 (Embedding)     (None, 200, 8)            80000     \n",
      "                                                                 \n",
      " flatten_1 (Flatten)         (None, 1600)              0         \n",
      "                                                                 \n",
      " dense_17 (Dense)            (None, 1)                 1601      \n",
      "                                                                 \n",
      "=================================================================\n",
      "Total params: 81,601\n",
      "Trainable params: 81,601\n",
      "Non-trainable params: 0\n",
      "_________________________________________________________________\n",
      "Epoch 1/10\n",
      "625/625 [==============================] - 2s 1ms/step - loss: 0.5891 - acc: 0.7027 - val_loss: 0.4036 - val_acc: 0.8482\n",
      "Epoch 2/10\n",
      "625/625 [==============================] - 1s 1ms/step - loss: 0.3106 - acc: 0.8787 - val_loss: 0.3013 - val_acc: 0.8774\n",
      "Epoch 3/10\n",
      "625/625 [==============================] - 1s 1ms/step - loss: 0.2352 - acc: 0.9093 - val_loss: 0.2902 - val_acc: 0.8832\n",
      "Epoch 4/10\n",
      "625/625 [==============================] - 1s 1ms/step - loss: 0.1982 - acc: 0.9234 - val_loss: 0.2825 - val_acc: 0.8830\n",
      "Epoch 5/10\n",
      "625/625 [==============================] - 1s 1ms/step - loss: 0.1721 - acc: 0.9351 - val_loss: 0.2828 - val_acc: 0.8886\n",
      "Epoch 6/10\n",
      "625/625 [==============================] - 1s 1ms/step - loss: 0.1515 - acc: 0.9443 - val_loss: 0.2951 - val_acc: 0.8816\n",
      "Epoch 7/10\n",
      "625/625 [==============================] - 1s 1ms/step - loss: 0.1344 - acc: 0.9514 - val_loss: 0.2973 - val_acc: 0.8846\n",
      "Epoch 8/10\n",
      "625/625 [==============================] - 1s 1ms/step - loss: 0.1175 - acc: 0.9596 - val_loss: 0.3057 - val_acc: 0.8856\n",
      "Epoch 9/10\n",
      "625/625 [==============================] - 1s 1ms/step - loss: 0.1032 - acc: 0.9653 - val_loss: 0.3189 - val_acc: 0.8800\n",
      "Epoch 10/10\n",
      "625/625 [==============================] - 1s 1ms/step - loss: 0.0885 - acc: 0.9714 - val_loss: 0.3343 - val_acc: 0.8766\n"
     ]
    }
   ],
   "source": [
    "model2 = Sequential()\n",
    "\n",
    "model2.add(Embedding(10000, 8, input_length=maxlen))\n",
    "model2.add(Flatten())\n",
    "model2.add(Dense(1, activation='sigmoid'))\n",
    "\n",
    "model2.compile(optimizer='rmsprop', loss='binary_crossentropy', metrics=['acc'])\n",
    "model2.summary()\n",
    "\n",
    "history2 = model2.fit(x_train_v2, y_train, epochs=10, batch_size=32, validation_split=0.2)"
   ]
  },
  {
   "cell_type": "markdown",
   "metadata": {
    "id": "S6jwpl2k1DqX"
   },
   "source": [
    "## plot the validation ress"
   ]
  },
  {
   "cell_type": "code",
   "execution_count": 23,
   "metadata": {
    "id": "Q_mxfxEC1DqY"
   },
   "outputs": [
    {
     "data": {
      "image/png": "[encoded data removed]",
      "text/plain": [
       "<Figure size 432x288 with 1 Axes>"
      ]
     },
     "metadata": {
      "needs_background": "light"
     },
     "output_type": "display_data"
    }
   ],
   "source": [
    "history_dict = history2.history\n",
    "\n",
    "loss_values = history_dict['loss']\n",
    "val_loss_values = history_dict['val_loss']\n",
    "\n",
    "epochs = range(1, len(loss_values) + 1)\n",
    "\n",
    "plt.plot(epochs, loss_values, 'bo', label='Training loss')\n",
    "plt.plot(epochs, val_loss_values, 'b', label='Validation loss')\n",
    "plt.title('Training and validation loss')\n",
    "plt.xlabel('Epochs')\n",
    "plt.ylabel('Loss')\n",
    "plt.legend()\n",
    "\n",
    "plt.show()"
   ]
  },
  {
   "cell_type": "code",
   "execution_count": 24,
   "metadata": {
    "id": "dM7azOKS1DqY"
   },
   "outputs": [
    {
     "data": {
      "image/png": "[encoded data removed]",
      "text/plain": [
       "<Figure size 432x288 with 1 Axes>"
      ]
     },
     "metadata": {
      "needs_background": "light"
     },
     "output_type": "display_data"
    }
   ],
   "source": [
    "history_dict = history2.history\n",
    "\n",
    "acc_values = history_dict['acc']\n",
    "val_acc_values = history_dict['val_acc']\n",
    "\n",
    "epochs = range(1, len(acc_values) + 1)\n",
    "\n",
    "plt.plot(epochs, acc_values, 'bo', label='Training acc')\n",
    "plt.plot(epochs, val_acc_values, 'b', label='Validation acc')\n",
    "plt.title('Training and validation accuracy')\n",
    "plt.xlabel('Epochs')\n",
    "plt.ylabel('Accuracy')\n",
    "plt.legend()\n",
    "\n",
    "plt.show()"
   ]
  },
  {
   "cell_type": "markdown",
   "metadata": {
    "id": "WAYoJShb1DqY"
   },
   "source": [
    "# imdb binary classification with RNNs"
   ]
  },
  {
   "cell_type": "code",
   "execution_count": 25,
   "metadata": {
    "id": "B9bWotiY1DqY"
   },
   "outputs": [
    {
     "name": "stdout",
     "output_type": "stream",
     "text": [
      "Epoch 1/5\n",
      "157/157 [==============================] - 11s 61ms/step - loss: 0.4693 - acc: 0.7781 - val_loss: 0.3363 - val_acc: 0.8658\n",
      "Epoch 2/5\n",
      "157/157 [==============================] - 9s 59ms/step - loss: 0.2763 - acc: 0.8900 - val_loss: 0.3317 - val_acc: 0.8736\n",
      "Epoch 3/5\n",
      "157/157 [==============================] - 9s 58ms/step - loss: 0.2275 - acc: 0.9133 - val_loss: 0.3347 - val_acc: 0.8796\n",
      "Epoch 4/5\n",
      "157/157 [==============================] - 9s 58ms/step - loss: 0.1953 - acc: 0.9276 - val_loss: 0.3311 - val_acc: 0.8804\n",
      "Epoch 5/5\n",
      "157/157 [==============================] - 9s 60ms/step - loss: 0.1724 - acc: 0.9391 - val_loss: 0.3609 - val_acc: 0.8666\n"
     ]
    }
   ],
   "source": [
    "# Training the model with Embedding and LSTM layers\n",
    "model3 = Sequential()\n",
    "\n",
    "model3.add(Embedding(max_features, 32))\n",
    "model3.add(LSTM(32))\n",
    "model3.add(Dense(1, activation='sigmoid'))\n",
    "\n",
    "model3.compile(optimizer='rmsprop', loss='binary_crossentropy', metrics=['acc']) \n",
    "\n",
    "history3 = model3.fit(x_train_v2, y_train,\n",
    "                    epochs=5,\n",
    "                    batch_size=128,\n",
    "                    validation_split=0.2)"
   ]
  },
  {
   "cell_type": "markdown",
   "metadata": {
    "id": "QjJTD7GH1DqY"
   },
   "source": [
    "## plot validation ress"
   ]
  },
  {
   "cell_type": "code",
   "execution_count": 26,
   "metadata": {
    "id": "HcHbH7en1DqZ"
   },
   "outputs": [
    {
     "data": {
      "image/png": "[encoded data removed]",
      "text/plain": [
       "<Figure size 432x288 with 1 Axes>"
      ]
     },
     "metadata": {
      "needs_background": "light"
     },
     "output_type": "display_data"
    },
    {
     "data": {
      "image/png": "[encoded data removed]",
      "text/plain": [
       "<Figure size 432x288 with 1 Axes>"
      ]
     },
     "metadata": {
      "needs_background": "light"
     },
     "output_type": "display_data"
    }
   ],
   "source": [
    "acc = history3.history['acc']\n",
    "val_acc = history3.history['val_acc']\n",
    "loss = history3.history['loss']\n",
    "val_loss = history3.history['val_loss']\n",
    "\n",
    "epochs = range(1, len(acc) + 1)\n",
    "\n",
    "plt.plot(epochs, acc, 'bo', label='Training acc')\n",
    "plt.plot(epochs, val_acc, 'b', label='Validation acc')\n",
    "plt.title('Training and validation accuracy')\n",
    "plt.legend()\n",
    "\n",
    "plt.figure()\n",
    "plt.plot(epochs, loss, 'bo', label='Training loss')\n",
    "plt.plot(epochs, val_loss, 'b', label='Validation loss')\n",
    "plt.title('Training and validation loss')\n",
    "plt.legend()\n",
    "\n",
    "plt.show()"
   ]
  },
  {
   "cell_type": "markdown",
   "metadata": {
    "id": "xAZai0j-1DqZ"
   },
   "source": [
    "## Exercise 2\n",
    "- replace LSTM layer and perform the validation experiments"
   ]
  },
  {
   "cell_type": "code",
   "execution_count": 27,
   "metadata": {
    "id": "duwLSfG31DqZ"
   },
   "outputs": [
    {
     "name": "stdout",
     "output_type": "stream",
     "text": [
      "Epoch 1/5\n",
      "157/157 [==============================] - 10s 57ms/step - loss: 0.5208 - acc: 0.7291 - val_loss: 0.3682 - val_acc: 0.8426\n",
      "Epoch 2/5\n",
      "157/157 [==============================] - 9s 55ms/step - loss: 0.3019 - acc: 0.8749 - val_loss: 0.3529 - val_acc: 0.8468\n",
      "Epoch 3/5\n",
      "157/157 [==============================] - 9s 55ms/step - loss: 0.2479 - acc: 0.9032 - val_loss: 0.3067 - val_acc: 0.8704\n",
      "Epoch 4/5\n",
      "157/157 [==============================] - 9s 55ms/step - loss: 0.2108 - acc: 0.9208 - val_loss: 0.3099 - val_acc: 0.8734\n",
      "Epoch 5/5\n",
      "157/157 [==============================] - 9s 55ms/step - loss: 0.1851 - acc: 0.9310 - val_loss: 0.3305 - val_acc: 0.8598\n"
     ]
    }
   ],
   "source": [
    "# Training the model with Embedding and GRU layers\n",
    "model3a = Sequential()\n",
    "\n",
    "model3a.add(Embedding(max_features, 32))\n",
    "model3a.add(GRU(32))\n",
    "model3a.add(Dense(1, activation='sigmoid'))\n",
    "\n",
    "model3a.compile(optimizer='rmsprop', loss='binary_crossentropy', metrics=['acc']) \n",
    "\n",
    "history3a = model3a.fit(x_train_v2, y_train,\n",
    "                    epochs=5,\n",
    "                    batch_size=128,\n",
    "                    validation_split=0.2)"
   ]
  },
  {
   "cell_type": "code",
   "execution_count": 28,
   "metadata": {
    "id": "5Aij4hrS1DqZ"
   },
   "outputs": [
    {
     "data": {
      "image/png": "[encoded data removed]",
      "text/plain": [
       "<Figure size 432x288 with 1 Axes>"
      ]
     },
     "metadata": {
      "needs_background": "light"
     },
     "output_type": "display_data"
    },
    {
     "data": {
      "image/png": "[encoded data removed]",
      "text/plain": [
       "<Figure size 432x288 with 1 Axes>"
      ]
     },
     "metadata": {
      "needs_background": "light"
     },
     "output_type": "display_data"
    }
   ],
   "source": [
    "acc = history3a.history['acc']\n",
    "val_acc = history3a.history['val_acc']\n",
    "loss = history3a.history['loss']\n",
    "val_loss = history3a.history['val_loss']\n",
    "\n",
    "epochs = range(1, len(acc) + 1)\n",
    "\n",
    "plt.plot(epochs, acc, 'bo', label='Training acc')\n",
    "plt.plot(epochs, val_acc, 'b', label='Validation acc')\n",
    "plt.title('Training and validation accuracy')\n",
    "plt.legend()\n",
    "\n",
    "plt.figure()\n",
    "plt.plot(epochs, loss, 'bo', label='Training loss')\n",
    "plt.plot(epochs, val_loss, 'b', label='Validation loss')\n",
    "plt.title('Training and validation loss')\n",
    "plt.legend()\n",
    "\n",
    "plt.show()"
   ]
  },
  {
   "cell_type": "code",
   "execution_count": 29,
   "metadata": {
    "id": "snM3sWO91Dqa"
   },
   "outputs": [
    {
     "name": "stdout",
     "output_type": "stream",
     "text": [
      "Epoch 1/5\n",
      "157/157 [==============================] - 12s 65ms/step - loss: 0.5104 - acc: 0.7593 - val_loss: 0.4375 - val_acc: 0.7968\n",
      "Epoch 2/5\n",
      "157/157 [==============================] - 10s 61ms/step - loss: 0.2885 - acc: 0.8887 - val_loss: 0.2980 - val_acc: 0.8796\n",
      "Epoch 3/5\n",
      "157/157 [==============================] - 9s 59ms/step - loss: 0.2285 - acc: 0.9145 - val_loss: 0.4085 - val_acc: 0.8572\n",
      "Epoch 4/5\n",
      "157/157 [==============================] - 10s 63ms/step - loss: 0.1999 - acc: 0.9248 - val_loss: 0.3697 - val_acc: 0.8736\n",
      "Epoch 5/5\n",
      "157/157 [==============================] - 10s 66ms/step - loss: 0.1744 - acc: 0.9378 - val_loss: 0.3084 - val_acc: 0.8670\n"
     ]
    }
   ],
   "source": [
    "# Training the model with Embedding and LSTM layers\n",
    "model3a = Sequential()\n",
    "\n",
    "model3a.add(Embedding(max_features, 32))\n",
    "model3a.add(LSTM(32))\n",
    "model3a.add(Dense(1, activation='sigmoid'))\n",
    "\n",
    "model3a.compile(optimizer='rmsprop', loss='binary_crossentropy', metrics=['acc']) \n",
    "\n",
    "history3a = model3a.fit(x_train_v2, y_train,\n",
    "                    epochs=5,\n",
    "                    batch_size=128,\n",
    "                    validation_split=0.2)"
   ]
  },
  {
   "cell_type": "code",
   "execution_count": 30,
   "metadata": {
    "id": "sI6JoEsgREuG"
   },
   "outputs": [
    {
     "data": {
      "image/png": "[encoded data removed]",
      "text/plain": [
       "<Figure size 432x288 with 1 Axes>"
      ]
     },
     "metadata": {
      "needs_background": "light"
     },
     "output_type": "display_data"
    },
    {
     "data": {
      "image/png": "[encoded data removed]",
      "text/plain": [
       "<Figure size 432x288 with 1 Axes>"
      ]
     },
     "metadata": {
      "needs_background": "light"
     },
     "output_type": "display_data"
    }
   ],
   "source": [
    "acc = history3a.history['acc']\n",
    "val_acc = history3a.history['val_acc']\n",
    "loss = history3a.history['loss']\n",
    "val_loss = history3a.history['val_loss']\n",
    "\n",
    "epochs = range(1, len(acc) + 1)\n",
    "\n",
    "plt.plot(epochs, acc, 'bo', label='Training acc')\n",
    "plt.plot(epochs, val_acc, 'b', label='Validation acc')\n",
    "plt.title('Training and validation accuracy')\n",
    "plt.legend()\n",
    "\n",
    "plt.figure()\n",
    "plt.plot(epochs, loss, 'bo', label='Training loss')\n",
    "plt.plot(epochs, val_loss, 'b', label='Validation loss')\n",
    "plt.title('Training and validation loss')\n",
    "plt.legend()\n",
    "\n",
    "plt.show()"
   ]
  },
  {
   "cell_type": "code",
   "execution_count": null,
   "metadata": {},
   "outputs": [],
   "source": []
  }
 ],
 "metadata": {
  "colab": {
   "provenance": []
  },
  "kernelspec": {
   "display_name": "Python 3 (ipykernel)",
   "language": "python",
   "name": "python3"
  },
  "language_info": {
   "codemirror_mode": {
    "name": "ipython",
    "version": 3
   },
   "file_extension": ".py",
   "mimetype": "text/x-python",
   "name": "python",
   "nbconvert_exporter": "python",
   "pygments_lexer": "ipython3",
   "version": "3.8.12"
  },
  "latex_envs": {
   "LaTeX_envs_menu_present": true,
   "autoclose": false,
   "autocomplete": true,
   "bibliofile": "biblio.bib",
   "cite_by": "apalike",
   "current_citInitial": 1,
   "eqLabelWithNumbers": true,
   "eqNumInitial": 1,
   "hotkeys": {
    "equation": "Ctrl-E",
    "itemize": "Ctrl-I"
   },
   "labels_anchors": false,
   "latex_user_defs": false,
   "report_style_numbering": false,
   "user_envs_cfg": false
  },
  "toc": {
   "base_numbering": 1,
   "nav_menu": {},
   "number_sections": true,
   "sideBar": true,
   "skip_h1_title": false,
   "title_cell": "Table of Contents",
   "title_sidebar": "Contents",
   "toc_cell": false,
   "toc_position": {},
   "toc_section_display": true,
   "toc_window_display": true
  }
 },
 "nbformat": 4,
 "nbformat_minor": 1
}
