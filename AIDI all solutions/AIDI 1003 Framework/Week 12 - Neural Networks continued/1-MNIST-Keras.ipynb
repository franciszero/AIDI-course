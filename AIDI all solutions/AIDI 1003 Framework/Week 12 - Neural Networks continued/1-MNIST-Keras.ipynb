{
 "cells": [
  {
   "cell_type": "markdown",
   "metadata": {},
   "source": [
    "# MNIST - Keras"
   ]
  },
  {
   "cell_type": "markdown",
   "metadata": {},
   "source": [
    "Build a shallow neural network to classify handwritten digits"
   ]
  },
  {
   "cell_type": "markdown",
   "metadata": {},
   "source": [
    "#### Load dependencies"
   ]
  },
  {
   "cell_type": "code",
   "execution_count": 1,
   "metadata": {
    "scrolled": true
   },
   "outputs": [],
   "source": [
    "import tensorflow\n",
    "from tensorflow.keras.datasets import mnist\n",
    "from tensorflow.keras.utils import to_categorical\n",
    "from tensorflow.keras.models import Sequential\n",
    "from tensorflow.keras.layers import Dense\n",
    "from tensorflow.keras.optimizers import SGD\n",
    "from matplotlib import pyplot as plt"
   ]
  },
  {
   "cell_type": "markdown",
   "metadata": {},
   "source": [
    "#### Load data"
   ]
  },
  {
   "cell_type": "code",
   "execution_count": 2,
   "metadata": {
    "scrolled": true
   },
   "outputs": [
    {
     "name": "stdout",
     "output_type": "stream",
     "text": [
      "Downloading data from https://storage.googleapis.com/tensorflow/tf-keras-datasets/mnist.npz\n",
      "11493376/11490434 [==============================] - 1s 0us/step\n"
     ]
    }
   ],
   "source": [
    "(X_train, y_train), (X_valid, y_valid) = mnist.load_data()"
   ]
  },
  {
   "cell_type": "code",
   "execution_count": 3,
   "metadata": {},
   "outputs": [
    {
     "data": {
      "text/plain": [
       "(60000, 28, 28)"
      ]
     },
     "execution_count": 3,
     "metadata": {},
     "output_type": "execute_result"
    }
   ],
   "source": [
    "X_train.shape"
   ]
  },
  {
   "cell_type": "code",
   "execution_count": 4,
   "metadata": {},
   "outputs": [
    {
     "data": {
      "text/plain": [
       "(60000,)"
      ]
     },
     "execution_count": 4,
     "metadata": {},
     "output_type": "execute_result"
    }
   ],
   "source": [
    "y_train.shape"
   ]
  },
  {
   "cell_type": "code",
   "execution_count": 5,
   "metadata": {},
   "outputs": [
    {
     "data": {
      "text/plain": [
       "array([5, 0, 4, 1, 9, 2, 1, 3, 1, 4, 3, 5], dtype=uint8)"
      ]
     },
     "execution_count": 5,
     "metadata": {},
     "output_type": "execute_result"
    }
   ],
   "source": [
    "y_train[0:12]"
   ]
  },
  {
   "cell_type": "code",
   "execution_count": 6,
   "metadata": {},
   "outputs": [
    {
     "data": {
      "image/png": "[encoded data removed]",
      "text/plain": [
       "<Figure size 360x360 with 12 Axes>"
      ]
     },
     "metadata": {
      "needs_background": "light"
     },
     "output_type": "display_data"
    }
   ],
   "source": [
    "plt.figure(figsize=(5,5))\n",
    "for k in range(12):\n",
    "    plt.subplot(3, 4, k+1)\n",
    "    plt.imshow(X_train[k], cmap='Greys')\n",
    "    plt.axis('off')\n",
    "plt.tight_layout()\n",
    "plt.show()"
   ]
  },
  {
   "cell_type": "code",
   "execution_count": 7,
   "metadata": {},
   "outputs": [
    {
     "data": {
      "text/plain": [
       "(10000, 28, 28)"
      ]
     },
     "execution_count": 7,
     "metadata": {},
     "output_type": "execute_result"
    }
   ],
   "source": [
    "X_valid.shape"
   ]
  },
  {
   "cell_type": "code",
   "execution_count": 8,
   "metadata": {},
   "outputs": [
    {
     "data": {
      "text/plain": [
       "(10000,)"
      ]
     },
     "execution_count": 8,
     "metadata": {},
     "output_type": "execute_result"
    }
   ],
   "source": [
    "y_valid.shape"
   ]
  },
  {
   "cell_type": "code",
   "execution_count": 9,
   "metadata": {},
   "outputs": [
    {
     "data": {
      "text/plain": [
       "<matplotlib.image.AxesImage at 0x249a18d9f98>"
      ]
     },
     "execution_count": 9,
     "metadata": {},
     "output_type": "execute_result"
    },
    {
     "data": {
      "image/png": "[encoded data removed]",
      "text/plain": [
       "<Figure size 432x288 with 1 Axes>"
      ]
     },
     "metadata": {
      "needs_background": "light"
     },
     "output_type": "display_data"
    }
   ],
   "source": [
    "plt.imshow(X_valid[0], cmap='Greys')"
   ]
  },
  {
   "cell_type": "code",
   "execution_count": 10,
   "metadata": {},
   "outputs": [
    {
     "data": {
      "text/plain": [
       "array([[  0,   0,   0,   0,   0,   0,   0,   0,   0,   0,   0,   0,   0,\n",
       "          0,   0,   0,   0,   0,   0,   0,   0,   0,   0,   0,   0,   0,\n",
       "          0,   0],\n",
       "       [  0,   0,   0,   0,   0,   0,   0,   0,   0,   0,   0,   0,   0,\n",
       "          0,   0,   0,   0,   0,   0,   0,   0,   0,   0,   0,   0,   0,\n",
       "          0,   0],\n",
       "       [  0,   0,   0,   0,   0,   0,   0,   0,   0,   0,   0,   0,   0,\n",
       "          0,   0,   0,   0,   0,   0,   0,   0,   0,   0,   0,   0,   0,\n",
       "          0,   0],\n",
       "       [  0,   0,   0,   0,   0,   0,   0,   0,   0,   0,   0,   0,   0,\n",
       "          0,   0,   0,   0,   0,   0,   0,   0,   0,   0,   0,   0,   0,\n",
       "          0,   0],\n",
       "       [  0,   0,   0,   0,   0,   0,   0,   0,   0,   0,   0,   0,   0,\n",
       "          0,   0,   0,   0,   0,   0,   0,   0,   0,   0,   0,   0,   0,\n",
       "          0,   0],\n",
       "       [  0,   0,   0,   0,   0,   0,   0,   0,   0,   0,   0,   0,   0,\n",
       "          0,   0,   0,   0,   0,   0,   0,   0,   0,   0,   0,   0,   0,\n",
       "          0,   0],\n",
       "       [  0,   0,   0,   0,   0,   0,   0,   0,   0,   0,   0,   0,   0,\n",
       "          0,   0,   0,   0,   0,   0,   0,   0,   0,   0,   0,   0,   0,\n",
       "          0,   0],\n",
       "       [  0,   0,   0,   0,   0,   0,  84, 185, 159, 151,  60,  36,   0,\n",
       "          0,   0,   0,   0,   0,   0,   0,   0,   0,   0,   0,   0,   0,\n",
       "          0,   0],\n",
       "       [  0,   0,   0,   0,   0,   0, 222, 254, 254, 254, 254, 241, 198,\n",
       "        198, 198, 198, 198, 198, 198, 198, 170,  52,   0,   0,   0,   0,\n",
       "          0,   0],\n",
       "       [  0,   0,   0,   0,   0,   0,  67, 114,  72, 114, 163, 227, 254,\n",
       "        225, 254, 254, 254, 250, 229, 254, 254, 140,   0,   0,   0,   0,\n",
       "          0,   0],\n",
       "       [  0,   0,   0,   0,   0,   0,   0,   0,   0,   0,   0,  17,  66,\n",
       "         14,  67,  67,  67,  59,  21, 236, 254, 106,   0,   0,   0,   0,\n",
       "          0,   0],\n",
       "       [  0,   0,   0,   0,   0,   0,   0,   0,   0,   0,   0,   0,   0,\n",
       "          0,   0,   0,   0,   0,  83, 253, 209,  18,   0,   0,   0,   0,\n",
       "          0,   0],\n",
       "       [  0,   0,   0,   0,   0,   0,   0,   0,   0,   0,   0,   0,   0,\n",
       "          0,   0,   0,   0,  22, 233, 255,  83,   0,   0,   0,   0,   0,\n",
       "          0,   0],\n",
       "       [  0,   0,   0,   0,   0,   0,   0,   0,   0,   0,   0,   0,   0,\n",
       "          0,   0,   0,   0, 129, 254, 238,  44,   0,   0,   0,   0,   0,\n",
       "          0,   0],\n",
       "       [  0,   0,   0,   0,   0,   0,   0,   0,   0,   0,   0,   0,   0,\n",
       "          0,   0,   0,  59, 249, 254,  62,   0,   0,   0,   0,   0,   0,\n",
       "          0,   0],\n",
       "       [  0,   0,   0,   0,   0,   0,   0,   0,   0,   0,   0,   0,   0,\n",
       "          0,   0,   0, 133, 254, 187,   5,   0,   0,   0,   0,   0,   0,\n",
       "          0,   0],\n",
       "       [  0,   0,   0,   0,   0,   0,   0,   0,   0,   0,   0,   0,   0,\n",
       "          0,   0,   9, 205, 248,  58,   0,   0,   0,   0,   0,   0,   0,\n",
       "          0,   0],\n",
       "       [  0,   0,   0,   0,   0,   0,   0,   0,   0,   0,   0,   0,   0,\n",
       "          0,   0, 126, 254, 182,   0,   0,   0,   0,   0,   0,   0,   0,\n",
       "          0,   0],\n",
       "       [  0,   0,   0,   0,   0,   0,   0,   0,   0,   0,   0,   0,   0,\n",
       "          0,  75, 251, 240,  57,   0,   0,   0,   0,   0,   0,   0,   0,\n",
       "          0,   0],\n",
       "       [  0,   0,   0,   0,   0,   0,   0,   0,   0,   0,   0,   0,   0,\n",
       "         19, 221, 254, 166,   0,   0,   0,   0,   0,   0,   0,   0,   0,\n",
       "          0,   0],\n",
       "       [  0,   0,   0,   0,   0,   0,   0,   0,   0,   0,   0,   0,   3,\n",
       "        203, 254, 219,  35,   0,   0,   0,   0,   0,   0,   0,   0,   0,\n",
       "          0,   0],\n",
       "       [  0,   0,   0,   0,   0,   0,   0,   0,   0,   0,   0,   0,  38,\n",
       "        254, 254,  77,   0,   0,   0,   0,   0,   0,   0,   0,   0,   0,\n",
       "          0,   0],\n",
       "       [  0,   0,   0,   0,   0,   0,   0,   0,   0,   0,   0,  31, 224,\n",
       "        254, 115,   1,   0,   0,   0,   0,   0,   0,   0,   0,   0,   0,\n",
       "          0,   0],\n",
       "       [  0,   0,   0,   0,   0,   0,   0,   0,   0,   0,   0, 133, 254,\n",
       "        254,  52,   0,   0,   0,   0,   0,   0,   0,   0,   0,   0,   0,\n",
       "          0,   0],\n",
       "       [  0,   0,   0,   0,   0,   0,   0,   0,   0,   0,  61, 242, 254,\n",
       "        254,  52,   0,   0,   0,   0,   0,   0,   0,   0,   0,   0,   0,\n",
       "          0,   0],\n",
       "       [  0,   0,   0,   0,   0,   0,   0,   0,   0,   0, 121, 254, 254,\n",
       "        219,  40,   0,   0,   0,   0,   0,   0,   0,   0,   0,   0,   0,\n",
       "          0,   0],\n",
       "       [  0,   0,   0,   0,   0,   0,   0,   0,   0,   0, 121, 254, 207,\n",
       "         18,   0,   0,   0,   0,   0,   0,   0,   0,   0,   0,   0,   0,\n",
       "          0,   0],\n",
       "       [  0,   0,   0,   0,   0,   0,   0,   0,   0,   0,   0,   0,   0,\n",
       "          0,   0,   0,   0,   0,   0,   0,   0,   0,   0,   0,   0,   0,\n",
       "          0,   0]], dtype=uint8)"
      ]
     },
     "execution_count": 10,
     "metadata": {},
     "output_type": "execute_result"
    }
   ],
   "source": [
    "X_valid[0]"
   ]
  },
  {
   "cell_type": "code",
   "execution_count": 11,
   "metadata": {},
   "outputs": [
    {
     "data": {
      "text/plain": [
       "7"
      ]
     },
     "execution_count": 11,
     "metadata": {},
     "output_type": "execute_result"
    }
   ],
   "source": [
    "y_valid[0]"
   ]
  },
  {
   "cell_type": "markdown",
   "metadata": {},
   "source": [
    "#### Preprocess data"
   ]
  },
  {
   "cell_type": "code",
   "execution_count": 12,
   "metadata": {},
   "outputs": [],
   "source": [
    "X_train = X_train.reshape(60000, 784).astype('float32')\n",
    "X_valid = X_valid.reshape(10000, 784).astype('float32')"
   ]
  },
  {
   "cell_type": "code",
   "execution_count": 13,
   "metadata": {},
   "outputs": [],
   "source": [
    "X_train /= 255\n",
    "X_valid /= 255"
   ]
  },
  {
   "cell_type": "code",
   "execution_count": 14,
   "metadata": {},
   "outputs": [
    {
     "data": {
      "text/plain": [
       "array([0.        , 0.        , 0.        , 0.        , 0.        ,\n",
       "       0.        , 0.        , 0.        , 0.        , 0.        ,\n",
       "       0.        , 0.        , 0.        , 0.        , 0.        ,\n",
       "       0.        , 0.        , 0.        , 0.        , 0.        ,\n",
       "       0.        , 0.        , 0.        , 0.        , 0.        ,\n",
       "       0.        , 0.        , 0.        , 0.        , 0.        ,\n",
       "       0.        , 0.        , 0.        , 0.        , 0.        ,\n",
       "       0.        , 0.        , 0.        , 0.        , 0.        ,\n",
       "       0.        , 0.        , 0.        , 0.        , 0.        ,\n",
       "       0.        , 0.        , 0.        , 0.        , 0.        ,\n",
       "       0.        , 0.        , 0.        , 0.        , 0.        ,\n",
       "       0.        , 0.        , 0.        , 0.        , 0.        ,\n",
       "       0.        , 0.        , 0.        , 0.        , 0.        ,\n",
       "       0.        , 0.        , 0.        , 0.        , 0.        ,\n",
       "       0.        , 0.        , 0.        , 0.        , 0.        ,\n",
       "       0.        , 0.        , 0.        , 0.        , 0.        ,\n",
       "       0.        , 0.        , 0.        , 0.        , 0.        ,\n",
       "       0.        , 0.        , 0.        , 0.        , 0.        ,\n",
       "       0.        , 0.        , 0.        , 0.        , 0.        ,\n",
       "       0.        , 0.        , 0.        , 0.        , 0.        ,\n",
       "       0.        , 0.        , 0.        , 0.        , 0.        ,\n",
       "       0.        , 0.        , 0.        , 0.        , 0.        ,\n",
       "       0.        , 0.        , 0.        , 0.        , 0.        ,\n",
       "       0.        , 0.        , 0.        , 0.        , 0.        ,\n",
       "       0.        , 0.        , 0.        , 0.        , 0.        ,\n",
       "       0.        , 0.        , 0.        , 0.        , 0.        ,\n",
       "       0.        , 0.        , 0.        , 0.        , 0.        ,\n",
       "       0.        , 0.        , 0.        , 0.        , 0.        ,\n",
       "       0.        , 0.        , 0.        , 0.        , 0.        ,\n",
       "       0.        , 0.        , 0.        , 0.        , 0.        ,\n",
       "       0.        , 0.        , 0.        , 0.        , 0.        ,\n",
       "       0.        , 0.        , 0.        , 0.        , 0.        ,\n",
       "       0.        , 0.        , 0.        , 0.        , 0.        ,\n",
       "       0.        , 0.        , 0.        , 0.        , 0.        ,\n",
       "       0.        , 0.        , 0.        , 0.        , 0.        ,\n",
       "       0.        , 0.        , 0.        , 0.        , 0.        ,\n",
       "       0.        , 0.        , 0.        , 0.        , 0.        ,\n",
       "       0.        , 0.        , 0.        , 0.        , 0.        ,\n",
       "       0.        , 0.        , 0.        , 0.        , 0.        ,\n",
       "       0.        , 0.        , 0.        , 0.        , 0.        ,\n",
       "       0.        , 0.        , 0.32941177, 0.7254902 , 0.62352943,\n",
       "       0.5921569 , 0.23529412, 0.14117648, 0.        , 0.        ,\n",
       "       0.        , 0.        , 0.        , 0.        , 0.        ,\n",
       "       0.        , 0.        , 0.        , 0.        , 0.        ,\n",
       "       0.        , 0.        , 0.        , 0.        , 0.        ,\n",
       "       0.        , 0.        , 0.        , 0.        , 0.        ,\n",
       "       0.87058824, 0.99607843, 0.99607843, 0.99607843, 0.99607843,\n",
       "       0.94509804, 0.7764706 , 0.7764706 , 0.7764706 , 0.7764706 ,\n",
       "       0.7764706 , 0.7764706 , 0.7764706 , 0.7764706 , 0.6666667 ,\n",
       "       0.20392157, 0.        , 0.        , 0.        , 0.        ,\n",
       "       0.        , 0.        , 0.        , 0.        , 0.        ,\n",
       "       0.        , 0.        , 0.        , 0.2627451 , 0.44705883,\n",
       "       0.28235295, 0.44705883, 0.6392157 , 0.8901961 , 0.99607843,\n",
       "       0.88235295, 0.99607843, 0.99607843, 0.99607843, 0.98039216,\n",
       "       0.8980392 , 0.99607843, 0.99607843, 0.54901963, 0.        ,\n",
       "       0.        , 0.        , 0.        , 0.        , 0.        ,\n",
       "       0.        , 0.        , 0.        , 0.        , 0.        ,\n",
       "       0.        , 0.        , 0.        , 0.        , 0.        ,\n",
       "       0.        , 0.06666667, 0.25882354, 0.05490196, 0.2627451 ,\n",
       "       0.2627451 , 0.2627451 , 0.23137255, 0.08235294, 0.9254902 ,\n",
       "       0.99607843, 0.41568628, 0.        , 0.        , 0.        ,\n",
       "       0.        , 0.        , 0.        , 0.        , 0.        ,\n",
       "       0.        , 0.        , 0.        , 0.        , 0.        ,\n",
       "       0.        , 0.        , 0.        , 0.        , 0.        ,\n",
       "       0.        , 0.        , 0.        , 0.        , 0.        ,\n",
       "       0.        , 0.3254902 , 0.99215686, 0.81960785, 0.07058824,\n",
       "       0.        , 0.        , 0.        , 0.        , 0.        ,\n",
       "       0.        , 0.        , 0.        , 0.        , 0.        ,\n",
       "       0.        , 0.        , 0.        , 0.        , 0.        ,\n",
       "       0.        , 0.        , 0.        , 0.        , 0.        ,\n",
       "       0.        , 0.        , 0.        , 0.08627451, 0.9137255 ,\n",
       "       1.        , 0.3254902 , 0.        , 0.        , 0.        ,\n",
       "       0.        , 0.        , 0.        , 0.        , 0.        ,\n",
       "       0.        , 0.        , 0.        , 0.        , 0.        ,\n",
       "       0.        , 0.        , 0.        , 0.        , 0.        ,\n",
       "       0.        , 0.        , 0.        , 0.        , 0.        ,\n",
       "       0.        , 0.5058824 , 0.99607843, 0.93333334, 0.17254902,\n",
       "       0.        , 0.        , 0.        , 0.        , 0.        ,\n",
       "       0.        , 0.        , 0.        , 0.        , 0.        ,\n",
       "       0.        , 0.        , 0.        , 0.        , 0.        ,\n",
       "       0.        , 0.        , 0.        , 0.        , 0.        ,\n",
       "       0.        , 0.        , 0.        , 0.23137255, 0.9764706 ,\n",
       "       0.99607843, 0.24313726, 0.        , 0.        , 0.        ,\n",
       "       0.        , 0.        , 0.        , 0.        , 0.        ,\n",
       "       0.        , 0.        , 0.        , 0.        , 0.        ,\n",
       "       0.        , 0.        , 0.        , 0.        , 0.        ,\n",
       "       0.        , 0.        , 0.        , 0.        , 0.        ,\n",
       "       0.        , 0.52156866, 0.99607843, 0.73333335, 0.01960784,\n",
       "       0.        , 0.        , 0.        , 0.        , 0.        ,\n",
       "       0.        , 0.        , 0.        , 0.        , 0.        ,\n",
       "       0.        , 0.        , 0.        , 0.        , 0.        ,\n",
       "       0.        , 0.        , 0.        , 0.        , 0.        ,\n",
       "       0.        , 0.        , 0.        , 0.03529412, 0.8039216 ,\n",
       "       0.972549  , 0.22745098, 0.        , 0.        , 0.        ,\n",
       "       0.        , 0.        , 0.        , 0.        , 0.        ,\n",
       "       0.        , 0.        , 0.        , 0.        , 0.        ,\n",
       "       0.        , 0.        , 0.        , 0.        , 0.        ,\n",
       "       0.        , 0.        , 0.        , 0.        , 0.        ,\n",
       "       0.        , 0.49411765, 0.99607843, 0.7137255 , 0.        ,\n",
       "       0.        , 0.        , 0.        , 0.        , 0.        ,\n",
       "       0.        , 0.        , 0.        , 0.        , 0.        ,\n",
       "       0.        , 0.        , 0.        , 0.        , 0.        ,\n",
       "       0.        , 0.        , 0.        , 0.        , 0.        ,\n",
       "       0.        , 0.        , 0.        , 0.29411766, 0.9843137 ,\n",
       "       0.9411765 , 0.22352941, 0.        , 0.        , 0.        ,\n",
       "       0.        , 0.        , 0.        , 0.        , 0.        ,\n",
       "       0.        , 0.        , 0.        , 0.        , 0.        ,\n",
       "       0.        , 0.        , 0.        , 0.        , 0.        ,\n",
       "       0.        , 0.        , 0.        , 0.        , 0.        ,\n",
       "       0.07450981, 0.8666667 , 0.99607843, 0.6509804 , 0.        ,\n",
       "       0.        , 0.        , 0.        , 0.        , 0.        ,\n",
       "       0.        , 0.        , 0.        , 0.        , 0.        ,\n",
       "       0.        , 0.        , 0.        , 0.        , 0.        ,\n",
       "       0.        , 0.        , 0.        , 0.        , 0.        ,\n",
       "       0.        , 0.        , 0.01176471, 0.79607844, 0.99607843,\n",
       "       0.85882354, 0.13725491, 0.        , 0.        , 0.        ,\n",
       "       0.        , 0.        , 0.        , 0.        , 0.        ,\n",
       "       0.        , 0.        , 0.        , 0.        , 0.        ,\n",
       "       0.        , 0.        , 0.        , 0.        , 0.        ,\n",
       "       0.        , 0.        , 0.        , 0.        , 0.        ,\n",
       "       0.14901961, 0.99607843, 0.99607843, 0.3019608 , 0.        ,\n",
       "       0.        , 0.        , 0.        , 0.        , 0.        ,\n",
       "       0.        , 0.        , 0.        , 0.        , 0.        ,\n",
       "       0.        , 0.        , 0.        , 0.        , 0.        ,\n",
       "       0.        , 0.        , 0.        , 0.        , 0.        ,\n",
       "       0.        , 0.        , 0.12156863, 0.8784314 , 0.99607843,\n",
       "       0.4509804 , 0.00392157, 0.        , 0.        , 0.        ,\n",
       "       0.        , 0.        , 0.        , 0.        , 0.        ,\n",
       "       0.        , 0.        , 0.        , 0.        , 0.        ,\n",
       "       0.        , 0.        , 0.        , 0.        , 0.        ,\n",
       "       0.        , 0.        , 0.        , 0.        , 0.        ,\n",
       "       0.52156866, 0.99607843, 0.99607843, 0.20392157, 0.        ,\n",
       "       0.        , 0.        , 0.        , 0.        , 0.        ,\n",
       "       0.        , 0.        , 0.        , 0.        , 0.        ,\n",
       "       0.        , 0.        , 0.        , 0.        , 0.        ,\n",
       "       0.        , 0.        , 0.        , 0.        , 0.        ,\n",
       "       0.        , 0.        , 0.23921569, 0.9490196 , 0.99607843,\n",
       "       0.99607843, 0.20392157, 0.        , 0.        , 0.        ,\n",
       "       0.        , 0.        , 0.        , 0.        , 0.        ,\n",
       "       0.        , 0.        , 0.        , 0.        , 0.        ,\n",
       "       0.        , 0.        , 0.        , 0.        , 0.        ,\n",
       "       0.        , 0.        , 0.        , 0.        , 0.        ,\n",
       "       0.4745098 , 0.99607843, 0.99607843, 0.85882354, 0.15686275,\n",
       "       0.        , 0.        , 0.        , 0.        , 0.        ,\n",
       "       0.        , 0.        , 0.        , 0.        , 0.        ,\n",
       "       0.        , 0.        , 0.        , 0.        , 0.        ,\n",
       "       0.        , 0.        , 0.        , 0.        , 0.        ,\n",
       "       0.        , 0.        , 0.        , 0.4745098 , 0.99607843,\n",
       "       0.8117647 , 0.07058824, 0.        , 0.        , 0.        ,\n",
       "       0.        , 0.        , 0.        , 0.        , 0.        ,\n",
       "       0.        , 0.        , 0.        , 0.        , 0.        ,\n",
       "       0.        , 0.        , 0.        , 0.        , 0.        ,\n",
       "       0.        , 0.        , 0.        , 0.        , 0.        ,\n",
       "       0.        , 0.        , 0.        , 0.        , 0.        ,\n",
       "       0.        , 0.        , 0.        , 0.        , 0.        ,\n",
       "       0.        , 0.        , 0.        , 0.        , 0.        ,\n",
       "       0.        , 0.        , 0.        , 0.        ], dtype=float32)"
      ]
     },
     "execution_count": 14,
     "metadata": {},
     "output_type": "execute_result"
    }
   ],
   "source": [
    "X_valid[0]"
   ]
  },
  {
   "cell_type": "code",
   "execution_count": 15,
   "metadata": {},
   "outputs": [],
   "source": [
    "n_classes = 10\n",
    "y_train = to_categorical(y_train, n_classes)\n",
    "y_valid = to_categorical(y_valid, n_classes)"
   ]
  },
  {
   "cell_type": "code",
   "execution_count": 16,
   "metadata": {},
   "outputs": [
    {
     "data": {
      "text/plain": [
       "array([0., 0., 0., 0., 0., 0., 0., 1., 0., 0.], dtype=float32)"
      ]
     },
     "execution_count": 16,
     "metadata": {},
     "output_type": "execute_result"
    }
   ],
   "source": [
    "y_valid[0]"
   ]
  },
  {
   "cell_type": "markdown",
   "metadata": {},
   "source": [
    "#### Design neural network architecture"
   ]
  },
  {
   "cell_type": "code",
   "execution_count": 17,
   "metadata": {},
   "outputs": [],
   "source": [
    "model = Sequential()\n",
    "model.add(Dense(64, activation='sigmoid', input_shape=(784,)))\n",
    "model.add(Dense(10, activation='softmax'))"
   ]
  },
  {
   "cell_type": "code",
   "execution_count": 18,
   "metadata": {},
   "outputs": [
    {
     "name": "stdout",
     "output_type": "stream",
     "text": [
      "Model: \"sequential\"\n",
      "_________________________________________________________________\n",
      "Layer (type)                 Output Shape              Param #   \n",
      "=================================================================\n",
      "dense (Dense)                (None, 64)                50240     \n",
      "_________________________________________________________________\n",
      "dense_1 (Dense)              (None, 10)                650       \n",
      "=================================================================\n",
      "Total params: 50,890\n",
      "Trainable params: 50,890\n",
      "Non-trainable params: 0\n",
      "_________________________________________________________________\n"
     ]
    }
   ],
   "source": [
    "model.summary()"
   ]
  },
  {
   "cell_type": "code",
   "execution_count": 19,
   "metadata": {},
   "outputs": [
    {
     "data": {
      "text/plain": [
       "50176"
      ]
     },
     "execution_count": 19,
     "metadata": {},
     "output_type": "execute_result"
    }
   ],
   "source": [
    "(64*784)"
   ]
  },
  {
   "cell_type": "code",
   "execution_count": 20,
   "metadata": {},
   "outputs": [
    {
     "data": {
      "text/plain": [
       "50240"
      ]
     },
     "execution_count": 20,
     "metadata": {},
     "output_type": "execute_result"
    }
   ],
   "source": [
    "(64*784)+64"
   ]
  },
  {
   "cell_type": "code",
   "execution_count": 21,
   "metadata": {},
   "outputs": [
    {
     "data": {
      "text/plain": [
       "650"
      ]
     },
     "execution_count": 21,
     "metadata": {},
     "output_type": "execute_result"
    }
   ],
   "source": [
    "(10*64)+10"
   ]
  },
  {
   "cell_type": "markdown",
   "metadata": {},
   "source": [
    "#### Configure model"
   ]
  },
  {
   "cell_type": "code",
   "execution_count": 22,
   "metadata": {},
   "outputs": [],
   "source": [
    "model.compile(loss='mean_squared_error', optimizer=SGD(lr=0.01), metrics=['accuracy'])"
   ]
  },
  {
   "cell_type": "markdown",
   "metadata": {},
   "source": [
    "#### Train!"
   ]
  },
  {
   "cell_type": "code",
   "execution_count": 23,
   "metadata": {},
   "outputs": [
    {
     "name": "stdout",
     "output_type": "stream",
     "text": [
      "Epoch 1/200\n",
      "469/469 [==============================] - 14s 15ms/step - loss: 0.0921 - accuracy: 0.1042 - val_loss: 0.0913 - val_accuracy: 0.0996\n",
      "Epoch 2/200\n",
      "469/469 [==============================] - 5s 11ms/step - loss: 0.0911 - accuracy: 0.1008 - val_loss: 0.0906 - val_accuracy: 0.0990\n",
      "Epoch 3/200\n",
      "469/469 [==============================] - 6s 12ms/step - loss: 0.0905 - accuracy: 0.1018 - val_loss: 0.0901 - val_accuracy: 0.1043\n",
      "Epoch 4/200\n",
      "469/469 [==============================] - 6s 12ms/step - loss: 0.0900 - accuracy: 0.1094 - val_loss: 0.0897 - val_accuracy: 0.1204\n",
      "Epoch 5/200\n",
      "469/469 [==============================] - 6s 12ms/step - loss: 0.0896 - accuracy: 0.1248 - val_loss: 0.0893 - val_accuracy: 0.1433\n",
      "Epoch 6/200\n",
      "469/469 [==============================] - 6s 12ms/step - loss: 0.0892 - accuracy: 0.1473 - val_loss: 0.0890 - val_accuracy: 0.1728\n",
      "Epoch 7/200\n",
      "469/469 [==============================] - 6s 12ms/step - loss: 0.0889 - accuracy: 0.1682 - val_loss: 0.0887 - val_accuracy: 0.1933\n",
      "Epoch 8/200\n",
      "469/469 [==============================] - 6s 12ms/step - loss: 0.0886 - accuracy: 0.1917 - val_loss: 0.0884 - val_accuracy: 0.2150\n",
      "Epoch 9/200\n",
      "469/469 [==============================] - 6s 12ms/step - loss: 0.0883 - accuracy: 0.2238 - val_loss: 0.0881 - val_accuracy: 0.2524\n",
      "Epoch 10/200\n",
      "469/469 [==============================] - 6s 12ms/step - loss: 0.0881 - accuracy: 0.2575 - val_loss: 0.0878 - val_accuracy: 0.2834\n",
      "Epoch 11/200\n",
      "469/469 [==============================] - 6s 12ms/step - loss: 0.0878 - accuracy: 0.2876 - val_loss: 0.0875 - val_accuracy: 0.3122\n",
      "Epoch 12/200\n",
      "469/469 [==============================] - 10s 22ms/step - loss: 0.0875 - accuracy: 0.3199 - val_loss: 0.0873 - val_accuracy: 0.3432\n",
      "Epoch 13/200\n",
      "469/469 [==============================] - 8s 18ms/step - loss: 0.0872 - accuracy: 0.3516 - val_loss: 0.0870 - val_accuracy: 0.3681\n",
      "Epoch 14/200\n",
      "469/469 [==============================] - 7s 16ms/step - loss: 0.0869 - accuracy: 0.3759 - val_loss: 0.0867 - val_accuracy: 0.3890\n",
      "Epoch 15/200\n",
      "469/469 [==============================] - 7s 15ms/step - loss: 0.0867 - accuracy: 0.3933 - val_loss: 0.0864 - val_accuracy: 0.4011\n",
      "Epoch 16/200\n",
      "469/469 [==============================] - 6s 12ms/step - loss: 0.0864 - accuracy: 0.4064 - val_loss: 0.0861 - val_accuracy: 0.4107\n",
      "Epoch 17/200\n",
      "469/469 [==============================] - 6s 13ms/step - loss: 0.0861 - accuracy: 0.4155 - val_loss: 0.0858 - val_accuracy: 0.4195\n",
      "Epoch 18/200\n",
      "469/469 [==============================] - 7s 15ms/step - loss: 0.0858 - accuracy: 0.4263 - val_loss: 0.0855 - val_accuracy: 0.4275\n",
      "Epoch 19/200\n",
      "469/469 [==============================] - 6s 13ms/step - loss: 0.0855 - accuracy: 0.4311 - val_loss: 0.0852 - val_accuracy: 0.4350\n",
      "Epoch 20/200\n",
      "469/469 [==============================] - 6s 14ms/step - loss: 0.0852 - accuracy: 0.4372 - val_loss: 0.0848 - val_accuracy: 0.4429\n",
      "Epoch 21/200\n",
      "469/469 [==============================] - 6s 12ms/step - loss: 0.0848 - accuracy: 0.4502 - val_loss: 0.0845 - val_accuracy: 0.4506\n",
      "Epoch 22/200\n",
      "469/469 [==============================] - 6s 13ms/step - loss: 0.0845 - accuracy: 0.4539 - val_loss: 0.0842 - val_accuracy: 0.4587\n",
      "Epoch 23/200\n",
      "469/469 [==============================] - 9s 18ms/step - loss: 0.0843 - accuracy: 0.4535 - val_loss: 0.0838 - val_accuracy: 0.4632\n",
      "Epoch 24/200\n",
      "469/469 [==============================] - 14s 30ms/step - loss: 0.0838 - accuracy: 0.4653 - val_loss: 0.0834 - val_accuracy: 0.4700\n",
      "Epoch 25/200\n",
      "469/469 [==============================] - 7s 15ms/step - loss: 0.0834 - accuracy: 0.4701 - val_loss: 0.0831 - val_accuracy: 0.4725\n",
      "Epoch 26/200\n",
      "469/469 [==============================] - 8s 17ms/step - loss: 0.0831 - accuracy: 0.4743 - val_loss: 0.0827 - val_accuracy: 0.4764\n",
      "Epoch 27/200\n",
      "469/469 [==============================] - 9s 20ms/step - loss: 0.0827 - accuracy: 0.4793 - val_loss: 0.0823 - val_accuracy: 0.4794\n",
      "Epoch 28/200\n",
      "469/469 [==============================] - 8s 17ms/step - loss: 0.0823 - accuracy: 0.4826 - val_loss: 0.0819 - val_accuracy: 0.4830\n",
      "Epoch 29/200\n",
      "469/469 [==============================] - 7s 15ms/step - loss: 0.0820 - accuracy: 0.4838 - val_loss: 0.0815 - val_accuracy: 0.4867\n",
      "Epoch 30/200\n",
      "469/469 [==============================] - 7s 15ms/step - loss: 0.0815 - accuracy: 0.4889 - val_loss: 0.0811 - val_accuracy: 0.4895\n",
      "Epoch 31/200\n",
      "469/469 [==============================] - 7s 16ms/step - loss: 0.0811 - accuracy: 0.4918 - val_loss: 0.0806 - val_accuracy: 0.4924\n",
      "Epoch 32/200\n",
      "469/469 [==============================] - 8s 18ms/step - loss: 0.0806 - accuracy: 0.4970 - val_loss: 0.0802 - val_accuracy: 0.4961\n",
      "Epoch 33/200\n",
      "469/469 [==============================] - 9s 20ms/step - loss: 0.0804 - accuracy: 0.4928 - val_loss: 0.0798 - val_accuracy: 0.4988\n",
      "Epoch 34/200\n",
      "469/469 [==============================] - 9s 19ms/step - loss: 0.0798 - accuracy: 0.4961 - val_loss: 0.0793 - val_accuracy: 0.5022\n",
      "Epoch 35/200\n",
      "469/469 [==============================] - 8s 17ms/step - loss: 0.0793 - accuracy: 0.5028 - val_loss: 0.0788 - val_accuracy: 0.5044\n",
      "Epoch 36/200\n",
      "469/469 [==============================] - 8s 16ms/step - loss: 0.0789 - accuracy: 0.5037 - val_loss: 0.0784 - val_accuracy: 0.5081\n",
      "Epoch 37/200\n",
      "469/469 [==============================] - 7s 15ms/step - loss: 0.0784 - accuracy: 0.5071 - val_loss: 0.0779 - val_accuracy: 0.5103\n",
      "Epoch 38/200\n",
      "469/469 [==============================] - 7s 15ms/step - loss: 0.0778 - accuracy: 0.5103 - val_loss: 0.0774 - val_accuracy: 0.5126\n",
      "Epoch 39/200\n",
      "469/469 [==============================] - 7s 14ms/step - loss: 0.0774 - accuracy: 0.5097 - val_loss: 0.0769 - val_accuracy: 0.5155\n",
      "Epoch 40/200\n",
      "469/469 [==============================] - 8s 17ms/step - loss: 0.0769 - accuracy: 0.5110 - val_loss: 0.0764 - val_accuracy: 0.5174\n",
      "Epoch 41/200\n",
      "469/469 [==============================] - 8s 16ms/step - loss: 0.0764 - accuracy: 0.5125 - val_loss: 0.0758 - val_accuracy: 0.5210\n",
      "Epoch 42/200\n",
      "469/469 [==============================] - 7s 14ms/step - loss: 0.0759 - accuracy: 0.5193 - val_loss: 0.0753 - val_accuracy: 0.5227\n",
      "Epoch 43/200\n",
      "469/469 [==============================] - 7s 15ms/step - loss: 0.0754 - accuracy: 0.5153 - val_loss: 0.0748 - val_accuracy: 0.5237\n",
      "Epoch 44/200\n",
      "469/469 [==============================] - 7s 14ms/step - loss: 0.0748 - accuracy: 0.5201 - val_loss: 0.0742 - val_accuracy: 0.5261\n",
      "Epoch 45/200\n",
      "469/469 [==============================] - 7s 15ms/step - loss: 0.0744 - accuracy: 0.5238 - val_loss: 0.0737 - val_accuracy: 0.5281\n",
      "Epoch 46/200\n",
      "469/469 [==============================] - 7s 15ms/step - loss: 0.0738 - accuracy: 0.5267 - val_loss: 0.0732 - val_accuracy: 0.5305\n",
      "Epoch 47/200\n",
      "469/469 [==============================] - 7s 15ms/step - loss: 0.0733 - accuracy: 0.5265 - val_loss: 0.0726 - val_accuracy: 0.5328\n",
      "Epoch 48/200\n",
      "469/469 [==============================] - 6s 13ms/step - loss: 0.0728 - accuracy: 0.5271 - val_loss: 0.0721 - val_accuracy: 0.5343\n",
      "Epoch 49/200\n",
      "469/469 [==============================] - 7s 16ms/step - loss: 0.0720 - accuracy: 0.5365 - val_loss: 0.0715 - val_accuracy: 0.5368\n",
      "Epoch 50/200\n",
      "469/469 [==============================] - 7s 15ms/step - loss: 0.0717 - accuracy: 0.5336 - val_loss: 0.0710 - val_accuracy: 0.5397\n",
      "Epoch 51/200\n",
      "469/469 [==============================] - 7s 16ms/step - loss: 0.0710 - accuracy: 0.5396 - val_loss: 0.0704 - val_accuracy: 0.5420\n",
      "Epoch 52/200\n",
      "469/469 [==============================] - 7s 15ms/step - loss: 0.0706 - accuracy: 0.5392 - val_loss: 0.0699 - val_accuracy: 0.5439\n",
      "Epoch 53/200\n",
      "469/469 [==============================] - 7s 15ms/step - loss: 0.0699 - accuracy: 0.5415 - val_loss: 0.0693 - val_accuracy: 0.5454\n",
      "Epoch 54/200\n",
      "469/469 [==============================] - 7s 16ms/step - loss: 0.0695 - accuracy: 0.5430 - val_loss: 0.0688 - val_accuracy: 0.5479\n",
      "Epoch 55/200\n",
      "469/469 [==============================] - 7s 15ms/step - loss: 0.0686 - accuracy: 0.5523 - val_loss: 0.0682 - val_accuracy: 0.5499\n",
      "Epoch 56/200\n",
      "469/469 [==============================] - 8s 16ms/step - loss: 0.0682 - accuracy: 0.5512 - val_loss: 0.0677 - val_accuracy: 0.5525\n",
      "Epoch 57/200\n",
      "469/469 [==============================] - 8s 17ms/step - loss: 0.0677 - accuracy: 0.5518 - val_loss: 0.0671 - val_accuracy: 0.5552\n",
      "Epoch 58/200\n",
      "469/469 [==============================] - 7s 16ms/step - loss: 0.0671 - accuracy: 0.5577 - val_loss: 0.0666 - val_accuracy: 0.5566\n",
      "Epoch 59/200\n",
      "469/469 [==============================] - 7s 16ms/step - loss: 0.0670 - accuracy: 0.5541 - val_loss: 0.0660 - val_accuracy: 0.5593\n",
      "Epoch 60/200\n",
      "469/469 [==============================] - 9s 20ms/step - loss: 0.0661 - accuracy: 0.5589 - val_loss: 0.0655 - val_accuracy: 0.5614\n",
      "Epoch 61/200\n",
      "469/469 [==============================] - 8s 17ms/step - loss: 0.0659 - accuracy: 0.5582 - val_loss: 0.0650 - val_accuracy: 0.5637\n",
      "Epoch 62/200\n",
      "469/469 [==============================] - 8s 17ms/step - loss: 0.0653 - accuracy: 0.5623 - val_loss: 0.0645 - val_accuracy: 0.5662\n",
      "Epoch 63/200\n",
      "469/469 [==============================] - 8s 16ms/step - loss: 0.0648 - accuracy: 0.5661 - val_loss: 0.0640 - val_accuracy: 0.5683\n",
      "Epoch 64/200\n",
      "469/469 [==============================] - 7s 15ms/step - loss: 0.0641 - accuracy: 0.5697 - val_loss: 0.0634 - val_accuracy: 0.5720\n",
      "Epoch 65/200\n",
      "469/469 [==============================] - 7s 15ms/step - loss: 0.0636 - accuracy: 0.5743 - val_loss: 0.0629 - val_accuracy: 0.5751\n",
      "Epoch 66/200\n",
      "469/469 [==============================] - 7s 15ms/step - loss: 0.0631 - accuracy: 0.5789 - val_loss: 0.0624 - val_accuracy: 0.5788\n",
      "Epoch 67/200\n",
      "469/469 [==============================] - 8s 16ms/step - loss: 0.0627 - accuracy: 0.5778 - val_loss: 0.0620 - val_accuracy: 0.5837\n",
      "Epoch 68/200\n",
      "469/469 [==============================] - 7s 15ms/step - loss: 0.0623 - accuracy: 0.5818 - val_loss: 0.0615 - val_accuracy: 0.5880\n",
      "Epoch 69/200\n",
      "469/469 [==============================] - 8s 17ms/step - loss: 0.0617 - accuracy: 0.5862 - val_loss: 0.0610 - val_accuracy: 0.5918\n",
      "Epoch 70/200\n",
      "469/469 [==============================] - 8s 16ms/step - loss: 0.0610 - accuracy: 0.5936 - val_loss: 0.0605 - val_accuracy: 0.5966\n",
      "Epoch 71/200\n",
      "469/469 [==============================] - 8s 16ms/step - loss: 0.0605 - accuracy: 0.5978 - val_loss: 0.0600 - val_accuracy: 0.6008\n",
      "Epoch 72/200\n",
      "469/469 [==============================] - 9s 18ms/step - loss: 0.0604 - accuracy: 0.5957 - val_loss: 0.0596 - val_accuracy: 0.6055\n",
      "Epoch 73/200\n",
      "469/469 [==============================] - 7s 16ms/step - loss: 0.0598 - accuracy: 0.6033 - val_loss: 0.0591 - val_accuracy: 0.6095\n",
      "Epoch 74/200\n",
      "469/469 [==============================] - 7s 15ms/step - loss: 0.0595 - accuracy: 0.6068 - val_loss: 0.0587 - val_accuracy: 0.6135\n",
      "Epoch 75/200\n",
      "469/469 [==============================] - 8s 17ms/step - loss: 0.0589 - accuracy: 0.6106 - val_loss: 0.0582 - val_accuracy: 0.6185\n",
      "Epoch 76/200\n",
      "469/469 [==============================] - 7s 14ms/step - loss: 0.0583 - accuracy: 0.6194 - val_loss: 0.0578 - val_accuracy: 0.6235\n",
      "Epoch 77/200\n",
      "469/469 [==============================] - 7s 16ms/step - loss: 0.0579 - accuracy: 0.6210 - val_loss: 0.0573 - val_accuracy: 0.6279\n",
      "Epoch 78/200\n",
      "469/469 [==============================] - 7s 14ms/step - loss: 0.0575 - accuracy: 0.6263 - val_loss: 0.0569 - val_accuracy: 0.6327\n",
      "Epoch 79/200\n",
      "469/469 [==============================] - 8s 16ms/step - loss: 0.0572 - accuracy: 0.6304 - val_loss: 0.0565 - val_accuracy: 0.6385\n",
      "Epoch 80/200\n",
      "469/469 [==============================] - 7s 16ms/step - loss: 0.0567 - accuracy: 0.6372 - val_loss: 0.0561 - val_accuracy: 0.6438\n",
      "Epoch 81/200\n",
      "469/469 [==============================] - 8s 17ms/step - loss: 0.0564 - accuracy: 0.6394 - val_loss: 0.0556 - val_accuracy: 0.6482\n",
      "Epoch 82/200\n",
      "469/469 [==============================] - 8s 17ms/step - loss: 0.0559 - accuracy: 0.6471 - val_loss: 0.0552 - val_accuracy: 0.6522\n",
      "Epoch 83/200\n",
      "469/469 [==============================] - 8s 17ms/step - loss: 0.0556 - accuracy: 0.6481 - val_loss: 0.0548 - val_accuracy: 0.6559\n",
      "Epoch 84/200\n",
      "469/469 [==============================] - 7s 16ms/step - loss: 0.0550 - accuracy: 0.6573 - val_loss: 0.0544 - val_accuracy: 0.6610\n",
      "Epoch 85/200\n",
      "469/469 [==============================] - 7s 16ms/step - loss: 0.0549 - accuracy: 0.6577 - val_loss: 0.0540 - val_accuracy: 0.6644\n",
      "Epoch 86/200\n",
      "469/469 [==============================] - 8s 16ms/step - loss: 0.0545 - accuracy: 0.6618 - val_loss: 0.0536 - val_accuracy: 0.6705\n",
      "Epoch 87/200\n",
      "469/469 [==============================] - 7s 14ms/step - loss: 0.0541 - accuracy: 0.6672 - val_loss: 0.0532 - val_accuracy: 0.6762\n",
      "Epoch 88/200\n",
      "469/469 [==============================] - 8s 17ms/step - loss: 0.0535 - accuracy: 0.6719 - val_loss: 0.0529 - val_accuracy: 0.6798\n",
      "Epoch 89/200\n",
      "469/469 [==============================] - 7s 16ms/step - loss: 0.0534 - accuracy: 0.6774 - val_loss: 0.0525 - val_accuracy: 0.6857\n",
      "Epoch 90/200\n",
      "469/469 [==============================] - 7s 16ms/step - loss: 0.0530 - accuracy: 0.6789 - val_loss: 0.0521 - val_accuracy: 0.6910\n",
      "Epoch 91/200\n",
      "469/469 [==============================] - 8s 17ms/step - loss: 0.0524 - accuracy: 0.6851 - val_loss: 0.0517 - val_accuracy: 0.6941\n",
      "Epoch 92/200\n",
      "469/469 [==============================] - 8s 17ms/step - loss: 0.0519 - accuracy: 0.6928 - val_loss: 0.0514 - val_accuracy: 0.6983\n",
      "Epoch 93/200\n",
      "469/469 [==============================] - 8s 16ms/step - loss: 0.0516 - accuracy: 0.6945 - val_loss: 0.0510 - val_accuracy: 0.7026\n",
      "Epoch 94/200\n",
      "469/469 [==============================] - 8s 16ms/step - loss: 0.0512 - accuracy: 0.6999 - val_loss: 0.0506 - val_accuracy: 0.7074\n",
      "Epoch 95/200\n",
      "469/469 [==============================] - 7s 16ms/step - loss: 0.0509 - accuracy: 0.7036 - val_loss: 0.0503 - val_accuracy: 0.7120\n",
      "Epoch 96/200\n",
      "469/469 [==============================] - 7s 16ms/step - loss: 0.0508 - accuracy: 0.7073 - val_loss: 0.0499 - val_accuracy: 0.7160\n",
      "Epoch 97/200\n",
      "469/469 [==============================] - 7s 15ms/step - loss: 0.0504 - accuracy: 0.7081 - val_loss: 0.0496 - val_accuracy: 0.7199\n",
      "Epoch 98/200\n",
      "469/469 [==============================] - 7s 16ms/step - loss: 0.0502 - accuracy: 0.7134 - val_loss: 0.0492 - val_accuracy: 0.7226\n",
      "Epoch 99/200\n",
      "469/469 [==============================] - 7s 16ms/step - loss: 0.0497 - accuracy: 0.7169 - val_loss: 0.0489 - val_accuracy: 0.7258\n",
      "Epoch 100/200\n",
      "469/469 [==============================] - 7s 16ms/step - loss: 0.0495 - accuracy: 0.7178 - val_loss: 0.0485 - val_accuracy: 0.7292\n",
      "Epoch 101/200\n",
      "469/469 [==============================] - 7s 15ms/step - loss: 0.0490 - accuracy: 0.7264 - val_loss: 0.0482 - val_accuracy: 0.7320\n",
      "Epoch 102/200\n",
      "469/469 [==============================] - 8s 16ms/step - loss: 0.0485 - accuracy: 0.7301 - val_loss: 0.0479 - val_accuracy: 0.7345\n",
      "Epoch 103/200\n",
      "469/469 [==============================] - 8s 17ms/step - loss: 0.0481 - accuracy: 0.7330 - val_loss: 0.0476 - val_accuracy: 0.7369\n",
      "Epoch 104/200\n",
      "469/469 [==============================] - 7s 15ms/step - loss: 0.0478 - accuracy: 0.7359 - val_loss: 0.0472 - val_accuracy: 0.7404\n",
      "Epoch 105/200\n",
      "469/469 [==============================] - 7s 16ms/step - loss: 0.0477 - accuracy: 0.7339 - val_loss: 0.0469 - val_accuracy: 0.7440\n",
      "Epoch 106/200\n",
      "469/469 [==============================] - 7s 15ms/step - loss: 0.0475 - accuracy: 0.7396 - val_loss: 0.0466 - val_accuracy: 0.7467\n",
      "Epoch 107/200\n",
      "469/469 [==============================] - 7s 16ms/step - loss: 0.0472 - accuracy: 0.7392 - val_loss: 0.0463 - val_accuracy: 0.7490\n",
      "Epoch 108/200\n",
      "469/469 [==============================] - 7s 16ms/step - loss: 0.0465 - accuracy: 0.7447 - val_loss: 0.0460 - val_accuracy: 0.7515\n",
      "Epoch 109/200\n",
      "469/469 [==============================] - 8s 16ms/step - loss: 0.0465 - accuracy: 0.7468 - val_loss: 0.0457 - val_accuracy: 0.7547\n",
      "Epoch 110/200\n",
      "469/469 [==============================] - 7s 15ms/step - loss: 0.0462 - accuracy: 0.7480 - val_loss: 0.0453 - val_accuracy: 0.7561\n",
      "Epoch 111/200\n",
      "469/469 [==============================] - 7s 15ms/step - loss: 0.0457 - accuracy: 0.7495 - val_loss: 0.0450 - val_accuracy: 0.7583\n",
      "Epoch 112/200\n",
      "469/469 [==============================] - 7s 16ms/step - loss: 0.0456 - accuracy: 0.7513 - val_loss: 0.0447 - val_accuracy: 0.7596\n",
      "Epoch 113/200\n"
     ]
    },
    {
     "name": "stdout",
     "output_type": "stream",
     "text": [
      "469/469 [==============================] - 7s 15ms/step - loss: 0.0452 - accuracy: 0.7531 - val_loss: 0.0444 - val_accuracy: 0.7607\n",
      "Epoch 114/200\n",
      "469/469 [==============================] - 7s 15ms/step - loss: 0.0449 - accuracy: 0.7579 - val_loss: 0.0442 - val_accuracy: 0.7635\n",
      "Epoch 115/200\n",
      "469/469 [==============================] - 7s 15ms/step - loss: 0.0448 - accuracy: 0.7556 - val_loss: 0.0439 - val_accuracy: 0.7654\n",
      "Epoch 116/200\n",
      "469/469 [==============================] - 8s 16ms/step - loss: 0.0443 - accuracy: 0.7615 - val_loss: 0.0436 - val_accuracy: 0.7670\n",
      "Epoch 117/200\n",
      "469/469 [==============================] - 7s 15ms/step - loss: 0.0441 - accuracy: 0.7619 - val_loss: 0.0433 - val_accuracy: 0.7691\n",
      "Epoch 118/200\n",
      "469/469 [==============================] - 8s 16ms/step - loss: 0.0436 - accuracy: 0.7645 - val_loss: 0.0430 - val_accuracy: 0.7712\n",
      "Epoch 119/200\n",
      "469/469 [==============================] - 7s 15ms/step - loss: 0.0437 - accuracy: 0.7653 - val_loss: 0.0427 - val_accuracy: 0.7734\n",
      "Epoch 120/200\n",
      "469/469 [==============================] - 8s 16ms/step - loss: 0.0436 - accuracy: 0.7630 - val_loss: 0.0425 - val_accuracy: 0.7747\n",
      "Epoch 121/200\n",
      "469/469 [==============================] - 7s 15ms/step - loss: 0.0432 - accuracy: 0.7655 - val_loss: 0.0422 - val_accuracy: 0.7758\n",
      "Epoch 122/200\n",
      "469/469 [==============================] - 7s 14ms/step - loss: 0.0428 - accuracy: 0.7693 - val_loss: 0.0419 - val_accuracy: 0.7768\n",
      "Epoch 123/200\n",
      "469/469 [==============================] - 7s 16ms/step - loss: 0.0426 - accuracy: 0.7705 - val_loss: 0.0416 - val_accuracy: 0.7793\n",
      "Epoch 124/200\n",
      "469/469 [==============================] - 7s 15ms/step - loss: 0.0421 - accuracy: 0.7741 - val_loss: 0.0414 - val_accuracy: 0.7816\n",
      "Epoch 125/200\n",
      "469/469 [==============================] - 8s 16ms/step - loss: 0.0421 - accuracy: 0.7746 - val_loss: 0.0411 - val_accuracy: 0.7829\n",
      "Epoch 126/200\n",
      "469/469 [==============================] - 7s 15ms/step - loss: 0.0419 - accuracy: 0.7723 - val_loss: 0.0408 - val_accuracy: 0.7844\n",
      "Epoch 127/200\n",
      "469/469 [==============================] - 8s 16ms/step - loss: 0.0413 - accuracy: 0.7805 - val_loss: 0.0406 - val_accuracy: 0.7859\n",
      "Epoch 128/200\n",
      "469/469 [==============================] - 8s 16ms/step - loss: 0.0411 - accuracy: 0.7807 - val_loss: 0.0403 - val_accuracy: 0.7877\n",
      "Epoch 129/200\n",
      "469/469 [==============================] - 8s 16ms/step - loss: 0.0410 - accuracy: 0.7813 - val_loss: 0.0401 - val_accuracy: 0.7896\n",
      "Epoch 130/200\n",
      "469/469 [==============================] - 7s 15ms/step - loss: 0.0407 - accuracy: 0.7825 - val_loss: 0.0398 - val_accuracy: 0.7918\n",
      "Epoch 131/200\n",
      "469/469 [==============================] - 7s 14ms/step - loss: 0.0406 - accuracy: 0.7845 - val_loss: 0.0396 - val_accuracy: 0.7935\n",
      "Epoch 132/200\n",
      "469/469 [==============================] - 7s 16ms/step - loss: 0.0398 - accuracy: 0.7889 - val_loss: 0.0393 - val_accuracy: 0.7959\n",
      "Epoch 133/200\n",
      "469/469 [==============================] - 7s 15ms/step - loss: 0.0398 - accuracy: 0.7887 - val_loss: 0.0391 - val_accuracy: 0.7984\n",
      "Epoch 134/200\n",
      "469/469 [==============================] - 7s 16ms/step - loss: 0.0398 - accuracy: 0.7892 - val_loss: 0.0389 - val_accuracy: 0.8005\n",
      "Epoch 135/200\n",
      "469/469 [==============================] - 6s 14ms/step - loss: 0.0397 - accuracy: 0.7905 - val_loss: 0.0386 - val_accuracy: 0.8030\n",
      "Epoch 136/200\n",
      "469/469 [==============================] - 7s 15ms/step - loss: 0.0393 - accuracy: 0.7939 - val_loss: 0.0384 - val_accuracy: 0.8053\n",
      "Epoch 137/200\n",
      "469/469 [==============================] - 7s 14ms/step - loss: 0.0389 - accuracy: 0.7970 - val_loss: 0.0381 - val_accuracy: 0.8070\n",
      "Epoch 138/200\n",
      "469/469 [==============================] - 7s 16ms/step - loss: 0.0386 - accuracy: 0.7994 - val_loss: 0.0379 - val_accuracy: 0.8089\n",
      "Epoch 139/200\n",
      "469/469 [==============================] - 7s 16ms/step - loss: 0.0386 - accuracy: 0.8023 - val_loss: 0.0377 - val_accuracy: 0.8108\n",
      "Epoch 140/200\n",
      "469/469 [==============================] - 8s 16ms/step - loss: 0.0384 - accuracy: 0.8019 - val_loss: 0.0375 - val_accuracy: 0.8130\n",
      "Epoch 141/200\n",
      "469/469 [==============================] - 7s 16ms/step - loss: 0.0381 - accuracy: 0.8072 - val_loss: 0.0372 - val_accuracy: 0.8149\n",
      "Epoch 142/200\n",
      "469/469 [==============================] - 8s 16ms/step - loss: 0.0380 - accuracy: 0.8044 - val_loss: 0.0370 - val_accuracy: 0.8168\n",
      "Epoch 143/200\n",
      "469/469 [==============================] - 8s 18ms/step - loss: 0.0376 - accuracy: 0.8095 - val_loss: 0.0368 - val_accuracy: 0.8190\n",
      "Epoch 144/200\n",
      "469/469 [==============================] - 8s 17ms/step - loss: 0.0375 - accuracy: 0.8103 - val_loss: 0.0366 - val_accuracy: 0.8208\n",
      "Epoch 145/200\n",
      "469/469 [==============================] - 8s 17ms/step - loss: 0.0374 - accuracy: 0.8118 - val_loss: 0.0364 - val_accuracy: 0.8216\n",
      "Epoch 146/200\n",
      "469/469 [==============================] - 8s 16ms/step - loss: 0.0369 - accuracy: 0.8144 - val_loss: 0.0362 - val_accuracy: 0.8235\n",
      "Epoch 147/200\n",
      "469/469 [==============================] - 8s 16ms/step - loss: 0.0370 - accuracy: 0.8127 - val_loss: 0.0359 - val_accuracy: 0.8247\n",
      "Epoch 148/200\n",
      "469/469 [==============================] - 8s 16ms/step - loss: 0.0367 - accuracy: 0.8130 - val_loss: 0.0357 - val_accuracy: 0.8264\n",
      "Epoch 149/200\n",
      "469/469 [==============================] - 8s 17ms/step - loss: 0.0364 - accuracy: 0.8190 - val_loss: 0.0355 - val_accuracy: 0.8278\n",
      "Epoch 150/200\n",
      "469/469 [==============================] - 8s 16ms/step - loss: 0.0364 - accuracy: 0.8168 - val_loss: 0.0353 - val_accuracy: 0.8290\n",
      "Epoch 151/200\n",
      "469/469 [==============================] - 8s 17ms/step - loss: 0.0361 - accuracy: 0.8180 - val_loss: 0.0351 - val_accuracy: 0.8315\n",
      "Epoch 152/200\n",
      "469/469 [==============================] - 8s 17ms/step - loss: 0.0359 - accuracy: 0.8196 - val_loss: 0.0349 - val_accuracy: 0.8327\n",
      "Epoch 153/200\n",
      "469/469 [==============================] - 9s 19ms/step - loss: 0.0356 - accuracy: 0.8239 - val_loss: 0.0347 - val_accuracy: 0.8341\n",
      "Epoch 154/200\n",
      "469/469 [==============================] - 8s 17ms/step - loss: 0.0355 - accuracy: 0.8245 - val_loss: 0.0345 - val_accuracy: 0.8355\n",
      "Epoch 155/200\n",
      "469/469 [==============================] - 8s 17ms/step - loss: 0.0353 - accuracy: 0.8239 - val_loss: 0.0343 - val_accuracy: 0.8363\n",
      "Epoch 156/200\n",
      "469/469 [==============================] - 8s 16ms/step - loss: 0.0350 - accuracy: 0.8262 - val_loss: 0.0341 - val_accuracy: 0.8375\n",
      "Epoch 157/200\n",
      "469/469 [==============================] - 8s 18ms/step - loss: 0.0350 - accuracy: 0.8274 - val_loss: 0.0340 - val_accuracy: 0.8386\n",
      "Epoch 158/200\n",
      "469/469 [==============================] - 8s 17ms/step - loss: 0.0345 - accuracy: 0.8314 - val_loss: 0.0338 - val_accuracy: 0.8403\n",
      "Epoch 159/200\n",
      "469/469 [==============================] - 8s 17ms/step - loss: 0.0346 - accuracy: 0.8294 - val_loss: 0.0336 - val_accuracy: 0.8411\n",
      "Epoch 160/200\n",
      "469/469 [==============================] - 8s 16ms/step - loss: 0.0342 - accuracy: 0.8328 - val_loss: 0.0334 - val_accuracy: 0.8420\n",
      "Epoch 161/200\n",
      "469/469 [==============================] - 8s 17ms/step - loss: 0.0342 - accuracy: 0.8306 - val_loss: 0.0332 - val_accuracy: 0.8425\n",
      "Epoch 162/200\n",
      "469/469 [==============================] - 7s 15ms/step - loss: 0.0339 - accuracy: 0.8335 - val_loss: 0.0330 - val_accuracy: 0.8431\n",
      "Epoch 163/200\n",
      "469/469 [==============================] - 8s 17ms/step - loss: 0.0334 - accuracy: 0.8376 - val_loss: 0.0329 - val_accuracy: 0.8436\n",
      "Epoch 164/200\n",
      "469/469 [==============================] - 8s 16ms/step - loss: 0.0335 - accuracy: 0.8362 - val_loss: 0.0327 - val_accuracy: 0.8442\n",
      "Epoch 165/200\n",
      "469/469 [==============================] - 8s 17ms/step - loss: 0.0335 - accuracy: 0.8367 - val_loss: 0.0325 - val_accuracy: 0.8448\n",
      "Epoch 166/200\n",
      "469/469 [==============================] - 8s 16ms/step - loss: 0.0332 - accuracy: 0.8386 - val_loss: 0.0323 - val_accuracy: 0.8453\n",
      "Epoch 167/200\n",
      "469/469 [==============================] - 8s 17ms/step - loss: 0.0332 - accuracy: 0.8385 - val_loss: 0.0322 - val_accuracy: 0.8465\n",
      "Epoch 168/200\n",
      "469/469 [==============================] - 8s 16ms/step - loss: 0.0331 - accuracy: 0.8383 - val_loss: 0.0320 - val_accuracy: 0.8472\n",
      "Epoch 169/200\n",
      "469/469 [==============================] - 8s 17ms/step - loss: 0.0328 - accuracy: 0.8397 - val_loss: 0.0318 - val_accuracy: 0.8485\n",
      "Epoch 170/200\n",
      "469/469 [==============================] - 7s 15ms/step - loss: 0.0327 - accuracy: 0.8406 - val_loss: 0.0317 - val_accuracy: 0.8495\n",
      "Epoch 171/200\n",
      "469/469 [==============================] - 8s 17ms/step - loss: 0.0324 - accuracy: 0.8425 - val_loss: 0.0315 - val_accuracy: 0.8499\n",
      "Epoch 172/200\n",
      "469/469 [==============================] - 8s 16ms/step - loss: 0.0323 - accuracy: 0.8423 - val_loss: 0.0314 - val_accuracy: 0.8508\n",
      "Epoch 173/200\n",
      "469/469 [==============================] - 8s 17ms/step - loss: 0.0320 - accuracy: 0.8465 - val_loss: 0.0312 - val_accuracy: 0.8520\n",
      "Epoch 174/200\n",
      "469/469 [==============================] - 8s 17ms/step - loss: 0.0320 - accuracy: 0.8450 - val_loss: 0.0310 - val_accuracy: 0.8525\n",
      "Epoch 175/200\n",
      "469/469 [==============================] - 8s 17ms/step - loss: 0.0318 - accuracy: 0.8454 - val_loss: 0.0309 - val_accuracy: 0.8531\n",
      "Epoch 176/200\n",
      "469/469 [==============================] - 8s 16ms/step - loss: 0.0315 - accuracy: 0.8461 - val_loss: 0.0307 - val_accuracy: 0.8536\n",
      "Epoch 177/200\n",
      "469/469 [==============================] - 8s 18ms/step - loss: 0.0316 - accuracy: 0.8441 - val_loss: 0.0306 - val_accuracy: 0.8546\n",
      "Epoch 178/200\n",
      "469/469 [==============================] - 7s 16ms/step - loss: 0.0313 - accuracy: 0.8479 - val_loss: 0.0304 - val_accuracy: 0.8552\n",
      "Epoch 179/200\n",
      "469/469 [==============================] - 8s 17ms/step - loss: 0.0312 - accuracy: 0.8500 - val_loss: 0.0303 - val_accuracy: 0.8559\n",
      "Epoch 180/200\n",
      "469/469 [==============================] - 8s 17ms/step - loss: 0.0313 - accuracy: 0.8469 - val_loss: 0.0301 - val_accuracy: 0.8571\n",
      "Epoch 181/200\n",
      "469/469 [==============================] - 8s 17ms/step - loss: 0.0308 - accuracy: 0.8524 - val_loss: 0.0300 - val_accuracy: 0.8579\n",
      "Epoch 182/200\n",
      "469/469 [==============================] - 8s 16ms/step - loss: 0.0305 - accuracy: 0.8531 - val_loss: 0.0299 - val_accuracy: 0.8582\n",
      "Epoch 183/200\n",
      "469/469 [==============================] - 8s 18ms/step - loss: 0.0307 - accuracy: 0.8515 - val_loss: 0.0297 - val_accuracy: 0.8587\n",
      "Epoch 184/200\n",
      "469/469 [==============================] - 8s 16ms/step - loss: 0.0304 - accuracy: 0.8531 - val_loss: 0.0296 - val_accuracy: 0.8595\n",
      "Epoch 185/200\n",
      "469/469 [==============================] - 8s 16ms/step - loss: 0.0304 - accuracy: 0.8510 - val_loss: 0.0294 - val_accuracy: 0.8598\n",
      "Epoch 186/200\n",
      "469/469 [==============================] - 7s 15ms/step - loss: 0.0300 - accuracy: 0.8552 - val_loss: 0.0293 - val_accuracy: 0.8610\n",
      "Epoch 187/200\n",
      "469/469 [==============================] - 8s 17ms/step - loss: 0.0301 - accuracy: 0.8548 - val_loss: 0.0292 - val_accuracy: 0.8617\n",
      "Epoch 188/200\n",
      "469/469 [==============================] - 8s 16ms/step - loss: 0.0301 - accuracy: 0.8531 - val_loss: 0.0290 - val_accuracy: 0.8628\n",
      "Epoch 189/200\n",
      "469/469 [==============================] - 8s 17ms/step - loss: 0.0299 - accuracy: 0.8543 - val_loss: 0.0289 - val_accuracy: 0.8634\n",
      "Epoch 190/200\n",
      "469/469 [==============================] - 8s 16ms/step - loss: 0.0299 - accuracy: 0.8537 - val_loss: 0.0288 - val_accuracy: 0.8636\n",
      "Epoch 191/200\n",
      "469/469 [==============================] - 8s 16ms/step - loss: 0.0294 - accuracy: 0.8559 - val_loss: 0.0287 - val_accuracy: 0.8637\n",
      "Epoch 192/200\n",
      "469/469 [==============================] - 8s 16ms/step - loss: 0.0295 - accuracy: 0.8559 - val_loss: 0.0285 - val_accuracy: 0.8642\n",
      "Epoch 193/200\n",
      "469/469 [==============================] - 7s 16ms/step - loss: 0.0293 - accuracy: 0.8562 - val_loss: 0.0284 - val_accuracy: 0.8646\n",
      "Epoch 194/200\n",
      "469/469 [==============================] - 8s 16ms/step - loss: 0.0292 - accuracy: 0.8563 - val_loss: 0.0283 - val_accuracy: 0.8655\n",
      "Epoch 195/200\n",
      "469/469 [==============================] - 8s 17ms/step - loss: 0.0292 - accuracy: 0.8565 - val_loss: 0.0282 - val_accuracy: 0.8665\n",
      "Epoch 196/200\n",
      "469/469 [==============================] - 8s 17ms/step - loss: 0.0291 - accuracy: 0.8568 - val_loss: 0.0280 - val_accuracy: 0.8670\n",
      "Epoch 197/200\n",
      "469/469 [==============================] - 8s 17ms/step - loss: 0.0288 - accuracy: 0.8581 - val_loss: 0.0279 - val_accuracy: 0.8672\n",
      "Epoch 198/200\n",
      "469/469 [==============================] - 8s 17ms/step - loss: 0.0287 - accuracy: 0.8577 - val_loss: 0.0278 - val_accuracy: 0.8676\n",
      "Epoch 199/200\n",
      "469/469 [==============================] - 8s 16ms/step - loss: 0.0284 - accuracy: 0.8603 - val_loss: 0.0277 - val_accuracy: 0.8677\n",
      "Epoch 200/200\n",
      "469/469 [==============================] - 8s 18ms/step - loss: 0.0285 - accuracy: 0.8588 - val_loss: 0.0276 - val_accuracy: 0.8681\n"
     ]
    },
    {
     "data": {
      "text/plain": [
       "<tensorflow.python.keras.callbacks.History at 0x249a0378f28>"
      ]
     },
     "execution_count": 23,
     "metadata": {},
     "output_type": "execute_result"
    }
   ],
   "source": [
    "model.fit(X_train, y_train, batch_size=128, epochs=200, verbose=1, validation_data=(X_valid, y_valid))"
   ]
  },
  {
   "cell_type": "markdown",
   "metadata": {},
   "source": [
    "#### Evaluating model performance"
   ]
  },
  {
   "cell_type": "code",
   "execution_count": 24,
   "metadata": {},
   "outputs": [
    {
     "name": "stdout",
     "output_type": "stream",
     "text": [
      "313/313 [==============================] - 7s 1ms/step - loss: 0.0276 - accuracy: 0.8681\n"
     ]
    },
    {
     "data": {
      "text/plain": [
       "[0.027578124776482582, 0.8680999875068665]"
      ]
     },
     "execution_count": 24,
     "metadata": {},
     "output_type": "execute_result"
    }
   ],
   "source": [
    "model.evaluate(X_valid, y_valid)"
   ]
  },
  {
   "cell_type": "markdown",
   "metadata": {},
   "source": [
    "#### Performing inference"
   ]
  },
  {
   "cell_type": "code",
   "execution_count": 25,
   "metadata": {},
   "outputs": [],
   "source": [
    "valid_0 = X_valid[0].reshape(1, 784)"
   ]
  },
  {
   "cell_type": "code",
   "execution_count": 26,
   "metadata": {},
   "outputs": [
    {
     "data": {
      "text/plain": [
       "array([[7.3353751e-03, 2.0065373e-03, 1.9516856e-03, 8.5453847e-03,\n",
       "        4.0194751e-03, 1.2308365e-02, 4.9226737e-04, 9.2276961e-01,\n",
       "        3.0362690e-03, 3.7534982e-02]], dtype=float32)"
      ]
     },
     "execution_count": 26,
     "metadata": {},
     "output_type": "execute_result"
    }
   ],
   "source": [
    "model.predict(valid_0)"
   ]
  },
  {
   "cell_type": "code",
   "execution_count": 27,
   "metadata": {},
   "outputs": [
    {
     "name": "stderr",
     "output_type": "stream",
     "text": [
      "C:\\Users\\archi\\Anaconda3\\lib\\site-packages\\tensorflow\\python\\keras\\engine\\sequential.py:450: UserWarning: `model.predict_classes()` is deprecated and will be removed after 2021-01-01. Please use instead:* `np.argmax(model.predict(x), axis=-1)`,   if your model does multi-class classification   (e.g. if it uses a `softmax` last-layer activation).* `(model.predict(x) > 0.5).astype(\"int32\")`,   if your model does binary classification   (e.g. if it uses a `sigmoid` last-layer activation).\n",
      "  warnings.warn('`model.predict_classes()` is deprecated and '\n"
     ]
    },
    {
     "data": {
      "text/plain": [
       "array([7], dtype=int64)"
      ]
     },
     "execution_count": 27,
     "metadata": {},
     "output_type": "execute_result"
    }
   ],
   "source": [
    "model.predict_classes(valid_0)"
   ]
  }
 ],
 "metadata": {
  "kernelspec": {
   "display_name": "Python 3",
   "language": "python",
   "name": "python3"
  },
  "language_info": {
   "codemirror_mode": {
    "name": "ipython",
    "version": 3
   },
   "file_extension": ".py",
   "mimetype": "text/x-python",
   "name": "python",
   "nbconvert_exporter": "python",
   "pygments_lexer": "ipython3",
   "version": "3.7.3"
  }
 },
 "nbformat": 4,
 "nbformat_minor": 2
}
