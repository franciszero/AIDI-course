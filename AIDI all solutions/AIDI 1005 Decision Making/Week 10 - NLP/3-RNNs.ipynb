{
 "cells": [
  {
   "cell_type": "markdown",
   "metadata": {},
   "source": [
    "# RNNs: How To Implement A Basic RNN"
   ]
  },
  {
   "cell_type": "markdown",
   "metadata": {},
   "source": [
    "### Read In, Clean, And Split The Data"
   ]
  },
  {
   "cell_type": "code",
   "execution_count": 1,
   "metadata": {},
   "outputs": [],
   "source": [
    "# Read in data and split into training and test set\n",
    "# NOTE: we are NOT cleaning the data\n",
    "import numpy as np\n",
    "import pandas as pd\n",
    "from sklearn.model_selection import train_test_split\n",
    "pd.set_option('display.max_colwidth', 1000)\n",
    "\n",
    "messages = pd.read_csv('spam.csv', encoding='latin-1')\n",
    "messages = messages.drop(labels = [\"Unnamed: 2\", \"Unnamed: 3\", \"Unnamed: 4\"], axis = 1)\n",
    "messages.columns = [\"label\", \"text\"]\n",
    "labels = np.where(messages['label']=='spam', 1, 0)\n",
    "\n",
    "X_train, X_test, y_train, y_test = train_test_split(messages['text'],\n",
    "                                                    labels, test_size=0.2)"
   ]
  },
  {
   "cell_type": "markdown",
   "metadata": {},
   "source": [
    "### Prep Data For Modeling"
   ]
  },
  {
   "cell_type": "code",
   "execution_count": 2,
   "metadata": {},
   "outputs": [
    {
     "name": "stdout",
     "output_type": "stream",
     "text": [
      "Collecting keras\n",
      "  Downloading Keras-2.4.3-py2.py3-none-any.whl (36 kB)\n",
      "Requirement already satisfied, skipping upgrade: numpy>=1.9.1 in c:\\users\\archi\\anaconda3\\lib\\site-packages (from keras) (1.19.5)\n",
      "Requirement already satisfied, skipping upgrade: pyyaml in c:\\users\\archi\\anaconda3\\lib\\site-packages (from keras) (5.1.1)\n",
      "Requirement already satisfied, skipping upgrade: scipy>=0.14 in c:\\users\\archi\\anaconda3\\lib\\site-packages (from keras) (1.2.1)\n",
      "Requirement already satisfied, skipping upgrade: h5py in c:\\users\\archi\\anaconda3\\lib\\site-packages (from keras) (2.10.0)\n",
      "Requirement already satisfied, skipping upgrade: six in c:\\users\\archi\\anaconda3\\lib\\site-packages (from h5py->keras) (1.15.0)\n",
      "Installing collected packages: keras\n",
      "Successfully installed keras-2.4.3\n"
     ]
    },
    {
     "name": "stderr",
     "output_type": "stream",
     "text": [
      "WARNING: You are using pip version 20.0.2; however, version 21.0.1 is available.\n",
      "You should consider upgrading via the 'c:\\users\\archi\\anaconda3\\python.exe -m pip install --upgrade pip' command.\n"
     ]
    }
   ],
   "source": [
    "# Install keras\n",
    "!pip install -U keras"
   ]
  },
  {
   "cell_type": "code",
   "execution_count": 3,
   "metadata": {},
   "outputs": [],
   "source": [
    "# Import the tools we will need from keras\n",
    "from keras.preprocessing.text import Tokenizer\n",
    "from keras.preprocessing.sequence import pad_sequences"
   ]
  },
  {
   "cell_type": "code",
   "execution_count": 4,
   "metadata": {},
   "outputs": [],
   "source": [
    "# Initialize and fit the tokenizer\n",
    "tokenizer = Tokenizer()\n",
    "tokenizer.fit_on_texts(X_train)"
   ]
  },
  {
   "cell_type": "code",
   "execution_count": 5,
   "metadata": {},
   "outputs": [],
   "source": [
    "# Use that tokenizer to transform the text messages in the training and test sets\n",
    "X_train_seq = tokenizer.texts_to_sequences(X_train)\n",
    "X_test_seq = tokenizer.texts_to_sequences(X_test)"
   ]
  },
  {
   "cell_type": "code",
   "execution_count": 6,
   "metadata": {},
   "outputs": [
    {
     "data": {
      "text/plain": [
       "[863,\n",
       " 103,\n",
       " 376,\n",
       " 802,\n",
       " 38,\n",
       " 57,\n",
       " 4,\n",
       " 101,\n",
       " 2003,\n",
       " 2573,\n",
       " 322,\n",
       " 138,\n",
       " 4,\n",
       " 522,\n",
       " 637,\n",
       " 26,\n",
       " 1009,\n",
       " 4,\n",
       " 233,\n",
       " 164,\n",
       " 3808,\n",
       " 3809,\n",
       " 939,\n",
       " 233,\n",
       " 3,\n",
       " 3810,\n",
       " 3811,\n",
       " 3812,\n",
       " 3813,\n",
       " 3814]"
      ]
     },
     "execution_count": 6,
     "metadata": {},
     "output_type": "execute_result"
    }
   ],
   "source": [
    "# What do these sequences look like?\n",
    "X_train_seq[0]"
   ]
  },
  {
   "cell_type": "code",
   "execution_count": 7,
   "metadata": {},
   "outputs": [],
   "source": [
    "# Pad the sequences so each sequence is the same length\n",
    "X_train_seq_padded = pad_sequences(X_train_seq, 50)\n",
    "X_test_seq_padded = pad_sequences(X_test_seq, 50)"
   ]
  },
  {
   "cell_type": "code",
   "execution_count": 8,
   "metadata": {},
   "outputs": [
    {
     "data": {
      "text/plain": [
       "array([   0,    0,    0,    0,    0,    0,    0,    0,    0,    0,    0,\n",
       "          0,    0,    0,    0,    0,    0,    0,    0,    0,  863,  103,\n",
       "        376,  802,   38,   57,    4,  101, 2003, 2573,  322,  138,    4,\n",
       "        522,  637,   26, 1009,    4,  233,  164, 3808, 3809,  939,  233,\n",
       "          3, 3810, 3811, 3812, 3813, 3814])"
      ]
     },
     "execution_count": 8,
     "metadata": {},
     "output_type": "execute_result"
    }
   ],
   "source": [
    "# What do these padded sequences look like?\n",
    "X_train_seq_padded[0]"
   ]
  },
  {
   "cell_type": "markdown",
   "metadata": {},
   "source": [
    "### Build Model"
   ]
  },
  {
   "cell_type": "code",
   "execution_count": 9,
   "metadata": {},
   "outputs": [],
   "source": [
    "# Import the tools needed from keras and define functions to calculate recall and precision\n",
    "import keras.backend as K\n",
    "from keras.layers import Dense, Embedding, LSTM\n",
    "from keras.models import Sequential\n",
    "\n",
    "def recall_m(y_true, y_pred):\n",
    "        true_positives = K.sum(K.round(K.clip(y_true * y_pred, 0, 1)))\n",
    "        possible_positives = K.sum(K.round(K.clip(y_true, 0, 1)))\n",
    "        recall = true_positives / (possible_positives + K.epsilon())\n",
    "        return recall\n",
    "\n",
    "def precision_m(y_true, y_pred):\n",
    "        true_positives = K.sum(K.round(K.clip(y_true * y_pred, 0, 1)))\n",
    "        predicted_positives = K.sum(K.round(K.clip(y_pred, 0, 1)))\n",
    "        precision = true_positives / (predicted_positives + K.epsilon())\n",
    "        return precision"
   ]
  },
  {
   "cell_type": "code",
   "execution_count": 10,
   "metadata": {},
   "outputs": [
    {
     "name": "stdout",
     "output_type": "stream",
     "text": [
      "Model: \"sequential\"\n",
      "_________________________________________________________________\n",
      "Layer (type)                 Output Shape              Param #   \n",
      "=================================================================\n",
      "embedding (Embedding)        (None, None, 32)          251040    \n",
      "_________________________________________________________________\n",
      "lstm (LSTM)                  (None, 32)                8320      \n",
      "_________________________________________________________________\n",
      "dense (Dense)                (None, 32)                1056      \n",
      "_________________________________________________________________\n",
      "dense_1 (Dense)              (None, 1)                 33        \n",
      "=================================================================\n",
      "Total params: 260,449\n",
      "Trainable params: 260,449\n",
      "Non-trainable params: 0\n",
      "_________________________________________________________________\n"
     ]
    }
   ],
   "source": [
    "# Construct a simple RNN model\n",
    "model = Sequential()\n",
    "\n",
    "model.add(Embedding(len(tokenizer.index_word)+1, 32))\n",
    "model.add(LSTM(32, dropout=0, recurrent_dropout=0))\n",
    "model.add(Dense(32, activation='relu'))\n",
    "model.add(Dense(1, activation='sigmoid'))\n",
    "model.summary()"
   ]
  },
  {
   "cell_type": "code",
   "execution_count": 11,
   "metadata": {},
   "outputs": [],
   "source": [
    "# Compile the model\n",
    "model.compile(optimizer='adam',\n",
    "              loss='binary_crossentropy',\n",
    "              metrics=['accuracy', precision_m, recall_m])"
   ]
  },
  {
   "cell_type": "code",
   "execution_count": 12,
   "metadata": {},
   "outputs": [
    {
     "name": "stdout",
     "output_type": "stream",
     "text": [
      "Epoch 1/10\n",
      "140/140 [==============================] - 6s 32ms/step - loss: 0.4061 - accuracy: 0.8732 - precision_m: 0.2277 - recall_m: 0.1802 - val_loss: 0.0859 - val_accuracy: 0.9803 - val_precision_m: 0.9032 - val_recall_m: 0.9099\n",
      "Epoch 2/10\n",
      "140/140 [==============================] - 4s 26ms/step - loss: 0.0430 - accuracy: 0.9861 - precision_m: 0.9618 - recall_m: 0.9373 - val_loss: 0.0416 - val_accuracy: 0.9892 - val_precision_m: 0.9524 - val_recall_m: 0.9075\n",
      "Epoch 3/10\n",
      "140/140 [==============================] - 4s 27ms/step - loss: 0.0114 - accuracy: 0.9981 - precision_m: 0.9918 - recall_m: 0.9864 - val_loss: 0.0580 - val_accuracy: 0.9874 - val_precision_m: 0.9714 - val_recall_m: 0.8832\n",
      "Epoch 4/10\n",
      "140/140 [==============================] - 4s 29ms/step - loss: 0.0043 - accuracy: 0.9991 - precision_m: 0.9964 - recall_m: 0.9921 - val_loss: 0.0767 - val_accuracy: 0.9839 - val_precision_m: 0.9714 - val_recall_m: 0.8482\n",
      "Epoch 5/10\n",
      "140/140 [==============================] - 4s 26ms/step - loss: 0.0030 - accuracy: 0.9995 - precision_m: 1.0000 - recall_m: 0.9969 - val_loss: 0.0595 - val_accuracy: 0.9874 - val_precision_m: 0.9619 - val_recall_m: 0.8927\n",
      "Epoch 6/10\n",
      "140/140 [==============================] - 4s 25ms/step - loss: 3.6596e-04 - accuracy: 1.0000 - precision_m: 0.9607 - recall_m: 0.9606 - val_loss: 0.0540 - val_accuracy: 0.9883 - val_precision_m: 0.9619 - val_recall_m: 0.8999- loss: 3.4495e-04 - accuracy: 1.0000 - precision_m: 0.9585 - recall_m: 0\n",
      "Epoch 7/10\n",
      "140/140 [==============================] - 4s 26ms/step - loss: 8.3707e-04 - accuracy: 1.0000 - precision_m: 0.9952 - recall_m: 0.9952 - val_loss: 0.0867 - val_accuracy: 0.9839 - val_precision_m: 0.9714 - val_recall_m: 0.8512\n",
      "Epoch 8/10\n",
      "140/140 [==============================] - 4s 29ms/step - loss: 2.5465e-04 - accuracy: 1.0000 - precision_m: 0.9897 - recall_m: 0.9897 - val_loss: 0.0736 - val_accuracy: 0.9865 - val_precision_m: 0.9714 - val_recall_m: 0.8791\n",
      "Epoch 9/10\n",
      "140/140 [==============================] - 4s 27ms/step - loss: 1.2350e-04 - accuracy: 1.0000 - precision_m: 0.9969 - recall_m: 0.9969 - val_loss: 0.0821 - val_accuracy: 0.9865 - val_precision_m: 0.9714 - val_recall_m: 0.8737\n",
      "Epoch 10/10\n",
      "140/140 [==============================] - 4s 27ms/step - loss: 6.7946e-05 - accuracy: 1.0000 - precision_m: 0.9999 - recall_m: 0.9999 - val_loss: 0.0869 - val_accuracy: 0.9865 - val_precision_m: 0.9714 - val_recall_m: 0.8737\n"
     ]
    }
   ],
   "source": [
    "# Fit the RNN model\n",
    "history = model.fit(X_train_seq_padded, y_train, \n",
    "                    batch_size=32, epochs=10,\n",
    "                    validation_data=(X_test_seq_padded, y_test))"
   ]
  },
  {
   "cell_type": "code",
   "execution_count": 14,
   "metadata": {},
   "outputs": [
    {
     "data": {
      "image/png": "[encoded data removed]",
      "text/plain": [
       "<Figure size 432x288 with 1 Axes>"
      ]
     },
     "metadata": {
      "needs_background": "light"
     },
     "output_type": "display_data"
    },
    {
     "data": {
      "image/png": "[encoded data removed]",
      "text/plain": [
       "<Figure size 432x288 with 1 Axes>"
      ]
     },
     "metadata": {
      "needs_background": "light"
     },
     "output_type": "display_data"
    },
    {
     "data": {
      "image/png": "[encoded data removed]",
      "text/plain": [
       "<Figure size 432x288 with 1 Axes>"
      ]
     },
     "metadata": {
      "needs_background": "light"
     },
     "output_type": "display_data"
    }
   ],
   "source": [
    "# Plot the evaluation metrics by each epoch for the model to see if we are over or underfitting\n",
    "import matplotlib.pyplot as plt\n",
    "%matplotlib inline\n",
    "for i in ['accuracy', 'precision_m', 'recall_m']:\n",
    "    acc = history.history[i]\n",
    "    val_acc = history.history['val_{}'.format(i)]\n",
    "    epochs = range(1, len(acc) + 1)\n",
    "\n",
    "    plt.figure()\n",
    "    plt.plot(epochs, acc, label='Training Accuracy')\n",
    "    plt.plot(epochs, val_acc, label='Validation Accuracy')\n",
    "    plt.title('Results for {}'.format(i))\n",
    "    plt.legend()\n",
    "    plt.show()"
   ]
  },
  {
   "cell_type": "code",
   "execution_count": null,
   "metadata": {},
   "outputs": [],
   "source": []
  }
 ],
 "metadata": {
  "kernelspec": {
   "display_name": "Python 3",
   "language": "python",
   "name": "python3"
  },
  "language_info": {
   "codemirror_mode": {
    "name": "ipython",
    "version": 3
   },
   "file_extension": ".py",
   "mimetype": "text/x-python",
   "name": "python",
   "nbconvert_exporter": "python",
   "pygments_lexer": "ipython3",
   "version": "3.7.3"
  }
 },
 "nbformat": 4,
 "nbformat_minor": 2
}
