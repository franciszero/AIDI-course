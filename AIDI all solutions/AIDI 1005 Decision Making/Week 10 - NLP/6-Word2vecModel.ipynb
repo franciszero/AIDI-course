{
 "cells": [
  {
   "cell_type": "markdown",
   "metadata": {},
   "source": [
    "# Compare NLP Techniques: Build Model On word2vec Vectors"
   ]
  },
  {
   "cell_type": "markdown",
   "metadata": {},
   "source": [
    "### Read In Cleaned Text"
   ]
  },
  {
   "cell_type": "code",
   "execution_count": 1,
   "metadata": {},
   "outputs": [],
   "source": [
    "# Load the cleaned training and test sets\n",
    "import gensim\n",
    "import numpy as np\n",
    "import pandas as pd\n",
    "\n",
    "X_train = pd.read_csv('X_train.csv')\n",
    "X_test = pd.read_csv('X_test.csv')\n",
    "y_train = pd.read_csv('y_train.csv')\n",
    "y_test = pd.read_csv('y_test.csv')"
   ]
  },
  {
   "cell_type": "markdown",
   "metadata": {},
   "source": [
    "### Create word2vec Vectors"
   ]
  },
  {
   "cell_type": "code",
   "execution_count": 2,
   "metadata": {},
   "outputs": [],
   "source": [
    "# Train a basic word2vec model\n",
    "w2v_model = gensim.models.Word2Vec(X_train,\n",
    "                                   size=100,\n",
    "                                   window=5,\n",
    "                                   min_count=2)"
   ]
  },
  {
   "cell_type": "code",
   "execution_count": 3,
   "metadata": {},
   "outputs": [
    {
     "name": "stderr",
     "output_type": "stream",
     "text": [
      "C:\\Users\\archi\\Anaconda3\\lib\\site-packages\\ipykernel_launcher.py:4: VisibleDeprecationWarning: Creating an ndarray from ragged nested sequences (which is a list-or-tuple of lists-or-tuples-or ndarrays with different lengths or shapes) is deprecated. If you meant to do this, you must specify 'dtype=object' when creating the ndarray\n",
      "  after removing the cwd from sys.path.\n",
      "C:\\Users\\archi\\Anaconda3\\lib\\site-packages\\ipykernel_launcher.py:6: VisibleDeprecationWarning: Creating an ndarray from ragged nested sequences (which is a list-or-tuple of lists-or-tuples-or ndarrays with different lengths or shapes) is deprecated. If you meant to do this, you must specify 'dtype=object' when creating the ndarray\n",
      "  \n"
     ]
    }
   ],
   "source": [
    "# Replace the words in each text message with the learned word vector\n",
    "words = set(w2v_model.wv.index2word)\n",
    "X_train_vect = np.array([np.array([w2v_model.wv[i] for i in ls if i in words])\n",
    "                         for ls in X_train['clean_text']])\n",
    "X_test_vect = np.array([np.array([w2v_model.wv[i] for i in ls if i in words])\n",
    "                         for ls in X_test['clean_text']])"
   ]
  },
  {
   "cell_type": "code",
   "execution_count": 4,
   "metadata": {},
   "outputs": [],
   "source": [
    "# Average the word vectors for each sentence (and assign a vector of zeros if the model\n",
    "# did not learn any of the words in the text message during training\n",
    "X_train_vect_avg = []\n",
    "for v in X_train_vect:\n",
    "    if v.size:\n",
    "        X_train_vect_avg.append(v.mean(axis=0))\n",
    "    else:\n",
    "        X_train_vect_avg.append(np.zeros(100, dtype=float))\n",
    "        \n",
    "X_test_vect_avg = []\n",
    "for v in X_test_vect:\n",
    "    if v.size:\n",
    "        X_test_vect_avg.append(v.mean(axis=0))\n",
    "    else:\n",
    "        X_test_vect_avg.append(np.zeros(100, dtype=float))"
   ]
  },
  {
   "cell_type": "code",
   "execution_count": 5,
   "metadata": {},
   "outputs": [
    {
     "data": {
      "text/plain": [
       "array([[ 0.00386943,  0.00391001, -0.00428015, ..., -0.00496123,\n",
       "        -0.003332  , -0.00262884],\n",
       "       [ 0.00386943,  0.00391001, -0.00428015, ..., -0.00496123,\n",
       "        -0.003332  , -0.00262884],\n",
       "       [ 0.00386943,  0.00391001, -0.00428015, ..., -0.00496123,\n",
       "        -0.003332  , -0.00262884],\n",
       "       ...,\n",
       "       [-0.00244511,  0.00364336,  0.00209125, ...,  0.00168716,\n",
       "         0.00290445,  0.00245746],\n",
       "       [-0.00244511,  0.00364336,  0.00209125, ...,  0.00168716,\n",
       "         0.00290445,  0.00245746],\n",
       "       [-0.00244511,  0.00364336,  0.00209125, ...,  0.00168716,\n",
       "         0.00290445,  0.00245746]], dtype=float32)"
      ]
     },
     "execution_count": 5,
     "metadata": {},
     "output_type": "execute_result"
    }
   ],
   "source": [
    "# What does the unaveraged version look like?\n",
    "X_train_vect[0]"
   ]
  },
  {
   "cell_type": "code",
   "execution_count": 6,
   "metadata": {},
   "outputs": [
    {
     "data": {
      "text/plain": [
       "array([ 8.0709215e-05,  3.7500190e-03, -4.5730913e-04, -3.0654238e-03,\n",
       "       -2.5739593e-03,  2.4147021e-05,  1.7513217e-03,  2.8955305e-03,\n",
       "       -1.9904219e-03,  6.4477354e-05,  3.0167524e-03, -1.3283795e-03,\n",
       "        7.6610292e-04, -9.5437100e-04,  2.2420948e-03, -2.4105597e-03,\n",
       "       -2.0040127e-03,  2.6805636e-03, -2.1485405e-03, -4.5694304e-03,\n",
       "       -9.7207294e-06,  3.0931921e-04,  1.5777916e-03,  1.7524722e-03,\n",
       "       -2.6262908e-03, -2.0592778e-03,  6.7556270e-05,  1.0915068e-03,\n",
       "       -4.1276671e-04,  4.1850368e-03,  7.7684701e-04, -2.6342305e-03,\n",
       "       -2.4871805e-03, -1.6799330e-03,  1.3087607e-03, -3.2300602e-03,\n",
       "        7.9952169e-04, -1.7930425e-03,  8.6586049e-04, -3.5678450e-04,\n",
       "       -1.4278393e-03, -1.3900355e-03, -2.2837145e-03,  5.7547842e-04,\n",
       "        3.6918945e-03, -3.7255639e-03, -3.5738098e-04,  3.6798113e-03,\n",
       "       -5.6050584e-04, -1.2699770e-03,  1.7114364e-03, -5.2409462e-04,\n",
       "        1.1174598e-03, -3.6701427e-03, -1.3466806e-03, -1.6766565e-03,\n",
       "        6.2323530e-04,  4.6245771e-04,  4.2133322e-03,  1.6790983e-03,\n",
       "        2.2365970e-03, -2.9348654e-03, -8.6170068e-04, -2.4476505e-03,\n",
       "        3.5686677e-04,  6.3630135e-04, -3.7657728e-03,  2.0558643e-03,\n",
       "       -1.5391351e-03, -7.9351733e-04,  4.7703143e-03,  1.2832225e-03,\n",
       "        7.9654960e-04,  2.0914837e-03, -1.8549183e-03,  3.9549972e-04,\n",
       "       -9.2388334e-05, -2.2505389e-03, -2.4603084e-03, -2.4852881e-03,\n",
       "       -2.4742784e-03, -2.4557146e-04,  4.4485820e-03,  1.3666557e-03,\n",
       "        2.4923997e-04,  1.1859456e-03, -1.4036692e-03, -2.0763529e-03,\n",
       "        2.3256799e-03,  4.9525715e-04,  1.9170910e-03, -6.1322085e-04,\n",
       "       -1.0086007e-03, -8.5072670e-06, -4.0030736e-03,  3.4029156e-03,\n",
       "        6.2443910e-04, -9.7219570e-04,  4.0987143e-04,  4.2294277e-04],\n",
       "      dtype=float32)"
      ]
     },
     "execution_count": 6,
     "metadata": {},
     "output_type": "execute_result"
    }
   ],
   "source": [
    "# What does the averaged version look like?\n",
    "X_train_vect_avg[0]"
   ]
  },
  {
   "cell_type": "markdown",
   "metadata": {},
   "source": [
    "### Fit RandomForestClassifier On Top Of Word Vectors"
   ]
  },
  {
   "cell_type": "code",
   "execution_count": 7,
   "metadata": {},
   "outputs": [
    {
     "name": "stderr",
     "output_type": "stream",
     "text": [
      "C:\\Users\\archi\\Anaconda3\\lib\\site-packages\\sklearn\\ensemble\\forest.py:245: FutureWarning: The default value of n_estimators will change from 10 in version 0.20 to 100 in 0.22.\n",
      "  \"10 in version 0.20 to 100 in 0.22.\", FutureWarning)\n"
     ]
    }
   ],
   "source": [
    "# Instantiate and fit a basic Random Forest model on top of the vectors\n",
    "from sklearn.ensemble import RandomForestClassifier\n",
    "\n",
    "rf = RandomForestClassifier()\n",
    "rf_model = rf.fit(X_train_vect_avg, y_train.values.ravel())"
   ]
  },
  {
   "cell_type": "code",
   "execution_count": 8,
   "metadata": {},
   "outputs": [],
   "source": [
    "# Use the trained model to make predictions on the test data\n",
    "y_pred = rf_model.predict(X_test_vect_avg)"
   ]
  },
  {
   "cell_type": "code",
   "execution_count": 9,
   "metadata": {},
   "outputs": [
    {
     "name": "stdout",
     "output_type": "stream",
     "text": [
      "Precision: 0.647 / Recall: 0.219 / Accuracy: 0.878\n"
     ]
    }
   ],
   "source": [
    "# Evaluate the predictions of the model on the holdout test set\n",
    "from sklearn.metrics import precision_score, recall_score\n",
    "\n",
    "precision = precision_score(y_test, y_pred)\n",
    "recall = recall_score(y_test, y_pred)\n",
    "print('Precision: {} / Recall: {} / Accuracy: {}'.format(\n",
    "    round(precision, 3), round(recall, 3), round((y_pred==y_test['label']).sum()/len(y_pred), 3)))"
   ]
  },
  {
   "cell_type": "code",
   "execution_count": null,
   "metadata": {},
   "outputs": [],
   "source": []
  }
 ],
 "metadata": {
  "kernelspec": {
   "display_name": "Python 3",
   "language": "python",
   "name": "python3"
  },
  "language_info": {
   "codemirror_mode": {
    "name": "ipython",
    "version": 3
   },
   "file_extension": ".py",
   "mimetype": "text/x-python",
   "name": "python",
   "nbconvert_exporter": "python",
   "pygments_lexer": "ipython3",
   "version": "3.7.3"
  }
 },
 "nbformat": 4,
 "nbformat_minor": 2
}
