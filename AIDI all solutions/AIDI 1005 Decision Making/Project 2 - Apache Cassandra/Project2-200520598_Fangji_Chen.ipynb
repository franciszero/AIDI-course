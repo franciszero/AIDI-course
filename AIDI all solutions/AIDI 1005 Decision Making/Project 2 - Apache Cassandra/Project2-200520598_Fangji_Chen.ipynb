{
 "cells": [
  {
   "cell_type": "markdown",
   "metadata": {},
   "source": [
    "## Model Data using Cassandra\n",
    "\n",
    "\n",
    "### Please just submit this notebook in the Submission and make sure each cell has been executed and output is clearly displayed.\n",
    "\n",
    "### The aim of the project is to solve the three queries given below."
   ]
  },
  {
   "cell_type": "markdown",
   "metadata": {},
   "source": [
    "### Introduction\n",
    "\n",
    "There is a music streaming app called SoundCloud, that has been using their music streaming app and collecting data on songs and user activity and their aim is to analyze this data especially understanding what songs users are listening to. Currently, they are not making use of a NoSQL db and they have the data stored as a CSV file, thus its difficult for them to query the data. So our task is to create a NoSQL database for helping them with the analysis."
   ]
  },
  {
   "cell_type": "markdown",
   "metadata": {},
   "source": [
    "#### Import Packages "
   ]
  },
  {
   "cell_type": "code",
   "execution_count": 1,
   "metadata": {},
   "outputs": [],
   "source": [
    "import pandas as pd\n",
    "import numpy as np\n",
    "import cassandra\n",
    "import csv"
   ]
  },
  {
   "cell_type": "markdown",
   "metadata": {},
   "source": [
    "\n",
    "##  The image below is a screenshot of what the data appears like in the event_data.csv\n",
    "\n",
    "<img src=\"event_data_image.jpg\">"
   ]
  },
  {
   "cell_type": "markdown",
   "metadata": {},
   "source": [
    "#### Creating a Cluster"
   ]
  },
  {
   "cell_type": "code",
   "execution_count": 2,
   "metadata": {},
   "outputs": [],
   "source": [
    "# Task: Make a connection to the cassandra instance on your local machine(127.0.0.1) and \n",
    "# create a session to establish connection and begin executing queries\n",
    "\n",
    "from cassandra.cluster import Cluster\n",
    "from cassandra.auth import PlainTextAuthProvider\n",
    "\n",
    "cluster = Cluster(contact_points=['127.0.0.1'], port=9042)\n",
    "session = cluster.connect()"
   ]
  },
  {
   "cell_type": "markdown",
   "metadata": {},
   "source": [
    "#### Create & Set Keyspace"
   ]
  },
  {
   "cell_type": "code",
   "execution_count": 3,
   "metadata": {},
   "outputs": [
    {
     "data": {
      "text/plain": [
       "<cassandra.cluster.ResultSet at 0x7fce3ccb6640>"
      ]
     },
     "execution_count": 3,
     "metadata": {},
     "output_type": "execute_result"
    }
   ],
   "source": [
    "# Task: Create a Keyspace and Set KEYSPACE to the keyspace specified above\n",
    "session.execute(\"DROP KEYSPACE IF EXISTS test\")\n",
    "session.execute(\"CREATE KEYSPACE test WITH replication = {'class':'SimpleStrategy', 'replication_factor' : 1};\")"
   ]
  },
  {
   "cell_type": "markdown",
   "metadata": {},
   "source": [
    "## List of Queries \n",
    "\n",
    "### 1. Find the artist_name, song_title and length of song the SoundCloud app history that was heard during  session_number = 338, and item_in_session_number  = 4\n",
    "\n",
    "\n",
    "### 2. Find the artist_name, song_title (sorted by item_in_session_number) and name(fname and lname) of the user for user_id = 10, session_number = 182\n",
    "    \n",
    "\n",
    "### 3. Find every name(fname and lname) of the user from the SoundCloud app history that listened to the song_title 'All Hands Against His Own'\n",
    "\n",
    "\n"
   ]
  },
  {
   "cell_type": "markdown",
   "metadata": {},
   "source": [
    "### Query1 Table1: How should we model this data? Think about what should be our Primary Key/Partition Key/Clustering Key"
   ]
  },
  {
   "cell_type": "code",
   "execution_count": 4,
   "metadata": {},
   "outputs": [
    {
     "name": "stdout",
     "output_type": "stream",
     "text": [
      "Row(count=0)\n"
     ]
    }
   ],
   "source": [
    "## Task: Query 1: Find the artist_name, song_title and length of song the SoundCloud app history \n",
    "## that was heard during session_number = 338, and item_in_session_number = 4\n",
    "## make use of create table command\n",
    "q = \"\"\"\n",
    "CREATE TABLE IF NOT EXISTS test.query1_table1(\n",
    "    artist_name text\n",
    "    ,item_in_session_number int\n",
    "    ,length float\n",
    "    ,session_number int\n",
    "    ,song_title text\n",
    "    ,PRIMARY KEY (session_number, item_in_session_number)\n",
    "    );\n",
    "\"\"\"\n",
    "\n",
    "try:\n",
    "    session.execute(q)\n",
    "except Exception as e:\n",
    "    print(e)\n",
    "\n",
    "rows = session.execute(\"select count(*) from test.query1_table1;\")\n",
    "for row in rows:\n",
    "    print(row)"
   ]
  },
  {
   "cell_type": "markdown",
   "metadata": {},
   "source": [
    "### Let's insert our data into of table"
   ]
  },
  {
   "cell_type": "code",
   "execution_count": 5,
   "metadata": {
    "scrolled": false
   },
   "outputs": [
    {
     "name": "stdout",
     "output_type": "stream",
     "text": [
      "[6820] rows processed\n",
      "Row(count=6820)\n"
     ]
    }
   ],
   "source": [
    "# We have provided part of the code to set up the CSV file. Please complete the Apache Cassandra code below#\n",
    "file_name = '/Users/francis/Documents/event_data.csv'\n",
    "\n",
    "cnt=0\n",
    "with open(file_name, encoding = 'utf8') as f:\n",
    "    csv_reader = csv.reader(f)\n",
    "    next(csv_reader) # skip the header in the csv file\n",
    "    for row in csv_reader:\n",
    "        ## Task: Write the INSERT statements and assign it to the query variable\n",
    "        q = \"\"\"\n",
    "        INSERT INTO test.query1_table1 (session_number, item_in_session_number, artist_name, song_title, length) \n",
    "        VALUES (%s, %s, %s, %s, %s)\n",
    "        \"\"\"\n",
    "#         session_number 8\n",
    "#         item_in_session_number 3\n",
    "#         artist_name 0 \n",
    "#         song_title 9 \n",
    "#         length 5\n",
    "        cnt += 1\n",
    "        try:\n",
    "            session.execute(q, (int(row[8]), int(row[3]), row[0], row[9], float(row[5])))\n",
    "        except Exception as e:\n",
    "            print(e)\n",
    "    \n",
    "print(\"[%d] rows processed\" % cnt)\n",
    "rows = session.execute(\"select count(*) from test.query1_table1;\")\n",
    "for row in rows:\n",
    "    print(row)"
   ]
  },
  {
   "cell_type": "markdown",
   "metadata": {},
   "source": [
    "### Validate our Data Model using a SELECT"
   ]
  },
  {
   "cell_type": "code",
   "execution_count": 6,
   "metadata": {
    "scrolled": true
   },
   "outputs": [
    {
     "name": "stdout",
     "output_type": "stream",
     "text": [
      "Faithless            Music Matters (Mark Knight Dub)               495.31\n"
     ]
    }
   ],
   "source": [
    "## Task: Make use of the SELECT statement and for loop to check if your query works and display the results\n",
    "\n",
    "try:\n",
    "    rows = session.execute(\"\"\"\n",
    "    select \n",
    "        artist_name\n",
    "        ,song_title\n",
    "        ,length \n",
    "    from test.query1_table1 \n",
    "    where session_number=338 \n",
    "        and item_in_session_number = 4\n",
    "    ;\n",
    "    \"\"\")\n",
    "    for row in rows:\n",
    "        print(\"%-20s %-45s %.2f\" % (row.artist_name, row.song_title, row.length,))\n",
    "except Exception as e:\n",
    "    print(e)"
   ]
  },
  {
   "cell_type": "markdown",
   "metadata": {},
   "source": [
    "### Query2 Table2: How should we model this data? Think about what should be our Primary Key/Partition Key/Clustering Key "
   ]
  },
  {
   "cell_type": "code",
   "execution_count": 7,
   "metadata": {},
   "outputs": [
    {
     "name": "stdout",
     "output_type": "stream",
     "text": [
      "Row(count=0)\n"
     ]
    }
   ],
   "source": [
    "## Task: Query 2: Find the artist_name, song_title (sorted by item_in_session_number) and \n",
    "## name(fname and lname) of the user for user_id = 10, session_number = 182 \n",
    "## make use of create table command\n",
    "q = \"\"\"\n",
    "CREATE TABLE IF NOT EXISTS test.query2_table2(\n",
    "    artist_name text\n",
    "    ,item_in_session_number int\n",
    "    ,length float\n",
    "    ,session_number int\n",
    "    ,song_title text\n",
    "    ,fname text\n",
    "    ,lname text\n",
    "    ,user_id int\n",
    "    ,PRIMARY KEY (user_id, session_number, item_in_session_number)\n",
    "    )\n",
    ";\n",
    "\"\"\"\n",
    "\n",
    "try:\n",
    "    session.execute(q)\n",
    "except Exception as e:\n",
    "    print(e)\n",
    "    \n",
    "rows = session.execute(\"select count(*) from test.query2_table2;\")\n",
    "for row in rows:\n",
    "    print(row)"
   ]
  },
  {
   "cell_type": "markdown",
   "metadata": {},
   "source": [
    "### Let's insert our data into of table"
   ]
  },
  {
   "cell_type": "code",
   "execution_count": 8,
   "metadata": {
    "scrolled": true
   },
   "outputs": [
    {
     "name": "stdout",
     "output_type": "stream",
     "text": [
      "[6820] rows processed\n",
      "Row(count=6820)\n"
     ]
    }
   ],
   "source": [
    "# We have provided part of the code to set up the CSV file. Please complete the Apache Cassandra code below#\n",
    "file_name = 'event_data.csv'\n",
    "\n",
    "cnt=0\n",
    "with open(file_name, encoding = 'utf8') as f:\n",
    "    csv_reader = csv.reader(f)\n",
    "    next(csv_reader) # skip the header in the csv file\n",
    "    for row in csv_reader:\n",
    "        q = \"\"\"\n",
    "        INSERT INTO test.query2_table2 (\n",
    "        user_id, session_number, item_in_session_number, artist_name, length, song_title, fname, lname) \n",
    "        VALUES (%s, %s, %s, %s, %s, %s, %s, %s)\n",
    "        \"\"\"\n",
    "        # user_id, 10 \n",
    "        # session_number, 8\n",
    "        # item_in_session_number, 3\n",
    "        # artist_name, 0\n",
    "        # length, 5\n",
    "        # song_title, 9\n",
    "        # fname, 1\n",
    "        # lname, 4\n",
    "        cnt+=1\n",
    "        try:\n",
    "            session.execute(q, (int(row[10]), int(row[8]), int(row[3]), row[0]\n",
    "                                , float(row[5]), row[9], row[1], row[4]))\n",
    "        except Exception as e:\n",
    "            print(e)\n",
    "print(\"[%d] rows processed\" % cnt)\n",
    "rows = session.execute(\"select count(*) from test.query2_table2;\")\n",
    "for row in rows:\n",
    "    print(row)"
   ]
  },
  {
   "cell_type": "markdown",
   "metadata": {},
   "source": [
    "### Validate our Data Model using a SELECT"
   ]
  },
  {
   "cell_type": "code",
   "execution_count": 9,
   "metadata": {
    "scrolled": false
   },
   "outputs": [
    {
     "name": "stdout",
     "output_type": "stream",
     "text": [
      "Down To The Bone                    Keep On Keepin' On                                          0 Sylvie Cruz\n",
      "Three Drives                        Greece 2000                                                 1 Sylvie Cruz\n",
      "Sebastien Tellier                   Kilometer                                                   2 Sylvie Cruz\n",
      "Lonnie Gordon                       Catch You Baby (Steve Pitron & Max Sanna Radio Edit)        3 Sylvie Cruz\n"
     ]
    }
   ],
   "source": [
    "## Task: Make use of the SELECT statement and for loop to check if your query works and display the results\n",
    "\n",
    "try:\n",
    "    rows = session.execute(\"\"\"\n",
    "    select \n",
    "        artist_name\n",
    "        ,song_title\n",
    "        ,item_in_session_number\n",
    "        ,fname\n",
    "        ,lname \n",
    "    from test.query2_table2 \n",
    "    where user_id=10 \n",
    "        and session_number = 182\n",
    "    ;\n",
    "    \"\"\")\n",
    "    for row in rows:\n",
    "        print(\"%-35s %-55s %5s %s %s\" % (row.artist_name, \n",
    "                                         row.song_title, \n",
    "                                         row.item_in_session_number, \n",
    "                                         row.fname, \n",
    "                                         row.lname,))\n",
    "except Exception as e:\n",
    "    print(e)"
   ]
  },
  {
   "cell_type": "markdown",
   "metadata": {},
   "source": [
    "### Query3 Table3: How should we model this data? Think about what should be our Primary Key/Partition Key/Clustering Key"
   ]
  },
  {
   "cell_type": "code",
   "execution_count": 10,
   "metadata": {},
   "outputs": [
    {
     "name": "stdout",
     "output_type": "stream",
     "text": [
      "Row(count=0)\n"
     ]
    }
   ],
   "source": [
    "## Task: Query 3: Find every name(first and lastname) of the user from the SoundCloud app history that listened \n",
    "## to the song_title 'All Hands Against His Own'\n",
    "## make use of create table command    \n",
    "q = \"\"\"\n",
    "CREATE TABLE IF NOT EXISTS test.query3_table3(\n",
    "    song_title text\n",
    "    ,session_number int\n",
    "    ,item_in_session_number int\n",
    "    ,fname text\n",
    "    ,lname text\n",
    "    ,PRIMARY KEY (song_title, session_number, item_in_session_number)\n",
    "    )\n",
    ";\n",
    "\"\"\"\n",
    "\n",
    "try:\n",
    "    session.execute(q)\n",
    "except Exception as e:\n",
    "    print(e)\n",
    "    \n",
    "rows = session.execute(\"select count(*) from test.query3_table3;\")\n",
    "for row in rows:\n",
    "    print(row)"
   ]
  },
  {
   "cell_type": "markdown",
   "metadata": {},
   "source": [
    "### Let's insert our data into of table"
   ]
  },
  {
   "cell_type": "code",
   "execution_count": 11,
   "metadata": {
    "scrolled": true
   },
   "outputs": [
    {
     "name": "stdout",
     "output_type": "stream",
     "text": [
      "[6820] rows processed\n",
      "Row(count=6820)\n"
     ]
    }
   ],
   "source": [
    "# We have provided part of the code to set up the CSV file. Please complete the Apache Cassandra code below#\n",
    "file_name = 'event_data.csv'\n",
    "\n",
    "cnt=0\n",
    "with open(file_name, encoding = 'utf8') as f:\n",
    "    csv_reader = csv.reader(f)\n",
    "    next(csv_reader) # skip the header in the csv file\n",
    "    for row in csv_reader:\n",
    "        q = \"\"\"\n",
    "        INSERT INTO test.query3_table3 (\n",
    "            song_title\n",
    "            ,session_number\n",
    "            ,item_in_session_number\n",
    "            ,fname\n",
    "            ,lname\n",
    "        ) \n",
    "        VALUES (%s, %s, %s, %s, %s)\n",
    "        \"\"\"\n",
    "#         song_title 9\n",
    "#         ,session_number 8\n",
    "#         ,item_in_session_number 3\n",
    "#         ,fname 1\n",
    "#         ,lname 4\n",
    "        cnt+=1\n",
    "        try:\n",
    "            session.execute(q, (row[9], int(row[8]), int(row[3]), row[1], row[4]))\n",
    "        except Exception as e:\n",
    "            print(e)\n",
    "print(\"[%d] rows processed\" % cnt)\n",
    "rows = session.execute(\"select count(*) from test.query3_table3;\")\n",
    "for row in rows:\n",
    "    print(row)"
   ]
  },
  {
   "cell_type": "markdown",
   "metadata": {},
   "source": [
    "### Validate our Data Model using a SELECT"
   ]
  },
  {
   "cell_type": "code",
   "execution_count": 12,
   "metadata": {
    "scrolled": true
   },
   "outputs": [
    {
     "name": "stdout",
     "output_type": "stream",
     "text": [
      "All Hands Against His Own      Sara            Johnson   \n",
      "All Hands Against His Own      Jacqueline      Lynch     \n",
      "All Hands Against His Own      Tegan           Levine    \n"
     ]
    }
   ],
   "source": [
    "## Task: Make use of the SELECT statement and for loop to check if your query works and display the results\n",
    "\n",
    "try:\n",
    "    rows = session.execute(\"\"\"\n",
    "    select \n",
    "        song_title\n",
    "        ,fname\n",
    "        ,lname \n",
    "        ,session_number\n",
    "        ,item_in_session_number\n",
    "    from test.query3_table3 \n",
    "    where song_title = 'All Hands Against His Own'\n",
    "    ;\n",
    "    \"\"\")\n",
    "    for row in rows:\n",
    "        print(\"%-30s %-15s %-10s\" % (row.song_title, row.fname, row.lname))\n",
    "except Exception as e:\n",
    "    print(e)\n",
    "    "
   ]
  },
  {
   "cell_type": "markdown",
   "metadata": {},
   "source": [
    "### Drop the tables before closing out the sessions"
   ]
  },
  {
   "cell_type": "code",
   "execution_count": 13,
   "metadata": {},
   "outputs": [
    {
     "name": "stdout",
     "output_type": "stream",
     "text": [
      "3 tables in keyspace test\n",
      "test.query1_table1\n",
      "test.query2_table2\n",
      "test.query3_table3\n"
     ]
    }
   ],
   "source": [
    "rows = list(session.execute(\"SELECT * FROM system_schema.tables WHERE keyspace_name = 'test'\"))\n",
    "print(\"%d tables in keyspace test\" % len(rows))\n",
    "for row in rows:\n",
    "    print(\"%s.%s\" % (row.keyspace_name,row.table_name))"
   ]
  },
  {
   "cell_type": "code",
   "execution_count": 14,
   "metadata": {},
   "outputs": [
    {
     "name": "stdout",
     "output_type": "stream",
     "text": [
      "drop table test.query1_table1; ... ... Done.\n",
      "drop table test.query2_table2; ... ... Done.\n",
      "drop table test.query3_table3; ... ... Done.\n"
     ]
    }
   ],
   "source": [
    "for row in rows:\n",
    "    q = \"drop table %s.%s;\" % (row.keyspace_name,row.table_name)\n",
    "    print(\"%s ... ... \" % q, end=\"\")\n",
    "    session.execute(q)\n",
    "    print(\"Done.\", end=\"\\n\")"
   ]
  },
  {
   "cell_type": "code",
   "execution_count": 15,
   "metadata": {},
   "outputs": [
    {
     "name": "stdout",
     "output_type": "stream",
     "text": [
      "0 tables in keyspace test\n"
     ]
    }
   ],
   "source": [
    "rows = list(session.execute(\"SELECT * FROM system_schema.tables WHERE keyspace_name = 'test'\"))\n",
    "print(\"%d tables in keyspace test\" % len(rows))\n",
    "for row in rows:\n",
    "    print(\"%s.%s\" % (row.keyspace_name,row.table_name))"
   ]
  },
  {
   "cell_type": "markdown",
   "metadata": {},
   "source": [
    "### Close the session and cluster connection¶"
   ]
  },
  {
   "cell_type": "code",
   "execution_count": 16,
   "metadata": {},
   "outputs": [],
   "source": [
    "session.shutdown()\n",
    "cluster.shutdown()"
   ]
  },
  {
   "cell_type": "code",
   "execution_count": null,
   "metadata": {},
   "outputs": [],
   "source": []
  }
 ],
 "metadata": {
  "kernelspec": {
   "display_name": "Python 3 (ipykernel)",
   "language": "python",
   "name": "python3"
  },
  "language_info": {
   "codemirror_mode": {
    "name": "ipython",
    "version": 3
   },
   "file_extension": ".py",
   "mimetype": "text/x-python",
   "name": "python",
   "nbconvert_exporter": "python",
   "pygments_lexer": "ipython3",
   "version": "3.8.12"
  }
 },
 "nbformat": 4,
 "nbformat_minor": 2
}
