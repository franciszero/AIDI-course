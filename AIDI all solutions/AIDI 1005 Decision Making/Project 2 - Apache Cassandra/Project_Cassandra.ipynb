{
 "cells": [
  {
   "cell_type": "markdown",
   "metadata": {},
   "source": [
    "## Model Data using Cassandra\n",
    "\n",
    "\n",
    "### Please just submit this notebook in the Submission and make sure each cell has been executed and output is clearly displayed.\n",
    "\n",
    "### The aim of the project is to solve the three queries given below."
   ]
  },
  {
   "cell_type": "markdown",
   "metadata": {},
   "source": [
    "### Introduction\n",
    "\n",
    "There is a music streaming app called SoundCloud, that has been using their music streaming app and collecting data on songs and user activity and their aim is to analyze this data especially understanding what songs users are listening to. Currently, they are not making use of a NoSQL db and they have the data stored as a CSV file, thus its difficult for them to query the data. So our task is to create a NoSQL database for helping them with the analysis."
   ]
  },
  {
   "cell_type": "markdown",
   "metadata": {},
   "source": [
    "#### Import Packages "
   ]
  },
  {
   "cell_type": "code",
   "execution_count": null,
   "metadata": {},
   "outputs": [],
   "source": [
    "import pandas as pd\n",
    "import numpy as np\n",
    "import cassandra\n",
    "import csv"
   ]
  },
  {
   "cell_type": "markdown",
   "metadata": {},
   "source": [
    "\n",
    "##  The image below is a screenshot of what the data appears like in the event_data.csv\n",
    "\n",
    "<img src=\"event_data_image.jpg\">"
   ]
  },
  {
   "cell_type": "markdown",
   "metadata": {},
   "source": [
    "#### Creating a Cluster"
   ]
  },
  {
   "cell_type": "code",
   "execution_count": null,
   "metadata": {},
   "outputs": [],
   "source": [
    "# Task: Make a connection to the cassandra instance on your local machine(127.0.0.1) and \n",
    "# create a session to establish connection and begin executing queries"
   ]
  },
  {
   "cell_type": "markdown",
   "metadata": {},
   "source": [
    "#### Create & Set Keyspace"
   ]
  },
  {
   "cell_type": "code",
   "execution_count": null,
   "metadata": {},
   "outputs": [],
   "source": [
    "# Task: Create a Keyspace and Set KEYSPACE to the keyspace specified above"
   ]
  },
  {
   "cell_type": "markdown",
   "metadata": {},
   "source": [
    "## List of Queries \n",
    "\n",
    "### 1. Find the artist_name, song_title and length of song the SoundCloud app history that was heard during  session_number = 338, and item_in_session_number  = 4\n",
    "\n",
    "\n",
    "### 2. Find the artist_name, song_title (sorted by item_in_session_number) and name(fname and lname) of the user for user_id = 10, session_number = 182\n",
    "    \n",
    "\n",
    "### 3. Find every name(fname and lname) of the user from the SoundCloud app history that listened to the song_title 'All Hands Against His Own'\n",
    "\n",
    "\n"
   ]
  },
  {
   "cell_type": "markdown",
   "metadata": {},
   "source": [
    "### Query1 Table1: How should we model this data? Think about what should be our Primary Key/Partition Key/Clustering Key"
   ]
  },
  {
   "cell_type": "code",
   "execution_count": null,
   "metadata": {},
   "outputs": [],
   "source": [
    "## Task: Query 1: Find the artist_name, song_title and length of song the SoundCloud app history \n",
    "## that was heard during session_number = 338, and item_in_session_number = 4\n",
    "## make use of create table command                   "
   ]
  },
  {
   "cell_type": "markdown",
   "metadata": {},
   "source": [
    "### Let's insert our data into of table"
   ]
  },
  {
   "cell_type": "code",
   "execution_count": null,
   "metadata": {
    "scrolled": false
   },
   "outputs": [],
   "source": [
    "# We have provided part of the code to set up the CSV file. Please complete the Apache Cassandra code below#\n",
    "file_name = 'event_data.csv'\n",
    "\n",
    "with open(file_name, encoding = 'utf8') as f:\n",
    "    csv_reader = csv.reader(f)\n",
    "    next(csvreader) # skip the header in the csv file\n",
    "    for row in csv_reader:\n",
    "## Task: Write the INSERT statements and assign it to the query variable\n",
    "        query = \"<Place your insert statement and assign the values here>\"\n",
    "        \n",
    "        ## Task: Match the column in the csv file to the column in the INSERT statement.\n",
    "        ## e.g., if you want to INSERT gender from csv file into the database you will use row[2]\n",
    "        ## e.g., if you want to INSERT location from csv file into database you will use row[7]\n",
    "        session.execute(query, (row[], row[]))"
   ]
  },
  {
   "cell_type": "markdown",
   "metadata": {},
   "source": [
    "### Validate our Data Model using a SELECT"
   ]
  },
  {
   "cell_type": "code",
   "execution_count": null,
   "metadata": {
    "scrolled": true
   },
   "outputs": [],
   "source": [
    "## Task: Make use of the SELECT statement and for loop to check if your query works and display the results"
   ]
  },
  {
   "cell_type": "markdown",
   "metadata": {},
   "source": [
    "### Query2 Table2: How should we model this data? Think about what should be our Primary Key/Partition Key/Clustering Key "
   ]
  },
  {
   "cell_type": "code",
   "execution_count": null,
   "metadata": {},
   "outputs": [],
   "source": [
    "## Task: Query 2: Find the artist_name, song_title (sorted by item_in_session_number) and \n",
    "## name(fname and lname) of the user for user_id = 10, session_number = 182 \n",
    "## make use of create table command                   "
   ]
  },
  {
   "cell_type": "markdown",
   "metadata": {},
   "source": [
    "### Let's insert our data into of table"
   ]
  },
  {
   "cell_type": "code",
   "execution_count": null,
   "metadata": {
    "scrolled": false
   },
   "outputs": [],
   "source": [
    "# We have provided part of the code to set up the CSV file. Please complete the Apache Cassandra code below#\n",
    "file_name = 'event_data.csv'\n",
    "\n",
    "with open(file_name, encoding = 'utf8') as f:\n",
    "    csv_reader = csv.reader(f)\n",
    "    next(csvreader) # skip the header in the csv file\n",
    "    for row in csv_reader:\n",
    "## Task: Write the INSERT statements and assign it to the query variable\n",
    "        query = \"<Place your insert statement and assign the values here>\"\n",
    "        \n",
    "        ## Task: Match the column in the csv file to the column in the INSERT statement.\n",
    "        ## e.g., if you want to INSERT gender from csv file into the database you will use row[2]\n",
    "        ## e.g., if you want to INSERT location from csv file into database you will use row[7]\n",
    "        session.execute(query, (row[], row[]))"
   ]
  },
  {
   "cell_type": "markdown",
   "metadata": {},
   "source": [
    "### Validate our Data Model using a SELECT"
   ]
  },
  {
   "cell_type": "code",
   "execution_count": null,
   "metadata": {
    "scrolled": true
   },
   "outputs": [],
   "source": [
    "## Task: Make use of the SELECT statement and for loop to check if your query works and display the results"
   ]
  },
  {
   "cell_type": "markdown",
   "metadata": {},
   "source": [
    "### Query3 Table3: How should we model this data? Think about what should be our Primary Key/Partition Key/Clustering Key"
   ]
  },
  {
   "cell_type": "code",
   "execution_count": null,
   "metadata": {},
   "outputs": [],
   "source": [
    "## Task: Query 3: Find every name(first and lastname) of the user from the SoundCloud app history that listened \n",
    "## to the song_title 'All Hands Against His Own'\n",
    "## make use of create table command                   "
   ]
  },
  {
   "cell_type": "markdown",
   "metadata": {},
   "source": [
    "### Let's insert our data into of table"
   ]
  },
  {
   "cell_type": "code",
   "execution_count": null,
   "metadata": {
    "scrolled": false
   },
   "outputs": [],
   "source": [
    "# We have provided part of the code to set up the CSV file. Please complete the Apache Cassandra code below#\n",
    "file_name = 'event_data.csv'\n",
    "\n",
    "with open(file_name, encoding = 'utf8') as f:\n",
    "    csv_reader = csv.reader(f)\n",
    "    next(csvreader) # skip the header in the csv file\n",
    "    for row in csv_reader:\n",
    "## Task: Write the INSERT statements and assign it to the query variable\n",
    "        query = \"<Place your insert statement and assign the values here>\"\n",
    "        \n",
    "        ## Task: Match the column in the csv file to the column in the INSERT statement.\n",
    "        ## e.g., if you want to INSERT gender from csv file into the database you will use row[2]\n",
    "        ## e.g., if you want to INSERT location from csv file into database you will use row[7]\n",
    "        session.execute(query, (row[], row[]))"
   ]
  },
  {
   "cell_type": "markdown",
   "metadata": {},
   "source": [
    "### Validate our Data Model using a SELECT"
   ]
  },
  {
   "cell_type": "code",
   "execution_count": null,
   "metadata": {
    "scrolled": true
   },
   "outputs": [],
   "source": [
    "## Task: Make use of the SELECT statement and for loop to check if your query works and display the results"
   ]
  },
  {
   "cell_type": "markdown",
   "metadata": {},
   "source": [
    "### Drop the tables before closing out the sessions"
   ]
  },
  {
   "cell_type": "code",
   "execution_count": null,
   "metadata": {},
   "outputs": [],
   "source": []
  },
  {
   "cell_type": "markdown",
   "metadata": {},
   "source": [
    "### Close the session and cluster connection¶"
   ]
  },
  {
   "cell_type": "code",
   "execution_count": null,
   "metadata": {},
   "outputs": [],
   "source": []
  }
 ],
 "metadata": {
  "kernelspec": {
   "display_name": "Python 3",
   "language": "python",
   "name": "python3"
  },
  "language_info": {
   "codemirror_mode": {
    "name": "ipython",
    "version": 3
   },
   "file_extension": ".py",
   "mimetype": "text/x-python",
   "name": "python",
   "nbconvert_exporter": "python",
   "pygments_lexer": "ipython3",
   "version": "3.7.3"
  }
 },
 "nbformat": 4,
 "nbformat_minor": 2
}
