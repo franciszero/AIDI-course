{
 "cells": [
  {
   "cell_type": "code",
   "execution_count": null,
   "metadata": {
    "id": "eNfp4IDKlJaA"
   },
   "outputs": [],
   "source": []
  },
  {
   "cell_type": "markdown",
   "metadata": {
    "id": "e_U92HTr1kyv"
   },
   "source": [
    "Finding the Value Function in MRP???"
   ]
  },
  {
   "cell_type": "code",
   "execution_count": null,
   "metadata": {
    "id": "a5LZVnHN1gSu"
   },
   "outputs": [],
   "source": [
    "import numpy as np\n",
    "from scipy import linalg"
   ]
  },
  {
   "cell_type": "code",
   "execution_count": null,
   "metadata": {
    "colab": {
     "base_uri": "https://localhost:8080/"
    },
    "id": "CbMZ689nlJaG",
    "outputId": "15be3d3d-22e5-42a5-df54-f853336d8021"
   },
   "outputs": [
    {
     "name": "stdout",
     "output_type": "stream",
     "text": [
      "[[0.  0.7 0.3]\n",
      " [0.5 0.  0.5]\n",
      " [0.  0.1 0.9]]\n"
     ]
    },
    {
     "name": "stderr",
     "output_type": "stream",
     "text": [
      "<ipython-input-3-88f36c8076a7>:3: DeprecationWarning: `np.float` is a deprecated alias for the builtin `float`. To silence this warning, use `float` by itself. Doing this will not modify any behavior and is safe. If you specifically wanted the numpy scalar type, use `np.float64` here.\n",
      "Deprecated in NumPy 1.20; for more details and guidance: https://numpy.org/devdocs/release/1.20.0-notes.html#deprecations\n",
      "  P = np.zeros((n_states, n_states), np.float)\n"
     ]
    }
   ],
   "source": [
    "# define the Transition Probability Matrix\n",
    "n_states = 3\n",
    "P = np.zeros((n_states, n_states), np.float)\n",
    "P[0, 1] = 0.7\n",
    "P[0, 2] = 0.3\n",
    "P[1, 0] = 0.5\n",
    "P[1, 2] = 0.5\n",
    "P[2, 1] = 0.1\n",
    "P[2, 2] = 0.9\n",
    "print(P)"
   ]
  },
  {
   "cell_type": "code",
   "execution_count": null,
   "metadata": {
    "id": "TbKnNXEAlJaQ"
   },
   "outputs": [],
   "source": [
    "# the sum over columns is 1 for each row being a probability matrix\n",
    "assert((np.sum(P, axis=1) == 1).all())"
   ]
  },
  {
   "cell_type": "code",
   "execution_count": null,
   "metadata": {
    "colab": {
     "base_uri": "https://localhost:8080/"
    },
    "id": "RVSBCHKblJaV",
    "outputId": "5baaca00-ab9e-4986-821d-a92f5d750396"
   },
   "outputs": [
    {
     "name": "stderr",
     "output_type": "stream",
     "text": [
      "<ipython-input-5-261186755d66>:2: DeprecationWarning: `np.float` is a deprecated alias for the builtin `float`. To silence this warning, use `float` by itself. Doing this will not modify any behavior and is safe. If you specifically wanted the numpy scalar type, use `np.float64` here.\n",
      "Deprecated in NumPy 1.20; for more details and guidance: https://numpy.org/devdocs/release/1.20.0-notes.html#deprecations\n",
      "  R = np.zeros((n_states, n_states), np.float)\n"
     ]
    }
   ],
   "source": [
    "# define the reward matrix\n",
    "R = np.zeros((n_states, n_states), np.float)\n",
    "R[0, 1] = 1\n",
    "R[0, 2] = 10\n",
    "R[1, 0] = 0\n",
    "R[1, 2] = 1\n",
    "R[2, 1] = -1\n",
    "R[2, 2] = 10"
   ]
  },
  {
   "cell_type": "code",
   "execution_count": null,
   "metadata": {
    "id": "j_DfrBLolJac"
   },
   "outputs": [],
   "source": [
    "# calculate expected reward for each state by multiplying the probability matrix for each reward\n",
    "R_expected = np.sum(P * R, axis=1, keepdims=True)"
   ]
  },
  {
   "cell_type": "code",
   "execution_count": null,
   "metadata": {
    "colab": {
     "base_uri": "https://localhost:8080/"
    },
    "id": "QgJYVlWxlJa_",
    "outputId": "8d8607b9-18f4-45c5-c3df-00796f56ddb5"
   },
   "outputs": [
    {
     "data": {
      "text/plain": [
       "array([[3.7],\n",
       "       [0.5],\n",
       "       [8.9]])"
      ]
     },
     "execution_count": 7,
     "metadata": {},
     "output_type": "execute_result"
    }
   ],
   "source": [
    "# The matrix R_expected\n",
    "R_expected"
   ]
  },
  {
   "cell_type": "code",
   "execution_count": null,
   "metadata": {
    "id": "2MTiyU6-lJbD"
   },
   "outputs": [],
   "source": [
    "# define the discount factor\n",
    "gamma = 0.9"
   ]
  },
  {
   "cell_type": "code",
   "execution_count": null,
   "metadata": {
    "id": "3NfcD9jRlJbL"
   },
   "outputs": [],
   "source": [
    "# Now it is possible to solve the Bellman Equation\n",
    "A = np.eye(n_states) - gamma * P"
   ]
  },
  {
   "cell_type": "code",
   "execution_count": null,
   "metadata": {
    "id": "IC36JzKilJbP"
   },
   "outputs": [],
   "source": [
    "B = R_expected"
   ]
  },
  {
   "cell_type": "code",
   "execution_count": null,
   "metadata": {
    "colab": {
     "base_uri": "https://localhost:8080/"
    },
    "id": "Q2ewdy_vlJbU",
    "outputId": "65ae75dd-22f0-49f4-e4e6-5fc50cea98d4"
   },
   "outputs": [
    {
     "data": {
      "text/plain": [
       "array([[65.540732  ],\n",
       "       [64.90791027],\n",
       "       [77.5879575 ]])"
      ]
     },
     "execution_count": 11,
     "metadata": {},
     "output_type": "execute_result"
    }
   ],
   "source": [
    "# solve using scipy linalg\n",
    "V = linalg.solve(A, B)\n",
    "V"
   ]
  }
 ],
 "metadata": {
  "colab": {
   "provenance": []
  },
  "kernelspec": {
   "display_name": "Python 3 (ipykernel)",
   "language": "python",
   "name": "python3"
  },
  "language_info": {
   "codemirror_mode": {
    "name": "ipython",
    "version": 3
   },
   "file_extension": ".py",
   "mimetype": "text/x-python",
   "name": "python",
   "nbconvert_exporter": "python",
   "pygments_lexer": "ipython3",
   "version": "3.8.12"
  }
 },
 "nbformat": 4,
 "nbformat_minor": 1
}
