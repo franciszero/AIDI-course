{
 "cells": [
  {
   "cell_type": "code",
   "execution_count": 1,
   "id": "6e3a2221",
   "metadata": {},
   "outputs": [],
   "source": [
    "import numpy as np\n",
    "from scipy import linalg"
   ]
  },
  {
   "cell_type": "code",
   "execution_count": 19,
   "id": "100416ef",
   "metadata": {},
   "outputs": [
    {
     "name": "stderr",
     "output_type": "stream",
     "text": [
      "/var/folders/lm/kt3nd3_d5xbdlqg_f3xz91y40000gn/T/ipykernel_84269/1590824401.py:2: DeprecationWarning: `np.float` is a deprecated alias for the builtin `float`. To silence this warning, use `float` by itself. Doing this will not modify any behavior and is safe. If you specifically wanted the numpy scalar type, use `np.float64` here.\n",
      "Deprecated in NumPy 1.20; for more details and guidance: https://numpy.org/devdocs/release/1.20.0-notes.html#deprecations\n",
      "  p=np.zeros((n_states,n_states),np.float)\n"
     ]
    }
   ],
   "source": [
    "n_states=3\n",
    "p=np.zeros((n_states,n_states),np.float)\n",
    "R=np.zeros_like(p)\n"
   ]
  },
  {
   "cell_type": "code",
   "execution_count": null,
   "id": "8999c288",
   "metadata": {},
   "outputs": [],
   "source": []
  },
  {
   "cell_type": "code",
   "execution_count": null,
   "id": "9ec687fc",
   "metadata": {},
   "outputs": [],
   "source": []
  },
  {
   "cell_type": "code",
   "execution_count": 25,
   "id": "05d12239",
   "metadata": {},
   "outputs": [
    {
     "name": "stdout",
     "output_type": "stream",
     "text": [
      "[[0.  0.7 0.3]\n",
      " [0.5 0.  0.5]\n",
      " [0.  0.1 0.9]] \n",
      "\n",
      " [[ 0.  1. 10.]\n",
      " [ 0.  0.  1.]\n",
      " [ 0. -1. 10.]]\n"
     ]
    }
   ],
   "source": [
    "p[0,1],R[0,1]=0.7,1\n",
    "p[0,2],R[0,2]=0.3,10\n",
    "p[1,0],R[1,0]=0.5,0\n",
    "p[1,2],R[1,2]=0.5,1\n",
    "p[2,1],R[2,1]=0.1,-1\n",
    "p[2,2],R[2,2]=0.9,10\n",
    "print(p,'\\n\\n',R)"
   ]
  },
  {
   "cell_type": "code",
   "execution_count": 26,
   "id": "1d301d0a",
   "metadata": {},
   "outputs": [
    {
     "name": "stdout",
     "output_type": "stream",
     "text": [
      "[[3.7]\n",
      " [0.5]\n",
      " [8.9]]\n"
     ]
    }
   ],
   "source": [
    "R_expected=np.sum(p*R, axis=1, keepdims=True)\n",
    "print(R_expected)"
   ]
  },
  {
   "cell_type": "code",
   "execution_count": 27,
   "id": "ef61e763",
   "metadata": {},
   "outputs": [
    {
     "data": {
      "text/plain": [
       "array([[ 0. , -0.3,  3.7],\n",
       "       [ 0. ,  0. , 10. ],\n",
       "       [ 0. , -0.9,  9.1]])"
      ]
     },
     "execution_count": 27,
     "metadata": {},
     "output_type": "execute_result"
    }
   ],
   "source": [
    "np.dot(p,R)"
   ]
  },
  {
   "cell_type": "code",
   "execution_count": 28,
   "id": "fe1f376e",
   "metadata": {},
   "outputs": [
    {
     "data": {
      "text/plain": [
       "array([[ 0. ,  0.7,  3. ],\n",
       "       [ 0. ,  0. ,  0.5],\n",
       "       [ 0. , -0.1,  9. ]])"
      ]
     },
     "execution_count": 28,
     "metadata": {},
     "output_type": "execute_result"
    }
   ],
   "source": [
    "p*R"
   ]
  },
  {
   "cell_type": "code",
   "execution_count": 30,
   "id": "72829c7f",
   "metadata": {},
   "outputs": [
    {
     "data": {
      "text/plain": [
       "array([[65.540732  ],\n",
       "       [64.90791027],\n",
       "       [77.5879575 ]])"
      ]
     },
     "execution_count": 30,
     "metadata": {},
     "output_type": "execute_result"
    }
   ],
   "source": [
    "gamma=0.9\n",
    "A = np.eye(n_states) - gamma*p\n",
    "B = R_expected\n",
    "v = linalg.solve(A,B)\n",
    "v"
   ]
  },
  {
   "cell_type": "code",
   "execution_count": null,
   "id": "23908b2b",
   "metadata": {},
   "outputs": [],
   "source": []
  },
  {
   "cell_type": "code",
   "execution_count": null,
   "id": "c6e13a79",
   "metadata": {},
   "outputs": [],
   "source": []
  },
  {
   "cell_type": "code",
   "execution_count": null,
   "id": "1d82e988",
   "metadata": {},
   "outputs": [],
   "source": []
  },
  {
   "cell_type": "code",
   "execution_count": null,
   "id": "6ee58c4a",
   "metadata": {},
   "outputs": [],
   "source": []
  },
  {
   "cell_type": "code",
   "execution_count": null,
   "id": "6b10cc9e",
   "metadata": {},
   "outputs": [],
   "source": []
  },
  {
   "cell_type": "code",
   "execution_count": null,
   "id": "8cb2f886",
   "metadata": {},
   "outputs": [],
   "source": []
  },
  {
   "cell_type": "code",
   "execution_count": null,
   "id": "613901bf",
   "metadata": {},
   "outputs": [],
   "source": []
  },
  {
   "cell_type": "code",
   "execution_count": null,
   "id": "22a3abe3",
   "metadata": {},
   "outputs": [],
   "source": []
  },
  {
   "cell_type": "code",
   "execution_count": null,
   "id": "0d3e9264",
   "metadata": {},
   "outputs": [],
   "source": []
  },
  {
   "cell_type": "code",
   "execution_count": null,
   "id": "15b570e2",
   "metadata": {},
   "outputs": [],
   "source": []
  },
  {
   "cell_type": "code",
   "execution_count": null,
   "id": "06cd1607",
   "metadata": {},
   "outputs": [],
   "source": []
  },
  {
   "cell_type": "code",
   "execution_count": null,
   "id": "fd294e00",
   "metadata": {},
   "outputs": [],
   "source": []
  },
  {
   "cell_type": "code",
   "execution_count": null,
   "id": "2648be75",
   "metadata": {},
   "outputs": [],
   "source": []
  },
  {
   "cell_type": "code",
   "execution_count": null,
   "id": "ef7a5eb2",
   "metadata": {},
   "outputs": [],
   "source": []
  },
  {
   "cell_type": "code",
   "execution_count": null,
   "id": "6bc2b1fa",
   "metadata": {},
   "outputs": [],
   "source": []
  }
 ],
 "metadata": {
  "kernelspec": {
   "display_name": "Python 3 (ipykernel)",
   "language": "python",
   "name": "python3"
  },
  "language_info": {
   "codemirror_mode": {
    "name": "ipython",
    "version": 3
   },
   "file_extension": ".py",
   "mimetype": "text/x-python",
   "name": "python",
   "nbconvert_exporter": "python",
   "pygments_lexer": "ipython3",
   "version": "3.8.12"
  }
 },
 "nbformat": 4,
 "nbformat_minor": 5
}
