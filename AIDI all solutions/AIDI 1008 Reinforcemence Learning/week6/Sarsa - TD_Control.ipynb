{
 "cells": [
  {
   "cell_type": "markdown",
   "metadata": {},
   "source": [
    "# SARSA algorithm: On-policy TD control. Finds the optimal epsilon-greedy policy.\n",
    "    \n",
    "    Args:\n",
    "        env: OpenAI environment.\n",
    "        num_episodes: Number of episodes to run for.\n",
    "        discount_factor: Gamma discount factor.\n",
    "        alpha: TD learning rate.\n",
    "        epsilon: Chance the sample a random action. Float betwen 0 and 1.\n",
    "    \n",
    "    Returns:\n",
    "        A tuple (Q, stats).\n",
    "        Q is the optimal action-value function, a dictionary mapping state -> action values.\n",
    "        stats is an EpisodeStats object with two numpy arrays for episode_lengths and episode_rewards.\n",
    "    \"\"\""
   ]
  },
  {
   "cell_type": "code",
   "execution_count": 1,
   "metadata": {},
   "outputs": [
    {
     "name": "stdout",
     "output_type": "stream",
     "text": [
      "Requirement already satisfied: gym==0.19.0 in c:\\users\\sdhaka\\anaconda3\\lib\\site-packages (0.19.0)\n",
      "Requirement already satisfied: cloudpickle<1.7.0,>=1.2.0 in c:\\users\\sdhaka\\anaconda3\\lib\\site-packages (from gym==0.19.0) (1.6.0)\n",
      "Requirement already satisfied: numpy>=1.18.0 in c:\\users\\sdhaka\\anaconda3\\lib\\site-packages (from gym==0.19.0) (1.24.1)\n",
      "Note: you may need to restart the kernel to use updated packages.\n"
     ]
    },
    {
     "name": "stderr",
     "output_type": "stream",
     "text": [
      "WARNING: Ignoring invalid distribution -illow (c:\\users\\sdhaka\\anaconda3\\lib\\site-packages)\n",
      "WARNING: Ignoring invalid distribution -illow (c:\\users\\sdhaka\\anaconda3\\lib\\site-packages)\n",
      "WARNING: Ignoring invalid distribution -illow (c:\\users\\sdhaka\\anaconda3\\lib\\site-packages)\n",
      "WARNING: Ignoring invalid distribution -illow (c:\\users\\sdhaka\\anaconda3\\lib\\site-packages)\n",
      "WARNING: Ignoring invalid distribution -illow (c:\\users\\sdhaka\\anaconda3\\lib\\site-packages)\n",
      "WARNING: Ignoring invalid distribution -illow (c:\\users\\sdhaka\\anaconda3\\lib\\site-packages)\n"
     ]
    }
   ],
   "source": [
    "pip install --upgrade gym==0.19.0"
   ]
  },
  {
   "cell_type": "code",
   "execution_count": 2,
   "metadata": {},
   "outputs": [],
   "source": [
    "import numpy as np\n",
    "from collections import defaultdict\n",
    "from windy_gridworld import WindyGridworldEnv"
   ]
  },
  {
   "cell_type": "markdown",
   "metadata": {},
   "source": [
    "# This is a standard grid-world, with start and goal states, but with one diﬀerence: there is a crosswind upward through the middle of the grid. The actions are the standard four — up, down,right, and left — but in the middle region the resultant next states are shifted upward by a “wind,” the strength of which varies from column to column. The strength of the wind is given below each column, in number of cells shifted upward. For example, if you are one cell to the right of the goal, then the action left takes you to the cell just above the goal. Let us treat this as an undiscounted episodic task, with constant rewards of −1 until the goal state is reached."
   ]
  },
  {
   "cell_type": "code",
   "execution_count": 3,
   "metadata": {},
   "outputs": [
    {
     "name": "stdout",
     "output_type": "stream",
     "text": [
      "Requirement already satisfied: numpy in c:\\users\\sdhaka\\anaconda3\\lib\\site-packages (1.24.1)\n",
      "Note: you may need to restart the kernel to use updated packages.\n"
     ]
    },
    {
     "name": "stderr",
     "output_type": "stream",
     "text": [
      "WARNING: Ignoring invalid distribution -illow (c:\\users\\sdhaka\\anaconda3\\lib\\site-packages)\n",
      "WARNING: Ignoring invalid distribution -illow (c:\\users\\sdhaka\\anaconda3\\lib\\site-packages)\n",
      "WARNING: Ignoring invalid distribution -illow (c:\\users\\sdhaka\\anaconda3\\lib\\site-packages)\n",
      "WARNING: Ignoring invalid distribution -illow (c:\\users\\sdhaka\\anaconda3\\lib\\site-packages)\n",
      "WARNING: Ignoring invalid distribution -illow (c:\\users\\sdhaka\\anaconda3\\lib\\site-packages)\n",
      "WARNING: Ignoring invalid distribution -illow (c:\\users\\sdhaka\\anaconda3\\lib\\site-packages)\n"
     ]
    }
   ],
   "source": [
    "pip install --upgrade numpy"
   ]
  },
  {
   "cell_type": "code",
   "execution_count": 4,
   "metadata": {},
   "outputs": [],
   "source": [
    "env = WindyGridworldEnv()\n",
    "nA = env.action_space.n\n",
    "nB=env.observation_space.n\n",
    "epsilon = 0.1\n",
    "gamma = 1.0\n",
    "alpha=0.1"
   ]
  },
  {
   "cell_type": "code",
   "execution_count": 5,
   "metadata": {},
   "outputs": [
    {
     "data": {
      "text/plain": [
       "4"
      ]
     },
     "execution_count": 5,
     "metadata": {},
     "output_type": "execute_result"
    }
   ],
   "source": [
    "nA\n"
   ]
  },
  {
   "cell_type": "code",
   "execution_count": 6,
   "metadata": {},
   "outputs": [
    {
     "data": {
      "text/plain": [
       "70"
      ]
     },
     "execution_count": 6,
     "metadata": {},
     "output_type": "execute_result"
    }
   ],
   "source": [
    "nB"
   ]
  },
  {
   "cell_type": "code",
   "execution_count": 7,
   "metadata": {},
   "outputs": [],
   "source": [
    "def get_epision_greedy_action_policy(Q,observation):\n",
    "    \n",
    "    A = np.ones(nA, dtype=float) * epsilon / nA\n",
    "    best_action = np.argmax(Q[observation])\n",
    "    A[best_action] += (1.0 - epsilon)\n",
    "    \n",
    "    return A"
   ]
  },
  {
   "cell_type": "markdown",
   "metadata": {},
   "source": [
    "With the help of choice() method, we can get the random samples of one dimensional array and return the random samples of numpy array.\n",
    "\n",
    "Syntax : numpy.random.choice(a, size=None, replace=True, p=None)\n",
    "\n",
    "Parameters:\n",
    "\n",
    "1) a – 1-D array of numpy having random samples.\n",
    "\n",
    "2) size – Output shape of random samples of numpy array.\n",
    "\n",
    "3) replace – Whether the sample is with or without replacement.\n",
    "\n",
    "4) p – The probability attach with every samples in a. \n",
    "\n"
   ]
  },
  {
   "cell_type": "code",
   "execution_count": 8,
   "metadata": {},
   "outputs": [],
   "source": [
    "def sarsa(total_episodes):\n",
    "    \n",
    "    # The final action-value function.\n",
    "    # A nested dictionary that maps state -> (action -> action-value).\n",
    "    Q = defaultdict(lambda: np.zeros(env.action_space.n))\n",
    "    \n",
    "    for k in range(total_episodes):\n",
    "        \n",
    "        current_state = env.reset()\n",
    "        # The policy we're following\n",
    "        prob_scores = get_epision_greedy_action_policy(Q,current_state)\n",
    "        \n",
    "        # sample action following epsilon greedy policy\n",
    "        current_action = np.random.choice(np.arange(nA), p=prob_scores)\n",
    "        \n",
    "        while True:\n",
    "            # Perform the action -> Get the reward and observe the next state \n",
    "            next_state, reward, done, _ = env.step(current_action)\n",
    "            \n",
    "            prob_scores_next_state = get_epision_greedy_action_policy(Q,next_state)\n",
    "            \n",
    "             # Choose the action for the next state following our current policy\n",
    "            next_action = np.random.choice(np.arange(nA), p=prob_scores_next_state)\n",
    "            \n",
    "            # value that we should have got\n",
    "            td_target = reward + gamma * Q[next_state][next_action]\n",
    "            td_error = td_target - Q[current_state][current_action]\n",
    "            \n",
    "              # SARSA update\n",
    "            Q[current_state][current_action] = Q[current_state][current_action] + alpha * td_error\n",
    "    \n",
    "            if done:\n",
    "                break\n",
    "            \n",
    "            # Update current state\n",
    "            current_state = next_state        \n",
    "            current_action = next_action\n",
    "    return Q"
   ]
  },
  {
   "cell_type": "code",
   "execution_count": 9,
   "metadata": {},
   "outputs": [],
   "source": [
    "Q = sarsa(100)"
   ]
  },
  {
   "cell_type": "code",
   "execution_count": 10,
   "metadata": {},
   "outputs": [
    {
     "data": {
      "text/plain": [
       "defaultdict(<function __main__.sarsa.<locals>.<lambda>()>,\n",
       "            {30: array([-6.75022711, -6.73180308, -6.69706656, -6.76651886]),\n",
       "             20: array([-7.06406892, -6.91213625, -6.86325296, -6.9427506 ]),\n",
       "             10: array([-7.2644577 , -7.26094489, -7.213956  , -7.41726457]),\n",
       "             21: array([-6.7144231 , -6.83955798, -6.73597922, -6.79729104]),\n",
       "             11: array([-7.2567834 , -7.24984702, -7.17687721, -7.23151416]),\n",
       "             1: array([-7.71986104, -7.64695175, -7.55006933, -7.62223619]),\n",
       "             2: array([-8.18631008, -8.09019449, -8.06505731, -8.0602675 ]),\n",
       "             3: array([-8.85661618, -8.89708766, -8.77506107, -8.79742876]),\n",
       "             4: array([-9.41529913, -9.46846287, -9.40135412, -9.35959525]),\n",
       "             5: array([-9.49199668, -9.51913427, -9.62701117, -9.49879515]),\n",
       "             6: array([-8.91920892, -8.89581905, -9.04014548, -8.94235146]),\n",
       "             7: array([-8.04597363, -7.97570202, -8.12579311, -8.34572518]),\n",
       "             8: array([-7.13430829, -7.00011081, -7.17831851, -7.46734155]),\n",
       "             9: array([-6.22428883, -6.07868533, -6.03757574, -6.18377522]),\n",
       "             19: array([-5.61950009, -5.24034226, -5.03677019, -5.16922814]),\n",
       "             18: array([-5.28390809, -5.31485341, -5.28093933, -5.14352591]),\n",
       "             12: array([-7.53331954, -7.55797053, -7.35097915, -7.37226713]),\n",
       "             13: array([-7.85288614, -8.02891947, -7.92430497, -7.81818829]),\n",
       "             22: array([-6.85021889, -6.80268894, -6.70253819, -6.69320651]),\n",
       "             0: array([-7.39453473, -7.43173359, -7.45821981, -7.4688486 ]),\n",
       "             29: array([-4.06534294, -4.28941025, -4.03662122, -4.20089579]),\n",
       "             39: array([-3.42748985, -3.31611933, -3.02434833, -3.12314137]),\n",
       "             28: array([-4.02194774, -4.15095997, -4.04002406, -4.17317092]),\n",
       "             23: array([-7.42578752, -7.09493999, -6.9132405 , -7.02287891]),\n",
       "             32: array([-6.17026071, -6.09164459, -6.06514718, -6.20131705]),\n",
       "             31: array([-6.38157762, -6.34078156, -6.32261784, -6.35643784]),\n",
       "             33: array([-6.16962736, -6.11134597, -6.06554794, -6.02718847]),\n",
       "             41: array([-5.89479544, -5.76119694, -5.75648037, -5.77302023]),\n",
       "             40: array([-6.09120597, -6.09456829, -6.05983926, -6.14036879]),\n",
       "             14: array([-8.09342313, -7.84956424, -7.88669324, -7.96802644]),\n",
       "             49: array([-2.36879823, -2.18527874, -2.10478436, -2.00849781]),\n",
       "             38: array([-2.85885302, -2.89204567, -2.70992812, -2.7833902 ]),\n",
       "             42: array([-5.63132862, -5.43285138, -5.35575344, -5.52342476]),\n",
       "             43: array([-5.50035385, -5.25692751, -5.2975512 , -5.30273386]),\n",
       "             51: array([-5.21327577, -5.20215482, -5.25525297, -5.2767416 ]),\n",
       "             50: array([-5.61147393, -5.55452111, -5.48971172, -5.45467256]),\n",
       "             52: array([-4.80145179, -4.72682986, -4.7088465 , -4.75102574]),\n",
       "             53: array([-4.33078088, -4.08635657, -4.13176568, -4.35948048]),\n",
       "             24: array([-6.87330951, -6.49711241, -6.44442342, -6.48926628]),\n",
       "             17: array([-5.27329039, -5.19642761, -5.45387878, -5.6001915 ]),\n",
       "             61: array([-4.90264547, -4.81943284, -4.95737361, -4.78264171]),\n",
       "             60: array([-5.16238069, -5.13647856, -5.11280407, -5.25169828]),\n",
       "             62: array([-4.23761055, -4.23048819, -4.2306935 , -4.28204988]),\n",
       "             63: array([-3.8276639 , -3.54811308, -3.61075178, -3.62225369]),\n",
       "             34: array([-5.32893971, -5.3973275 , -5.36214919, -5.50845182]),\n",
       "             59: array([-1.3930808 , -1.70021798, -1.37775201, -1.34434635]),\n",
       "             48: array([-1.32069589, -1.73312252, -1.30817671, -0.99995502]),\n",
       "             44: array([-3.69511459, -3.77310681, -3.82688704, -3.79230521]),\n",
       "             15: array([-7.46366622, -7.37802313, -7.4770882 , -7.58712716]),\n",
       "             27: array([-2.9325539 , -3.11430314, -3.07562266, -2.76968262]),\n",
       "             54: array([-3.18982005, -2.99958684, -3.08127177, -3.13101566]),\n",
       "             25: array([-6.08961547, -5.67863846, -5.50918163, -5.82551642]),\n",
       "             35: array([-3.9833674 , -3.75442946, -3.59165381, -3.86228964]),\n",
       "             69: array([-0.87778247, -1.04085842, -0.98566561, -0.93216927]),\n",
       "             58: array([-1.00184763, -0.93382341, -0.76979846, -0.81077936]),\n",
       "             37: array([0., 0., 0., 0.]),\n",
       "             16: array([-6.45077787, -6.51104243, -6.58473616, -6.43768748]),\n",
       "             45: array([-3.00583036, -2.60645066, -2.51349987, -3.05991589]),\n",
       "             47: array([-1.10985142, -0.6467096 , -0.40951   , -0.43284329]),\n",
       "             68: array([-0.59463668, -0.47758334, -0.573951  , -0.488559  ]),\n",
       "             26: array([-4.50931063, -4.69421745, -4.7683229 , -4.82293105]),\n",
       "             36: array([-2.97157432, -2.83431978, -2.86811521, -2.71092759]),\n",
       "             57: array([-0.17796618, -0.21628543, -0.2611154 , -0.23533909])})"
      ]
     },
     "execution_count": 10,
     "metadata": {},
     "output_type": "execute_result"
    }
   ],
   "source": [
    "#here is the output, the output array contains the values for every action for every state\n",
    "#A function that takes the observation as an argument and returns\n",
    "        #the probabilities for each action in the form of a numpy array of length nA.\n",
    "Q"
   ]
  },
  {
   "cell_type": "code",
   "execution_count": null,
   "metadata": {},
   "outputs": [],
   "source": []
  }
 ],
 "metadata": {
  "kernelspec": {
   "display_name": "Python 3 (ipykernel)",
   "language": "python",
   "name": "python3"
  },
  "language_info": {
   "codemirror_mode": {
    "name": "ipython",
    "version": 3
   },
   "file_extension": ".py",
   "mimetype": "text/x-python",
   "name": "python",
   "nbconvert_exporter": "python",
   "pygments_lexer": "ipython3",
   "version": "3.8.12"
  }
 },
 "nbformat": 4,
 "nbformat_minor": 2
}
