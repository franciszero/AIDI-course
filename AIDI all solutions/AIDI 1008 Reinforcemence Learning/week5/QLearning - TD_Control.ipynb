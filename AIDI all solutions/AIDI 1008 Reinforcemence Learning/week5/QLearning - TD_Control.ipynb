{
 "cells": [
  {
   "cell_type": "code",
   "execution_count": 1,
   "metadata": {
    "collapsed": true
   },
   "outputs": [],
   "source": [
    "import numpy as np\n",
    "from collections import defaultdict\n",
    "from cliff_walking import CliffWalkingEnv"
   ]
  },
  {
   "cell_type": "code",
   "execution_count": 2,
   "metadata": {
    "collapsed": true
   },
   "outputs": [],
   "source": [
    "env = CliffWalkingEnv()\n",
    "nA = env.action_space.n\n",
    "epsilon = 0.1\n",
    "gamma = 1.0\n",
    "alpha=0.1"
   ]
  },
  {
   "cell_type": "code",
   "execution_count": 3,
   "metadata": {
    "collapsed": true
   },
   "outputs": [],
   "source": [
    "def get_epision_greedy_action_policy(Q,observation):\n",
    "    \n",
    "    A = np.ones(nA, dtype=float) * epsilon / nA\n",
    "    best_action = np.argmax(Q[observation])\n",
    "    A[best_action] += (1.0 - epsilon)\n",
    "    \n",
    "    return A"
   ]
  },
  {
   "cell_type": "code",
   "execution_count": 4,
   "metadata": {
    "collapsed": true
   },
   "outputs": [],
   "source": [
    "def qlearning(total_episodes):\n",
    "    \n",
    "    Q = defaultdict(lambda: np.zeros(env.action_space.n))\n",
    "    \n",
    "    for k in range(total_episodes):\n",
    "        \n",
    "        current_state = env.reset()\n",
    "        \n",
    "        while True:\n",
    "            \n",
    "            prob_scores = get_epision_greedy_action_policy(Q,current_state)\n",
    "            current_action = np.random.choice(np.arange(nA), p=prob_scores)\n",
    "            \n",
    "            next_state, reward, done, _ = env.step(current_action)\n",
    "            \n",
    "            best_next_action = np.argmax(Q[next_state])\n",
    "            \n",
    "            td_target = reward + gamma * Q[next_state][best_next_action]\n",
    "            td_error = td_target - Q[current_state][current_action]\n",
    "            \n",
    "            Q[current_state][current_action] = Q[current_state][current_action] + alpha * td_error\n",
    "    \n",
    "            if done:\n",
    "                break\n",
    "                \n",
    "            current_state = next_state \n",
    "            \n",
    "    return Q"
   ]
  },
  {
   "cell_type": "code",
   "execution_count": 5,
   "metadata": {
    "collapsed": false
   },
   "outputs": [],
   "source": [
    "Q = qlearning(100)"
   ]
  },
  {
   "cell_type": "code",
   "execution_count": 6,
   "metadata": {
    "collapsed": false
   },
   "outputs": [
    {
     "data": {
      "text/plain": [
       "defaultdict(<function __main__.qlearning.<locals>.<lambda>>,\n",
       "            {0: array([-5.74115812, -5.76274022, -5.81423673, -5.78061167]),\n",
       "             1: array([-5.56057005, -5.54730542, -5.5527676 , -5.62917289]),\n",
       "             2: array([-5.27868193, -5.2359664 , -5.29809639, -5.34491866]),\n",
       "             3: array([-4.87912312, -4.90269976, -4.92935982, -4.95863317]),\n",
       "             4: array([-4.58543447, -4.60895259, -4.62320193, -4.55497123]),\n",
       "             5: array([-4.37347797, -4.26681055, -4.31319584, -4.25999066]),\n",
       "             6: array([-3.96786757, -3.92798133, -3.93544779, -3.87951782]),\n",
       "             7: array([-3.58468709, -3.59280577, -3.60657531, -3.54166157]),\n",
       "             8: array([-3.3       , -3.23168297, -3.29963524, -3.29871575]),\n",
       "             9: array([-2.88119342, -2.8324609 , -2.85587904, -2.96546845]),\n",
       "             10: array([-2.48706185, -2.48456809, -2.49887629, -2.55260755]),\n",
       "             11: array([-2.18553672, -2.2       , -2.12554231, -2.3343677 ]),\n",
       "             12: array([-5.9155728 , -5.97523315, -5.94891689, -5.99130531]),\n",
       "             13: array([-5.62559919, -5.62169279, -5.72460363, -5.67357115]),\n",
       "             14: array([-5.31226055, -5.28551758, -5.31042737, -5.26737599]),\n",
       "             15: array([-4.93979464, -4.89424068, -4.95800105, -4.92544151]),\n",
       "             16: array([-4.61570976, -4.61740599, -4.58224497, -4.56377811]),\n",
       "             17: array([-4.31277561, -4.27893479, -4.35273788, -4.29049683]),\n",
       "             18: array([-3.93049596, -3.90867888, -4.00432979, -4.00829964]),\n",
       "             19: array([-3.52511155, -3.51394177, -3.62607774, -3.57911814]),\n",
       "             20: array([-3.22560519, -3.17093189, -3.17559902, -3.10098671]),\n",
       "             21: array([-2.78631607, -2.78263351, -2.75853727, -2.74207147]),\n",
       "             22: array([-2.30958473, -2.27324904, -2.32045996, -2.4045713 ]),\n",
       "             23: array([-1.85249521, -1.8       , -1.8042628 , -1.82030122]),\n",
       "             24: array([-6.3000503 , -6.24108086, -6.43745087, -6.27202165]),\n",
       "             25: array([ -5.78923111,  -5.79425865, -34.39      ,  -5.75864487]),\n",
       "             26: array([ -5.33421976,  -5.26950732, -52.17031   ,  -5.38460533]),\n",
       "             27: array([ -4.89613739,  -4.87415817, -65.13215599,  -5.00199714]),\n",
       "             28: array([ -4.58326439,  -4.60634759, -40.951     ,  -4.56583222]),\n",
       "             29: array([ -4.31322093,  -4.29800061, -34.39      ,  -4.34736304]),\n",
       "             30: array([ -3.97936803,  -3.92909951, -27.1       ,  -3.98801027]),\n",
       "             31: array([ -3.54173194,  -3.55984217, -19.        ,  -3.65626913]),\n",
       "             32: array([ -3.0862068 ,  -3.12094447, -10.        ,  -3.28937229]),\n",
       "             33: array([ -2.63464229,  -2.6059976 , -40.951     ,  -2.63513426]),\n",
       "             34: array([ -1.96415572,  -1.91625775, -10.        ,  -1.96951183]),\n",
       "             35: array([-1.24122238, -1.09929303, -0.99484622, -1.29473861]),\n",
       "             36: array([ -6.9413256 , -56.953279  ,  -6.98829379,  -6.95986405]),\n",
       "             37: array([0., 0., 0., 0.]),\n",
       "             38: array([0., 0., 0., 0.]),\n",
       "             39: array([0., 0., 0., 0.]),\n",
       "             40: array([0., 0., 0., 0.]),\n",
       "             41: array([0., 0., 0., 0.]),\n",
       "             42: array([0., 0., 0., 0.]),\n",
       "             43: array([0., 0., 0., 0.]),\n",
       "             44: array([0., 0., 0., 0.]),\n",
       "             45: array([0., 0., 0., 0.]),\n",
       "             46: array([0., 0., 0., 0.]),\n",
       "             47: array([0., 0., 0., 0.])})"
      ]
     },
     "execution_count": 6,
     "metadata": {},
     "output_type": "execute_result"
    }
   ],
   "source": [
    "Q"
   ]
  },
  {
   "cell_type": "code",
   "execution_count": null,
   "metadata": {
    "collapsed": true
   },
   "outputs": [],
   "source": []
  }
 ],
 "metadata": {
  "kernelspec": {
   "display_name": "Python 3",
   "language": "python",
   "name": "python3"
  },
  "language_info": {
   "codemirror_mode": {
    "name": "ipython",
    "version": 3
   },
   "file_extension": ".py",
   "mimetype": "text/x-python",
   "name": "python",
   "nbconvert_exporter": "python",
   "pygments_lexer": "ipython3",
   "version": "3.6.0"
  }
 },
 "nbformat": 4,
 "nbformat_minor": 2
}
