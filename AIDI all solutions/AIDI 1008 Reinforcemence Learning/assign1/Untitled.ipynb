{
 "cells": [
  {
   "cell_type": "code",
   "execution_count": 1,
   "id": "d3cabab0",
   "metadata": {},
   "outputs": [
    {
     "data": {
      "text/plain": [
       "array([[ 3.4,  8.9,  4.5,  5.4,  1.6],\n",
       "       [ 1.6,  3.1,  2.4,  2. ,  0.6],\n",
       "       [ 0.2,  0.9,  0.8,  0.5, -0.3],\n",
       "       [-0.8, -0.3, -0.2, -0.5, -1.1],\n",
       "       [-1.7, -1.2, -1.1, -1.3, -1.9]])"
      ]
     },
     "execution_count": 1,
     "metadata": {},
     "output_type": "execute_result"
    }
   ],
   "source": [
    "# -*- coding: utf-8 -*-\n",
    "\"\"\"RL_gridworld.ipynb\n",
    "Author: Diganta Kalita (digankate26@gmail.com)\n",
    "\"\"\"\n",
    "\n",
    "import numpy as np\n",
    "\n",
    "grid = np.zeros((5,5))\n",
    "grid\n",
    "\n",
    "Y = .90  #discount value\n",
    "for num in range(10): #number of times we will go through the whole grid\n",
    "  for i in range(5):      #all the rows\n",
    "    for j in range(5):    #all the columns\n",
    "      \n",
    "      up_grid = grid[i-1][j] if i > 0 else None   #if going up takes us out of the grid then its value be 0\n",
    "      down_grid = grid[i+1][j] if i < 4 else None  #if going down takes us out of the grid then its value be 0\n",
    "      left_grid = grid[i][j-1] if j > 0 else None  #if going left takes us out of the grid then its value be 0\n",
    "      right_grid = grid[i][j+1] if j < 4 else None  #if going right takes us out of the grid then its value be 0\n",
    "\n",
    "      all_dirs = [up_grid, down_grid, left_grid, right_grid]     \n",
    "\n",
    "      value=0  \n",
    "      if i==0 and j==1: # the position of A\n",
    "        value = 10 + Y*grid[4][1]\n",
    "      elif i==0 and j==3: # the position of B\n",
    "        value = 5 + Y*grid[2][3]\n",
    "      else:\n",
    "        for direc in all_dirs:\n",
    "          if direc != None: \n",
    "            value += .25 * (0 + Y*direc)  #if we don't go out of the grid\n",
    "          else:\n",
    "            value += .25 * (-1 + Y*grid[i][j]) #if we go out of the grid\n",
    "        \n",
    "      grid[i][j] = value\n",
    "\n",
    "np.round(grid, 1)"
   ]
  },
  {
   "cell_type": "code",
   "execution_count": null,
   "id": "baf02624",
   "metadata": {},
   "outputs": [],
   "source": []
  }
 ],
 "metadata": {
  "kernelspec": {
   "display_name": "Python 3 (ipykernel)",
   "language": "python",
   "name": "python3"
  },
  "language_info": {
   "codemirror_mode": {
    "name": "ipython",
    "version": 3
   },
   "file_extension": ".py",
   "mimetype": "text/x-python",
   "name": "python",
   "nbconvert_exporter": "python",
   "pygments_lexer": "ipython3",
   "version": "3.8.12"
  }
 },
 "nbformat": 4,
 "nbformat_minor": 5
}
