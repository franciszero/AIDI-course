{
 "cells": [
  {
   "cell_type": "code",
   "execution_count": 56,
   "id": "786dcaba",
   "metadata": {},
   "outputs": [],
   "source": [
    "%%capture\n",
    "!pip install conda install -c conda-forge pyglet"
   ]
  },
  {
   "cell_type": "code",
   "execution_count": 8,
   "id": "8b55af1f",
   "metadata": {},
   "outputs": [],
   "source": [
    "import gym\n",
    " \n",
    "env=gym.make(\"FrozenLake-v1\", render_mode=\"human\")\n",
    "env.reset()\n",
    "# render the environment\n",
    "env.render()"
   ]
  },
  {
   "cell_type": "code",
   "execution_count": 9,
   "id": "be434fac",
   "metadata": {},
   "outputs": [
    {
     "data": {
      "text/plain": [
       "Discrete(4)"
      ]
     },
     "execution_count": 9,
     "metadata": {},
     "output_type": "execute_result"
    }
   ],
   "source": [
    "# observation space - states \n",
    "env.observation_space\n",
    " \n",
    "# actions: left -0, down - 1, right - 2, up- 3\n",
    "env.action_space"
   ]
  },
  {
   "cell_type": "code",
   "execution_count": 10,
   "id": "3455dbb0",
   "metadata": {},
   "outputs": [],
   "source": [
    "#generate random action\n",
    "randomAction= env.action_space.sample()\n",
    "returnValue = env.step(randomAction)\n",
    "# format of returnValue is (observation,reward, terminated, truncated, info)\n",
    "# observation (object)  - observed state\n",
    "# reward (float)        - reward that is the result of taking the action\n",
    "# terminated (bool)     - is it a terminal state\n",
    "# truncated (bool)      - it is not important in our case\n",
    "# info (dictionary)     - in our case transition probability\n",
    " \n",
    " \n",
    "env.render()"
   ]
  },
  {
   "cell_type": "code",
   "execution_count": 11,
   "id": "0b315821",
   "metadata": {},
   "outputs": [
    {
     "data": {
      "text/plain": [
       "(0, {'prob': 1})"
      ]
     },
     "execution_count": 11,
     "metadata": {},
     "output_type": "execute_result"
    }
   ],
   "source": [
    "\t\n",
    "# perform deterministic step 0,1,2,3\n",
    "returnValue = env.step(1)\n",
    "# reset the environment\n",
    "env.reset()"
   ]
  },
  {
   "cell_type": "code",
   "execution_count": 12,
   "id": "21f27815",
   "metadata": {},
   "outputs": [
    {
     "data": {
      "text/plain": [
       "[(0.3333333333333333, 0, 0.0, False),\n",
       " (0.3333333333333333, 4, 0.0, False),\n",
       " (0.3333333333333333, 1, 0.0, False)]"
      ]
     },
     "execution_count": 12,
     "metadata": {},
     "output_type": "execute_result"
    }
   ],
   "source": [
    "#transition probabilities\n",
    "#p(s'|s,a) probability of going to state s' \n",
    "#          starting from the state s and by applying the action a\n",
    " \n",
    "# env.P[state][action]\n",
    "env.P[0][1] #state 0, action 1\n",
    "# output is a list having the following entries\n",
    "# (transition probability, next state, reward, Is terminal state?)"
   ]
  },
  {
   "cell_type": "code",
   "execution_count": 13,
   "id": "14d59bc7",
   "metadata": {},
   "outputs": [
    {
     "name": "stdout",
     "output_type": "stream",
     "text": [
      "Initial state of the system\n",
      "Iteration: 1 and action 1\n",
      "Iteration: 2 and action 1\n",
      "Iteration: 3 and action 2\n",
      "Iteration: 4 and action 1\n",
      "Iteration: 5 and action 2\n",
      "Iteration: 6 and action 3\n",
      "Iteration: 7 and action 1\n",
      "Iteration: 8 and action 2\n"
     ]
    }
   ],
   "source": [
    "import gym\n",
    "import time\n",
    "env=gym.make(\"FrozenLake-v1\",render_mode='human')\n",
    "env.reset()\n",
    "env.render()\n",
    "print('Initial state of the system')\n",
    " \n",
    "numberOfIterations=30\n",
    " \n",
    "for i in range(numberOfIterations):\n",
    "    randomAction= env.action_space.sample()\n",
    "    returnValue=env.step(randomAction)\n",
    "    env.render()\n",
    "    print('Iteration: {} and action {}'.format(i+1,randomAction))\n",
    "    time.sleep(2)\n",
    "    if returnValue[2]:\n",
    "        break\n",
    " \n",
    "env.close()"
   ]
  },
  {
   "cell_type": "code",
   "execution_count": 14,
   "id": "9f5b4c87",
   "metadata": {},
   "outputs": [],
   "source": [
    "env.close()"
   ]
  },
  {
   "cell_type": "code",
   "execution_count": null,
   "id": "f48374fd",
   "metadata": {},
   "outputs": [],
   "source": []
  }
 ],
 "metadata": {
  "kernelspec": {
   "display_name": "Python 3 (ipykernel)",
   "language": "python",
   "name": "python3"
  },
  "language_info": {
   "codemirror_mode": {
    "name": "ipython",
    "version": 3
   },
   "file_extension": ".py",
   "mimetype": "text/x-python",
   "name": "python",
   "nbconvert_exporter": "python",
   "pygments_lexer": "ipython3",
   "version": "3.8.12"
  }
 },
 "nbformat": 4,
 "nbformat_minor": 5
}
