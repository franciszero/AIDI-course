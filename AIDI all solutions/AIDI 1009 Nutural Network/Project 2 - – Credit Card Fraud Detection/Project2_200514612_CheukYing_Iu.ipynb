{
 "cells": [
  {
   "cell_type": "code",
   "execution_count": 1,
   "metadata": {
    "id": "p8qni0lATty9"
   },
   "outputs": [],
   "source": [
    "import numpy as np\n",
    "import pandas as pd\n",
    "import matplotlib.pyplot as plt\n",
    "import seaborn as sns"
   ]
  },
  {
   "cell_type": "code",
   "execution_count": 2,
   "metadata": {
    "id": "PKIObFR4Uo2l"
   },
   "outputs": [],
   "source": [
    "creditCard = pd.read_csv('/content/CreditCardDataset.csv')"
   ]
  },
  {
   "cell_type": "code",
   "execution_count": 3,
   "metadata": {
    "colab": {
     "base_uri": "https://localhost:8080/",
     "height": 299
    },
    "id": "YyknTlxVU13u",
    "outputId": "2505d836-00ab-4c8a-e9b0-9cf95a778ebf"
   },
   "outputs": [
    {
     "data": {
      "text/html": [
       "\n",
       "  <div id=\"df-5e6ddd00-a461-4fbd-9806-d57abbe6b22f\">\n",
       "    <div class=\"colab-df-container\">\n",
       "      <div>\n",
       "<style scoped>\n",
       "    .dataframe tbody tr th:only-of-type {\n",
       "        vertical-align: middle;\n",
       "    }\n",
       "\n",
       "    .dataframe tbody tr th {\n",
       "        vertical-align: top;\n",
       "    }\n",
       "\n",
       "    .dataframe thead th {\n",
       "        text-align: right;\n",
       "    }\n",
       "</style>\n",
       "<table border=\"1\" class=\"dataframe\">\n",
       "  <thead>\n",
       "    <tr style=\"text-align: right;\">\n",
       "      <th></th>\n",
       "      <th>Time</th>\n",
       "      <th>V1</th>\n",
       "      <th>V2</th>\n",
       "      <th>V3</th>\n",
       "      <th>V4</th>\n",
       "      <th>V5</th>\n",
       "      <th>V6</th>\n",
       "      <th>V7</th>\n",
       "      <th>V8</th>\n",
       "      <th>V9</th>\n",
       "      <th>...</th>\n",
       "      <th>V21</th>\n",
       "      <th>V22</th>\n",
       "      <th>V23</th>\n",
       "      <th>V24</th>\n",
       "      <th>V25</th>\n",
       "      <th>V26</th>\n",
       "      <th>V27</th>\n",
       "      <th>V28</th>\n",
       "      <th>Amount</th>\n",
       "      <th>Class</th>\n",
       "    </tr>\n",
       "  </thead>\n",
       "  <tbody>\n",
       "    <tr>\n",
       "      <th>0</th>\n",
       "      <td>2</td>\n",
       "      <td>-1.158233</td>\n",
       "      <td>0.877737</td>\n",
       "      <td>1.548718</td>\n",
       "      <td>0.403034</td>\n",
       "      <td>-0.407193</td>\n",
       "      <td>0.095921</td>\n",
       "      <td>0.592941</td>\n",
       "      <td>-0.270533</td>\n",
       "      <td>0.817739</td>\n",
       "      <td>...</td>\n",
       "      <td>-0.009431</td>\n",
       "      <td>0.798278</td>\n",
       "      <td>-0.137458</td>\n",
       "      <td>0.141267</td>\n",
       "      <td>-0.206010</td>\n",
       "      <td>0.502292</td>\n",
       "      <td>0.219422</td>\n",
       "      <td>0.215153</td>\n",
       "      <td>69.99</td>\n",
       "      <td>0</td>\n",
       "    </tr>\n",
       "    <tr>\n",
       "      <th>1</th>\n",
       "      <td>2</td>\n",
       "      <td>-0.425966</td>\n",
       "      <td>0.960523</td>\n",
       "      <td>1.141109</td>\n",
       "      <td>-0.168252</td>\n",
       "      <td>0.420987</td>\n",
       "      <td>-0.029728</td>\n",
       "      <td>0.476201</td>\n",
       "      <td>0.260314</td>\n",
       "      <td>-0.568671</td>\n",
       "      <td>...</td>\n",
       "      <td>-0.208254</td>\n",
       "      <td>-0.559825</td>\n",
       "      <td>-0.026398</td>\n",
       "      <td>-0.371427</td>\n",
       "      <td>-0.232794</td>\n",
       "      <td>0.105915</td>\n",
       "      <td>0.253844</td>\n",
       "      <td>0.081080</td>\n",
       "      <td>3.67</td>\n",
       "      <td>0</td>\n",
       "    </tr>\n",
       "    <tr>\n",
       "      <th>2</th>\n",
       "      <td>7</td>\n",
       "      <td>-0.644269</td>\n",
       "      <td>1.417964</td>\n",
       "      <td>1.074380</td>\n",
       "      <td>-0.492199</td>\n",
       "      <td>0.948934</td>\n",
       "      <td>0.428118</td>\n",
       "      <td>1.120631</td>\n",
       "      <td>-3.807864</td>\n",
       "      <td>0.615375</td>\n",
       "      <td>...</td>\n",
       "      <td>1.943465</td>\n",
       "      <td>-1.015455</td>\n",
       "      <td>0.057504</td>\n",
       "      <td>-0.649709</td>\n",
       "      <td>-0.415267</td>\n",
       "      <td>-0.051634</td>\n",
       "      <td>-1.206921</td>\n",
       "      <td>-1.085339</td>\n",
       "      <td>40.80</td>\n",
       "      <td>0</td>\n",
       "    </tr>\n",
       "    <tr>\n",
       "      <th>3</th>\n",
       "      <td>11</td>\n",
       "      <td>1.069374</td>\n",
       "      <td>0.287722</td>\n",
       "      <td>0.828613</td>\n",
       "      <td>2.712520</td>\n",
       "      <td>-0.178398</td>\n",
       "      <td>0.337544</td>\n",
       "      <td>-0.096717</td>\n",
       "      <td>0.115982</td>\n",
       "      <td>-0.221083</td>\n",
       "      <td>...</td>\n",
       "      <td>-0.036876</td>\n",
       "      <td>0.074412</td>\n",
       "      <td>-0.071407</td>\n",
       "      <td>0.104744</td>\n",
       "      <td>0.548265</td>\n",
       "      <td>0.104094</td>\n",
       "      <td>0.021491</td>\n",
       "      <td>0.021293</td>\n",
       "      <td>27.50</td>\n",
       "      <td>0</td>\n",
       "    </tr>\n",
       "    <tr>\n",
       "      <th>4</th>\n",
       "      <td>12</td>\n",
       "      <td>-0.752417</td>\n",
       "      <td>0.345485</td>\n",
       "      <td>2.057323</td>\n",
       "      <td>-1.468643</td>\n",
       "      <td>-1.158394</td>\n",
       "      <td>-0.077850</td>\n",
       "      <td>-0.608581</td>\n",
       "      <td>0.003603</td>\n",
       "      <td>-0.436167</td>\n",
       "      <td>...</td>\n",
       "      <td>0.499625</td>\n",
       "      <td>1.353650</td>\n",
       "      <td>-0.256573</td>\n",
       "      <td>-0.065084</td>\n",
       "      <td>-0.039124</td>\n",
       "      <td>-0.087086</td>\n",
       "      <td>-0.180998</td>\n",
       "      <td>0.129394</td>\n",
       "      <td>15.99</td>\n",
       "      <td>0</td>\n",
       "    </tr>\n",
       "  </tbody>\n",
       "</table>\n",
       "<p>5 rows × 31 columns</p>\n",
       "</div>\n",
       "      <button class=\"colab-df-convert\" onclick=\"convertToInteractive('df-5e6ddd00-a461-4fbd-9806-d57abbe6b22f')\"\n",
       "              title=\"Convert this dataframe to an interactive table.\"\n",
       "              style=\"display:none;\">\n",
       "        \n",
       "  <svg xmlns=\"http://www.w3.org/2000/svg\" height=\"24px\"viewBox=\"0 0 24 24\"\n",
       "       width=\"24px\">\n",
       "    <path d=\"M0 0h24v24H0V0z\" fill=\"none\"/>\n",
       "    <path d=\"M18.56 5.44l.94 2.06.94-2.06 2.06-.94-2.06-.94-.94-2.06-.94 2.06-2.06.94zm-11 1L8.5 8.5l.94-2.06 2.06-.94-2.06-.94L8.5 2.5l-.94 2.06-2.06.94zm10 10l.94 2.06.94-2.06 2.06-.94-2.06-.94-.94-2.06-.94 2.06-2.06.94z\"/><path d=\"M17.41 7.96l-1.37-1.37c-.4-.4-.92-.59-1.43-.59-.52 0-1.04.2-1.43.59L10.3 9.45l-7.72 7.72c-.78.78-.78 2.05 0 2.83L4 21.41c.39.39.9.59 1.41.59.51 0 1.02-.2 1.41-.59l7.78-7.78 2.81-2.81c.8-.78.8-2.07 0-2.86zM5.41 20L4 18.59l7.72-7.72 1.47 1.35L5.41 20z\"/>\n",
       "  </svg>\n",
       "      </button>\n",
       "      \n",
       "  <style>\n",
       "    .colab-df-container {\n",
       "      display:flex;\n",
       "      flex-wrap:wrap;\n",
       "      gap: 12px;\n",
       "    }\n",
       "\n",
       "    .colab-df-convert {\n",
       "      background-color: #E8F0FE;\n",
       "      border: none;\n",
       "      border-radius: 50%;\n",
       "      cursor: pointer;\n",
       "      display: none;\n",
       "      fill: #1967D2;\n",
       "      height: 32px;\n",
       "      padding: 0 0 0 0;\n",
       "      width: 32px;\n",
       "    }\n",
       "\n",
       "    .colab-df-convert:hover {\n",
       "      background-color: #E2EBFA;\n",
       "      box-shadow: 0px 1px 2px rgba(60, 64, 67, 0.3), 0px 1px 3px 1px rgba(60, 64, 67, 0.15);\n",
       "      fill: #174EA6;\n",
       "    }\n",
       "\n",
       "    [theme=dark] .colab-df-convert {\n",
       "      background-color: #3B4455;\n",
       "      fill: #D2E3FC;\n",
       "    }\n",
       "\n",
       "    [theme=dark] .colab-df-convert:hover {\n",
       "      background-color: #434B5C;\n",
       "      box-shadow: 0px 1px 3px 1px rgba(0, 0, 0, 0.15);\n",
       "      filter: drop-shadow(0px 1px 2px rgba(0, 0, 0, 0.3));\n",
       "      fill: #FFFFFF;\n",
       "    }\n",
       "  </style>\n",
       "\n",
       "      <script>\n",
       "        const buttonEl =\n",
       "          document.querySelector('#df-5e6ddd00-a461-4fbd-9806-d57abbe6b22f button.colab-df-convert');\n",
       "        buttonEl.style.display =\n",
       "          google.colab.kernel.accessAllowed ? 'block' : 'none';\n",
       "\n",
       "        async function convertToInteractive(key) {\n",
       "          const element = document.querySelector('#df-5e6ddd00-a461-4fbd-9806-d57abbe6b22f');\n",
       "          const dataTable =\n",
       "            await google.colab.kernel.invokeFunction('convertToInteractive',\n",
       "                                                     [key], {});\n",
       "          if (!dataTable) return;\n",
       "\n",
       "          const docLinkHtml = 'Like what you see? Visit the ' +\n",
       "            '<a target=\"_blank\" href=https://colab.research.google.com/notebooks/data_table.ipynb>data table notebook</a>'\n",
       "            + ' to learn more about interactive tables.';\n",
       "          element.innerHTML = '';\n",
       "          dataTable['output_type'] = 'display_data';\n",
       "          await google.colab.output.renderOutput(dataTable, element);\n",
       "          const docLink = document.createElement('div');\n",
       "          docLink.innerHTML = docLinkHtml;\n",
       "          element.appendChild(docLink);\n",
       "        }\n",
       "      </script>\n",
       "    </div>\n",
       "  </div>\n",
       "  "
      ],
      "text/plain": [
       "   Time        V1        V2        V3        V4        V5        V6        V7  \\\n",
       "0     2 -1.158233  0.877737  1.548718  0.403034 -0.407193  0.095921  0.592941   \n",
       "1     2 -0.425966  0.960523  1.141109 -0.168252  0.420987 -0.029728  0.476201   \n",
       "2     7 -0.644269  1.417964  1.074380 -0.492199  0.948934  0.428118  1.120631   \n",
       "3    11  1.069374  0.287722  0.828613  2.712520 -0.178398  0.337544 -0.096717   \n",
       "4    12 -0.752417  0.345485  2.057323 -1.468643 -1.158394 -0.077850 -0.608581   \n",
       "\n",
       "         V8        V9  ...       V21       V22       V23       V24       V25  \\\n",
       "0 -0.270533  0.817739  ... -0.009431  0.798278 -0.137458  0.141267 -0.206010   \n",
       "1  0.260314 -0.568671  ... -0.208254 -0.559825 -0.026398 -0.371427 -0.232794   \n",
       "2 -3.807864  0.615375  ...  1.943465 -1.015455  0.057504 -0.649709 -0.415267   \n",
       "3  0.115982 -0.221083  ... -0.036876  0.074412 -0.071407  0.104744  0.548265   \n",
       "4  0.003603 -0.436167  ...  0.499625  1.353650 -0.256573 -0.065084 -0.039124   \n",
       "\n",
       "        V26       V27       V28  Amount  Class  \n",
       "0  0.502292  0.219422  0.215153   69.99      0  \n",
       "1  0.105915  0.253844  0.081080    3.67      0  \n",
       "2 -0.051634 -1.206921 -1.085339   40.80      0  \n",
       "3  0.104094  0.021491  0.021293   27.50      0  \n",
       "4 -0.087086 -0.180998  0.129394   15.99      0  \n",
       "\n",
       "[5 rows x 31 columns]"
      ]
     },
     "execution_count": 3,
     "metadata": {},
     "output_type": "execute_result"
    }
   ],
   "source": [
    "creditCard.head()"
   ]
  },
  {
   "cell_type": "markdown",
   "metadata": {
    "id": "J2AvezZZnPpB"
   },
   "source": [
    "## EDA and Preprocessing"
   ]
  },
  {
   "cell_type": "code",
   "execution_count": 4,
   "metadata": {
    "colab": {
     "base_uri": "https://localhost:8080/"
    },
    "id": "mtx36Qt0U6nu",
    "outputId": "7713b921-23b3-4f78-8f67-27f5c1d7e3d7"
   },
   "outputs": [
    {
     "name": "stdout",
     "output_type": "stream",
     "text": [
      "<class 'pandas.core.frame.DataFrame'>\n",
      "RangeIndex: 57355 entries, 0 to 57354\n",
      "Data columns (total 31 columns):\n",
      " #   Column  Non-Null Count  Dtype  \n",
      "---  ------  --------------  -----  \n",
      " 0   Time    57355 non-null  int64  \n",
      " 1   V1      57355 non-null  float64\n",
      " 2   V2      57355 non-null  float64\n",
      " 3   V3      57355 non-null  float64\n",
      " 4   V4      57355 non-null  float64\n",
      " 5   V5      57355 non-null  float64\n",
      " 6   V6      57355 non-null  float64\n",
      " 7   V7      57355 non-null  float64\n",
      " 8   V8      57355 non-null  float64\n",
      " 9   V9      57355 non-null  float64\n",
      " 10  V10     57355 non-null  float64\n",
      " 11  V11     57355 non-null  float64\n",
      " 12  V12     57355 non-null  float64\n",
      " 13  V13     57355 non-null  float64\n",
      " 14  V14     57355 non-null  float64\n",
      " 15  V15     57355 non-null  float64\n",
      " 16  V16     57355 non-null  float64\n",
      " 17  V17     57355 non-null  float64\n",
      " 18  V18     57355 non-null  float64\n",
      " 19  V19     57355 non-null  float64\n",
      " 20  V20     57355 non-null  float64\n",
      " 21  V21     57355 non-null  float64\n",
      " 22  V22     57355 non-null  float64\n",
      " 23  V23     57355 non-null  float64\n",
      " 24  V24     57355 non-null  float64\n",
      " 25  V25     57355 non-null  float64\n",
      " 26  V26     57355 non-null  float64\n",
      " 27  V27     57355 non-null  float64\n",
      " 28  V28     57355 non-null  float64\n",
      " 29  Amount  57355 non-null  float64\n",
      " 30  Class   57355 non-null  int64  \n",
      "dtypes: float64(29), int64(2)\n",
      "memory usage: 13.6 MB\n"
     ]
    }
   ],
   "source": [
    "creditCard.info()"
   ]
  },
  {
   "cell_type": "code",
   "execution_count": 6,
   "metadata": {
    "colab": {
     "base_uri": "https://localhost:8080/",
     "height": 393
    },
    "id": "Kt0LqqXvg8K1",
    "outputId": "dc1c54b8-9eef-41d7-8793-322a38f12939"
   },
   "outputs": [
    {
     "data": {
      "text/html": [
       "\n",
       "  <div id=\"df-329413a2-2d7f-4afb-9ee0-bf969f54e047\">\n",
       "    <div class=\"colab-df-container\">\n",
       "      <div>\n",
       "<style scoped>\n",
       "    .dataframe tbody tr th:only-of-type {\n",
       "        vertical-align: middle;\n",
       "    }\n",
       "\n",
       "    .dataframe tbody tr th {\n",
       "        vertical-align: top;\n",
       "    }\n",
       "\n",
       "    .dataframe thead th {\n",
       "        text-align: right;\n",
       "    }\n",
       "</style>\n",
       "<table border=\"1\" class=\"dataframe\">\n",
       "  <thead>\n",
       "    <tr style=\"text-align: right;\">\n",
       "      <th></th>\n",
       "      <th>Time</th>\n",
       "      <th>V1</th>\n",
       "      <th>V2</th>\n",
       "      <th>V3</th>\n",
       "      <th>V4</th>\n",
       "      <th>V5</th>\n",
       "      <th>V6</th>\n",
       "      <th>V7</th>\n",
       "      <th>V8</th>\n",
       "      <th>V9</th>\n",
       "      <th>...</th>\n",
       "      <th>V21</th>\n",
       "      <th>V22</th>\n",
       "      <th>V23</th>\n",
       "      <th>V24</th>\n",
       "      <th>V25</th>\n",
       "      <th>V26</th>\n",
       "      <th>V27</th>\n",
       "      <th>V28</th>\n",
       "      <th>Amount</th>\n",
       "      <th>Class</th>\n",
       "    </tr>\n",
       "  </thead>\n",
       "  <tbody>\n",
       "    <tr>\n",
       "      <th>count</th>\n",
       "      <td>57355.000000</td>\n",
       "      <td>57355.000000</td>\n",
       "      <td>57355.000000</td>\n",
       "      <td>57355.000000</td>\n",
       "      <td>57355.000000</td>\n",
       "      <td>57355.000000</td>\n",
       "      <td>57355.000000</td>\n",
       "      <td>57355.000000</td>\n",
       "      <td>57355.000000</td>\n",
       "      <td>57355.000000</td>\n",
       "      <td>...</td>\n",
       "      <td>57355.000000</td>\n",
       "      <td>57355.000000</td>\n",
       "      <td>57355.000000</td>\n",
       "      <td>57355.000000</td>\n",
       "      <td>57355.000000</td>\n",
       "      <td>57355.000000</td>\n",
       "      <td>57355.000000</td>\n",
       "      <td>57355.000000</td>\n",
       "      <td>57355.000000</td>\n",
       "      <td>57355.000000</td>\n",
       "    </tr>\n",
       "    <tr>\n",
       "      <th>mean</th>\n",
       "      <td>94577.357074</td>\n",
       "      <td>-0.029092</td>\n",
       "      <td>0.030156</td>\n",
       "      <td>-0.055749</td>\n",
       "      <td>0.035521</td>\n",
       "      <td>-0.022664</td>\n",
       "      <td>-0.006869</td>\n",
       "      <td>-0.032448</td>\n",
       "      <td>0.006142</td>\n",
       "      <td>-0.017667</td>\n",
       "      <td>...</td>\n",
       "      <td>0.005569</td>\n",
       "      <td>-0.000265</td>\n",
       "      <td>0.003273</td>\n",
       "      <td>0.001159</td>\n",
       "      <td>0.005003</td>\n",
       "      <td>0.003133</td>\n",
       "      <td>0.000226</td>\n",
       "      <td>-0.000625</td>\n",
       "      <td>88.825575</td>\n",
       "      <td>0.008578</td>\n",
       "    </tr>\n",
       "    <tr>\n",
       "      <th>std</th>\n",
       "      <td>47505.713234</td>\n",
       "      <td>2.061391</td>\n",
       "      <td>1.711228</td>\n",
       "      <td>1.733364</td>\n",
       "      <td>1.484621</td>\n",
       "      <td>1.508300</td>\n",
       "      <td>1.361819</td>\n",
       "      <td>1.504317</td>\n",
       "      <td>1.334058</td>\n",
       "      <td>1.131679</td>\n",
       "      <td>...</td>\n",
       "      <td>0.813950</td>\n",
       "      <td>0.734597</td>\n",
       "      <td>0.625238</td>\n",
       "      <td>0.604653</td>\n",
       "      <td>0.519852</td>\n",
       "      <td>0.482496</td>\n",
       "      <td>0.433713</td>\n",
       "      <td>0.323980</td>\n",
       "      <td>279.496913</td>\n",
       "      <td>0.092221</td>\n",
       "    </tr>\n",
       "    <tr>\n",
       "      <th>min</th>\n",
       "      <td>2.000000</td>\n",
       "      <td>-36.802320</td>\n",
       "      <td>-63.344698</td>\n",
       "      <td>-48.325589</td>\n",
       "      <td>-5.519697</td>\n",
       "      <td>-113.743307</td>\n",
       "      <td>-19.996349</td>\n",
       "      <td>-43.557242</td>\n",
       "      <td>-73.216718</td>\n",
       "      <td>-13.434066</td>\n",
       "      <td>...</td>\n",
       "      <td>-34.830382</td>\n",
       "      <td>-10.933144</td>\n",
       "      <td>-32.828995</td>\n",
       "      <td>-2.822384</td>\n",
       "      <td>-8.696627</td>\n",
       "      <td>-2.534330</td>\n",
       "      <td>-8.878665</td>\n",
       "      <td>-15.430084</td>\n",
       "      <td>0.000000</td>\n",
       "      <td>0.000000</td>\n",
       "    </tr>\n",
       "    <tr>\n",
       "      <th>25%</th>\n",
       "      <td>53943.500000</td>\n",
       "      <td>-0.927615</td>\n",
       "      <td>-0.588747</td>\n",
       "      <td>-0.922554</td>\n",
       "      <td>-0.839400</td>\n",
       "      <td>-0.692157</td>\n",
       "      <td>-0.774796</td>\n",
       "      <td>-0.558211</td>\n",
       "      <td>-0.207145</td>\n",
       "      <td>-0.651869</td>\n",
       "      <td>...</td>\n",
       "      <td>-0.226932</td>\n",
       "      <td>-0.541278</td>\n",
       "      <td>-0.161812</td>\n",
       "      <td>-0.354648</td>\n",
       "      <td>-0.312164</td>\n",
       "      <td>-0.322536</td>\n",
       "      <td>-0.070642</td>\n",
       "      <td>-0.052695</td>\n",
       "      <td>5.475000</td>\n",
       "      <td>0.000000</td>\n",
       "    </tr>\n",
       "    <tr>\n",
       "      <th>50%</th>\n",
       "      <td>84641.000000</td>\n",
       "      <td>0.015980</td>\n",
       "      <td>0.071801</td>\n",
       "      <td>0.168619</td>\n",
       "      <td>-0.005637</td>\n",
       "      <td>-0.055913</td>\n",
       "      <td>-0.276163</td>\n",
       "      <td>0.035797</td>\n",
       "      <td>0.024380</td>\n",
       "      <td>-0.053373</td>\n",
       "      <td>...</td>\n",
       "      <td>-0.028379</td>\n",
       "      <td>0.004681</td>\n",
       "      <td>-0.011439</td>\n",
       "      <td>0.041286</td>\n",
       "      <td>0.021494</td>\n",
       "      <td>-0.049135</td>\n",
       "      <td>0.000859</td>\n",
       "      <td>0.011169</td>\n",
       "      <td>21.990000</td>\n",
       "      <td>0.000000</td>\n",
       "    </tr>\n",
       "    <tr>\n",
       "      <th>75%</th>\n",
       "      <td>139140.000000</td>\n",
       "      <td>1.314129</td>\n",
       "      <td>0.815413</td>\n",
       "      <td>1.019384</td>\n",
       "      <td>0.764271</td>\n",
       "      <td>0.607021</td>\n",
       "      <td>0.387408</td>\n",
       "      <td>0.562758</td>\n",
       "      <td>0.333358</td>\n",
       "      <td>0.599522</td>\n",
       "      <td>...</td>\n",
       "      <td>0.190245</td>\n",
       "      <td>0.529286</td>\n",
       "      <td>0.147282</td>\n",
       "      <td>0.439244</td>\n",
       "      <td>0.352590</td>\n",
       "      <td>0.243882</td>\n",
       "      <td>0.091355</td>\n",
       "      <td>0.078500</td>\n",
       "      <td>76.900000</td>\n",
       "      <td>0.000000</td>\n",
       "    </tr>\n",
       "    <tr>\n",
       "      <th>max</th>\n",
       "      <td>172777.000000</td>\n",
       "      <td>2.454930</td>\n",
       "      <td>22.057729</td>\n",
       "      <td>3.940337</td>\n",
       "      <td>16.715537</td>\n",
       "      <td>28.762671</td>\n",
       "      <td>73.301626</td>\n",
       "      <td>120.589494</td>\n",
       "      <td>20.007208</td>\n",
       "      <td>10.348407</td>\n",
       "      <td>...</td>\n",
       "      <td>27.202839</td>\n",
       "      <td>10.503090</td>\n",
       "      <td>22.528412</td>\n",
       "      <td>4.584549</td>\n",
       "      <td>5.826159</td>\n",
       "      <td>3.517346</td>\n",
       "      <td>31.612198</td>\n",
       "      <td>15.866721</td>\n",
       "      <td>25691.160000</td>\n",
       "      <td>1.000000</td>\n",
       "    </tr>\n",
       "  </tbody>\n",
       "</table>\n",
       "<p>8 rows × 31 columns</p>\n",
       "</div>\n",
       "      <button class=\"colab-df-convert\" onclick=\"convertToInteractive('df-329413a2-2d7f-4afb-9ee0-bf969f54e047')\"\n",
       "              title=\"Convert this dataframe to an interactive table.\"\n",
       "              style=\"display:none;\">\n",
       "        \n",
       "  <svg xmlns=\"http://www.w3.org/2000/svg\" height=\"24px\"viewBox=\"0 0 24 24\"\n",
       "       width=\"24px\">\n",
       "    <path d=\"M0 0h24v24H0V0z\" fill=\"none\"/>\n",
       "    <path d=\"M18.56 5.44l.94 2.06.94-2.06 2.06-.94-2.06-.94-.94-2.06-.94 2.06-2.06.94zm-11 1L8.5 8.5l.94-2.06 2.06-.94-2.06-.94L8.5 2.5l-.94 2.06-2.06.94zm10 10l.94 2.06.94-2.06 2.06-.94-2.06-.94-.94-2.06-.94 2.06-2.06.94z\"/><path d=\"M17.41 7.96l-1.37-1.37c-.4-.4-.92-.59-1.43-.59-.52 0-1.04.2-1.43.59L10.3 9.45l-7.72 7.72c-.78.78-.78 2.05 0 2.83L4 21.41c.39.39.9.59 1.41.59.51 0 1.02-.2 1.41-.59l7.78-7.78 2.81-2.81c.8-.78.8-2.07 0-2.86zM5.41 20L4 18.59l7.72-7.72 1.47 1.35L5.41 20z\"/>\n",
       "  </svg>\n",
       "      </button>\n",
       "      \n",
       "  <style>\n",
       "    .colab-df-container {\n",
       "      display:flex;\n",
       "      flex-wrap:wrap;\n",
       "      gap: 12px;\n",
       "    }\n",
       "\n",
       "    .colab-df-convert {\n",
       "      background-color: #E8F0FE;\n",
       "      border: none;\n",
       "      border-radius: 50%;\n",
       "      cursor: pointer;\n",
       "      display: none;\n",
       "      fill: #1967D2;\n",
       "      height: 32px;\n",
       "      padding: 0 0 0 0;\n",
       "      width: 32px;\n",
       "    }\n",
       "\n",
       "    .colab-df-convert:hover {\n",
       "      background-color: #E2EBFA;\n",
       "      box-shadow: 0px 1px 2px rgba(60, 64, 67, 0.3), 0px 1px 3px 1px rgba(60, 64, 67, 0.15);\n",
       "      fill: #174EA6;\n",
       "    }\n",
       "\n",
       "    [theme=dark] .colab-df-convert {\n",
       "      background-color: #3B4455;\n",
       "      fill: #D2E3FC;\n",
       "    }\n",
       "\n",
       "    [theme=dark] .colab-df-convert:hover {\n",
       "      background-color: #434B5C;\n",
       "      box-shadow: 0px 1px 3px 1px rgba(0, 0, 0, 0.15);\n",
       "      filter: drop-shadow(0px 1px 2px rgba(0, 0, 0, 0.3));\n",
       "      fill: #FFFFFF;\n",
       "    }\n",
       "  </style>\n",
       "\n",
       "      <script>\n",
       "        const buttonEl =\n",
       "          document.querySelector('#df-329413a2-2d7f-4afb-9ee0-bf969f54e047 button.colab-df-convert');\n",
       "        buttonEl.style.display =\n",
       "          google.colab.kernel.accessAllowed ? 'block' : 'none';\n",
       "\n",
       "        async function convertToInteractive(key) {\n",
       "          const element = document.querySelector('#df-329413a2-2d7f-4afb-9ee0-bf969f54e047');\n",
       "          const dataTable =\n",
       "            await google.colab.kernel.invokeFunction('convertToInteractive',\n",
       "                                                     [key], {});\n",
       "          if (!dataTable) return;\n",
       "\n",
       "          const docLinkHtml = 'Like what you see? Visit the ' +\n",
       "            '<a target=\"_blank\" href=https://colab.research.google.com/notebooks/data_table.ipynb>data table notebook</a>'\n",
       "            + ' to learn more about interactive tables.';\n",
       "          element.innerHTML = '';\n",
       "          dataTable['output_type'] = 'display_data';\n",
       "          await google.colab.output.renderOutput(dataTable, element);\n",
       "          const docLink = document.createElement('div');\n",
       "          docLink.innerHTML = docLinkHtml;\n",
       "          element.appendChild(docLink);\n",
       "        }\n",
       "      </script>\n",
       "    </div>\n",
       "  </div>\n",
       "  "
      ],
      "text/plain": [
       "                Time            V1            V2            V3            V4  \\\n",
       "count   57355.000000  57355.000000  57355.000000  57355.000000  57355.000000   \n",
       "mean    94577.357074     -0.029092      0.030156     -0.055749      0.035521   \n",
       "std     47505.713234      2.061391      1.711228      1.733364      1.484621   \n",
       "min         2.000000    -36.802320    -63.344698    -48.325589     -5.519697   \n",
       "25%     53943.500000     -0.927615     -0.588747     -0.922554     -0.839400   \n",
       "50%     84641.000000      0.015980      0.071801      0.168619     -0.005637   \n",
       "75%    139140.000000      1.314129      0.815413      1.019384      0.764271   \n",
       "max    172777.000000      2.454930     22.057729      3.940337     16.715537   \n",
       "\n",
       "                 V5            V6            V7            V8            V9  \\\n",
       "count  57355.000000  57355.000000  57355.000000  57355.000000  57355.000000   \n",
       "mean      -0.022664     -0.006869     -0.032448      0.006142     -0.017667   \n",
       "std        1.508300      1.361819      1.504317      1.334058      1.131679   \n",
       "min     -113.743307    -19.996349    -43.557242    -73.216718    -13.434066   \n",
       "25%       -0.692157     -0.774796     -0.558211     -0.207145     -0.651869   \n",
       "50%       -0.055913     -0.276163      0.035797      0.024380     -0.053373   \n",
       "75%        0.607021      0.387408      0.562758      0.333358      0.599522   \n",
       "max       28.762671     73.301626    120.589494     20.007208     10.348407   \n",
       "\n",
       "       ...           V21           V22           V23           V24  \\\n",
       "count  ...  57355.000000  57355.000000  57355.000000  57355.000000   \n",
       "mean   ...      0.005569     -0.000265      0.003273      0.001159   \n",
       "std    ...      0.813950      0.734597      0.625238      0.604653   \n",
       "min    ...    -34.830382    -10.933144    -32.828995     -2.822384   \n",
       "25%    ...     -0.226932     -0.541278     -0.161812     -0.354648   \n",
       "50%    ...     -0.028379      0.004681     -0.011439      0.041286   \n",
       "75%    ...      0.190245      0.529286      0.147282      0.439244   \n",
       "max    ...     27.202839     10.503090     22.528412      4.584549   \n",
       "\n",
       "                V25           V26           V27           V28        Amount  \\\n",
       "count  57355.000000  57355.000000  57355.000000  57355.000000  57355.000000   \n",
       "mean       0.005003      0.003133      0.000226     -0.000625     88.825575   \n",
       "std        0.519852      0.482496      0.433713      0.323980    279.496913   \n",
       "min       -8.696627     -2.534330     -8.878665    -15.430084      0.000000   \n",
       "25%       -0.312164     -0.322536     -0.070642     -0.052695      5.475000   \n",
       "50%        0.021494     -0.049135      0.000859      0.011169     21.990000   \n",
       "75%        0.352590      0.243882      0.091355      0.078500     76.900000   \n",
       "max        5.826159      3.517346     31.612198     15.866721  25691.160000   \n",
       "\n",
       "              Class  \n",
       "count  57355.000000  \n",
       "mean       0.008578  \n",
       "std        0.092221  \n",
       "min        0.000000  \n",
       "25%        0.000000  \n",
       "50%        0.000000  \n",
       "75%        0.000000  \n",
       "max        1.000000  \n",
       "\n",
       "[8 rows x 31 columns]"
      ]
     },
     "execution_count": 6,
     "metadata": {},
     "output_type": "execute_result"
    }
   ],
   "source": [
    "creditCard.describe()"
   ]
  },
  {
   "cell_type": "markdown",
   "metadata": {
    "id": "uU_C7K5JvheA"
   },
   "source": [
    "Check if there are any missing data in the credit card dataset."
   ]
  },
  {
   "cell_type": "code",
   "execution_count": 7,
   "metadata": {
    "colab": {
     "base_uri": "https://localhost:8080/"
    },
    "id": "casnAFpCVbHR",
    "outputId": "19fb9361-570e-4fdc-eb27-512ed5645c63"
   },
   "outputs": [
    {
     "data": {
      "text/plain": [
       "Time      0\n",
       "V1        0\n",
       "V2        0\n",
       "V3        0\n",
       "V4        0\n",
       "V5        0\n",
       "V6        0\n",
       "V7        0\n",
       "V8        0\n",
       "V9        0\n",
       "V10       0\n",
       "V11       0\n",
       "V12       0\n",
       "V13       0\n",
       "V14       0\n",
       "V15       0\n",
       "V16       0\n",
       "V17       0\n",
       "V18       0\n",
       "V19       0\n",
       "V20       0\n",
       "V21       0\n",
       "V22       0\n",
       "V23       0\n",
       "V24       0\n",
       "V25       0\n",
       "V26       0\n",
       "V27       0\n",
       "V28       0\n",
       "Amount    0\n",
       "Class     0\n",
       "dtype: int64"
      ]
     },
     "execution_count": 7,
     "metadata": {},
     "output_type": "execute_result"
    }
   ],
   "source": [
    "creditCard.isnull().sum()"
   ]
  },
  {
   "cell_type": "code",
   "execution_count": 5,
   "metadata": {
    "colab": {
     "base_uri": "https://localhost:8080/"
    },
    "id": "XJ5htISyU-HG",
    "outputId": "0ca4b38f-76bf-4233-df0e-a8cf09ea117c"
   },
   "outputs": [
    {
     "data": {
      "text/plain": [
       "0    56863\n",
       "1      492\n",
       "Name: Class, dtype: int64"
      ]
     },
     "execution_count": 5,
     "metadata": {},
     "output_type": "execute_result"
    }
   ],
   "source": [
    "creditCard['Class'].value_counts()"
   ]
  },
  {
   "cell_type": "code",
   "execution_count": 8,
   "metadata": {
    "colab": {
     "base_uri": "https://localhost:8080/",
     "height": 297
    },
    "id": "hWY8Nus1hGww",
    "outputId": "b0d0c20c-09f5-43dc-8606-2172f56fba1a"
   },
   "outputs": [
    {
     "data": {
      "text/plain": [
       "<AxesSubplot:xlabel='Class', ylabel='count'>"
      ]
     },
     "execution_count": 8,
     "metadata": {},
     "output_type": "execute_result"
    },
    {
     "data": {
      "image/png": "[encoded data removed]",
      "text/plain": [
       "<Figure size 432x288 with 1 Axes>"
      ]
     },
     "metadata": {
      "needs_background": "light"
     },
     "output_type": "display_data"
    }
   ],
   "source": [
    "sns.countplot(x = 'Class', data=creditCard)"
   ]
  },
  {
   "cell_type": "markdown",
   "metadata": {
    "id": "0hJ9TGZKvTqf"
   },
   "source": [
    "Standardize the feature Class as y and other feature as X."
   ]
  },
  {
   "cell_type": "code",
   "execution_count": 9,
   "metadata": {
    "id": "k1ZWkK-pk9Fw"
   },
   "outputs": [],
   "source": [
    "X = creditCard.iloc[:, 0:-1]\n",
    "y = creditCard.iloc[:, -1]"
   ]
  },
  {
   "cell_type": "markdown",
   "metadata": {
    "id": "oMTuje1Cu2GN"
   },
   "source": [
    "The dataset is split as Train + Validation = 80% and Test = 20%. \n",
    "Train + Validation will split as Train = 90% and Validation = 10%."
   ]
  },
  {
   "cell_type": "code",
   "execution_count": 10,
   "metadata": {
    "id": "b1UuEWuieMfw"
   },
   "outputs": [],
   "source": [
    "from sklearn.model_selection import train_test_split\n",
    "\n",
    "# Split into train+val and test in 8:2\n",
    "X_trainval, X_test, y_trainval, y_test = train_test_split(X, y, test_size=0.2, stratify=y, random_state=69)\n",
    "\n",
    "# Split train into train-val in 9:1\n",
    "X_train, X_val, y_train, y_val = train_test_split(X_trainval, y_trainval, test_size=0.1, stratify=y_trainval, random_state=21)"
   ]
  },
  {
   "cell_type": "code",
   "execution_count": 11,
   "metadata": {
    "id": "oruqM0NTfvuv"
   },
   "outputs": [],
   "source": [
    "from sklearn.preprocessing import MinMaxScaler\n",
    "\n",
    "scaler = MinMaxScaler()\n",
    "X_train = scaler.fit_transform(X_train)\n",
    "X_val = scaler.transform(X_val)\n",
    "X_test = scaler.transform(X_test)\n",
    "X_train, y_train = np.array(X_train), np.array(y_train)\n",
    "X_val, y_val = np.array(X_val), np.array(y_val)\n",
    "X_test, y_test = np.array(X_test), np.array(y_test)"
   ]
  },
  {
   "cell_type": "code",
   "execution_count": 12,
   "metadata": {
    "id": "h7YAUZc2lOhQ"
   },
   "outputs": [],
   "source": [
    "# count column class\n",
    "def get_class_distribution(obj):\n",
    "    count_dict = {\n",
    "        \"0\": 0,\n",
    "        \"1\": 0,\n",
    "    }\n",
    "    \n",
    "    for i in obj:\n",
    "        if i == 0: \n",
    "            count_dict['0'] += 1\n",
    "        elif i == 1: \n",
    "            count_dict['1'] += 1            \n",
    "        else:\n",
    "            print(\"Check classes.\")\n",
    "            \n",
    "    return count_dict"
   ]
  },
  {
   "cell_type": "markdown",
   "metadata": {
    "id": "RsVjY0J2wCUZ"
   },
   "source": [
    "Show the number of Class 0 & 1 in Train, Validation and Test"
   ]
  },
  {
   "cell_type": "code",
   "execution_count": 13,
   "metadata": {
    "colab": {
     "base_uri": "https://localhost:8080/",
     "height": 368
    },
    "id": "vFFkkfAFlXnv",
    "outputId": "5c0f202a-1196-459f-bcb0-0ddef4da0d58"
   },
   "outputs": [
    {
     "data": {
      "text/plain": [
       "Text(0.5, 1.0, 'Class Distribution in Test Set')"
      ]
     },
     "execution_count": 13,
     "metadata": {},
     "output_type": "execute_result"
    },
    {
     "data": {
      "image/png": "[encoded data removed]",
      "text/plain": [
       "<Figure size 1440x360 with 3 Axes>"
      ]
     },
     "metadata": {
      "needs_background": "light"
     },
     "output_type": "display_data"
    }
   ],
   "source": [
    "fig, axes = plt.subplots(nrows=1, ncols=3, figsize=(20,5))\n",
    "# Train\n",
    "sns.barplot (data = pd.DataFrame.from_dict([get_class_distribution(y_train)]).melt(), x = \"variable\", y=\"value\",  ax=axes[0], palette = 'Blues').set_title('Class Distribution in Train Set')\n",
    "# Validation\n",
    "sns.barplot(data = pd.DataFrame.from_dict([get_class_distribution(y_val)]).melt(), x = \"variable\", y=\"value\",  ax=axes[1], palette = 'Blues', edgecolor = 'w').set_title('Class Distribution in Val Set')\n",
    "# Test\n",
    "sns.barplot(data = pd.DataFrame.from_dict([get_class_distribution(y_test)]).melt(), x = \"variable\", y=\"value\",  ax=axes[2], palette = 'Blues', edgecolor = 'w').set_title('Class Distribution in Test Set')"
   ]
  },
  {
   "cell_type": "markdown",
   "metadata": {
    "id": "lOimgVOkmLiB"
   },
   "source": [
    "## Neural Networks"
   ]
  },
  {
   "cell_type": "code",
   "execution_count": 14,
   "metadata": {
    "id": "wSjuTpx5lcvV"
   },
   "outputs": [],
   "source": [
    "import torch\n",
    "from torch.utils.data import Dataset, DataLoader, WeightedRandomSampler\n",
    "\n",
    "class ClassifierDataset(Dataset):\n",
    "    \n",
    "    def __init__(self, X_data, y_data):\n",
    "        self.X_data = X_data\n",
    "        self.y_data = y_data\n",
    "        \n",
    "    def __getitem__(self, index):\n",
    "        return self.X_data[index], self.y_data[index]\n",
    "        \n",
    "    def __len__ (self):\n",
    "        return len(self.X_data)\n",
    "\n",
    "\n",
    "train_dataset = ClassifierDataset(torch.from_numpy(X_train).float(), torch.from_numpy(y_train).long())\n",
    "val_dataset = ClassifierDataset(torch.from_numpy(X_val).float(), torch.from_numpy(y_val).long())\n",
    "test_dataset = ClassifierDataset(torch.from_numpy(X_test).float(), torch.from_numpy(y_test).long())"
   ]
  },
  {
   "cell_type": "code",
   "execution_count": 15,
   "metadata": {
    "id": "WQxSwvxSllTa"
   },
   "outputs": [],
   "source": [
    "target_list = []\n",
    "for _, t in train_dataset:\n",
    "    target_list.append(t)\n",
    "    \n",
    "target_list = torch.tensor(target_list)\n",
    "target_list = target_list[torch.randperm(len(target_list))]"
   ]
  },
  {
   "cell_type": "code",
   "execution_count": 16,
   "metadata": {
    "colab": {
     "base_uri": "https://localhost:8080/"
    },
    "id": "tY7yuzkilpF8",
    "outputId": "615bbb50-edd1-4288-a40f-ab92ff65f20f"
   },
   "outputs": [
    {
     "name": "stdout",
     "output_type": "stream",
     "text": [
      "tensor([2.4426e-05, 2.8169e-03])\n"
     ]
    }
   ],
   "source": [
    "class_count = [i for i in get_class_distribution(y_train).values()]\n",
    "class_weights = 1./torch.tensor(class_count, dtype=torch.float) \n",
    "print(class_weights)"
   ]
  },
  {
   "cell_type": "code",
   "execution_count": 17,
   "metadata": {
    "id": "vuTjbarHlqnY"
   },
   "outputs": [],
   "source": [
    "class_weights_all = class_weights[target_list]"
   ]
  },
  {
   "cell_type": "code",
   "execution_count": 18,
   "metadata": {
    "id": "7DZQ-kVOlsc0"
   },
   "outputs": [],
   "source": [
    "weighted_sampler = WeightedRandomSampler(\n",
    "    weights=class_weights_all,\n",
    "    num_samples=len(class_weights_all),\n",
    "    replacement=True\n",
    ")"
   ]
  },
  {
   "cell_type": "code",
   "execution_count": 19,
   "metadata": {
    "id": "XLgJq6UmluEm"
   },
   "outputs": [],
   "source": [
    "EPOCHS = 300\n",
    "BATCH_SIZE = 16\n",
    "LEARNING_RATE = 0.0006\n",
    "NUM_FEATURES = len(X.columns)\n",
    "NUM_CLASSES = 2"
   ]
  },
  {
   "cell_type": "code",
   "execution_count": 20,
   "metadata": {
    "id": "qkO6YFz_lv2j"
   },
   "outputs": [],
   "source": [
    "# DataLoader\n",
    "train_loader = DataLoader(dataset=train_dataset,\n",
    "                          batch_size=BATCH_SIZE,\n",
    "                          sampler=weighted_sampler\n",
    ")\n",
    "val_loader = DataLoader(dataset=val_dataset, batch_size=1)\n",
    "test_loader = DataLoader(dataset=test_dataset, batch_size=1)"
   ]
  },
  {
   "cell_type": "markdown",
   "metadata": {
    "id": "tQsE_tweuFWf"
   },
   "source": [
    "The autoencoder consisting of 4 fully connected layers was built. It was with 128,64,16,8 neurons. Noted that the last layer has 8 nodes which is corresponding to 512 feature in the input data item."
   ]
  },
  {
   "cell_type": "code",
   "execution_count": 21,
   "metadata": {
    "id": "evxEMNDJlxpe"
   },
   "outputs": [],
   "source": [
    "import torch.nn as nn\n",
    "\n",
    "# 5 layers\n",
    "class MulticlassClassification(nn.Module):\n",
    "    def __init__(self, num_feature, num_class):\n",
    "        super(MulticlassClassification, self).__init__()\n",
    "        \n",
    "        self.layer_1 = nn.Linear(num_feature, 512)\n",
    "        self.layer_2 = nn.Linear(512, 128)\n",
    "        self.layer_3 = nn.Linear(128, 64)\n",
    "        self.layer_4 = nn.Linear(64, 16)\n",
    "        self.layer_5 = nn.Linear(16, 8)\n",
    "        self.layer_out = nn.Linear(8, num_class) \n",
    "        \n",
    "        self.relu = nn.ReLU()\n",
    "        self.dropout = nn.Dropout(p=0.2)\n",
    "        self.batchnorm1 = nn.BatchNorm1d(512)\n",
    "        self.batchnorm2 = nn.BatchNorm1d(128)\n",
    "        self.batchnorm3 = nn.BatchNorm1d(64)\n",
    "        self.batchnorm4 = nn.BatchNorm1d(16)\n",
    "        self.batchnorm5 = nn.BatchNorm1d(8)\n",
    "        \n",
    "    def forward(self, x):\n",
    "        x = self.layer_1(x)\n",
    "        x = self.batchnorm1(x)\n",
    "        x = self.relu(x)\n",
    "        \n",
    "        x = self.layer_2(x)\n",
    "        x = self.batchnorm2(x)\n",
    "        x = self.relu(x)\n",
    "        x = self.dropout(x)\n",
    "        \n",
    "        x = self.layer_3(x)\n",
    "        x = self.batchnorm3(x)\n",
    "        x = self.relu(x)\n",
    "        x = self.dropout(x)\n",
    "\n",
    "        x = self.layer_4(x)\n",
    "        x = self.batchnorm4(x)\n",
    "        x = self.relu(x)\n",
    "        x = self.dropout(x)\n",
    "\n",
    "        x = self.layer_5(x)\n",
    "        x = self.batchnorm5(x)\n",
    "        x = self.relu(x)\n",
    "        x = self.dropout(x)\n",
    "        \n",
    "        x = self.layer_out(x)\n",
    "        \n",
    "        return x"
   ]
  },
  {
   "cell_type": "code",
   "execution_count": 22,
   "metadata": {
    "colab": {
     "base_uri": "https://localhost:8080/"
    },
    "id": "VNG5fb4bl1O1",
    "outputId": "448c883c-6a64-4dac-f67b-aaeaee58d52b"
   },
   "outputs": [
    {
     "name": "stdout",
     "output_type": "stream",
     "text": [
      "cpu\n"
     ]
    }
   ],
   "source": [
    "# using cpu\n",
    "device = torch.device(\"cuda:0\" if torch.cuda.is_available() else \"cpu\")\n",
    "print(device)"
   ]
  },
  {
   "cell_type": "code",
   "execution_count": 23,
   "metadata": {
    "colab": {
     "base_uri": "https://localhost:8080/"
    },
    "id": "GAIosohKndUm",
    "outputId": "51f87b56-c106-4452-d3fa-963e03a10d33"
   },
   "outputs": [
    {
     "name": "stdout",
     "output_type": "stream",
     "text": [
      "MulticlassClassification(\n",
      "  (layer_1): Linear(in_features=30, out_features=512, bias=True)\n",
      "  (layer_2): Linear(in_features=512, out_features=128, bias=True)\n",
      "  (layer_3): Linear(in_features=128, out_features=64, bias=True)\n",
      "  (layer_4): Linear(in_features=64, out_features=16, bias=True)\n",
      "  (layer_5): Linear(in_features=16, out_features=8, bias=True)\n",
      "  (layer_out): Linear(in_features=8, out_features=2, bias=True)\n",
      "  (relu): ReLU()\n",
      "  (dropout): Dropout(p=0.2, inplace=False)\n",
      "  (batchnorm1): BatchNorm1d(512, eps=1e-05, momentum=0.1, affine=True, track_running_stats=True)\n",
      "  (batchnorm2): BatchNorm1d(128, eps=1e-05, momentum=0.1, affine=True, track_running_stats=True)\n",
      "  (batchnorm3): BatchNorm1d(64, eps=1e-05, momentum=0.1, affine=True, track_running_stats=True)\n",
      "  (batchnorm4): BatchNorm1d(16, eps=1e-05, momentum=0.1, affine=True, track_running_stats=True)\n",
      "  (batchnorm5): BatchNorm1d(8, eps=1e-05, momentum=0.1, affine=True, track_running_stats=True)\n",
      ")\n"
     ]
    }
   ],
   "source": [
    "import torch.optim as optim\n",
    "\n",
    "model = MulticlassClassification(num_feature = NUM_FEATURES, num_class=NUM_CLASSES)\n",
    "\n",
    "criterion = nn.CrossEntropyLoss(weight=class_weights)\n",
    "\n",
    "criterion = nn.CrossEntropyLoss(weight=class_weights.to(device))\n",
    "\n",
    "optimizer = optim.Adam(model.parameters(), lr=LEARNING_RATE)\n",
    "print(model)"
   ]
  },
  {
   "cell_type": "code",
   "execution_count": 24,
   "metadata": {
    "id": "FXC_an2cl4NJ"
   },
   "outputs": [],
   "source": [
    "def multi_acc(y_pred, y_test):\n",
    "    y_pred_softmax = torch.log_softmax(y_pred, dim = 1)\n",
    "    _, y_pred_tags = torch.max(y_pred_softmax, dim = 1)    \n",
    "    \n",
    "    correct_pred = (y_pred_tags == y_test).float()\n",
    "    acc = correct_pred.sum() / len(correct_pred)\n",
    "    \n",
    "    acc = torch.round(acc * 100)\n",
    "    \n",
    "    return acc"
   ]
  },
  {
   "cell_type": "code",
   "execution_count": 25,
   "metadata": {
    "id": "cS6kScvemj0P"
   },
   "outputs": [],
   "source": [
    "# set accuracy\n",
    "accuracy_stats = {\n",
    "    'train': [],\n",
    "    \"val\": []\n",
    "}\n",
    "\n",
    "# set loss\n",
    "loss_stats = {\n",
    "    'train': [],\n",
    "    \"val\": []\n",
    "}"
   ]
  },
  {
   "cell_type": "markdown",
   "metadata": {
    "id": "PRck8LSUpT7K"
   },
   "source": [
    "## Training"
   ]
  },
  {
   "cell_type": "code",
   "execution_count": 26,
   "metadata": {
    "colab": {
     "base_uri": "https://localhost:8080/",
     "height": 1000,
     "referenced_widgets": [
      "bb481bbea6e94aeaaa64457cf190c266",
      "fbdb00efe445497cad488b3efe49ef2a",
      "423fd0c3f1d841d38f237ed73837ea47",
      "8d4d4b17f6c44014a6555e4d1a1172ca",
      "edc3fce54fa2414284d64503b685dbf1",
      "79b01ef27cf64eff93ab0f751a9afe94",
      "950f17c7728d4f2ca7cb2459b404c7fa",
      "90fa0d65910d40c28e05dcb10742fb45",
      "cfed8ca7599c49eda262a3f8074e82ed",
      "52bb2867ff6c4a33b18f0af0b118efc2",
      "3618b5ad13f24658abb938eb2899414b"
     ]
    },
    "id": "28vfYEV6myIz",
    "outputId": "e1885d39-8e8d-4c24-c58b-65739827f1b8"
   },
   "outputs": [
    {
     "name": "stdout",
     "output_type": "stream",
     "text": [
      "Begin training\n"
     ]
    },
    {
     "data": {
      "application/vnd.jupyter.widget-view+json": {
       "model_id": "bb481bbea6e94aeaaa64457cf190c266",
       "version_major": 2,
       "version_minor": 0
      },
      "text/plain": [
       "  0%|          | 0/300 [00:00<?, ?it/s]"
      ]
     },
     "metadata": {},
     "output_type": "display_data"
    },
    {
     "name": "stdout",
     "output_type": "stream",
     "text": [
      "Epoch 001: | Train Loss: 0.20831 | Val Loss: 0.02810 | Train Acc: 95.962| Val Acc: 99.717\n",
      "Epoch 002: | Train Loss: 0.08585 | Val Loss: 0.02131 | Train Acc: 99.414| Val Acc: 99.760\n",
      "Epoch 003: | Train Loss: 0.06565 | Val Loss: 0.02491 | Train Acc: 99.642| Val Acc: 99.717\n",
      "Epoch 004: | Train Loss: 0.08153 | Val Loss: 0.02168 | Train Acc: 99.400| Val Acc: 99.760\n",
      "Epoch 005: | Train Loss: 0.05208 | Val Loss: 0.01796 | Train Acc: 99.705| Val Acc: 99.739\n",
      "Epoch 006: | Train Loss: 0.05809 | Val Loss: 0.01907 | Train Acc: 99.695| Val Acc: 99.760\n",
      "Epoch 007: | Train Loss: 0.05270 | Val Loss: 0.01873 | Train Acc: 99.728| Val Acc: 99.739\n",
      "Epoch 008: | Train Loss: 0.05896 | Val Loss: 0.01585 | Train Acc: 99.723| Val Acc: 99.760\n",
      "Epoch 009: | Train Loss: 0.05329 | Val Loss: 0.01865 | Train Acc: 99.672| Val Acc: 99.739\n",
      "Epoch 010: | Train Loss: 0.05377 | Val Loss: 0.02106 | Train Acc: 99.709| Val Acc: 99.739\n",
      "Epoch 011: | Train Loss: 0.04290 | Val Loss: 0.01851 | Train Acc: 99.784| Val Acc: 99.695\n",
      "Epoch 012: | Train Loss: 0.04548 | Val Loss: 0.01790 | Train Acc: 99.702| Val Acc: 99.739\n",
      "Epoch 013: | Train Loss: 0.03625 | Val Loss: 0.01725 | Train Acc: 99.730| Val Acc: 99.717\n",
      "Epoch 014: | Train Loss: 0.04013 | Val Loss: 0.01643 | Train Acc: 99.784| Val Acc: 99.760\n",
      "Epoch 015: | Train Loss: 0.03734 | Val Loss: 0.01499 | Train Acc: 99.779| Val Acc: 99.673\n",
      "Epoch 016: | Train Loss: 0.03628 | Val Loss: 0.01570 | Train Acc: 99.700| Val Acc: 99.760\n",
      "Epoch 017: | Train Loss: 0.04209 | Val Loss: 0.01796 | Train Acc: 99.765| Val Acc: 99.651\n",
      "Epoch 018: | Train Loss: 0.04335 | Val Loss: 0.01816 | Train Acc: 99.737| Val Acc: 99.739\n",
      "Epoch 019: | Train Loss: 0.03865 | Val Loss: 0.01949 | Train Acc: 99.742| Val Acc: 99.608\n",
      "Epoch 020: | Train Loss: 0.03008 | Val Loss: 0.01713 | Train Acc: 99.677| Val Acc: 99.760\n",
      "Epoch 021: | Train Loss: 0.03754 | Val Loss: 0.01648 | Train Acc: 99.686| Val Acc: 99.695\n",
      "Epoch 022: | Train Loss: 0.04358 | Val Loss: 0.01465 | Train Acc: 99.716| Val Acc: 99.760\n",
      "Epoch 023: | Train Loss: 0.03777 | Val Loss: 0.01840 | Train Acc: 99.758| Val Acc: 99.695\n",
      "Epoch 024: | Train Loss: 0.03417 | Val Loss: 0.01554 | Train Acc: 99.765| Val Acc: 99.717\n",
      "Epoch 025: | Train Loss: 0.02882 | Val Loss: 0.02043 | Train Acc: 99.786| Val Acc: 99.630\n",
      "Epoch 026: | Train Loss: 0.03421 | Val Loss: 0.01647 | Train Acc: 99.758| Val Acc: 99.630\n",
      "Epoch 027: | Train Loss: 0.03330 | Val Loss: 0.01787 | Train Acc: 99.716| Val Acc: 99.651\n",
      "Epoch 028: | Train Loss: 0.03099 | Val Loss: 0.01863 | Train Acc: 99.744| Val Acc: 99.673\n",
      "Epoch 029: | Train Loss: 0.02492 | Val Loss: 0.01893 | Train Acc: 99.763| Val Acc: 99.651\n",
      "Epoch 030: | Train Loss: 0.03183 | Val Loss: 0.01887 | Train Acc: 99.714| Val Acc: 99.760\n",
      "Epoch 031: | Train Loss: 0.03176 | Val Loss: 0.02046 | Train Acc: 99.747| Val Acc: 99.695\n",
      "Epoch 032: | Train Loss: 0.03421 | Val Loss: 0.02795 | Train Acc: 99.770| Val Acc: 99.346\n",
      "Epoch 033: | Train Loss: 0.03192 | Val Loss: 0.01832 | Train Acc: 99.747| Val Acc: 99.739\n",
      "Epoch 034: | Train Loss: 0.03192 | Val Loss: 0.02278 | Train Acc: 99.768| Val Acc: 99.564\n",
      "Epoch 035: | Train Loss: 0.03127 | Val Loss: 0.01956 | Train Acc: 99.758| Val Acc: 99.695\n",
      "Epoch 036: | Train Loss: 0.02622 | Val Loss: 0.02198 | Train Acc: 99.786| Val Acc: 99.542\n",
      "Epoch 037: | Train Loss: 0.02573 | Val Loss: 0.01815 | Train Acc: 99.809| Val Acc: 99.760\n",
      "Epoch 038: | Train Loss: 0.03455 | Val Loss: 0.01846 | Train Acc: 99.716| Val Acc: 99.586\n",
      "Epoch 039: | Train Loss: 0.03043 | Val Loss: 0.01765 | Train Acc: 99.751| Val Acc: 99.695\n",
      "Epoch 040: | Train Loss: 0.03169 | Val Loss: 0.01817 | Train Acc: 99.702| Val Acc: 99.695\n",
      "Epoch 041: | Train Loss: 0.03312 | Val Loss: 0.01815 | Train Acc: 99.635| Val Acc: 99.782\n",
      "Epoch 042: | Train Loss: 0.03331 | Val Loss: 0.01975 | Train Acc: 99.728| Val Acc: 99.651\n",
      "Epoch 043: | Train Loss: 0.02620 | Val Loss: 0.01476 | Train Acc: 99.651| Val Acc: 99.739\n",
      "Epoch 044: | Train Loss: 0.02038 | Val Loss: 0.01776 | Train Acc: 99.826| Val Acc: 99.608\n",
      "Epoch 045: | Train Loss: 0.04011 | Val Loss: 0.02270 | Train Acc: 99.742| Val Acc: 99.477\n",
      "Epoch 046: | Train Loss: 0.02424 | Val Loss: 0.01875 | Train Acc: 99.835| Val Acc: 99.630\n",
      "Epoch 047: | Train Loss: 0.02770 | Val Loss: 0.01798 | Train Acc: 99.744| Val Acc: 99.651\n",
      "Epoch 048: | Train Loss: 0.03119 | Val Loss: 0.01667 | Train Acc: 99.744| Val Acc: 99.673\n",
      "Epoch 049: | Train Loss: 0.01568 | Val Loss: 0.01726 | Train Acc: 99.851| Val Acc: 99.782\n",
      "Epoch 050: | Train Loss: 0.03260 | Val Loss: 0.01816 | Train Acc: 99.719| Val Acc: 99.717\n",
      "Epoch 051: | Train Loss: 0.03273 | Val Loss: 0.01643 | Train Acc: 99.775| Val Acc: 99.739\n",
      "Epoch 052: | Train Loss: 0.02321 | Val Loss: 0.01669 | Train Acc: 99.807| Val Acc: 99.717\n",
      "Epoch 053: | Train Loss: 0.02571 | Val Loss: 0.01513 | Train Acc: 99.779| Val Acc: 99.673\n",
      "Epoch 054: | Train Loss: 0.02650 | Val Loss: 0.01726 | Train Acc: 99.837| Val Acc: 99.651\n",
      "Epoch 055: | Train Loss: 0.02656 | Val Loss: 0.02184 | Train Acc: 99.733| Val Acc: 99.608\n",
      "Epoch 056: | Train Loss: 0.03311 | Val Loss: 0.03100 | Train Acc: 99.754| Val Acc: 99.150\n",
      "Epoch 057: | Train Loss: 0.02378 | Val Loss: 0.01860 | Train Acc: 99.812| Val Acc: 99.630\n",
      "Epoch 058: | Train Loss: 0.02145 | Val Loss: 0.01879 | Train Acc: 99.709| Val Acc: 99.717\n",
      "Epoch 059: | Train Loss: 0.01892 | Val Loss: 0.01982 | Train Acc: 99.742| Val Acc: 99.542\n",
      "Epoch 060: | Train Loss: 0.02257 | Val Loss: 0.01890 | Train Acc: 99.823| Val Acc: 99.651\n",
      "Epoch 061: | Train Loss: 0.02632 | Val Loss: 0.01913 | Train Acc: 99.775| Val Acc: 99.695\n",
      "Epoch 062: | Train Loss: 0.01898 | Val Loss: 0.01838 | Train Acc: 99.826| Val Acc: 99.760\n",
      "Epoch 063: | Train Loss: 0.03020 | Val Loss: 0.02316 | Train Acc: 99.688| Val Acc: 99.608\n",
      "Epoch 064: | Train Loss: 0.02752 | Val Loss: 0.02000 | Train Acc: 99.661| Val Acc: 99.739\n",
      "Epoch 065: | Train Loss: 0.02258 | Val Loss: 0.02083 | Train Acc: 99.768| Val Acc: 99.739\n",
      "Epoch 066: | Train Loss: 0.01902 | Val Loss: 0.02024 | Train Acc: 99.802| Val Acc: 99.739\n",
      "Epoch 067: | Train Loss: 0.02929 | Val Loss: 0.01995 | Train Acc: 99.723| Val Acc: 99.717\n",
      "Epoch 068: | Train Loss: 0.01475 | Val Loss: 0.01950 | Train Acc: 99.849| Val Acc: 99.673\n",
      "Epoch 069: | Train Loss: 0.02484 | Val Loss: 0.01900 | Train Acc: 99.779| Val Acc: 99.717\n",
      "Epoch 070: | Train Loss: 0.03006 | Val Loss: 0.02025 | Train Acc: 99.807| Val Acc: 99.739\n",
      "Epoch 071: | Train Loss: 0.01815 | Val Loss: 0.01981 | Train Acc: 99.863| Val Acc: 99.760\n",
      "Epoch 072: | Train Loss: 0.01922 | Val Loss: 0.01787 | Train Acc: 99.826| Val Acc: 99.673\n",
      "Epoch 073: | Train Loss: 0.02503 | Val Loss: 0.01960 | Train Acc: 99.807| Val Acc: 99.717\n",
      "Epoch 074: | Train Loss: 0.02327 | Val Loss: 0.02099 | Train Acc: 99.826| Val Acc: 99.739\n",
      "Epoch 075: | Train Loss: 0.01985 | Val Loss: 0.02340 | Train Acc: 99.779| Val Acc: 99.673\n",
      "Epoch 076: | Train Loss: 0.01524 | Val Loss: 0.01994 | Train Acc: 99.828| Val Acc: 99.695\n",
      "Epoch 077: | Train Loss: 0.01927 | Val Loss: 0.02339 | Train Acc: 99.737| Val Acc: 99.586\n",
      "Epoch 078: | Train Loss: 0.02688 | Val Loss: 0.02452 | Train Acc: 99.709| Val Acc: 99.542\n",
      "Epoch 079: | Train Loss: 0.02571 | Val Loss: 0.02257 | Train Acc: 99.758| Val Acc: 99.630\n",
      "Epoch 080: | Train Loss: 0.01995 | Val Loss: 0.02067 | Train Acc: 99.863| Val Acc: 99.695\n",
      "Epoch 081: | Train Loss: 0.02326 | Val Loss: 0.03019 | Train Acc: 99.763| Val Acc: 99.586\n",
      "Epoch 082: | Train Loss: 0.01893 | Val Loss: 0.03245 | Train Acc: 99.802| Val Acc: 99.564\n",
      "Epoch 083: | Train Loss: 0.02805 | Val Loss: 0.02057 | Train Acc: 99.751| Val Acc: 99.717\n",
      "Epoch 084: | Train Loss: 0.01945 | Val Loss: 0.02356 | Train Acc: 99.786| Val Acc: 99.608\n",
      "Epoch 085: | Train Loss: 0.02010 | Val Loss: 0.02409 | Train Acc: 99.761| Val Acc: 99.651\n",
      "Epoch 086: | Train Loss: 0.02777 | Val Loss: 0.02258 | Train Acc: 99.730| Val Acc: 99.717\n",
      "Epoch 087: | Train Loss: 0.02369 | Val Loss: 0.02278 | Train Acc: 99.765| Val Acc: 99.695\n",
      "Epoch 088: | Train Loss: 0.01904 | Val Loss: 0.02341 | Train Acc: 99.809| Val Acc: 99.651\n",
      "Epoch 089: | Train Loss: 0.02318 | Val Loss: 0.02131 | Train Acc: 99.756| Val Acc: 99.739\n",
      "Epoch 090: | Train Loss: 0.01649 | Val Loss: 0.02499 | Train Acc: 99.830| Val Acc: 99.433\n",
      "Epoch 091: | Train Loss: 0.02351 | Val Loss: 0.02026 | Train Acc: 99.840| Val Acc: 99.651\n",
      "Epoch 092: | Train Loss: 0.01610 | Val Loss: 0.02392 | Train Acc: 99.823| Val Acc: 99.673\n",
      "Epoch 093: | Train Loss: 0.01599 | Val Loss: 0.02558 | Train Acc: 99.791| Val Acc: 99.717\n",
      "Epoch 094: | Train Loss: 0.02592 | Val Loss: 0.02348 | Train Acc: 99.751| Val Acc: 99.695\n",
      "Epoch 095: | Train Loss: 0.01657 | Val Loss: 0.02408 | Train Acc: 99.856| Val Acc: 99.586\n",
      "Epoch 096: | Train Loss: 0.01801 | Val Loss: 0.02417 | Train Acc: 99.821| Val Acc: 99.651\n",
      "Epoch 097: | Train Loss: 0.02437 | Val Loss: 0.02537 | Train Acc: 99.756| Val Acc: 99.717\n",
      "Epoch 098: | Train Loss: 0.01805 | Val Loss: 0.02131 | Train Acc: 99.812| Val Acc: 99.695\n",
      "Epoch 099: | Train Loss: 0.02193 | Val Loss: 0.02635 | Train Acc: 99.775| Val Acc: 99.695\n",
      "Epoch 100: | Train Loss: 0.01669 | Val Loss: 0.02224 | Train Acc: 99.814| Val Acc: 99.673\n",
      "Epoch 101: | Train Loss: 0.01764 | Val Loss: 0.02587 | Train Acc: 99.828| Val Acc: 99.673\n",
      "Epoch 102: | Train Loss: 0.01521 | Val Loss: 0.02369 | Train Acc: 99.812| Val Acc: 99.695\n",
      "Epoch 103: | Train Loss: 0.02557 | Val Loss: 0.02634 | Train Acc: 99.821| Val Acc: 99.608\n",
      "Epoch 104: | Train Loss: 0.03862 | Val Loss: 0.02344 | Train Acc: 99.770| Val Acc: 99.717\n",
      "Epoch 105: | Train Loss: 0.01511 | Val Loss: 0.02056 | Train Acc: 99.830| Val Acc: 99.717\n",
      "Epoch 106: | Train Loss: 0.01408 | Val Loss: 0.02609 | Train Acc: 99.823| Val Acc: 99.673\n",
      "Epoch 107: | Train Loss: 0.01768 | Val Loss: 0.02068 | Train Acc: 99.802| Val Acc: 99.739\n",
      "Epoch 108: | Train Loss: 0.01865 | Val Loss: 0.01984 | Train Acc: 99.795| Val Acc: 99.739\n",
      "Epoch 109: | Train Loss: 0.02281 | Val Loss: 0.02117 | Train Acc: 99.779| Val Acc: 99.717\n",
      "Epoch 110: | Train Loss: 0.02286 | Val Loss: 0.02489 | Train Acc: 99.735| Val Acc: 99.564\n",
      "Epoch 111: | Train Loss: 0.01235 | Val Loss: 0.02462 | Train Acc: 99.863| Val Acc: 99.651\n",
      "Epoch 112: | Train Loss: 0.02510 | Val Loss: 0.02032 | Train Acc: 99.777| Val Acc: 99.717\n",
      "Epoch 113: | Train Loss: 0.01908 | Val Loss: 0.02159 | Train Acc: 99.858| Val Acc: 99.651\n",
      "Epoch 114: | Train Loss: 0.01590 | Val Loss: 0.02716 | Train Acc: 99.821| Val Acc: 99.542\n",
      "Epoch 115: | Train Loss: 0.01534 | Val Loss: 0.02405 | Train Acc: 99.865| Val Acc: 99.717\n",
      "Epoch 116: | Train Loss: 0.02378 | Val Loss: 0.01945 | Train Acc: 99.821| Val Acc: 99.717\n",
      "Epoch 117: | Train Loss: 0.02727 | Val Loss: 0.02084 | Train Acc: 99.819| Val Acc: 99.695\n",
      "Epoch 118: | Train Loss: 0.01617 | Val Loss: 0.02635 | Train Acc: 99.809| Val Acc: 99.542\n",
      "Epoch 119: | Train Loss: 0.02234 | Val Loss: 0.02040 | Train Acc: 99.772| Val Acc: 99.760\n",
      "Epoch 120: | Train Loss: 0.01589 | Val Loss: 0.02073 | Train Acc: 99.833| Val Acc: 99.673\n",
      "Epoch 121: | Train Loss: 0.02430 | Val Loss: 0.01975 | Train Acc: 99.777| Val Acc: 99.651\n",
      "Epoch 122: | Train Loss: 0.01859 | Val Loss: 0.02418 | Train Acc: 99.809| Val Acc: 99.673\n",
      "Epoch 123: | Train Loss: 0.02336 | Val Loss: 0.02359 | Train Acc: 99.828| Val Acc: 99.673\n",
      "Epoch 124: | Train Loss: 0.01631 | Val Loss: 0.02372 | Train Acc: 99.830| Val Acc: 99.630\n",
      "Epoch 125: | Train Loss: 0.01216 | Val Loss: 0.02318 | Train Acc: 99.823| Val Acc: 99.673\n",
      "Epoch 126: | Train Loss: 0.02465 | Val Loss: 0.02151 | Train Acc: 99.775| Val Acc: 99.760\n",
      "Epoch 127: | Train Loss: 0.01824 | Val Loss: 0.01988 | Train Acc: 99.821| Val Acc: 99.760\n",
      "Epoch 128: | Train Loss: 0.01760 | Val Loss: 0.02078 | Train Acc: 99.837| Val Acc: 99.695\n",
      "Epoch 129: | Train Loss: 0.02005 | Val Loss: 0.02278 | Train Acc: 99.753| Val Acc: 99.717\n",
      "Epoch 130: | Train Loss: 0.01241 | Val Loss: 0.02387 | Train Acc: 99.844| Val Acc: 99.717\n",
      "Epoch 131: | Train Loss: 0.01293 | Val Loss: 0.02189 | Train Acc: 99.842| Val Acc: 99.717\n",
      "Epoch 132: | Train Loss: 0.01453 | Val Loss: 0.02204 | Train Acc: 99.823| Val Acc: 99.695\n",
      "Epoch 133: | Train Loss: 0.01795 | Val Loss: 0.02423 | Train Acc: 99.812| Val Acc: 99.717\n",
      "Epoch 134: | Train Loss: 0.01706 | Val Loss: 0.02381 | Train Acc: 99.818| Val Acc: 99.695\n",
      "Epoch 135: | Train Loss: 0.01880 | Val Loss: 0.02152 | Train Acc: 99.740| Val Acc: 99.717\n",
      "Epoch 136: | Train Loss: 0.01598 | Val Loss: 0.02093 | Train Acc: 99.798| Val Acc: 99.717\n",
      "Epoch 137: | Train Loss: 0.01399 | Val Loss: 0.02557 | Train Acc: 99.837| Val Acc: 99.695\n",
      "Epoch 138: | Train Loss: 0.02259 | Val Loss: 0.02570 | Train Acc: 99.761| Val Acc: 99.717\n",
      "Epoch 139: | Train Loss: 0.02112 | Val Loss: 0.02422 | Train Acc: 99.805| Val Acc: 99.695\n",
      "Epoch 140: | Train Loss: 0.01708 | Val Loss: 0.02641 | Train Acc: 99.828| Val Acc: 99.521\n",
      "Epoch 141: | Train Loss: 0.02065 | Val Loss: 0.02461 | Train Acc: 99.814| Val Acc: 99.673\n",
      "Epoch 142: | Train Loss: 0.01420 | Val Loss: 0.02404 | Train Acc: 99.835| Val Acc: 99.586\n",
      "Epoch 143: | Train Loss: 0.01968 | Val Loss: 0.02497 | Train Acc: 99.805| Val Acc: 99.651\n",
      "Epoch 144: | Train Loss: 0.01559 | Val Loss: 0.02784 | Train Acc: 99.847| Val Acc: 99.521\n",
      "Epoch 145: | Train Loss: 0.01578 | Val Loss: 0.03599 | Train Acc: 99.847| Val Acc: 99.630\n",
      "Epoch 146: | Train Loss: 0.01853 | Val Loss: 0.02702 | Train Acc: 99.819| Val Acc: 99.630\n",
      "Epoch 147: | Train Loss: 0.01740 | Val Loss: 0.02642 | Train Acc: 99.788| Val Acc: 99.673\n",
      "Epoch 148: | Train Loss: 0.01481 | Val Loss: 0.02447 | Train Acc: 99.812| Val Acc: 99.673\n",
      "Epoch 149: | Train Loss: 0.01362 | Val Loss: 0.02271 | Train Acc: 99.849| Val Acc: 99.717\n",
      "Epoch 150: | Train Loss: 0.01733 | Val Loss: 0.02812 | Train Acc: 99.821| Val Acc: 99.630\n",
      "Epoch 151: | Train Loss: 0.01882 | Val Loss: 0.03020 | Train Acc: 99.814| Val Acc: 99.717\n",
      "Epoch 152: | Train Loss: 0.01733 | Val Loss: 0.02214 | Train Acc: 99.865| Val Acc: 99.673\n",
      "Epoch 153: | Train Loss: 0.01852 | Val Loss: 0.02301 | Train Acc: 99.823| Val Acc: 99.651\n",
      "Epoch 154: | Train Loss: 0.02152 | Val Loss: 0.02625 | Train Acc: 99.825| Val Acc: 99.673\n",
      "Epoch 155: | Train Loss: 0.02899 | Val Loss: 0.02404 | Train Acc: 99.793| Val Acc: 99.651\n",
      "Epoch 156: | Train Loss: 0.01943 | Val Loss: 0.02244 | Train Acc: 99.763| Val Acc: 99.717\n",
      "Epoch 157: | Train Loss: 0.01388 | Val Loss: 0.02312 | Train Acc: 99.897| Val Acc: 99.739\n",
      "Epoch 158: | Train Loss: 0.01725 | Val Loss: 0.02235 | Train Acc: 99.847| Val Acc: 99.717\n",
      "Epoch 159: | Train Loss: 0.01728 | Val Loss: 0.02418 | Train Acc: 99.821| Val Acc: 99.695\n",
      "Epoch 160: | Train Loss: 0.01683 | Val Loss: 0.02557 | Train Acc: 99.816| Val Acc: 99.695\n",
      "Epoch 161: | Train Loss: 0.01656 | Val Loss: 0.02327 | Train Acc: 99.825| Val Acc: 99.695\n",
      "Epoch 162: | Train Loss: 0.01310 | Val Loss: 0.02742 | Train Acc: 99.798| Val Acc: 99.673\n",
      "Epoch 163: | Train Loss: 0.01747 | Val Loss: 0.02428 | Train Acc: 99.742| Val Acc: 99.695\n",
      "Epoch 164: | Train Loss: 0.01458 | Val Loss: 0.02720 | Train Acc: 99.844| Val Acc: 99.717\n",
      "Epoch 165: | Train Loss: 0.01575 | Val Loss: 0.02454 | Train Acc: 99.814| Val Acc: 99.717\n",
      "Epoch 166: | Train Loss: 0.02252 | Val Loss: 0.02359 | Train Acc: 99.784| Val Acc: 99.673\n",
      "Epoch 167: | Train Loss: 0.02351 | Val Loss: 0.02270 | Train Acc: 99.809| Val Acc: 99.717\n",
      "Epoch 168: | Train Loss: 0.02172 | Val Loss: 0.02328 | Train Acc: 99.770| Val Acc: 99.717\n",
      "Epoch 169: | Train Loss: 0.01513 | Val Loss: 0.02324 | Train Acc: 99.851| Val Acc: 99.739\n",
      "Epoch 170: | Train Loss: 0.01718 | Val Loss: 0.02752 | Train Acc: 99.795| Val Acc: 99.651\n",
      "Epoch 171: | Train Loss: 0.01419 | Val Loss: 0.02341 | Train Acc: 99.847| Val Acc: 99.695\n",
      "Epoch 172: | Train Loss: 0.01700 | Val Loss: 0.02738 | Train Acc: 99.765| Val Acc: 99.717\n",
      "Epoch 173: | Train Loss: 0.01997 | Val Loss: 0.02675 | Train Acc: 99.812| Val Acc: 99.739\n",
      "Epoch 174: | Train Loss: 0.01287 | Val Loss: 0.02948 | Train Acc: 99.791| Val Acc: 99.673\n",
      "Epoch 175: | Train Loss: 0.01122 | Val Loss: 0.03025 | Train Acc: 99.861| Val Acc: 99.695\n",
      "Epoch 176: | Train Loss: 0.01114 | Val Loss: 0.02496 | Train Acc: 99.870| Val Acc: 99.651\n",
      "Epoch 177: | Train Loss: 0.01381 | Val Loss: 0.02954 | Train Acc: 99.821| Val Acc: 99.673\n",
      "Epoch 178: | Train Loss: 0.01861 | Val Loss: 0.02582 | Train Acc: 99.788| Val Acc: 99.717\n",
      "Epoch 179: | Train Loss: 0.01619 | Val Loss: 0.02505 | Train Acc: 99.816| Val Acc: 99.608\n",
      "Epoch 180: | Train Loss: 0.01381 | Val Loss: 0.02379 | Train Acc: 99.847| Val Acc: 99.695\n",
      "Epoch 181: | Train Loss: 0.01320 | Val Loss: 0.03024 | Train Acc: 99.854| Val Acc: 99.717\n",
      "Epoch 182: | Train Loss: 0.02093 | Val Loss: 0.02763 | Train Acc: 99.823| Val Acc: 99.695\n",
      "Epoch 183: | Train Loss: 0.01699 | Val Loss: 0.03228 | Train Acc: 99.779| Val Acc: 99.608\n",
      "Epoch 184: | Train Loss: 0.00731 | Val Loss: 0.02732 | Train Acc: 99.851| Val Acc: 99.717\n",
      "Epoch 185: | Train Loss: 0.01239 | Val Loss: 0.02508 | Train Acc: 99.895| Val Acc: 99.630\n",
      "Epoch 186: | Train Loss: 0.02088 | Val Loss: 0.02433 | Train Acc: 99.851| Val Acc: 99.695\n",
      "Epoch 187: | Train Loss: 0.02079 | Val Loss: 0.03192 | Train Acc: 99.833| Val Acc: 99.651\n",
      "Epoch 188: | Train Loss: 0.01950 | Val Loss: 0.02982 | Train Acc: 99.856| Val Acc: 99.608\n",
      "Epoch 189: | Train Loss: 0.01765 | Val Loss: 0.02499 | Train Acc: 99.833| Val Acc: 99.695\n",
      "Epoch 190: | Train Loss: 0.01005 | Val Loss: 0.02543 | Train Acc: 99.879| Val Acc: 99.673\n",
      "Epoch 191: | Train Loss: 0.01537 | Val Loss: 0.03033 | Train Acc: 99.870| Val Acc: 99.586\n",
      "Epoch 192: | Train Loss: 0.01443 | Val Loss: 0.03069 | Train Acc: 99.844| Val Acc: 99.673\n",
      "Epoch 193: | Train Loss: 0.01581 | Val Loss: 0.02366 | Train Acc: 99.846| Val Acc: 99.695\n",
      "Epoch 194: | Train Loss: 0.01583 | Val Loss: 0.02252 | Train Acc: 99.793| Val Acc: 99.717\n",
      "Epoch 195: | Train Loss: 0.01397 | Val Loss: 0.02346 | Train Acc: 99.840| Val Acc: 99.673\n",
      "Epoch 196: | Train Loss: 0.01584 | Val Loss: 0.02455 | Train Acc: 99.886| Val Acc: 99.695\n",
      "Epoch 197: | Train Loss: 0.01319 | Val Loss: 0.02434 | Train Acc: 99.867| Val Acc: 99.717\n",
      "Epoch 198: | Train Loss: 0.01825 | Val Loss: 0.02753 | Train Acc: 99.851| Val Acc: 99.630\n",
      "Epoch 199: | Train Loss: 0.01372 | Val Loss: 0.02786 | Train Acc: 99.881| Val Acc: 99.739\n",
      "Epoch 200: | Train Loss: 0.02231 | Val Loss: 0.02435 | Train Acc: 99.781| Val Acc: 99.717\n",
      "Epoch 201: | Train Loss: 0.01512 | Val Loss: 0.02684 | Train Acc: 99.858| Val Acc: 99.695\n",
      "Epoch 202: | Train Loss: 0.01509 | Val Loss: 0.02826 | Train Acc: 99.856| Val Acc: 99.630\n",
      "Epoch 203: | Train Loss: 0.01451 | Val Loss: 0.02400 | Train Acc: 99.840| Val Acc: 99.717\n",
      "Epoch 204: | Train Loss: 0.00909 | Val Loss: 0.02514 | Train Acc: 99.923| Val Acc: 99.695\n",
      "Epoch 205: | Train Loss: 0.01041 | Val Loss: 0.02048 | Train Acc: 99.877| Val Acc: 99.739\n",
      "Epoch 206: | Train Loss: 0.01639 | Val Loss: 0.02488 | Train Acc: 99.823| Val Acc: 99.564\n",
      "Epoch 207: | Train Loss: 0.02122 | Val Loss: 0.02479 | Train Acc: 99.795| Val Acc: 99.717\n",
      "Epoch 208: | Train Loss: 0.01170 | Val Loss: 0.02282 | Train Acc: 99.856| Val Acc: 99.717\n",
      "Epoch 209: | Train Loss: 0.01144 | Val Loss: 0.02974 | Train Acc: 99.844| Val Acc: 99.499\n",
      "Epoch 210: | Train Loss: 0.01758 | Val Loss: 0.02491 | Train Acc: 99.854| Val Acc: 99.673\n",
      "Epoch 211: | Train Loss: 0.01239 | Val Loss: 0.02922 | Train Acc: 99.898| Val Acc: 99.717\n",
      "Epoch 212: | Train Loss: 0.01108 | Val Loss: 0.02450 | Train Acc: 99.844| Val Acc: 99.695\n",
      "Epoch 213: | Train Loss: 0.01261 | Val Loss: 0.02755 | Train Acc: 99.833| Val Acc: 99.695\n",
      "Epoch 214: | Train Loss: 0.01072 | Val Loss: 0.02864 | Train Acc: 99.909| Val Acc: 99.695\n",
      "Epoch 215: | Train Loss: 0.01447 | Val Loss: 0.02962 | Train Acc: 99.849| Val Acc: 99.651\n",
      "Epoch 216: | Train Loss: 0.01966 | Val Loss: 0.02518 | Train Acc: 99.835| Val Acc: 99.717\n",
      "Epoch 217: | Train Loss: 0.01582 | Val Loss: 0.02692 | Train Acc: 99.854| Val Acc: 99.717\n",
      "Epoch 218: | Train Loss: 0.02097 | Val Loss: 0.02636 | Train Acc: 99.826| Val Acc: 99.651\n",
      "Epoch 219: | Train Loss: 0.01106 | Val Loss: 0.02701 | Train Acc: 99.856| Val Acc: 99.586\n",
      "Epoch 220: | Train Loss: 0.01161 | Val Loss: 0.02379 | Train Acc: 99.898| Val Acc: 99.717\n",
      "Epoch 221: | Train Loss: 0.01200 | Val Loss: 0.02696 | Train Acc: 99.905| Val Acc: 99.695\n",
      "Epoch 222: | Train Loss: 0.01749 | Val Loss: 0.02489 | Train Acc: 99.816| Val Acc: 99.673\n",
      "Epoch 223: | Train Loss: 0.01144 | Val Loss: 0.02590 | Train Acc: 99.872| Val Acc: 99.717\n",
      "Epoch 224: | Train Loss: 0.01205 | Val Loss: 0.02598 | Train Acc: 99.863| Val Acc: 99.630\n",
      "Epoch 225: | Train Loss: 0.01225 | Val Loss: 0.02219 | Train Acc: 99.888| Val Acc: 99.608\n",
      "Epoch 226: | Train Loss: 0.01378 | Val Loss: 0.02827 | Train Acc: 99.867| Val Acc: 99.586\n",
      "Epoch 227: | Train Loss: 0.01560 | Val Loss: 0.02460 | Train Acc: 99.867| Val Acc: 99.695\n",
      "Epoch 228: | Train Loss: 0.01074 | Val Loss: 0.02654 | Train Acc: 99.888| Val Acc: 99.673\n",
      "Epoch 229: | Train Loss: 0.01862 | Val Loss: 0.02591 | Train Acc: 99.784| Val Acc: 99.586\n",
      "Epoch 230: | Train Loss: 0.01683 | Val Loss: 0.02720 | Train Acc: 99.788| Val Acc: 99.717\n",
      "Epoch 231: | Train Loss: 0.01481 | Val Loss: 0.02787 | Train Acc: 99.854| Val Acc: 99.412\n",
      "Epoch 232: | Train Loss: 0.01155 | Val Loss: 0.02583 | Train Acc: 99.874| Val Acc: 99.542\n",
      "Epoch 233: | Train Loss: 0.01909 | Val Loss: 0.02191 | Train Acc: 99.837| Val Acc: 99.673\n",
      "Epoch 234: | Train Loss: 0.01839 | Val Loss: 0.02529 | Train Acc: 99.840| Val Acc: 99.608\n",
      "Epoch 235: | Train Loss: 0.01235 | Val Loss: 0.02716 | Train Acc: 99.891| Val Acc: 99.651\n",
      "Epoch 236: | Train Loss: 0.01196 | Val Loss: 0.02206 | Train Acc: 99.874| Val Acc: 99.717\n",
      "Epoch 237: | Train Loss: 0.01028 | Val Loss: 0.02300 | Train Acc: 99.886| Val Acc: 99.717\n",
      "Epoch 238: | Train Loss: 0.01425 | Val Loss: 0.02851 | Train Acc: 99.828| Val Acc: 99.717\n",
      "Epoch 239: | Train Loss: 0.01476 | Val Loss: 0.02663 | Train Acc: 99.854| Val Acc: 99.717\n",
      "Epoch 240: | Train Loss: 0.01177 | Val Loss: 0.03416 | Train Acc: 99.854| Val Acc: 99.390\n",
      "Epoch 241: | Train Loss: 0.01070 | Val Loss: 0.02287 | Train Acc: 99.826| Val Acc: 99.717\n",
      "Epoch 242: | Train Loss: 0.01320 | Val Loss: 0.02995 | Train Acc: 99.842| Val Acc: 99.455\n",
      "Epoch 243: | Train Loss: 0.01320 | Val Loss: 0.02609 | Train Acc: 99.835| Val Acc: 99.673\n",
      "Epoch 244: | Train Loss: 0.01267 | Val Loss: 0.02724 | Train Acc: 99.856| Val Acc: 99.651\n",
      "Epoch 245: | Train Loss: 0.01244 | Val Loss: 0.02580 | Train Acc: 99.791| Val Acc: 99.651\n",
      "Epoch 246: | Train Loss: 0.01095 | Val Loss: 0.02962 | Train Acc: 99.854| Val Acc: 99.521\n",
      "Epoch 247: | Train Loss: 0.00951 | Val Loss: 0.02622 | Train Acc: 99.842| Val Acc: 99.695\n",
      "Epoch 248: | Train Loss: 0.01069 | Val Loss: 0.03111 | Train Acc: 99.863| Val Acc: 99.542\n",
      "Epoch 249: | Train Loss: 0.02092 | Val Loss: 0.02759 | Train Acc: 99.793| Val Acc: 99.695\n",
      "Epoch 250: | Train Loss: 0.01066 | Val Loss: 0.03208 | Train Acc: 99.858| Val Acc: 99.542\n",
      "Epoch 251: | Train Loss: 0.01172 | Val Loss: 0.02426 | Train Acc: 99.877| Val Acc: 99.695\n",
      "Epoch 252: | Train Loss: 0.01822 | Val Loss: 0.02336 | Train Acc: 99.776| Val Acc: 99.739\n",
      "Epoch 253: | Train Loss: 0.01359 | Val Loss: 0.02605 | Train Acc: 99.807| Val Acc: 99.564\n",
      "Epoch 254: | Train Loss: 0.01048 | Val Loss: 0.02918 | Train Acc: 99.870| Val Acc: 99.542\n",
      "Epoch 255: | Train Loss: 0.01612 | Val Loss: 0.02851 | Train Acc: 99.819| Val Acc: 99.368\n",
      "Epoch 256: | Train Loss: 0.01051 | Val Loss: 0.02934 | Train Acc: 99.867| Val Acc: 99.542\n",
      "Epoch 257: | Train Loss: 0.01159 | Val Loss: 0.02855 | Train Acc: 99.895| Val Acc: 99.673\n",
      "Epoch 258: | Train Loss: 0.00947 | Val Loss: 0.02214 | Train Acc: 99.891| Val Acc: 99.739\n",
      "Epoch 259: | Train Loss: 0.01513 | Val Loss: 0.02828 | Train Acc: 99.784| Val Acc: 99.586\n",
      "Epoch 260: | Train Loss: 0.01083 | Val Loss: 0.02625 | Train Acc: 99.874| Val Acc: 99.695\n",
      "Epoch 261: | Train Loss: 0.00657 | Val Loss: 0.02786 | Train Acc: 99.902| Val Acc: 99.695\n",
      "Epoch 262: | Train Loss: 0.00853 | Val Loss: 0.02610 | Train Acc: 99.867| Val Acc: 99.695\n",
      "Epoch 263: | Train Loss: 0.02375 | Val Loss: 0.02248 | Train Acc: 99.814| Val Acc: 99.717\n",
      "Epoch 264: | Train Loss: 0.01517 | Val Loss: 0.02089 | Train Acc: 99.770| Val Acc: 99.717\n",
      "Epoch 265: | Train Loss: 0.00882 | Val Loss: 0.03219 | Train Acc: 99.861| Val Acc: 99.433\n",
      "Epoch 266: | Train Loss: 0.01655 | Val Loss: 0.02684 | Train Acc: 99.788| Val Acc: 99.717\n",
      "Epoch 267: | Train Loss: 0.01088 | Val Loss: 0.02658 | Train Acc: 99.809| Val Acc: 99.651\n",
      "Epoch 268: | Train Loss: 0.01076 | Val Loss: 0.03141 | Train Acc: 99.842| Val Acc: 99.695\n",
      "Epoch 269: | Train Loss: 0.01645 | Val Loss: 0.03040 | Train Acc: 99.772| Val Acc: 99.630\n",
      "Epoch 270: | Train Loss: 0.01008 | Val Loss: 0.02973 | Train Acc: 99.877| Val Acc: 99.695\n",
      "Epoch 271: | Train Loss: 0.01352 | Val Loss: 0.02655 | Train Acc: 99.793| Val Acc: 99.695\n",
      "Epoch 272: | Train Loss: 0.00764 | Val Loss: 0.03410 | Train Acc: 99.888| Val Acc: 99.542\n",
      "Epoch 273: | Train Loss: 0.01198 | Val Loss: 0.02656 | Train Acc: 99.867| Val Acc: 99.630\n",
      "Epoch 274: | Train Loss: 0.01230 | Val Loss: 0.02507 | Train Acc: 99.886| Val Acc: 99.630\n",
      "Epoch 275: | Train Loss: 0.01070 | Val Loss: 0.02706 | Train Acc: 99.898| Val Acc: 99.630\n",
      "Epoch 276: | Train Loss: 0.00812 | Val Loss: 0.02666 | Train Acc: 99.888| Val Acc: 99.630\n",
      "Epoch 277: | Train Loss: 0.01126 | Val Loss: 0.02892 | Train Acc: 99.856| Val Acc: 99.433\n",
      "Epoch 278: | Train Loss: 0.01636 | Val Loss: 0.02852 | Train Acc: 99.821| Val Acc: 99.651\n",
      "Epoch 279: | Train Loss: 0.01023 | Val Loss: 0.03061 | Train Acc: 99.874| Val Acc: 99.586\n",
      "Epoch 280: | Train Loss: 0.01265 | Val Loss: 0.03110 | Train Acc: 99.874| Val Acc: 99.477\n",
      "Epoch 281: | Train Loss: 0.00978 | Val Loss: 0.03258 | Train Acc: 99.888| Val Acc: 99.499\n",
      "Epoch 282: | Train Loss: 0.01428 | Val Loss: 0.02691 | Train Acc: 99.844| Val Acc: 99.717\n",
      "Epoch 283: | Train Loss: 0.01335 | Val Loss: 0.03140 | Train Acc: 99.888| Val Acc: 99.695\n",
      "Epoch 284: | Train Loss: 0.01504 | Val Loss: 0.04216 | Train Acc: 99.800| Val Acc: 99.237\n",
      "Epoch 285: | Train Loss: 0.01274 | Val Loss: 0.04422 | Train Acc: 99.886| Val Acc: 99.281\n",
      "Epoch 286: | Train Loss: 0.01351 | Val Loss: 0.03919 | Train Acc: 99.802| Val Acc: 99.281\n",
      "Epoch 287: | Train Loss: 0.01245 | Val Loss: 0.02719 | Train Acc: 99.791| Val Acc: 99.673\n",
      "Epoch 288: | Train Loss: 0.01040 | Val Loss: 0.02995 | Train Acc: 99.877| Val Acc: 99.477\n",
      "Epoch 289: | Train Loss: 0.00854 | Val Loss: 0.03177 | Train Acc: 99.856| Val Acc: 99.651\n",
      "Epoch 290: | Train Loss: 0.01205 | Val Loss: 0.03667 | Train Acc: 99.798| Val Acc: 99.324\n",
      "Epoch 291: | Train Loss: 0.00916 | Val Loss: 0.03547 | Train Acc: 99.900| Val Acc: 99.477\n",
      "Epoch 292: | Train Loss: 0.01041 | Val Loss: 0.02757 | Train Acc: 99.844| Val Acc: 99.542\n",
      "Epoch 293: | Train Loss: 0.01140 | Val Loss: 0.03143 | Train Acc: 99.863| Val Acc: 99.521\n",
      "Epoch 294: | Train Loss: 0.01639 | Val Loss: 0.03352 | Train Acc: 99.842| Val Acc: 99.477\n",
      "Epoch 295: | Train Loss: 0.00821 | Val Loss: 0.02974 | Train Acc: 99.907| Val Acc: 99.695\n",
      "Epoch 296: | Train Loss: 0.00701 | Val Loss: 0.03242 | Train Acc: 99.909| Val Acc: 99.521\n",
      "Epoch 297: | Train Loss: 0.01443 | Val Loss: 0.02854 | Train Acc: 99.786| Val Acc: 99.608\n",
      "Epoch 298: | Train Loss: 0.00988 | Val Loss: 0.04048 | Train Acc: 99.830| Val Acc: 99.477\n",
      "Epoch 299: | Train Loss: 0.00770 | Val Loss: 0.04094 | Train Acc: 99.844| Val Acc: 99.303\n",
      "Epoch 300: | Train Loss: 0.01129 | Val Loss: 0.02938 | Train Acc: 99.879| Val Acc: 99.499\n"
     ]
    }
   ],
   "source": [
    "from tqdm.notebook import tqdm\n",
    "\n",
    "print(\"Begin training\")\n",
    "\n",
    "# 300 EPOCHS\n",
    "for e in tqdm(range(1, EPOCHS+1)):\n",
    "    \n",
    "    # TRAINING\n",
    "    train_epoch_loss = 0\n",
    "    train_epoch_acc = 0\n",
    "    model.train()\n",
    "    for X_train_batch, y_train_batch in train_loader:\n",
    "        # get inputs\n",
    "        X_train_batch, y_train_batch = X_train_batch, y_train_batch\n",
    "        \n",
    "        # zero parameter gradients\n",
    "        optimizer.zero_grad()\n",
    "        \n",
    "        # forward > backward > optimize\n",
    "        y_train_pred = model(X_train_batch)\n",
    "        train_loss = criterion(y_train_pred, y_train_batch)\n",
    "        train_acc = multi_acc(y_train_pred, y_train_batch)\n",
    "        train_loss.backward()\n",
    "        optimizer.step()\n",
    "        \n",
    "        train_epoch_loss += train_loss.item()\n",
    "        train_epoch_acc += train_acc.item()\n",
    "        \n",
    "        \n",
    "    # VALIDATION    \n",
    "    with torch.no_grad():\n",
    "        \n",
    "        val_epoch_loss = 0\n",
    "        val_epoch_acc = 0\n",
    "        \n",
    "        model.eval()\n",
    "        for X_val_batch, y_val_batch in val_loader:\n",
    "            # get the inputs\n",
    "            X_val_batch, y_val_batch = X_val_batch, y_val_batch\n",
    "            \n",
    "            y_val_pred = model(X_val_batch)\n",
    "                        \n",
    "            val_loss = criterion(y_val_pred, y_val_batch)\n",
    "            val_acc = multi_acc(y_val_pred, y_val_batch)\n",
    "            \n",
    "            val_epoch_loss += val_loss.item()\n",
    "            val_epoch_acc += val_acc.item()\n",
    "    loss_stats['train'].append(train_epoch_loss/len(train_loader))\n",
    "    loss_stats['val'].append(val_epoch_loss/len(val_loader))\n",
    "    accuracy_stats['train'].append(train_epoch_acc/len(train_loader))\n",
    "    accuracy_stats['val'].append(val_epoch_acc/len(val_loader))\n",
    "                              \n",
    "    # print statistics\n",
    "    print(f'Epoch {e+0:03}: | Train Loss: {train_epoch_loss/len(train_loader):.5f} | Val Loss: {val_epoch_loss/len(val_loader):.5f} | Train Acc: {train_epoch_acc/len(train_loader):.3f}| Val Acc: {val_epoch_acc/len(val_loader):.3f}')"
   ]
  },
  {
   "cell_type": "markdown",
   "metadata": {
    "id": "3avk7l7npEJm"
   },
   "source": [
    "## Loss and Accuracy"
   ]
  },
  {
   "cell_type": "code",
   "execution_count": 27,
   "metadata": {
    "colab": {
     "base_uri": "https://localhost:8080/",
     "height": 476
    },
    "id": "adhAkrHXpDT6",
    "outputId": "653d8c8b-7540-4c47-be91-963a2762845d"
   },
   "outputs": [
    {
     "data": {
      "text/plain": [
       "Text(0.5, 1.0, 'Train-Val Loss/Epoch')"
      ]
     },
     "execution_count": 27,
     "metadata": {},
     "output_type": "execute_result"
    },
    {
     "data": {
      "image/png": "[encoded data removed]",
      "text/plain": [
       "<Figure size 1440x504 with 2 Axes>"
      ]
     },
     "metadata": {
      "needs_background": "light"
     },
     "output_type": "display_data"
    }
   ],
   "source": [
    "# Create dataframes\n",
    "train_val_acc_df = pd.DataFrame.from_dict(accuracy_stats).reset_index().melt(id_vars=['index']).rename(columns={\"index\":\"epochs\"})\n",
    "train_val_loss_df = pd.DataFrame.from_dict(loss_stats).reset_index().melt(id_vars=['index']).rename(columns={\"index\":\"epochs\"})\n",
    "\n",
    "# Plot dataframes\n",
    "fig, axes = plt.subplots(nrows=1, ncols=2, figsize=(20,7))\n",
    "sns.lineplot(data=train_val_acc_df, x = \"epochs\", y=\"value\", hue=\"variable\",  ax=axes[0]).set_title('Train-Val Accuracy/Epoch')\n",
    "sns.lineplot(data=train_val_loss_df, x = \"epochs\", y=\"value\", hue=\"variable\", ax=axes[1]).set_title('Train-Val Loss/Epoch')"
   ]
  },
  {
   "cell_type": "markdown",
   "metadata": {
    "id": "xytGhcKOyD8m"
   },
   "source": [
    "Most of the accuracy for train and validation are higher than 99%.\n",
    "Most of the loss for train and validation are lower than 5%."
   ]
  },
  {
   "cell_type": "markdown",
   "metadata": {
    "id": "hNX6Q8FzpJWz"
   },
   "source": [
    "## Observations"
   ]
  },
  {
   "cell_type": "code",
   "execution_count": 28,
   "metadata": {
    "id": "CCRK2ZCqpKsI"
   },
   "outputs": [],
   "source": [
    "y_pred_list = []\n",
    "with torch.no_grad():\n",
    "    model.eval()\n",
    "    for X_batch, _ in test_loader:\n",
    "        y_test_pred = model(X_batch)\n",
    "        _, y_pred_tags = torch.max(y_test_pred, dim = 1)\n",
    "        y_pred_list.append(y_pred_tags.numpy())\n",
    "y_pred_list = [a.squeeze().tolist() for a in y_pred_list]"
   ]
  },
  {
   "cell_type": "code",
   "execution_count": 29,
   "metadata": {
    "colab": {
     "base_uri": "https://localhost:8080/",
     "height": 283
    },
    "id": "Lb5EWiUlpOZO",
    "outputId": "e664e929-cca9-41e3-fd77-474e6ad52c61"
   },
   "outputs": [
    {
     "data": {
      "text/plain": [
       "<AxesSubplot:>"
      ]
     },
     "execution_count": 29,
     "metadata": {},
     "output_type": "execute_result"
    },
    {
     "data": {
      "image/png": "[encoded data removed]",
      "text/plain": [
       "<Figure size 432x288 with 2 Axes>"
      ]
     },
     "metadata": {
      "needs_background": "light"
     },
     "output_type": "display_data"
    }
   ],
   "source": [
    "from sklearn.metrics import confusion_matrix, classification_report\n",
    "\n",
    "class2idx = {\n",
    "    0:0,\n",
    "    1:1,\n",
    "}\n",
    "\n",
    "idx2class = {v: k for k, v in class2idx.items()}\n",
    "\n",
    "# confusion matrix\n",
    "confusion_matrix_df = pd.DataFrame(confusion_matrix(y_test, y_pred_list)).rename(columns=idx2class, index=idx2class)\n",
    "\n",
    "sns.heatmap(confusion_matrix_df, annot=True)"
   ]
  },
  {
   "cell_type": "markdown",
   "metadata": {
    "id": "x8jTJOlywvXg"
   },
   "source": [
    "Our model seems to catch a lot of the class 0. But the number of class 1 classified as class 0 is really high. One can tweak the threshold here and there to come up with better results."
   ]
  },
  {
   "cell_type": "code",
   "execution_count": 30,
   "metadata": {
    "colab": {
     "base_uri": "https://localhost:8080/"
    },
    "id": "HhRWL3_BauMK",
    "outputId": "19e98521-cf29-45a8-bb4a-32b8e48723a2"
   },
   "outputs": [
    {
     "name": "stdout",
     "output_type": "stream",
     "text": [
      "              precision    recall  f1-score   support\n",
      "\n",
      "           0       1.00      1.00      1.00     11373\n",
      "           1       0.98      0.56      0.71        98\n",
      "\n",
      "    accuracy                           1.00     11471\n",
      "   macro avg       0.99      0.78      0.86     11471\n",
      "weighted avg       1.00      1.00      1.00     11471\n",
      "\n"
     ]
    }
   ],
   "source": [
    "# classification report\n",
    "print(classification_report(y_test, y_pred_list))"
   ]
  },
  {
   "cell_type": "markdown",
   "metadata": {
    "id": "RwagY-eCd1_T"
   },
   "source": [
    "## Conclusion"
   ]
  },
  {
   "cell_type": "markdown",
   "metadata": {
    "id": "MewKg9JTd8aZ"
   },
   "source": [
    "A very simple Credit Card Fraud Detection Classifier in PyTorch is created. \n",
    "\n",
    "To create a complex Deep Autoencoder, PyTorch provided us with a highly clear and user-friendly API. For a different domain or task, such as identifying photographs as having unsuitable material, it may try developing a comparable autoencoder using a different framework, such as Tensorflow, Keras or fast.ai.\n",
    "\n",
    "The classifier has learnt to recognise the transactions class. It is learning the patterns present in those transactions which those patterns is hard to tell. At the same time, it is a mystery of all deep learning neural network.\n",
    "\n"
   ]
  }
 ],
 "metadata": {
  "colab": {
   "provenance": []
  },
  "kernelspec": {
   "display_name": "Python 3 (ipykernel)",
   "language": "python",
   "name": "python3"
  },
  "language_info": {
   "codemirror_mode": {
    "name": "ipython",
    "version": 3
   },
   "file_extension": ".py",
   "mimetype": "text/x-python",
   "name": "python",
   "nbconvert_exporter": "python",
   "pygments_lexer": "ipython3",
   "version": "3.8.12"
  },
  "widgets": {
   "application/vnd.jupyter.widget-state+json": {
    "3618b5ad13f24658abb938eb2899414b": {
     "model_module": "@jupyter-widgets/controls",
     "model_module_version": "1.5.0",
     "model_name": "DescriptionStyleModel",
     "state": {
      "_model_module": "@jupyter-widgets/controls",
      "_model_module_version": "1.5.0",
      "_model_name": "DescriptionStyleModel",
      "_view_count": null,
      "_view_module": "@jupyter-widgets/base",
      "_view_module_version": "1.2.0",
      "_view_name": "StyleView",
      "description_width": ""
     }
    },
    "423fd0c3f1d841d38f237ed73837ea47": {
     "model_module": "@jupyter-widgets/controls",
     "model_module_version": "1.5.0",
     "model_name": "FloatProgressModel",
     "state": {
      "_dom_classes": [],
      "_model_module": "@jupyter-widgets/controls",
      "_model_module_version": "1.5.0",
      "_model_name": "FloatProgressModel",
      "_view_count": null,
      "_view_module": "@jupyter-widgets/controls",
      "_view_module_version": "1.5.0",
      "_view_name": "ProgressView",
      "bar_style": "success",
      "description": "",
      "description_tooltip": null,
      "layout": "IPY_MODEL_90fa0d65910d40c28e05dcb10742fb45",
      "max": 300,
      "min": 0,
      "orientation": "horizontal",
      "style": "IPY_MODEL_cfed8ca7599c49eda262a3f8074e82ed",
      "value": 300
     }
    },
    "52bb2867ff6c4a33b18f0af0b118efc2": {
     "model_module": "@jupyter-widgets/base",
     "model_module_version": "1.2.0",
     "model_name": "LayoutModel",
     "state": {
      "_model_module": "@jupyter-widgets/base",
      "_model_module_version": "1.2.0",
      "_model_name": "LayoutModel",
      "_view_count": null,
      "_view_module": "@jupyter-widgets/base",
      "_view_module_version": "1.2.0",
      "_view_name": "LayoutView",
      "align_content": null,
      "align_items": null,
      "align_self": null,
      "border": null,
      "bottom": null,
      "display": null,
      "flex": null,
      "flex_flow": null,
      "grid_area": null,
      "grid_auto_columns": null,
      "grid_auto_flow": null,
      "grid_auto_rows": null,
      "grid_column": null,
      "grid_gap": null,
      "grid_row": null,
      "grid_template_areas": null,
      "grid_template_columns": null,
      "grid_template_rows": null,
      "height": null,
      "justify_content": null,
      "justify_items": null,
      "left": null,
      "margin": null,
      "max_height": null,
      "max_width": null,
      "min_height": null,
      "min_width": null,
      "object_fit": null,
      "object_position": null,
      "order": null,
      "overflow": null,
      "overflow_x": null,
      "overflow_y": null,
      "padding": null,
      "right": null,
      "top": null,
      "visibility": null,
      "width": null
     }
    },
    "79b01ef27cf64eff93ab0f751a9afe94": {
     "model_module": "@jupyter-widgets/base",
     "model_module_version": "1.2.0",
     "model_name": "LayoutModel",
     "state": {
      "_model_module": "@jupyter-widgets/base",
      "_model_module_version": "1.2.0",
      "_model_name": "LayoutModel",
      "_view_count": null,
      "_view_module": "@jupyter-widgets/base",
      "_view_module_version": "1.2.0",
      "_view_name": "LayoutView",
      "align_content": null,
      "align_items": null,
      "align_self": null,
      "border": null,
      "bottom": null,
      "display": null,
      "flex": null,
      "flex_flow": null,
      "grid_area": null,
      "grid_auto_columns": null,
      "grid_auto_flow": null,
      "grid_auto_rows": null,
      "grid_column": null,
      "grid_gap": null,
      "grid_row": null,
      "grid_template_areas": null,
      "grid_template_columns": null,
      "grid_template_rows": null,
      "height": null,
      "justify_content": null,
      "justify_items": null,
      "left": null,
      "margin": null,
      "max_height": null,
      "max_width": null,
      "min_height": null,
      "min_width": null,
      "object_fit": null,
      "object_position": null,
      "order": null,
      "overflow": null,
      "overflow_x": null,
      "overflow_y": null,
      "padding": null,
      "right": null,
      "top": null,
      "visibility": null,
      "width": null
     }
    },
    "8d4d4b17f6c44014a6555e4d1a1172ca": {
     "model_module": "@jupyter-widgets/controls",
     "model_module_version": "1.5.0",
     "model_name": "HTMLModel",
     "state": {
      "_dom_classes": [],
      "_model_module": "@jupyter-widgets/controls",
      "_model_module_version": "1.5.0",
      "_model_name": "HTMLModel",
      "_view_count": null,
      "_view_module": "@jupyter-widgets/controls",
      "_view_module_version": "1.5.0",
      "_view_name": "HTMLView",
      "description": "",
      "description_tooltip": null,
      "layout": "IPY_MODEL_52bb2867ff6c4a33b18f0af0b118efc2",
      "placeholder": "​",
      "style": "IPY_MODEL_3618b5ad13f24658abb938eb2899414b",
      "value": " 300/300 [57:28&lt;00:00, 11.59s/it]"
     }
    },
    "90fa0d65910d40c28e05dcb10742fb45": {
     "model_module": "@jupyter-widgets/base",
     "model_module_version": "1.2.0",
     "model_name": "LayoutModel",
     "state": {
      "_model_module": "@jupyter-widgets/base",
      "_model_module_version": "1.2.0",
      "_model_name": "LayoutModel",
      "_view_count": null,
      "_view_module": "@jupyter-widgets/base",
      "_view_module_version": "1.2.0",
      "_view_name": "LayoutView",
      "align_content": null,
      "align_items": null,
      "align_self": null,
      "border": null,
      "bottom": null,
      "display": null,
      "flex": null,
      "flex_flow": null,
      "grid_area": null,
      "grid_auto_columns": null,
      "grid_auto_flow": null,
      "grid_auto_rows": null,
      "grid_column": null,
      "grid_gap": null,
      "grid_row": null,
      "grid_template_areas": null,
      "grid_template_columns": null,
      "grid_template_rows": null,
      "height": null,
      "justify_content": null,
      "justify_items": null,
      "left": null,
      "margin": null,
      "max_height": null,
      "max_width": null,
      "min_height": null,
      "min_width": null,
      "object_fit": null,
      "object_position": null,
      "order": null,
      "overflow": null,
      "overflow_x": null,
      "overflow_y": null,
      "padding": null,
      "right": null,
      "top": null,
      "visibility": null,
      "width": null
     }
    },
    "950f17c7728d4f2ca7cb2459b404c7fa": {
     "model_module": "@jupyter-widgets/controls",
     "model_module_version": "1.5.0",
     "model_name": "DescriptionStyleModel",
     "state": {
      "_model_module": "@jupyter-widgets/controls",
      "_model_module_version": "1.5.0",
      "_model_name": "DescriptionStyleModel",
      "_view_count": null,
      "_view_module": "@jupyter-widgets/base",
      "_view_module_version": "1.2.0",
      "_view_name": "StyleView",
      "description_width": ""
     }
    },
    "bb481bbea6e94aeaaa64457cf190c266": {
     "model_module": "@jupyter-widgets/controls",
     "model_module_version": "1.5.0",
     "model_name": "HBoxModel",
     "state": {
      "_dom_classes": [],
      "_model_module": "@jupyter-widgets/controls",
      "_model_module_version": "1.5.0",
      "_model_name": "HBoxModel",
      "_view_count": null,
      "_view_module": "@jupyter-widgets/controls",
      "_view_module_version": "1.5.0",
      "_view_name": "HBoxView",
      "box_style": "",
      "children": [
       "IPY_MODEL_fbdb00efe445497cad488b3efe49ef2a",
       "IPY_MODEL_423fd0c3f1d841d38f237ed73837ea47",
       "IPY_MODEL_8d4d4b17f6c44014a6555e4d1a1172ca"
      ],
      "layout": "IPY_MODEL_edc3fce54fa2414284d64503b685dbf1"
     }
    },
    "cfed8ca7599c49eda262a3f8074e82ed": {
     "model_module": "@jupyter-widgets/controls",
     "model_module_version": "1.5.0",
     "model_name": "ProgressStyleModel",
     "state": {
      "_model_module": "@jupyter-widgets/controls",
      "_model_module_version": "1.5.0",
      "_model_name": "ProgressStyleModel",
      "_view_count": null,
      "_view_module": "@jupyter-widgets/base",
      "_view_module_version": "1.2.0",
      "_view_name": "StyleView",
      "bar_color": null,
      "description_width": ""
     }
    },
    "edc3fce54fa2414284d64503b685dbf1": {
     "model_module": "@jupyter-widgets/base",
     "model_module_version": "1.2.0",
     "model_name": "LayoutModel",
     "state": {
      "_model_module": "@jupyter-widgets/base",
      "_model_module_version": "1.2.0",
      "_model_name": "LayoutModel",
      "_view_count": null,
      "_view_module": "@jupyter-widgets/base",
      "_view_module_version": "1.2.0",
      "_view_name": "LayoutView",
      "align_content": null,
      "align_items": null,
      "align_self": null,
      "border": null,
      "bottom": null,
      "display": null,
      "flex": null,
      "flex_flow": null,
      "grid_area": null,
      "grid_auto_columns": null,
      "grid_auto_flow": null,
      "grid_auto_rows": null,
      "grid_column": null,
      "grid_gap": null,
      "grid_row": null,
      "grid_template_areas": null,
      "grid_template_columns": null,
      "grid_template_rows": null,
      "height": null,
      "justify_content": null,
      "justify_items": null,
      "left": null,
      "margin": null,
      "max_height": null,
      "max_width": null,
      "min_height": null,
      "min_width": null,
      "object_fit": null,
      "object_position": null,
      "order": null,
      "overflow": null,
      "overflow_x": null,
      "overflow_y": null,
      "padding": null,
      "right": null,
      "top": null,
      "visibility": null,
      "width": null
     }
    },
    "fbdb00efe445497cad488b3efe49ef2a": {
     "model_module": "@jupyter-widgets/controls",
     "model_module_version": "1.5.0",
     "model_name": "HTMLModel",
     "state": {
      "_dom_classes": [],
      "_model_module": "@jupyter-widgets/controls",
      "_model_module_version": "1.5.0",
      "_model_name": "HTMLModel",
      "_view_count": null,
      "_view_module": "@jupyter-widgets/controls",
      "_view_module_version": "1.5.0",
      "_view_name": "HTMLView",
      "description": "",
      "description_tooltip": null,
      "layout": "IPY_MODEL_79b01ef27cf64eff93ab0f751a9afe94",
      "placeholder": "​",
      "style": "IPY_MODEL_950f17c7728d4f2ca7cb2459b404c7fa",
      "value": "100%"
     }
    }
   }
  }
 },
 "nbformat": 4,
 "nbformat_minor": 1
}
