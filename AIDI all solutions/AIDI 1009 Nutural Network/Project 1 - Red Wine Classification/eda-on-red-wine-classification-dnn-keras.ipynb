{
 "cells": [
  {
   "cell_type": "markdown",
   "metadata": {},
   "source": [
    "## Import Libraries"
   ]
  },
  {
   "cell_type": "code",
   "execution_count": 7,
   "metadata": {
    "execution": {
     "iopub.execute_input": "2022-03-22T02:29:10.0947Z",
     "iopub.status.busy": "2022-03-22T02:29:10.094159Z",
     "iopub.status.idle": "2022-03-22T02:29:10.108124Z",
     "shell.execute_reply": "2022-03-22T02:29:10.107273Z",
     "shell.execute_reply.started": "2022-03-22T02:29:10.094652Z"
    }
   },
   "outputs": [],
   "source": [
    "# This Python 3 environment comes with many helpful analytics libraries installed\n",
    "# It is defined by the kaggle/python Docker image: https://github.com/kaggle/docker-python\n",
    "# For example, here's several helpful packages to load\n",
    "\n",
    "import numpy as np # linear algebra\n",
    "import pandas as pd # data processing, CSV file I/O (e.g. pd.read_csv)\n",
    "\n",
    "# Input data files are available in the read-only \"../input/\" directory\n",
    "# For example, running this (by clicking run or pressing Shift+Enter) will list all files under the input directory\n",
    "\n",
    "import os\n",
    "# for dirname, _, filenames in os.walk('/kaggle/input'):\n",
    "#     for filename in filenames:\n",
    "#         print(os.path.join(dirname, filename))\n",
    "\n",
    "# You can write up to 20GB to the current directory (/kaggle/working/) that gets preserved as output when you create a version using \"Save & Run All\" \n",
    "# You can also write temporary files to /kaggle/temp/, but they won't be saved outside of the current session"
   ]
  },
  {
   "cell_type": "code",
   "execution_count": 9,
   "metadata": {
    "execution": {
     "iopub.execute_input": "2022-03-22T02:29:10.177116Z",
     "iopub.status.busy": "2022-03-22T02:29:10.176417Z",
     "iopub.status.idle": "2022-03-22T02:29:16.162733Z",
     "shell.execute_reply": "2022-03-22T02:29:16.161894Z",
     "shell.execute_reply.started": "2022-03-22T02:29:10.17707Z"
    }
   },
   "outputs": [
    {
     "ename": "AttributeError",
     "evalue": "module 'numpy' has no attribute 'typeDict'",
     "output_type": "error",
     "traceback": [
      "\u001b[0;31m---------------------------------------------------------------------------\u001b[0m",
      "\u001b[0;31mAttributeError\u001b[0m                            Traceback (most recent call last)",
      "\u001b[0;32m/var/folders/lm/kt3nd3_d5xbdlqg_f3xz91y40000gn/T/ipykernel_19587/2670243006.py\u001b[0m in \u001b[0;36m<module>\u001b[0;34m\u001b[0m\n\u001b[1;32m      1\u001b[0m \u001b[0;32mimport\u001b[0m \u001b[0mnumpy\u001b[0m \u001b[0;32mas\u001b[0m \u001b[0mnp\u001b[0m \u001b[0;31m# conda install numpy\u001b[0m\u001b[0;34m\u001b[0m\u001b[0;34m\u001b[0m\u001b[0m\n\u001b[0;32m----> 2\u001b[0;31m \u001b[0;32mimport\u001b[0m \u001b[0mtensorflow\u001b[0m \u001b[0;32mas\u001b[0m \u001b[0mtf\u001b[0m\u001b[0;34m\u001b[0m\u001b[0;34m\u001b[0m\u001b[0m\n\u001b[0m\u001b[1;32m      3\u001b[0m \u001b[0;32mimport\u001b[0m \u001b[0mmatplotlib\u001b[0m\u001b[0;34m.\u001b[0m\u001b[0mpyplot\u001b[0m \u001b[0;32mas\u001b[0m \u001b[0mplt\u001b[0m \u001b[0;31m# conda install matplotlib\u001b[0m\u001b[0;34m\u001b[0m\u001b[0;34m\u001b[0m\u001b[0m\n\u001b[1;32m      4\u001b[0m \u001b[0;32mimport\u001b[0m \u001b[0mpandas\u001b[0m \u001b[0;32mas\u001b[0m \u001b[0mpd\u001b[0m \u001b[0;31m# conda install pandas\u001b[0m\u001b[0;34m\u001b[0m\u001b[0;34m\u001b[0m\u001b[0m\n\u001b[1;32m      5\u001b[0m \u001b[0;32mimport\u001b[0m \u001b[0mseaborn\u001b[0m \u001b[0;32mas\u001b[0m \u001b[0msns\u001b[0m \u001b[0;31m# conda install seaborn\u001b[0m\u001b[0;34m\u001b[0m\u001b[0;34m\u001b[0m\u001b[0m\n",
      "\u001b[0;32m/Applications/Anaconda/anaconda3/lib/python3.8/site-packages/tensorflow/__init__.py\u001b[0m in \u001b[0;36m<module>\u001b[0;34m\u001b[0m\n\u001b[1;32m     35\u001b[0m \u001b[0;32mimport\u001b[0m \u001b[0mtyping\u001b[0m \u001b[0;32mas\u001b[0m \u001b[0m_typing\u001b[0m\u001b[0;34m\u001b[0m\u001b[0;34m\u001b[0m\u001b[0m\n\u001b[1;32m     36\u001b[0m \u001b[0;34m\u001b[0m\u001b[0m\n\u001b[0;32m---> 37\u001b[0;31m \u001b[0;32mfrom\u001b[0m \u001b[0mtensorflow\u001b[0m\u001b[0;34m.\u001b[0m\u001b[0mpython\u001b[0m\u001b[0;34m.\u001b[0m\u001b[0mtools\u001b[0m \u001b[0;32mimport\u001b[0m \u001b[0mmodule_util\u001b[0m \u001b[0;32mas\u001b[0m \u001b[0m_module_util\u001b[0m\u001b[0;34m\u001b[0m\u001b[0;34m\u001b[0m\u001b[0m\n\u001b[0m\u001b[1;32m     38\u001b[0m \u001b[0;32mfrom\u001b[0m \u001b[0mtensorflow\u001b[0m\u001b[0;34m.\u001b[0m\u001b[0mpython\u001b[0m\u001b[0;34m.\u001b[0m\u001b[0mutil\u001b[0m\u001b[0;34m.\u001b[0m\u001b[0mlazy_loader\u001b[0m \u001b[0;32mimport\u001b[0m \u001b[0mLazyLoader\u001b[0m \u001b[0;32mas\u001b[0m \u001b[0m_LazyLoader\u001b[0m\u001b[0;34m\u001b[0m\u001b[0;34m\u001b[0m\u001b[0m\n\u001b[1;32m     39\u001b[0m \u001b[0;34m\u001b[0m\u001b[0m\n",
      "\u001b[0;32m/Applications/Anaconda/anaconda3/lib/python3.8/site-packages/tensorflow/python/__init__.py\u001b[0m in \u001b[0;36m<module>\u001b[0;34m\u001b[0m\n\u001b[1;32m     43\u001b[0m \u001b[0;32mfrom\u001b[0m \u001b[0mtensorflow\u001b[0m\u001b[0;34m.\u001b[0m\u001b[0mpython\u001b[0m \u001b[0;32mimport\u001b[0m \u001b[0mdistribute\u001b[0m\u001b[0;34m\u001b[0m\u001b[0;34m\u001b[0m\u001b[0m\n\u001b[1;32m     44\u001b[0m \u001b[0;31m# from tensorflow.python import keras\u001b[0m\u001b[0;34m\u001b[0m\u001b[0;34m\u001b[0m\u001b[0;34m\u001b[0m\u001b[0m\n\u001b[0;32m---> 45\u001b[0;31m \u001b[0;32mfrom\u001b[0m \u001b[0mtensorflow\u001b[0m\u001b[0;34m.\u001b[0m\u001b[0mpython\u001b[0m\u001b[0;34m.\u001b[0m\u001b[0mfeature_column\u001b[0m \u001b[0;32mimport\u001b[0m \u001b[0mfeature_column_lib\u001b[0m \u001b[0;32mas\u001b[0m \u001b[0mfeature_column\u001b[0m\u001b[0;34m\u001b[0m\u001b[0;34m\u001b[0m\u001b[0m\n\u001b[0m\u001b[1;32m     46\u001b[0m \u001b[0;31m# from tensorflow.python.layers import layers\u001b[0m\u001b[0;34m\u001b[0m\u001b[0;34m\u001b[0m\u001b[0;34m\u001b[0m\u001b[0m\n\u001b[1;32m     47\u001b[0m \u001b[0;32mfrom\u001b[0m \u001b[0mtensorflow\u001b[0m\u001b[0;34m.\u001b[0m\u001b[0mpython\u001b[0m\u001b[0;34m.\u001b[0m\u001b[0mmodule\u001b[0m \u001b[0;32mimport\u001b[0m \u001b[0mmodule\u001b[0m\u001b[0;34m\u001b[0m\u001b[0;34m\u001b[0m\u001b[0m\n",
      "\u001b[0;32m/Applications/Anaconda/anaconda3/lib/python3.8/site-packages/tensorflow/python/feature_column/feature_column_lib.py\u001b[0m in \u001b[0;36m<module>\u001b[0;34m\u001b[0m\n\u001b[1;32m     16\u001b[0m \u001b[0;34m\u001b[0m\u001b[0m\n\u001b[1;32m     17\u001b[0m \u001b[0;31m# pylint: disable=unused-import,line-too-long,wildcard-import,g-bad-import-order\u001b[0m\u001b[0;34m\u001b[0m\u001b[0;34m\u001b[0m\u001b[0;34m\u001b[0m\u001b[0m\n\u001b[0;32m---> 18\u001b[0;31m \u001b[0;32mfrom\u001b[0m \u001b[0mtensorflow\u001b[0m\u001b[0;34m.\u001b[0m\u001b[0mpython\u001b[0m\u001b[0;34m.\u001b[0m\u001b[0mfeature_column\u001b[0m\u001b[0;34m.\u001b[0m\u001b[0mfeature_column\u001b[0m \u001b[0;32mimport\u001b[0m \u001b[0;34m*\u001b[0m\u001b[0;34m\u001b[0m\u001b[0;34m\u001b[0m\u001b[0m\n\u001b[0m\u001b[1;32m     19\u001b[0m \u001b[0;32mfrom\u001b[0m \u001b[0mtensorflow\u001b[0m\u001b[0;34m.\u001b[0m\u001b[0mpython\u001b[0m\u001b[0;34m.\u001b[0m\u001b[0mfeature_column\u001b[0m\u001b[0;34m.\u001b[0m\u001b[0mfeature_column_v2\u001b[0m \u001b[0;32mimport\u001b[0m \u001b[0;34m*\u001b[0m\u001b[0;34m\u001b[0m\u001b[0;34m\u001b[0m\u001b[0m\n\u001b[1;32m     20\u001b[0m \u001b[0;32mfrom\u001b[0m \u001b[0mtensorflow\u001b[0m\u001b[0;34m.\u001b[0m\u001b[0mpython\u001b[0m\u001b[0;34m.\u001b[0m\u001b[0mfeature_column\u001b[0m\u001b[0;34m.\u001b[0m\u001b[0msequence_feature_column\u001b[0m \u001b[0;32mimport\u001b[0m \u001b[0;34m*\u001b[0m\u001b[0;34m\u001b[0m\u001b[0;34m\u001b[0m\u001b[0m\n",
      "\u001b[0;32m/Applications/Anaconda/anaconda3/lib/python3.8/site-packages/tensorflow/python/feature_column/feature_column.py\u001b[0m in \u001b[0;36m<module>\u001b[0;34m\u001b[0m\n\u001b[1;32m    141\u001b[0m \u001b[0;32mfrom\u001b[0m \u001b[0mtensorflow\u001b[0m\u001b[0;34m.\u001b[0m\u001b[0mpython\u001b[0m\u001b[0;34m.\u001b[0m\u001b[0mframework\u001b[0m \u001b[0;32mimport\u001b[0m \u001b[0msparse_tensor\u001b[0m \u001b[0;32mas\u001b[0m \u001b[0msparse_tensor_lib\u001b[0m\u001b[0;34m\u001b[0m\u001b[0;34m\u001b[0m\u001b[0m\n\u001b[1;32m    142\u001b[0m \u001b[0;32mfrom\u001b[0m \u001b[0mtensorflow\u001b[0m\u001b[0;34m.\u001b[0m\u001b[0mpython\u001b[0m\u001b[0;34m.\u001b[0m\u001b[0mframework\u001b[0m \u001b[0;32mimport\u001b[0m \u001b[0mtensor_shape\u001b[0m\u001b[0;34m\u001b[0m\u001b[0;34m\u001b[0m\u001b[0m\n\u001b[0;32m--> 143\u001b[0;31m \u001b[0;32mfrom\u001b[0m \u001b[0mtensorflow\u001b[0m\u001b[0;34m.\u001b[0m\u001b[0mpython\u001b[0m\u001b[0;34m.\u001b[0m\u001b[0mlayers\u001b[0m \u001b[0;32mimport\u001b[0m \u001b[0mbase\u001b[0m\u001b[0;34m\u001b[0m\u001b[0;34m\u001b[0m\u001b[0m\n\u001b[0m\u001b[1;32m    144\u001b[0m \u001b[0;32mfrom\u001b[0m \u001b[0mtensorflow\u001b[0m\u001b[0;34m.\u001b[0m\u001b[0mpython\u001b[0m\u001b[0;34m.\u001b[0m\u001b[0mops\u001b[0m \u001b[0;32mimport\u001b[0m \u001b[0marray_ops\u001b[0m\u001b[0;34m\u001b[0m\u001b[0;34m\u001b[0m\u001b[0m\n\u001b[1;32m    145\u001b[0m \u001b[0;32mfrom\u001b[0m \u001b[0mtensorflow\u001b[0m\u001b[0;34m.\u001b[0m\u001b[0mpython\u001b[0m\u001b[0;34m.\u001b[0m\u001b[0mops\u001b[0m \u001b[0;32mimport\u001b[0m \u001b[0mcheck_ops\u001b[0m\u001b[0;34m\u001b[0m\u001b[0;34m\u001b[0m\u001b[0m\n",
      "\u001b[0;32m/Applications/Anaconda/anaconda3/lib/python3.8/site-packages/tensorflow/python/layers/base.py\u001b[0m in \u001b[0;36m<module>\u001b[0;34m\u001b[0m\n\u001b[1;32m     14\u001b[0m \u001b[0;31m# =============================================================================\u001b[0m\u001b[0;34m\u001b[0m\u001b[0;34m\u001b[0m\u001b[0;34m\u001b[0m\u001b[0m\n\u001b[1;32m     15\u001b[0m \u001b[0;34m\"\"\"Contains the base Layer class, from which all layers inherit.\"\"\"\u001b[0m\u001b[0;34m\u001b[0m\u001b[0;34m\u001b[0m\u001b[0m\n\u001b[0;32m---> 16\u001b[0;31m \u001b[0;32mfrom\u001b[0m \u001b[0mtensorflow\u001b[0m\u001b[0;34m.\u001b[0m\u001b[0mpython\u001b[0m\u001b[0;34m.\u001b[0m\u001b[0mkeras\u001b[0m\u001b[0;34m.\u001b[0m\u001b[0mlegacy_tf_layers\u001b[0m \u001b[0;32mimport\u001b[0m \u001b[0mbase\u001b[0m\u001b[0;34m\u001b[0m\u001b[0;34m\u001b[0m\u001b[0m\n\u001b[0m\u001b[1;32m     17\u001b[0m \u001b[0;34m\u001b[0m\u001b[0m\n\u001b[1;32m     18\u001b[0m \u001b[0mInputSpec\u001b[0m \u001b[0;34m=\u001b[0m \u001b[0mbase\u001b[0m\u001b[0;34m.\u001b[0m\u001b[0mInputSpec\u001b[0m\u001b[0;34m\u001b[0m\u001b[0;34m\u001b[0m\u001b[0m\n",
      "\u001b[0;32m/Applications/Anaconda/anaconda3/lib/python3.8/site-packages/tensorflow/python/keras/__init__.py\u001b[0m in \u001b[0;36m<module>\u001b[0;34m\u001b[0m\n\u001b[1;32m     23\u001b[0m \u001b[0;34m\u001b[0m\u001b[0m\n\u001b[1;32m     24\u001b[0m \u001b[0;31m# See b/110718070#comment18 for more details about this import.\u001b[0m\u001b[0;34m\u001b[0m\u001b[0;34m\u001b[0m\u001b[0;34m\u001b[0m\u001b[0m\n\u001b[0;32m---> 25\u001b[0;31m \u001b[0;32mfrom\u001b[0m \u001b[0mtensorflow\u001b[0m\u001b[0;34m.\u001b[0m\u001b[0mpython\u001b[0m\u001b[0;34m.\u001b[0m\u001b[0mkeras\u001b[0m \u001b[0;32mimport\u001b[0m \u001b[0mmodels\u001b[0m\u001b[0;34m\u001b[0m\u001b[0;34m\u001b[0m\u001b[0m\n\u001b[0m\u001b[1;32m     26\u001b[0m \u001b[0;34m\u001b[0m\u001b[0m\n\u001b[1;32m     27\u001b[0m \u001b[0;32mfrom\u001b[0m \u001b[0mtensorflow\u001b[0m\u001b[0;34m.\u001b[0m\u001b[0mpython\u001b[0m\u001b[0;34m.\u001b[0m\u001b[0mkeras\u001b[0m\u001b[0;34m.\u001b[0m\u001b[0mengine\u001b[0m\u001b[0;34m.\u001b[0m\u001b[0minput_layer\u001b[0m \u001b[0;32mimport\u001b[0m \u001b[0mInput\u001b[0m\u001b[0;34m\u001b[0m\u001b[0;34m\u001b[0m\u001b[0m\n",
      "\u001b[0;32m/Applications/Anaconda/anaconda3/lib/python3.8/site-packages/tensorflow/python/keras/models.py\u001b[0m in \u001b[0;36m<module>\u001b[0;34m\u001b[0m\n\u001b[1;32m     20\u001b[0m \u001b[0;32mfrom\u001b[0m \u001b[0mtensorflow\u001b[0m\u001b[0;34m.\u001b[0m\u001b[0mpython\u001b[0m\u001b[0;34m.\u001b[0m\u001b[0mkeras\u001b[0m \u001b[0;32mimport\u001b[0m \u001b[0mmetrics\u001b[0m \u001b[0;32mas\u001b[0m \u001b[0mmetrics_module\u001b[0m\u001b[0;34m\u001b[0m\u001b[0;34m\u001b[0m\u001b[0m\n\u001b[1;32m     21\u001b[0m \u001b[0;32mfrom\u001b[0m \u001b[0mtensorflow\u001b[0m\u001b[0;34m.\u001b[0m\u001b[0mpython\u001b[0m\u001b[0;34m.\u001b[0m\u001b[0mkeras\u001b[0m \u001b[0;32mimport\u001b[0m \u001b[0moptimizer_v1\u001b[0m\u001b[0;34m\u001b[0m\u001b[0;34m\u001b[0m\u001b[0m\n\u001b[0;32m---> 22\u001b[0;31m \u001b[0;32mfrom\u001b[0m \u001b[0mtensorflow\u001b[0m\u001b[0;34m.\u001b[0m\u001b[0mpython\u001b[0m\u001b[0;34m.\u001b[0m\u001b[0mkeras\u001b[0m\u001b[0;34m.\u001b[0m\u001b[0mengine\u001b[0m \u001b[0;32mimport\u001b[0m \u001b[0mfunctional\u001b[0m\u001b[0;34m\u001b[0m\u001b[0;34m\u001b[0m\u001b[0m\n\u001b[0m\u001b[1;32m     23\u001b[0m \u001b[0;32mfrom\u001b[0m \u001b[0mtensorflow\u001b[0m\u001b[0;34m.\u001b[0m\u001b[0mpython\u001b[0m\u001b[0;34m.\u001b[0m\u001b[0mkeras\u001b[0m\u001b[0;34m.\u001b[0m\u001b[0mengine\u001b[0m \u001b[0;32mimport\u001b[0m \u001b[0msequential\u001b[0m\u001b[0;34m\u001b[0m\u001b[0;34m\u001b[0m\u001b[0m\n\u001b[1;32m     24\u001b[0m \u001b[0;32mfrom\u001b[0m \u001b[0mtensorflow\u001b[0m\u001b[0;34m.\u001b[0m\u001b[0mpython\u001b[0m\u001b[0;34m.\u001b[0m\u001b[0mkeras\u001b[0m\u001b[0;34m.\u001b[0m\u001b[0mengine\u001b[0m \u001b[0;32mimport\u001b[0m \u001b[0mtraining\u001b[0m\u001b[0;34m\u001b[0m\u001b[0;34m\u001b[0m\u001b[0m\n",
      "\u001b[0;32m/Applications/Anaconda/anaconda3/lib/python3.8/site-packages/tensorflow/python/keras/engine/functional.py\u001b[0m in \u001b[0;36m<module>\u001b[0;34m\u001b[0m\n\u001b[1;32m     30\u001b[0m \u001b[0;32mfrom\u001b[0m \u001b[0mtensorflow\u001b[0m\u001b[0;34m.\u001b[0m\u001b[0mpython\u001b[0m\u001b[0;34m.\u001b[0m\u001b[0mkeras\u001b[0m\u001b[0;34m.\u001b[0m\u001b[0mengine\u001b[0m \u001b[0;32mimport\u001b[0m \u001b[0minput_spec\u001b[0m\u001b[0;34m\u001b[0m\u001b[0;34m\u001b[0m\u001b[0m\n\u001b[1;32m     31\u001b[0m \u001b[0;32mfrom\u001b[0m \u001b[0mtensorflow\u001b[0m\u001b[0;34m.\u001b[0m\u001b[0mpython\u001b[0m\u001b[0;34m.\u001b[0m\u001b[0mkeras\u001b[0m\u001b[0;34m.\u001b[0m\u001b[0mengine\u001b[0m \u001b[0;32mimport\u001b[0m \u001b[0mnode\u001b[0m \u001b[0;32mas\u001b[0m \u001b[0mnode_module\u001b[0m\u001b[0;34m\u001b[0m\u001b[0;34m\u001b[0m\u001b[0m\n\u001b[0;32m---> 32\u001b[0;31m \u001b[0;32mfrom\u001b[0m \u001b[0mtensorflow\u001b[0m\u001b[0;34m.\u001b[0m\u001b[0mpython\u001b[0m\u001b[0;34m.\u001b[0m\u001b[0mkeras\u001b[0m\u001b[0;34m.\u001b[0m\u001b[0mengine\u001b[0m \u001b[0;32mimport\u001b[0m \u001b[0mtraining\u001b[0m \u001b[0;32mas\u001b[0m \u001b[0mtraining_lib\u001b[0m\u001b[0;34m\u001b[0m\u001b[0;34m\u001b[0m\u001b[0m\n\u001b[0m\u001b[1;32m     33\u001b[0m \u001b[0;32mfrom\u001b[0m \u001b[0mtensorflow\u001b[0m\u001b[0;34m.\u001b[0m\u001b[0mpython\u001b[0m\u001b[0;34m.\u001b[0m\u001b[0mkeras\u001b[0m\u001b[0;34m.\u001b[0m\u001b[0mengine\u001b[0m \u001b[0;32mimport\u001b[0m \u001b[0mtraining_utils\u001b[0m\u001b[0;34m\u001b[0m\u001b[0;34m\u001b[0m\u001b[0m\n\u001b[1;32m     34\u001b[0m \u001b[0;32mfrom\u001b[0m \u001b[0mtensorflow\u001b[0m\u001b[0;34m.\u001b[0m\u001b[0mpython\u001b[0m\u001b[0;34m.\u001b[0m\u001b[0mkeras\u001b[0m\u001b[0;34m.\u001b[0m\u001b[0msaving\u001b[0m\u001b[0;34m.\u001b[0m\u001b[0msaved_model\u001b[0m \u001b[0;32mimport\u001b[0m \u001b[0mnetwork_serialization\u001b[0m\u001b[0;34m\u001b[0m\u001b[0;34m\u001b[0m\u001b[0m\n",
      "\u001b[0;32m/Applications/Anaconda/anaconda3/lib/python3.8/site-packages/tensorflow/python/keras/engine/training.py\u001b[0m in \u001b[0;36m<module>\u001b[0;34m\u001b[0m\n\u001b[1;32m     52\u001b[0m \u001b[0;32mfrom\u001b[0m \u001b[0mtensorflow\u001b[0m\u001b[0;34m.\u001b[0m\u001b[0mpython\u001b[0m\u001b[0;34m.\u001b[0m\u001b[0mkeras\u001b[0m\u001b[0;34m.\u001b[0m\u001b[0mmixed_precision\u001b[0m \u001b[0;32mimport\u001b[0m \u001b[0mloss_scale_optimizer\u001b[0m \u001b[0;32mas\u001b[0m \u001b[0mlso\u001b[0m\u001b[0;34m\u001b[0m\u001b[0;34m\u001b[0m\u001b[0m\n\u001b[1;32m     53\u001b[0m \u001b[0;32mfrom\u001b[0m \u001b[0mtensorflow\u001b[0m\u001b[0;34m.\u001b[0m\u001b[0mpython\u001b[0m\u001b[0;34m.\u001b[0m\u001b[0mkeras\u001b[0m\u001b[0;34m.\u001b[0m\u001b[0mmixed_precision\u001b[0m \u001b[0;32mimport\u001b[0m \u001b[0mpolicy\u001b[0m\u001b[0;34m\u001b[0m\u001b[0;34m\u001b[0m\u001b[0m\n\u001b[0;32m---> 54\u001b[0;31m \u001b[0;32mfrom\u001b[0m \u001b[0mtensorflow\u001b[0m\u001b[0;34m.\u001b[0m\u001b[0mpython\u001b[0m\u001b[0;34m.\u001b[0m\u001b[0mkeras\u001b[0m\u001b[0;34m.\u001b[0m\u001b[0msaving\u001b[0m \u001b[0;32mimport\u001b[0m \u001b[0mhdf5_format\u001b[0m\u001b[0;34m\u001b[0m\u001b[0;34m\u001b[0m\u001b[0m\n\u001b[0m\u001b[1;32m     55\u001b[0m \u001b[0;32mfrom\u001b[0m \u001b[0mtensorflow\u001b[0m\u001b[0;34m.\u001b[0m\u001b[0mpython\u001b[0m\u001b[0;34m.\u001b[0m\u001b[0mkeras\u001b[0m\u001b[0;34m.\u001b[0m\u001b[0msaving\u001b[0m \u001b[0;32mimport\u001b[0m \u001b[0msave\u001b[0m\u001b[0;34m\u001b[0m\u001b[0;34m\u001b[0m\u001b[0m\n\u001b[1;32m     56\u001b[0m \u001b[0;32mfrom\u001b[0m \u001b[0mtensorflow\u001b[0m\u001b[0;34m.\u001b[0m\u001b[0mpython\u001b[0m\u001b[0;34m.\u001b[0m\u001b[0mkeras\u001b[0m\u001b[0;34m.\u001b[0m\u001b[0msaving\u001b[0m \u001b[0;32mimport\u001b[0m \u001b[0msaving_utils\u001b[0m\u001b[0;34m\u001b[0m\u001b[0;34m\u001b[0m\u001b[0m\n",
      "\u001b[0;32m/Applications/Anaconda/anaconda3/lib/python3.8/site-packages/tensorflow/python/keras/saving/hdf5_format.py\u001b[0m in \u001b[0;36m<module>\u001b[0;34m\u001b[0m\n\u001b[1;32m     35\u001b[0m \u001b[0;31m# pylint: disable=g-import-not-at-top\u001b[0m\u001b[0;34m\u001b[0m\u001b[0;34m\u001b[0m\u001b[0;34m\u001b[0m\u001b[0m\n\u001b[1;32m     36\u001b[0m \u001b[0;32mtry\u001b[0m\u001b[0;34m:\u001b[0m\u001b[0;34m\u001b[0m\u001b[0;34m\u001b[0m\u001b[0m\n\u001b[0;32m---> 37\u001b[0;31m   \u001b[0;32mimport\u001b[0m \u001b[0mh5py\u001b[0m\u001b[0;34m\u001b[0m\u001b[0;34m\u001b[0m\u001b[0m\n\u001b[0m\u001b[1;32m     38\u001b[0m   \u001b[0mHDF5_OBJECT_HEADER_LIMIT\u001b[0m \u001b[0;34m=\u001b[0m \u001b[0;36m64512\u001b[0m\u001b[0;34m\u001b[0m\u001b[0;34m\u001b[0m\u001b[0m\n\u001b[1;32m     39\u001b[0m \u001b[0;32mexcept\u001b[0m \u001b[0mImportError\u001b[0m\u001b[0;34m:\u001b[0m\u001b[0;34m\u001b[0m\u001b[0;34m\u001b[0m\u001b[0m\n",
      "\u001b[0;32m/Applications/Anaconda/anaconda3/lib/python3.8/site-packages/h5py/__init__.py\u001b[0m in \u001b[0;36m<module>\u001b[0;34m\u001b[0m\n\u001b[1;32m     44\u001b[0m \u001b[0m_errors\u001b[0m\u001b[0;34m.\u001b[0m\u001b[0msilence_errors\u001b[0m\u001b[0;34m(\u001b[0m\u001b[0;34m)\u001b[0m\u001b[0;34m\u001b[0m\u001b[0;34m\u001b[0m\u001b[0m\n\u001b[1;32m     45\u001b[0m \u001b[0;34m\u001b[0m\u001b[0m\n\u001b[0;32m---> 46\u001b[0;31m \u001b[0;32mfrom\u001b[0m \u001b[0;34m.\u001b[0m\u001b[0m_conv\u001b[0m \u001b[0;32mimport\u001b[0m \u001b[0mregister_converters\u001b[0m \u001b[0;32mas\u001b[0m \u001b[0m_register_converters\u001b[0m\u001b[0;34m\u001b[0m\u001b[0;34m\u001b[0m\u001b[0m\n\u001b[0m\u001b[1;32m     47\u001b[0m \u001b[0m_register_converters\u001b[0m\u001b[0;34m(\u001b[0m\u001b[0;34m)\u001b[0m\u001b[0;34m\u001b[0m\u001b[0;34m\u001b[0m\u001b[0m\n\u001b[1;32m     48\u001b[0m \u001b[0;34m\u001b[0m\u001b[0m\n",
      "\u001b[0;32mh5py/h5t.pxd\u001b[0m in \u001b[0;36minit h5py._conv\u001b[0;34m()\u001b[0m\n",
      "\u001b[0;32mh5py/h5t.pyx\u001b[0m in \u001b[0;36minit h5py.h5t\u001b[0;34m()\u001b[0m\n",
      "\u001b[0;32m/Applications/Anaconda/anaconda3/lib/python3.8/site-packages/numpy/__init__.py\u001b[0m in \u001b[0;36m__getattr__\u001b[0;34m(attr)\u001b[0m\n\u001b[1;32m    318\u001b[0m             \u001b[0;32mreturn\u001b[0m \u001b[0mTester\u001b[0m\u001b[0;34m\u001b[0m\u001b[0;34m\u001b[0m\u001b[0m\n\u001b[1;32m    319\u001b[0m \u001b[0;34m\u001b[0m\u001b[0m\n\u001b[0;32m--> 320\u001b[0;31m         raise AttributeError(\"module {!r} has no attribute \"\n\u001b[0m\u001b[1;32m    321\u001b[0m                              \"{!r}\".format(__name__, attr))\n\u001b[1;32m    322\u001b[0m \u001b[0;34m\u001b[0m\u001b[0m\n",
      "\u001b[0;31mAttributeError\u001b[0m: module 'numpy' has no attribute 'typeDict'"
     ]
    }
   ],
   "source": [
    "import numpy as np # conda install numpy\n",
    "import tensorflow as tf \n",
    "import matplotlib.pyplot as plt # conda install matplotlib\n",
    "import pandas as pd # conda install pandas\n",
    "import seaborn as sns # conda install seaborn\n",
    "\n",
    "from sklearn.preprocessing import StandardScaler\n",
    "# %matplotlib inline\n",
    "\n",
    "from sklearn.metrics import confusion_matrix\n",
    "from sklearn.model_selection import train_test_split\n",
    "from sklearn.model_selection import cross_val_score\n",
    "\n",
    "import warnings\n",
    "warnings.filterwarnings(\"ignore\", category=FutureWarning)\n"
   ]
  },
  {
   "cell_type": "markdown",
   "metadata": {},
   "source": [
    "## Data Loading"
   ]
  },
  {
   "cell_type": "code",
   "execution_count": 1,
   "metadata": {
    "execution": {
     "iopub.execute_input": "2022-03-22T02:29:16.164592Z",
     "iopub.status.busy": "2022-03-22T02:29:16.164336Z",
     "iopub.status.idle": "2022-03-22T02:29:16.216609Z",
     "shell.execute_reply": "2022-03-22T02:29:16.215987Z",
     "shell.execute_reply.started": "2022-03-22T02:29:16.164563Z"
    }
   },
   "outputs": [
    {
     "ename": "NameError",
     "evalue": "name 'pd' is not defined",
     "output_type": "error",
     "traceback": [
      "\u001b[0;31m---------------------------------------------------------------------------\u001b[0m",
      "\u001b[0;31mNameError\u001b[0m                                 Traceback (most recent call last)",
      "\u001b[0;32m/var/folders/lm/kt3nd3_d5xbdlqg_f3xz91y40000gn/T/ipykernel_19587/1449490711.py\u001b[0m in \u001b[0;36m<module>\u001b[0;34m\u001b[0m\n\u001b[0;32m----> 1\u001b[0;31m \u001b[0mdata\u001b[0m \u001b[0;34m=\u001b[0m \u001b[0mpd\u001b[0m\u001b[0;34m.\u001b[0m\u001b[0mread_csv\u001b[0m\u001b[0;34m(\u001b[0m\u001b[0;34m'./winequality-red.csv'\u001b[0m\u001b[0;34m)\u001b[0m\u001b[0;34m\u001b[0m\u001b[0;34m\u001b[0m\u001b[0m\n\u001b[0m\u001b[1;32m      2\u001b[0m data.columns = ['fixed_acidity', 'volatile_acidity', 'citric_acid', 'residual_sugar', 'chlorides'\n\u001b[1;32m      3\u001b[0m                 , 'free_sulfur_dioxide', 'total_sulfur_dioxide', 'density', 'pH', 'sulphates', 'alcohol', 'quality']\n\u001b[1;32m      4\u001b[0m \u001b[0mdata\u001b[0m\u001b[0;34m\u001b[0m\u001b[0;34m\u001b[0m\u001b[0m\n",
      "\u001b[0;31mNameError\u001b[0m: name 'pd' is not defined"
     ]
    }
   ],
   "source": [
    "data = pd.read_csv('./winequality-red.csv')\n",
    "data.columns = ['fixed_acidity', 'volatile_acidity', 'citric_acid', 'residual_sugar', 'chlorides'\n",
    "                , 'free_sulfur_dioxide', 'total_sulfur_dioxide', 'density', 'pH', 'sulphates', 'alcohol', 'quality']\n",
    "data"
   ]
  },
  {
   "cell_type": "markdown",
   "metadata": {},
   "source": [
    "## EDA and Exploring features"
   ]
  },
  {
   "cell_type": "code",
   "execution_count": null,
   "metadata": {
    "execution": {
     "iopub.execute_input": "2022-03-22T02:29:16.218054Z",
     "iopub.status.busy": "2022-03-22T02:29:16.217436Z",
     "iopub.status.idle": "2022-03-22T02:29:16.224243Z",
     "shell.execute_reply": "2022-03-22T02:29:16.223412Z",
     "shell.execute_reply.started": "2022-03-22T02:29:16.21802Z"
    }
   },
   "outputs": [],
   "source": [
    "data.shape"
   ]
  },
  {
   "cell_type": "code",
   "execution_count": null,
   "metadata": {
    "execution": {
     "iopub.execute_input": "2022-03-22T02:29:16.226224Z",
     "iopub.status.busy": "2022-03-22T02:29:16.226008Z",
     "iopub.status.idle": "2022-03-22T02:29:16.236906Z",
     "shell.execute_reply": "2022-03-22T02:29:16.236017Z",
     "shell.execute_reply.started": "2022-03-22T02:29:16.226199Z"
    }
   },
   "outputs": [],
   "source": [
    "#Check datatypes of each columns\n",
    "data.dtypes"
   ]
  },
  {
   "cell_type": "code",
   "execution_count": null,
   "metadata": {
    "execution": {
     "iopub.execute_input": "2022-03-22T02:29:16.2397Z",
     "iopub.status.busy": "2022-03-22T02:29:16.238064Z",
     "iopub.status.idle": "2022-03-22T02:29:16.303252Z",
     "shell.execute_reply": "2022-03-22T02:29:16.30266Z",
     "shell.execute_reply.started": "2022-03-22T02:29:16.239653Z"
    }
   },
   "outputs": [],
   "source": [
    "data.describe()"
   ]
  },
  {
   "cell_type": "code",
   "execution_count": null,
   "metadata": {
    "execution": {
     "iopub.execute_input": "2022-03-22T02:29:16.30489Z",
     "iopub.status.busy": "2022-03-22T02:29:16.304176Z",
     "iopub.status.idle": "2022-03-22T02:29:16.322875Z",
     "shell.execute_reply": "2022-03-22T02:29:16.322049Z",
     "shell.execute_reply.started": "2022-03-22T02:29:16.304847Z"
    }
   },
   "outputs": [],
   "source": [
    "data.info()"
   ]
  },
  {
   "cell_type": "code",
   "execution_count": null,
   "metadata": {
    "execution": {
     "iopub.execute_input": "2022-03-22T02:29:16.324266Z",
     "iopub.status.busy": "2022-03-22T02:29:16.323988Z",
     "iopub.status.idle": "2022-03-22T02:29:16.332352Z",
     "shell.execute_reply": "2022-03-22T02:29:16.331553Z",
     "shell.execute_reply.started": "2022-03-22T02:29:16.324236Z"
    }
   },
   "outputs": [],
   "source": [
    "#Check for null values\n",
    "data.isnull().sum()"
   ]
  },
  {
   "cell_type": "markdown",
   "metadata": {},
   "source": [
    "We can see that there are no null values in any column."
   ]
  },
  {
   "cell_type": "code",
   "execution_count": null,
   "metadata": {
    "execution": {
     "iopub.execute_input": "2022-03-22T02:29:16.335858Z",
     "iopub.status.busy": "2022-03-22T02:29:16.335178Z",
     "iopub.status.idle": "2022-03-22T02:29:16.341194Z",
     "shell.execute_reply": "2022-03-22T02:29:16.340413Z",
     "shell.execute_reply.started": "2022-03-22T02:29:16.335792Z"
    }
   },
   "outputs": [],
   "source": [
    "#Check distinct values in quality column\n",
    "data.quality.unique()"
   ]
  },
  {
   "cell_type": "code",
   "execution_count": null,
   "metadata": {
    "execution": {
     "iopub.execute_input": "2022-03-22T02:29:16.342567Z",
     "iopub.status.busy": "2022-03-22T02:29:16.342305Z",
     "iopub.status.idle": "2022-03-22T02:29:16.354937Z",
     "shell.execute_reply": "2022-03-22T02:29:16.354113Z",
     "shell.execute_reply.started": "2022-03-22T02:29:16.34253Z"
    }
   },
   "outputs": [],
   "source": [
    "#Check for total number of values for each quality rating\n",
    "data.quality.value_counts()"
   ]
  },
  {
   "cell_type": "code",
   "execution_count": null,
   "metadata": {
    "execution": {
     "iopub.execute_input": "2022-03-22T02:29:16.35805Z",
     "iopub.status.busy": "2022-03-22T02:29:16.357385Z",
     "iopub.status.idle": "2022-03-22T02:29:16.370122Z",
     "shell.execute_reply": "2022-03-22T02:29:16.369543Z",
     "shell.execute_reply.started": "2022-03-22T02:29:16.358008Z"
    }
   },
   "outputs": [],
   "source": [
    "#Check correlation of every feature w.r.t the quality of the wine.\n",
    "\n",
    "data.corr()['quality']"
   ]
  },
  {
   "cell_type": "markdown",
   "metadata": {},
   "source": [
    "<h3>Heat Map of Correlation Matrix</h3>"
   ]
  },
  {
   "cell_type": "code",
   "execution_count": null,
   "metadata": {
    "execution": {
     "iopub.execute_input": "2022-03-22T02:29:16.371573Z",
     "iopub.status.busy": "2022-03-22T02:29:16.371004Z",
     "iopub.status.idle": "2022-03-22T02:29:17.26334Z",
     "shell.execute_reply": "2022-03-22T02:29:17.262644Z",
     "shell.execute_reply.started": "2022-03-22T02:29:16.371504Z"
    }
   },
   "outputs": [],
   "source": [
    "plt.figure(figsize=(10,10))\n",
    "sns.heatmap(data.corr(),annot=True,linewidth=0.5,center=0,cmap='coolwarm')\n",
    "plt.show()"
   ]
  },
  {
   "cell_type": "code",
   "execution_count": null,
   "metadata": {
    "execution": {
     "iopub.execute_input": "2022-03-22T02:29:17.265552Z",
     "iopub.status.busy": "2022-03-22T02:29:17.264954Z",
     "iopub.status.idle": "2022-03-22T02:29:17.406126Z",
     "shell.execute_reply": "2022-03-22T02:29:17.405558Z",
     "shell.execute_reply.started": "2022-03-22T02:29:17.265492Z"
    }
   },
   "outputs": [],
   "source": [
    "plt.hist(data.quality,bins=6,alpha=0.5,histtype='bar',ec='black')\n",
    "plt.title('Distribution of the Quality')\n",
    "plt.xlabel('Quality')\n",
    "plt.ylabel('Count')\n",
    "plt.show()"
   ]
  },
  {
   "cell_type": "markdown",
   "metadata": {},
   "source": [
    "The above plot shows the distribution of the quality of the wine in the dataset, and represents that most of the wine is of average quality i.e. quality ranging from 5 to 7 ."
   ]
  },
  {
   "cell_type": "code",
   "execution_count": null,
   "metadata": {
    "execution": {
     "iopub.execute_input": "2022-03-22T02:29:17.407584Z",
     "iopub.status.busy": "2022-03-22T02:29:17.407212Z",
     "iopub.status.idle": "2022-03-22T02:29:17.635876Z",
     "shell.execute_reply": "2022-03-22T02:29:17.635343Z",
     "shell.execute_reply.started": "2022-03-22T02:29:17.407551Z"
    }
   },
   "outputs": [],
   "source": [
    "sns.boxplot(x='quality',y='pH',data=data,palette='GnBu_d')\n",
    "plt.title(\"Boxplot of Quality and pH\")\n",
    "plt.show()"
   ]
  },
  {
   "cell_type": "code",
   "execution_count": null,
   "metadata": {
    "execution": {
     "iopub.execute_input": "2022-03-22T02:29:17.637451Z",
     "iopub.status.busy": "2022-03-22T02:29:17.637051Z",
     "iopub.status.idle": "2022-03-22T02:29:17.875988Z",
     "shell.execute_reply": "2022-03-22T02:29:17.875359Z",
     "shell.execute_reply.started": "2022-03-22T02:29:17.637419Z"
    }
   },
   "outputs": [],
   "source": [
    "ax = sns.boxplot(x='quality',y='alcohol',data=data,palette='GnBu_d')\n",
    "plt.title(\"Boxplot of Quality and Alcohol\")\n",
    "plt.show()"
   ]
  },
  {
   "cell_type": "markdown",
   "metadata": {},
   "source": [
    "The above plot shows the increase in the quality of wine with the increase in alcohol. The quality of the wine is directly related to the amount of alcohol in the wine. More the alcohol in the wine better will be the quality. Whereas it shows slight decrease in pH scale with good quality."
   ]
  },
  {
   "cell_type": "code",
   "execution_count": null,
   "metadata": {
    "execution": {
     "iopub.execute_input": "2022-03-22T02:29:17.877564Z",
     "iopub.status.busy": "2022-03-22T02:29:17.877171Z",
     "iopub.status.idle": "2022-03-22T02:29:18.110209Z",
     "shell.execute_reply": "2022-03-22T02:29:18.10966Z",
     "shell.execute_reply.started": "2022-03-22T02:29:17.877535Z"
    }
   },
   "outputs": [],
   "source": [
    "sns.boxplot(x=\"quality\",y=\"residual_sugar\",data=data,palette=\"GnBu_d\")\n",
    "plt.title(\"Boxplot of Quality and residual sugar\")\n",
    "plt.show()"
   ]
  },
  {
   "cell_type": "markdown",
   "metadata": {},
   "source": [
    "Not much effect of sugar residual on quality."
   ]
  },
  {
   "cell_type": "code",
   "execution_count": null,
   "metadata": {
    "execution": {
     "iopub.execute_input": "2022-03-22T02:29:18.111723Z",
     "iopub.status.busy": "2022-03-22T02:29:18.111302Z",
     "iopub.status.idle": "2022-03-22T02:29:18.346104Z",
     "shell.execute_reply": "2022-03-22T02:29:18.345277Z",
     "shell.execute_reply.started": "2022-03-22T02:29:18.11169Z"
    }
   },
   "outputs": [],
   "source": [
    "sns.boxplot(x=\"quality\",y=\"density\",data=data,palette=\"GnBu_d\")\n",
    "plt.title(\"Boxplot of Quality and Density\")\n",
    "plt.show()"
   ]
  },
  {
   "cell_type": "markdown",
   "metadata": {},
   "source": [
    "Lower the density of wine better will be the quality of the wine. From the above boxplot we acn visualize that the quality of wine increases with decrease in density."
   ]
  },
  {
   "cell_type": "code",
   "execution_count": null,
   "metadata": {
    "execution": {
     "iopub.execute_input": "2022-03-22T02:29:18.347635Z",
     "iopub.status.busy": "2022-03-22T02:29:18.347394Z",
     "iopub.status.idle": "2022-03-22T02:29:18.583224Z",
     "shell.execute_reply": "2022-03-22T02:29:18.582453Z",
     "shell.execute_reply.started": "2022-03-22T02:29:18.347606Z"
    }
   },
   "outputs": [],
   "source": [
    "sns.boxplot(x=\"quality\",y=\"sulphates\",data=data,palette=\"GnBu_d\")\n",
    "plt.title(\"Boxplot of Quality and Sulphates\")\n",
    "plt.show()"
   ]
  },
  {
   "cell_type": "markdown",
   "metadata": {},
   "source": [
    "The above plot represents that the quality of alcohol increases with the increase in the amount of sulphates in the wine."
   ]
  },
  {
   "cell_type": "code",
   "execution_count": null,
   "metadata": {
    "execution": {
     "iopub.execute_input": "2022-03-22T02:29:18.585447Z",
     "iopub.status.busy": "2022-03-22T02:29:18.584924Z",
     "iopub.status.idle": "2022-03-22T02:29:18.814368Z",
     "shell.execute_reply": "2022-03-22T02:29:18.813422Z",
     "shell.execute_reply.started": "2022-03-22T02:29:18.585405Z"
    }
   },
   "outputs": [],
   "source": [
    "sns.boxplot(x=\"quality\",y=\"chlorides\",data=data,palette=\"GnBu_d\")\n",
    "plt.title(\"Boxplot of Quality and Chlorides\")\n",
    "plt.show()"
   ]
  },
  {
   "cell_type": "markdown",
   "metadata": {},
   "source": [
    "Not much effect in the quality of wine for a particular amount of chlorides mixed in them."
   ]
  },
  {
   "cell_type": "code",
   "execution_count": null,
   "metadata": {
    "execution": {
     "iopub.execute_input": "2022-03-22T02:29:18.815609Z",
     "iopub.status.busy": "2022-03-22T02:29:18.815391Z",
     "iopub.status.idle": "2022-03-22T02:29:19.040009Z",
     "shell.execute_reply": "2022-03-22T02:29:19.03912Z",
     "shell.execute_reply.started": "2022-03-22T02:29:18.815584Z"
    }
   },
   "outputs": [],
   "source": [
    "sns.boxplot(x=\"quality\",y=\"citric_acid\",data=data,palette=\"coolwarm\")\n",
    "plt.title(\"Boxplot of Quality and Citric Acid\")\n",
    "plt.show()"
   ]
  },
  {
   "cell_type": "markdown",
   "metadata": {},
   "source": [
    "The quality of the wine increses with increase in the amount of citric acid in the wine."
   ]
  },
  {
   "cell_type": "code",
   "execution_count": null,
   "metadata": {
    "execution": {
     "iopub.execute_input": "2022-03-22T02:29:19.041228Z",
     "iopub.status.busy": "2022-03-22T02:29:19.041035Z",
     "iopub.status.idle": "2022-03-22T02:29:19.273598Z",
     "shell.execute_reply": "2022-03-22T02:29:19.272549Z",
     "shell.execute_reply.started": "2022-03-22T02:29:19.041205Z"
    }
   },
   "outputs": [],
   "source": [
    "sns.boxplot(x=\"quality\",y=\"volatile_acidity\",data=data,palette=\"coolwarm\")\n",
    "plt.title(\"Boxplot of Quality and Volatile Acidity\")\n",
    "plt.show()"
   ]
  },
  {
   "cell_type": "markdown",
   "metadata": {},
   "source": [
    "The quality of wine increases with the decrease in the amount of volatile acids."
   ]
  },
  {
   "cell_type": "code",
   "execution_count": null,
   "metadata": {
    "execution": {
     "iopub.execute_input": "2022-03-22T02:29:19.275857Z",
     "iopub.status.busy": "2022-03-22T02:29:19.275631Z",
     "iopub.status.idle": "2022-03-22T02:29:19.513349Z",
     "shell.execute_reply": "2022-03-22T02:29:19.51259Z",
     "shell.execute_reply.started": "2022-03-22T02:29:19.27583Z"
    }
   },
   "outputs": [],
   "source": [
    "sns.boxplot(x=\"quality\",y=\"fixed_acidity\",data=data,palette=\"coolwarm\")\n",
    "plt.title(\"Boxplot of Quality and Fixed Acidity\")\n",
    "plt.show()"
   ]
  },
  {
   "cell_type": "markdown",
   "metadata": {},
   "source": [
    "There is not much effect of fixed acidity on the quality of the wine just a slight increase."
   ]
  },
  {
   "cell_type": "markdown",
   "metadata": {},
   "source": [
    "## Data preprocessing"
   ]
  },
  {
   "cell_type": "code",
   "execution_count": null,
   "metadata": {
    "execution": {
     "iopub.execute_input": "2022-03-22T02:29:19.51484Z",
     "iopub.status.busy": "2022-03-22T02:29:19.514622Z",
     "iopub.status.idle": "2022-03-22T02:29:19.519877Z",
     "shell.execute_reply": "2022-03-22T02:29:19.51904Z",
     "shell.execute_reply.started": "2022-03-22T02:29:19.514814Z"
    }
   },
   "outputs": [],
   "source": [
    "features = data.drop(['quality'] , axis = 1)\n",
    "target = data['quality']"
   ]
  },
  {
   "cell_type": "markdown",
   "metadata": {},
   "source": [
    "we will try the random forrest to analyse the feature importance"
   ]
  },
  {
   "cell_type": "code",
   "execution_count": null,
   "metadata": {
    "execution": {
     "iopub.execute_input": "2022-03-22T02:29:19.521307Z",
     "iopub.status.busy": "2022-03-22T02:29:19.521076Z",
     "iopub.status.idle": "2022-03-22T02:29:20.549027Z",
     "shell.execute_reply": "2022-03-22T02:29:20.548003Z",
     "shell.execute_reply.started": "2022-03-22T02:29:19.521279Z"
    }
   },
   "outputs": [],
   "source": [
    "from sklearn.ensemble import RandomForestRegressor\n",
    "\n",
    "model = RandomForestRegressor(random_state=1, max_depth=12)\n",
    "\n",
    "data = pd.get_dummies(data)\n",
    "model.fit(features, data.quality)\n",
    "display(model.feature_importances_)\n",
    "feat = data.columns\n",
    "\n",
    "imp = model.feature_importances_\n",
    "indices = np.argsort(imp)[:]"
   ]
  },
  {
   "cell_type": "code",
   "execution_count": null,
   "metadata": {
    "execution": {
     "iopub.execute_input": "2022-03-22T02:29:20.550909Z",
     "iopub.status.busy": "2022-03-22T02:29:20.550492Z",
     "iopub.status.idle": "2022-03-22T02:29:20.765827Z",
     "shell.execute_reply": "2022-03-22T02:29:20.764932Z",
     "shell.execute_reply.started": "2022-03-22T02:29:20.550861Z"
    }
   },
   "outputs": [],
   "source": [
    "plt.title('Feature imp')\n",
    "plt.barh(range(len(indices)), imp[indices], color='b', align='center')\n",
    "plt.yticks(range(len(indices)), [feat[i] for i in indices])\n",
    "plt.xlabel('Relative Importance')\n",
    "plt.show()"
   ]
  },
  {
   "cell_type": "markdown",
   "metadata": {},
   "source": [
    "The top features to affect the quality of the wine are Alcohol,Sulphates, and volatile acidity and the least important features such as fixed acidity,fee sulpher dioxide and citric acid, so the least important can be removed."
   ]
  },
  {
   "cell_type": "code",
   "execution_count": null,
   "metadata": {
    "execution": {
     "iopub.execute_input": "2022-03-22T02:29:20.767197Z",
     "iopub.status.busy": "2022-03-22T02:29:20.766992Z",
     "iopub.status.idle": "2022-03-22T02:29:20.791636Z",
     "shell.execute_reply": "2022-03-22T02:29:20.790765Z",
     "shell.execute_reply.started": "2022-03-22T02:29:20.767173Z"
    }
   },
   "outputs": [],
   "source": [
    "del features['fixed_acidity']\n",
    "del features['free_sulfur_dioxide']\n",
    "del features['citric_acid']\n",
    "features"
   ]
  },
  {
   "cell_type": "code",
   "execution_count": null,
   "metadata": {
    "execution": {
     "iopub.execute_input": "2022-03-22T02:29:20.792988Z",
     "iopub.status.busy": "2022-03-22T02:29:20.792745Z",
     "iopub.status.idle": "2022-03-22T02:29:20.799948Z",
     "shell.execute_reply": "2022-03-22T02:29:20.798977Z",
     "shell.execute_reply.started": "2022-03-22T02:29:20.792958Z"
    }
   },
   "outputs": [],
   "source": [
    "from sklearn.preprocessing import StandardScaler, LabelEncoder\n",
    "\n",
    "le = LabelEncoder()\n",
    "y = le.fit_transform(data.iloc[: , -1])\n",
    "y = pd.DataFrame(y.reshape(len(y),1))"
   ]
  },
  {
   "cell_type": "code",
   "execution_count": null,
   "metadata": {
    "execution": {
     "iopub.execute_input": "2022-03-22T02:29:20.801425Z",
     "iopub.status.busy": "2022-03-22T02:29:20.801203Z",
     "iopub.status.idle": "2022-03-22T02:29:20.813179Z",
     "shell.execute_reply": "2022-03-22T02:29:20.812404Z",
     "shell.execute_reply.started": "2022-03-22T02:29:20.801397Z"
    }
   },
   "outputs": [],
   "source": [
    "x_train, x_test, y_train, y_test = train_test_split(features,y, test_size = 0.2, random_state = 0)"
   ]
  },
  {
   "cell_type": "code",
   "execution_count": null,
   "metadata": {
    "execution": {
     "iopub.execute_input": "2022-03-22T02:29:20.818141Z",
     "iopub.status.busy": "2022-03-22T02:29:20.817804Z",
     "iopub.status.idle": "2022-03-22T02:29:21.86501Z",
     "shell.execute_reply": "2022-03-22T02:29:21.864269Z",
     "shell.execute_reply.started": "2022-03-22T02:29:20.818103Z"
    }
   },
   "outputs": [],
   "source": [
    "y_train_cat = tf.keras.utils.to_categorical(y_train, 6)\n",
    "y_test_cat = tf.keras.utils.to_categorical(y_test, 6)"
   ]
  },
  {
   "cell_type": "markdown",
   "metadata": {},
   "source": [
    "## Tensorflow DNNs"
   ]
  },
  {
   "cell_type": "code",
   "execution_count": null,
   "metadata": {
    "execution": {
     "iopub.execute_input": "2022-03-22T02:31:06.227347Z",
     "iopub.status.busy": "2022-03-22T02:31:06.226693Z",
     "iopub.status.idle": "2022-03-22T02:31:06.233892Z",
     "shell.execute_reply": "2022-03-22T02:31:06.232752Z",
     "shell.execute_reply.started": "2022-03-22T02:31:06.227306Z"
    }
   },
   "outputs": [],
   "source": [
    "def create_feature_column():\n",
    "    feat_volatile_acidity = tf.feature_column.numeric_column('volatile_acidity')\n",
    "    feat_residual_sugar = tf.feature_column.numeric_column('residual_sugar')\n",
    "    feat_chlorides = tf.feature_column.numeric_column('chlorides')\n",
    "    feat_total_sulfur_dioxide  = tf.feature_column.numeric_column('total_sulfur_dioxide')\n",
    "    feat_density              = tf.feature_column.numeric_column('density')\n",
    "    feat_pH  = tf.feature_column.numeric_column('pH')\n",
    "    feat_sulphates  = tf.feature_column.numeric_column('sulphates')\n",
    "    feat_alcohol  = tf.feature_column.numeric_column('alcohol')\n",
    "\n",
    "\n",
    "    feature_column = [ feat_volatile_acidity,feat_residual_sugar, feat_chlorides, \n",
    "                       feat_total_sulfur_dioxide,feat_density,feat_pH,feat_sulphates,feat_alcohol] \n",
    "\n",
    "    return feature_column\n",
    "feature_column = create_feature_column()"
   ]
  },
  {
   "cell_type": "code",
   "execution_count": null,
   "metadata": {
    "execution": {
     "iopub.execute_input": "2022-03-22T02:31:07.183478Z",
     "iopub.status.busy": "2022-03-22T02:31:07.182704Z",
     "iopub.status.idle": "2022-03-22T02:31:07.189747Z",
     "shell.execute_reply": "2022-03-22T02:31:07.189188Z",
     "shell.execute_reply.started": "2022-03-22T02:31:07.183432Z"
    }
   },
   "outputs": [],
   "source": [
    "def traineval(x_train, y_train, training=False, batch_size=128):\n",
    "    \"\"\"An input function for training or evaluating\"\"\"\n",
    "    # Convert the inputs to a Dataset.\n",
    "    dataset = tf.data.Dataset.from_tensor_slices((dict(x_train), y_train))\n",
    "\n",
    "    # Shuffle and repeat if you are in training mode.\n",
    "    if training:\n",
    "        dataset = dataset.shuffle(1000).repeat()\n",
    "\n",
    "    return dataset.batch(batch_size)\n"
   ]
  },
  {
   "cell_type": "code",
   "execution_count": null,
   "metadata": {
    "execution": {
     "iopub.execute_input": "2022-03-22T02:31:08.534284Z",
     "iopub.status.busy": "2022-03-22T02:31:08.533881Z",
     "iopub.status.idle": "2022-03-22T02:31:08.538867Z",
     "shell.execute_reply": "2022-03-22T02:31:08.538252Z",
     "shell.execute_reply.started": "2022-03-22T02:31:08.534255Z"
    }
   },
   "outputs": [],
   "source": [
    "my_feature_columns = []\n",
    "for key in data.keys():\n",
    "    my_feature_columns.append(tf.feature_column.numeric_column(key=key))"
   ]
  },
  {
   "cell_type": "code",
   "execution_count": null,
   "metadata": {
    "execution": {
     "iopub.execute_input": "2022-03-22T02:31:09.19567Z",
     "iopub.status.busy": "2022-03-22T02:31:09.195367Z",
     "iopub.status.idle": "2022-03-22T02:31:09.819004Z",
     "shell.execute_reply": "2022-03-22T02:31:09.818091Z",
     "shell.execute_reply.started": "2022-03-22T02:31:09.195638Z"
    }
   },
   "outputs": [],
   "source": [
    "dnn = tf.estimator.DNNClassifier(hidden_units = [20,20,20],\n",
    "                                      feature_columns = feature_column,\n",
    "                                      n_classes= 6,\n",
    "                                      activation_fn=tf.nn.relu,\n",
    "                                      dropout=None)"
   ]
  },
  {
   "cell_type": "code",
   "execution_count": null,
   "metadata": {
    "execution": {
     "iopub.execute_input": "2022-03-22T02:31:12.136348Z",
     "iopub.status.busy": "2022-03-22T02:31:12.135847Z",
     "iopub.status.idle": "2022-03-22T02:31:26.508094Z",
     "shell.execute_reply": "2022-03-22T02:31:26.50736Z",
     "shell.execute_reply.started": "2022-03-22T02:31:12.136316Z"
    }
   },
   "outputs": [],
   "source": [
    "dnn.train(\n",
    "    input_fn= lambda: traineval(x_train, y_train , training=True), steps=5000)"
   ]
  },
  {
   "cell_type": "code",
   "execution_count": null,
   "metadata": {
    "execution": {
     "iopub.execute_input": "2022-03-22T02:31:31.081592Z",
     "iopub.status.busy": "2022-03-22T02:31:31.081182Z",
     "iopub.status.idle": "2022-03-22T02:31:31.891211Z",
     "shell.execute_reply": "2022-03-22T02:31:31.89058Z",
     "shell.execute_reply.started": "2022-03-22T02:31:31.081511Z"
    }
   },
   "outputs": [],
   "source": [
    "eval_result = dnn.evaluate(input_fn=lambda: traineval(x_test, y_test, training=False))\n",
    "predictions = dnn.predict(input_fn=lambda: traineval(x_test, y_test, training=False))"
   ]
  },
  {
   "cell_type": "code",
   "execution_count": null,
   "metadata": {
    "execution": {
     "iopub.execute_input": "2022-03-22T02:31:54.549956Z",
     "iopub.status.busy": "2022-03-22T02:31:54.549173Z",
     "iopub.status.idle": "2022-03-22T02:31:54.554749Z",
     "shell.execute_reply": "2022-03-22T02:31:54.553974Z",
     "shell.execute_reply.started": "2022-03-22T02:31:54.549883Z"
    }
   },
   "outputs": [],
   "source": [
    "print(eval_result)"
   ]
  },
  {
   "cell_type": "code",
   "execution_count": null,
   "metadata": {
    "execution": {
     "iopub.execute_input": "2022-03-22T02:32:00.686818Z",
     "iopub.status.busy": "2022-03-22T02:32:00.686532Z",
     "iopub.status.idle": "2022-03-22T02:32:16.738373Z",
     "shell.execute_reply": "2022-03-22T02:32:16.737271Z",
     "shell.execute_reply.started": "2022-03-22T02:32:00.686785Z"
    }
   },
   "outputs": [],
   "source": [
    "nn = tf.keras.models.Sequential(layers = None , name = None)\n",
    "nn.add(tf.keras.layers.Input(shape = 8,))\n",
    "nn.add(tf.keras.layers.Dense(units = 16 , activation = \"relu\" ))\n",
    "nn.add(tf.keras.layers.Dense(units = 8 , activation = \"relu\" ))\n",
    "nn.add(tf.keras.layers.Dense(units = 6 , activation = \"sigmoid\"))\n",
    "nn.summary()\n",
    "nn.compile(optimizer = 'adam' , loss = 'categorical_crossentropy' ,metrics= ['accuracy'])\n",
    "history = nn.fit(x_train, y_train_cat,  batch_size= 32, epochs = 150 , validation_data = (x_test,y_test_cat))\n",
    "\n"
   ]
  },
  {
   "cell_type": "markdown",
   "metadata": {},
   "source": [
    "<h2>Model Evaluation</h2>"
   ]
  },
  {
   "cell_type": "code",
   "execution_count": null,
   "metadata": {
    "execution": {
     "iopub.execute_input": "2022-03-22T02:34:45.146192Z",
     "iopub.status.busy": "2022-03-22T02:34:45.145767Z",
     "iopub.status.idle": "2022-03-22T02:34:45.351129Z",
     "shell.execute_reply": "2022-03-22T02:34:45.350298Z",
     "shell.execute_reply.started": "2022-03-22T02:34:45.146161Z"
    }
   },
   "outputs": [],
   "source": [
    "#Here we plot the loss vs Validation loss using a line graph.\n",
    "plt.plot(history.history['loss'], label='training data')\n",
    "plt.plot(history.history['val_loss'], label='validation data')\n",
    "plt.legend()\n",
    "plt.title('MAE for model')\n",
    "plt.ylabel('MAE')\n",
    "plt.xlabel('epoch')\n",
    "plt.show()"
   ]
  },
  {
   "cell_type": "markdown",
   "metadata": {},
   "source": [
    "*Here* we are plotting the training accuracy vs validation accuracy. "
   ]
  },
  {
   "cell_type": "code",
   "execution_count": null,
   "metadata": {
    "execution": {
     "iopub.execute_input": "2022-03-22T02:34:52.345987Z",
     "iopub.status.busy": "2022-03-22T02:34:52.345282Z",
     "iopub.status.idle": "2022-03-22T02:34:53.175667Z",
     "shell.execute_reply": "2022-03-22T02:34:53.174738Z",
     "shell.execute_reply.started": "2022-03-22T02:34:52.345943Z"
    }
   },
   "outputs": [],
   "source": [
    "plt.plot(history.history['accuracy'], label='Accuracy training data')\n",
    "plt.plot(history.history['val_accuracy'], label='Accuracy validation data')\n",
    "plt.legend()\n",
    "plt.title('Model accuracy')\n",
    "plt.ylabel('Accuracy')\n",
    "plt.xlabel('epoch')\n",
    "plt.show()"
   ]
  },
  {
   "cell_type": "markdown",
   "metadata": {},
   "source": [
    "<h2>CONCLUSION</h2>"
   ]
  },
  {
   "cell_type": "markdown",
   "metadata": {},
   "source": [
    "We could see the loss is high in the beginning. However, it descreases with the iterations. The training data has more loss when compared to the validation data. Also, The model is not properly trained with few resons like small validation set, biased data because the model has test time more robust and can lead to higher testing accuracies. And the plot is showing us that it is giving better acuuracy in Validation testing."
   ]
  }
 ],
 "metadata": {
  "kernelspec": {
   "display_name": "Python 3 (ipykernel)",
   "language": "python",
   "name": "python3"
  },
  "language_info": {
   "codemirror_mode": {
    "name": "ipython",
    "version": 3
   },
   "file_extension": ".py",
   "mimetype": "text/x-python",
   "name": "python",
   "nbconvert_exporter": "python",
   "pygments_lexer": "ipython3",
   "version": "3.8.12"
  }
 },
 "nbformat": 4,
 "nbformat_minor": 4
}
