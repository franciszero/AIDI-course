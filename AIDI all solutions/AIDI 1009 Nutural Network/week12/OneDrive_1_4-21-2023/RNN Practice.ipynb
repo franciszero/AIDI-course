{
 "cells": [
  {
   "cell_type": "code",
   "execution_count": 1,
   "metadata": {},
   "outputs": [],
   "source": [
    "import numpy as np\n",
    "import pandas as pd\n",
    "import matplotlib.pyplot as plt"
   ]
  },
  {
   "cell_type": "code",
   "execution_count": 2,
   "metadata": {},
   "outputs": [
    {
     "data": {
      "text/html": [
       "<div>\n",
       "<style scoped>\n",
       "    .dataframe tbody tr th:only-of-type {\n",
       "        vertical-align: middle;\n",
       "    }\n",
       "\n",
       "    .dataframe tbody tr th {\n",
       "        vertical-align: top;\n",
       "    }\n",
       "\n",
       "    .dataframe thead th {\n",
       "        text-align: right;\n",
       "    }\n",
       "</style>\n",
       "<table border=\"1\" class=\"dataframe\">\n",
       "  <thead>\n",
       "    <tr style=\"text-align: right;\">\n",
       "      <th></th>\n",
       "      <th>Date</th>\n",
       "      <th>Open</th>\n",
       "      <th>High</th>\n",
       "      <th>Low</th>\n",
       "      <th>Close</th>\n",
       "      <th>Adj Close</th>\n",
       "      <th>Volume</th>\n",
       "    </tr>\n",
       "  </thead>\n",
       "  <tbody>\n",
       "    <tr>\n",
       "      <th>0</th>\n",
       "      <td>1/2/2015</td>\n",
       "      <td>78.580002</td>\n",
       "      <td>78.930000</td>\n",
       "      <td>77.699997</td>\n",
       "      <td>78.449997</td>\n",
       "      <td>78.449997</td>\n",
       "      <td>18177500</td>\n",
       "    </tr>\n",
       "    <tr>\n",
       "      <th>1</th>\n",
       "      <td>1/5/2015</td>\n",
       "      <td>77.980003</td>\n",
       "      <td>79.250000</td>\n",
       "      <td>76.860001</td>\n",
       "      <td>77.190002</td>\n",
       "      <td>77.190002</td>\n",
       "      <td>26452200</td>\n",
       "    </tr>\n",
       "    <tr>\n",
       "      <th>2</th>\n",
       "      <td>1/6/2015</td>\n",
       "      <td>77.230003</td>\n",
       "      <td>77.589996</td>\n",
       "      <td>75.360001</td>\n",
       "      <td>76.150002</td>\n",
       "      <td>76.150002</td>\n",
       "      <td>27399300</td>\n",
       "    </tr>\n",
       "    <tr>\n",
       "      <th>3</th>\n",
       "      <td>1/7/2015</td>\n",
       "      <td>76.760002</td>\n",
       "      <td>77.360001</td>\n",
       "      <td>75.820000</td>\n",
       "      <td>76.150002</td>\n",
       "      <td>76.150002</td>\n",
       "      <td>22045300</td>\n",
       "    </tr>\n",
       "    <tr>\n",
       "      <th>4</th>\n",
       "      <td>1/8/2015</td>\n",
       "      <td>76.739998</td>\n",
       "      <td>78.230003</td>\n",
       "      <td>76.080002</td>\n",
       "      <td>78.180000</td>\n",
       "      <td>78.180000</td>\n",
       "      <td>23961000</td>\n",
       "    </tr>\n",
       "    <tr>\n",
       "      <th>5</th>\n",
       "      <td>1/9/2015</td>\n",
       "      <td>78.199997</td>\n",
       "      <td>78.620003</td>\n",
       "      <td>77.199997</td>\n",
       "      <td>77.739998</td>\n",
       "      <td>77.739998</td>\n",
       "      <td>21157000</td>\n",
       "    </tr>\n",
       "    <tr>\n",
       "      <th>6</th>\n",
       "      <td>1/12/2015</td>\n",
       "      <td>77.839996</td>\n",
       "      <td>78.000000</td>\n",
       "      <td>76.209999</td>\n",
       "      <td>76.720001</td>\n",
       "      <td>76.720001</td>\n",
       "      <td>19190200</td>\n",
       "    </tr>\n",
       "    <tr>\n",
       "      <th>7</th>\n",
       "      <td>1/13/2015</td>\n",
       "      <td>77.230003</td>\n",
       "      <td>78.080002</td>\n",
       "      <td>75.849998</td>\n",
       "      <td>76.449997</td>\n",
       "      <td>76.449997</td>\n",
       "      <td>25179600</td>\n",
       "    </tr>\n",
       "    <tr>\n",
       "      <th>8</th>\n",
       "      <td>1/14/2015</td>\n",
       "      <td>76.419998</td>\n",
       "      <td>77.199997</td>\n",
       "      <td>76.029999</td>\n",
       "      <td>76.279999</td>\n",
       "      <td>76.279999</td>\n",
       "      <td>25918600</td>\n",
       "    </tr>\n",
       "    <tr>\n",
       "      <th>9</th>\n",
       "      <td>1/15/2015</td>\n",
       "      <td>76.400002</td>\n",
       "      <td>76.570000</td>\n",
       "      <td>73.540001</td>\n",
       "      <td>74.050003</td>\n",
       "      <td>74.050003</td>\n",
       "      <td>34134000</td>\n",
       "    </tr>\n",
       "  </tbody>\n",
       "</table>\n",
       "</div>"
      ],
      "text/plain": [
       "        Date       Open       High        Low      Close  Adj Close    Volume\n",
       "0   1/2/2015  78.580002  78.930000  77.699997  78.449997  78.449997  18177500\n",
       "1   1/5/2015  77.980003  79.250000  76.860001  77.190002  77.190002  26452200\n",
       "2   1/6/2015  77.230003  77.589996  75.360001  76.150002  76.150002  27399300\n",
       "3   1/7/2015  76.760002  77.360001  75.820000  76.150002  76.150002  22045300\n",
       "4   1/8/2015  76.739998  78.230003  76.080002  78.180000  78.180000  23961000\n",
       "5   1/9/2015  78.199997  78.620003  77.199997  77.739998  77.739998  21157000\n",
       "6  1/12/2015  77.839996  78.000000  76.209999  76.720001  76.720001  19190200\n",
       "7  1/13/2015  77.230003  78.080002  75.849998  76.449997  76.449997  25179600\n",
       "8  1/14/2015  76.419998  77.199997  76.029999  76.279999  76.279999  25918600\n",
       "9  1/15/2015  76.400002  76.570000  73.540001  74.050003  74.050003  34134000"
      ]
     },
     "execution_count": 2,
     "metadata": {},
     "output_type": "execute_result"
    }
   ],
   "source": [
    "training_data = pd.read_csv('FB_train.csv')\n",
    "training_data.head(10)"
   ]
  },
  {
   "cell_type": "code",
   "execution_count": 3,
   "metadata": {},
   "outputs": [
    {
     "data": {
      "text/plain": [
       "numpy.ndarray"
      ]
     },
     "execution_count": 3,
     "metadata": {},
     "output_type": "execute_result"
    }
   ],
   "source": [
    "training_data = training_data.iloc[:, 1].values\n",
    "type(training_data)"
   ]
  },
  {
   "cell_type": "code",
   "execution_count": 4,
   "metadata": {},
   "outputs": [],
   "source": [
    "from sklearn.preprocessing import MinMaxScaler\n",
    "scaler = MinMaxScaler()\n",
    "training_data = scaler.fit_transform(training_data.reshape(-1, 1))"
   ]
  },
  {
   "cell_type": "code",
   "execution_count": 5,
   "metadata": {},
   "outputs": [],
   "source": [
    "x_training_data = []\n",
    "y_training_data =[]"
   ]
  },
  {
   "cell_type": "code",
   "execution_count": 6,
   "metadata": {},
   "outputs": [],
   "source": [
    "for i in range(40, len(training_data)):\n",
    "    x_training_data.append(training_data[i-40:i, 0])\n",
    "    y_training_data.append(training_data[i, 0])"
   ]
  },
  {
   "cell_type": "code",
   "execution_count": 7,
   "metadata": {},
   "outputs": [],
   "source": [
    "x_training_data = np.array(x_training_data)\n",
    "y_training_data = np.array(y_training_data)"
   ]
  },
  {
   "cell_type": "code",
   "execution_count": 8,
   "metadata": {},
   "outputs": [
    {
     "name": "stdout",
     "output_type": "stream",
     "text": [
      "(1218, 40)\n",
      "(1218,)\n"
     ]
    }
   ],
   "source": [
    "print(x_training_data.shape)\n",
    "print(y_training_data.shape)"
   ]
  },
  {
   "cell_type": "code",
   "execution_count": 9,
   "metadata": {},
   "outputs": [],
   "source": [
    "x_training_data = np.reshape(x_training_data, (x_training_data.shape[0], \n",
    "                                               x_training_data.shape[1], \n",
    "                                               1))"
   ]
  },
  {
   "cell_type": "code",
   "execution_count": 10,
   "metadata": {},
   "outputs": [
    {
     "name": "stdout",
     "output_type": "stream",
     "text": [
      "(1218, 40, 1)\n"
     ]
    }
   ],
   "source": [
    "print(x_training_data.shape)\n"
   ]
  },
  {
   "cell_type": "code",
   "execution_count": 11,
   "metadata": {},
   "outputs": [],
   "source": [
    "from tensorflow.keras.models import Sequential\n",
    "from tensorflow.keras.layers import Dense\n",
    "from tensorflow.keras.layers import LSTM\n",
    "from tensorflow.keras.layers import Dropout"
   ]
  },
  {
   "cell_type": "code",
   "execution_count": 12,
   "metadata": {},
   "outputs": [],
   "source": [
    "rnn = Sequential()"
   ]
  },
  {
   "cell_type": "code",
   "execution_count": 13,
   "metadata": {},
   "outputs": [],
   "source": [
    "rnn.add(LSTM(units = 45, return_sequences = True, input_shape = (x_training_data.shape[1], 1)))"
   ]
  },
  {
   "cell_type": "code",
   "execution_count": 14,
   "metadata": {},
   "outputs": [],
   "source": [
    "rnn.add(Dropout(0.2))"
   ]
  },
  {
   "cell_type": "code",
   "execution_count": 15,
   "metadata": {},
   "outputs": [],
   "source": [
    "rnn.add(LSTM(units = 45, return_sequences = True))\n",
    "rnn.add(Dropout(0.2))\n",
    "rnn.add(LSTM(units = 45, return_sequences = True))\n",
    "rnn.add(Dropout(0.2))\n",
    "rnn.add(LSTM(units = 45))\n",
    "rnn.add(Dropout(0.2))"
   ]
  },
  {
   "cell_type": "code",
   "execution_count": 16,
   "metadata": {},
   "outputs": [],
   "source": [
    "rnn.add(Dense(units = 1))"
   ]
  },
  {
   "cell_type": "code",
   "execution_count": 17,
   "metadata": {},
   "outputs": [],
   "source": [
    "rnn.compile(optimizer = 'adam', loss = 'mean_squared_error')"
   ]
  },
  {
   "cell_type": "code",
   "execution_count": 18,
   "metadata": {
    "scrolled": true
   },
   "outputs": [
    {
     "name": "stdout",
     "output_type": "stream",
     "text": [
      "Epoch 1/100\n",
      "39/39 [==============================] - 7s 44ms/step - loss: 0.1072\n",
      "Epoch 2/100\n",
      "39/39 [==============================] - 2s 56ms/step - loss: 0.0086\n",
      "Epoch 3/100\n",
      "39/39 [==============================] - 3s 67ms/step - loss: 0.0065\n",
      "Epoch 4/100\n",
      "39/39 [==============================] - 2s 63ms/step - loss: 0.0086\n",
      "Epoch 5/100\n",
      "39/39 [==============================] - 2s 58ms/step - loss: 0.0074\n",
      "Epoch 6/100\n",
      "39/39 [==============================] - 2s 55ms/step - loss: 0.0062\n",
      "Epoch 7/100\n",
      "39/39 [==============================] - 2s 59ms/step - loss: 0.0057\n",
      "Epoch 8/100\n",
      "39/39 [==============================] - 2s 58ms/step - loss: 0.0047\n",
      "Epoch 9/100\n",
      "39/39 [==============================] - 2s 57ms/step - loss: 0.0053\n",
      "Epoch 10/100\n",
      "39/39 [==============================] - 2s 64ms/step - loss: 0.0055\n",
      "Epoch 11/100\n",
      "39/39 [==============================] - 2s 59ms/step - loss: 0.0056\n",
      "Epoch 12/100\n",
      "39/39 [==============================] - 2s 55ms/step - loss: 0.0048\n",
      "Epoch 13/100\n",
      "39/39 [==============================] - 2s 58ms/step - loss: 0.0047\n",
      "Epoch 14/100\n",
      "39/39 [==============================] - 2s 60ms/step - loss: 0.0049\n",
      "Epoch 15/100\n",
      "39/39 [==============================] - 2s 59ms/step - loss: 0.0046\n",
      "Epoch 16/100\n",
      "39/39 [==============================] - 3s 70ms/step - loss: 0.0058\n",
      "Epoch 17/100\n",
      "39/39 [==============================] - 3s 70ms/step - loss: 0.0046\n",
      "Epoch 18/100\n",
      "39/39 [==============================] - 2s 58ms/step - loss: 0.0047\n",
      "Epoch 19/100\n",
      "39/39 [==============================] - 2s 57ms/step - loss: 0.0081\n",
      "Epoch 20/100\n",
      "39/39 [==============================] - 2s 56ms/step - loss: 0.0051\n",
      "Epoch 21/100\n",
      "39/39 [==============================] - 2s 55ms/step - loss: 0.0043\n",
      "Epoch 22/100\n",
      "39/39 [==============================] - 2s 61ms/step - loss: 0.0043\n",
      "Epoch 23/100\n",
      "39/39 [==============================] - 3s 65ms/step - loss: 0.0042\n",
      "Epoch 24/100\n",
      "39/39 [==============================] - 3s 66ms/step - loss: 0.0036\n",
      "Epoch 25/100\n",
      "39/39 [==============================] - 2s 55ms/step - loss: 0.0046\n",
      "Epoch 26/100\n",
      "39/39 [==============================] - 2s 59ms/step - loss: 0.0041\n",
      "Epoch 27/100\n",
      "39/39 [==============================] - 2s 58ms/step - loss: 0.0038\n",
      "Epoch 28/100\n",
      "39/39 [==============================] - 2s 57ms/step - loss: 0.0036\n",
      "Epoch 29/100\n",
      "39/39 [==============================] - 2s 57ms/step - loss: 0.0038\n",
      "Epoch 30/100\n",
      "39/39 [==============================] - 2s 61ms/step - loss: 0.0033\n",
      "Epoch 31/100\n",
      "39/39 [==============================] - 2s 59ms/step - loss: 0.0041\n",
      "Epoch 32/100\n",
      "39/39 [==============================] - 3s 69ms/step - loss: 0.0034\n",
      "Epoch 33/100\n",
      "39/39 [==============================] - 2s 55ms/step - loss: 0.0032\n",
      "Epoch 34/100\n",
      "39/39 [==============================] - 2s 58ms/step - loss: 0.0035\n",
      "Epoch 35/100\n",
      "39/39 [==============================] - 2s 58ms/step - loss: 0.0037\n",
      "Epoch 36/100\n",
      "39/39 [==============================] - 2s 57ms/step - loss: 0.0032\n",
      "Epoch 37/100\n",
      "39/39 [==============================] - 3s 67ms/step - loss: 0.0033\n",
      "Epoch 38/100\n",
      "39/39 [==============================] - 2s 63ms/step - loss: 0.0033\n",
      "Epoch 39/100\n",
      "39/39 [==============================] - 3s 66ms/step - loss: 0.0049\n",
      "Epoch 40/100\n",
      "39/39 [==============================] - 3s 67ms/step - loss: 0.0034\n",
      "Epoch 41/100\n",
      "39/39 [==============================] - 2s 63ms/step - loss: 0.0030\n",
      "Epoch 42/100\n",
      "39/39 [==============================] - 2s 56ms/step - loss: 0.0034\n",
      "Epoch 43/100\n",
      "39/39 [==============================] - 2s 63ms/step - loss: 0.0036\n",
      "Epoch 44/100\n",
      "39/39 [==============================] - 3s 64ms/step - loss: 0.0028\n",
      "Epoch 45/100\n",
      "39/39 [==============================] - 3s 65ms/step - loss: 0.0028\n",
      "Epoch 46/100\n",
      "39/39 [==============================] - 2s 64ms/step - loss: 0.0028\n",
      "Epoch 47/100\n",
      "39/39 [==============================] - 2s 56ms/step - loss: 0.0030\n",
      "Epoch 48/100\n",
      "39/39 [==============================] - 2s 61ms/step - loss: 0.0029\n",
      "Epoch 49/100\n",
      "39/39 [==============================] - 2s 57ms/step - loss: 0.0028\n",
      "Epoch 50/100\n",
      "39/39 [==============================] - 2s 60ms/step - loss: 0.0026\n",
      "Epoch 51/100\n",
      "39/39 [==============================] - 2s 58ms/step - loss: 0.0028\n",
      "Epoch 52/100\n",
      "39/39 [==============================] - 2s 57ms/step - loss: 0.0030\n",
      "Epoch 53/100\n",
      "39/39 [==============================] - 2s 57ms/step - loss: 0.0030\n",
      "Epoch 54/100\n",
      "39/39 [==============================] - 2s 57ms/step - loss: 0.0029: 0s - \n",
      "Epoch 55/100\n",
      "39/39 [==============================] - 2s 54ms/step - loss: 0.0027\n",
      "Epoch 56/100\n",
      "39/39 [==============================] - 2s 64ms/step - loss: 0.0034\n",
      "Epoch 57/100\n",
      "39/39 [==============================] - 2s 61ms/step - loss: 0.0025\n",
      "Epoch 58/100\n",
      "39/39 [==============================] - 2s 59ms/step - loss: 0.0029\n",
      "Epoch 59/100\n",
      "39/39 [==============================] - 2s 57ms/step - loss: 0.0029\n",
      "Epoch 60/100\n",
      "39/39 [==============================] - 2s 60ms/step - loss: 0.0026\n",
      "Epoch 61/100\n",
      "39/39 [==============================] - 2s 60ms/step - loss: 0.0021\n",
      "Epoch 62/100\n",
      "39/39 [==============================] - 2s 61ms/step - loss: 0.0027\n",
      "Epoch 63/100\n",
      "39/39 [==============================] - 2s 55ms/step - loss: 0.0022\n",
      "Epoch 64/100\n",
      "39/39 [==============================] - 2s 61ms/step - loss: 0.0025\n",
      "Epoch 65/100\n",
      "39/39 [==============================] - 2s 56ms/step - loss: 0.0022\n",
      "Epoch 66/100\n",
      "39/39 [==============================] - 2s 61ms/step - loss: 0.0025\n",
      "Epoch 67/100\n",
      "39/39 [==============================] - 2s 55ms/step - loss: 0.0018\n",
      "Epoch 68/100\n",
      "39/39 [==============================] - 2s 58ms/step - loss: 0.0024\n",
      "Epoch 69/100\n",
      "39/39 [==============================] - 2s 57ms/step - loss: 0.0025\n",
      "Epoch 70/100\n",
      "39/39 [==============================] - 2s 58ms/step - loss: 0.0022\n",
      "Epoch 71/100\n",
      "39/39 [==============================] - 2s 61ms/step - loss: 0.0020\n",
      "Epoch 72/100\n",
      "39/39 [==============================] - 2s 59ms/step - loss: 0.0022\n",
      "Epoch 73/100\n",
      "39/39 [==============================] - 2s 58ms/step - loss: 0.0019\n",
      "Epoch 74/100\n",
      "39/39 [==============================] - 2s 56ms/step - loss: 0.0022\n",
      "Epoch 75/100\n",
      "39/39 [==============================] - 2s 56ms/step - loss: 0.0021\n",
      "Epoch 76/100\n",
      "39/39 [==============================] - 2s 57ms/step - loss: 0.0019\n",
      "Epoch 77/100\n",
      "39/39 [==============================] - 3s 68ms/step - loss: 0.0031\n",
      "Epoch 78/100\n",
      "39/39 [==============================] - 3s 67ms/step - loss: 0.0021\n",
      "Epoch 79/100\n",
      "39/39 [==============================] - 2s 57ms/step - loss: 0.0019\n",
      "Epoch 80/100\n",
      "39/39 [==============================] - 2s 54ms/step - loss: 0.0021\n",
      "Epoch 81/100\n",
      "39/39 [==============================] - 2s 56ms/step - loss: 0.0019\n",
      "Epoch 82/100\n",
      "39/39 [==============================] - 2s 54ms/step - loss: 0.0024\n",
      "Epoch 83/100\n",
      "39/39 [==============================] - 2s 55ms/step - loss: 0.0018\n",
      "Epoch 84/100\n",
      "39/39 [==============================] - 2s 57ms/step - loss: 0.0026\n",
      "Epoch 85/100\n",
      "39/39 [==============================] - 2s 59ms/step - loss: 0.0016\n",
      "Epoch 86/100\n",
      "39/39 [==============================] - 2s 58ms/step - loss: 0.0017\n",
      "Epoch 87/100\n",
      "39/39 [==============================] - 2s 55ms/step - loss: 0.0019\n",
      "Epoch 88/100\n",
      "39/39 [==============================] - 2s 58ms/step - loss: 0.0018\n",
      "Epoch 89/100\n",
      "39/39 [==============================] - 2s 55ms/step - loss: 0.0020\n",
      "Epoch 90/100\n",
      "39/39 [==============================] - 2s 58ms/step - loss: 0.0019\n",
      "Epoch 91/100\n",
      "39/39 [==============================] - 3s 71ms/step - loss: 0.0017\n",
      "Epoch 92/100\n",
      "39/39 [==============================] - 3s 71ms/step - loss: 0.0018\n",
      "Epoch 93/100\n",
      "39/39 [==============================] - 2s 63ms/step - loss: 0.0017\n",
      "Epoch 94/100\n",
      "39/39 [==============================] - 2s 57ms/step - loss: 0.0017\n",
      "Epoch 95/100\n",
      "39/39 [==============================] - 2s 60ms/step - loss: 0.0016\n",
      "Epoch 96/100\n",
      "39/39 [==============================] - 2s 60ms/step - loss: 0.0017\n",
      "Epoch 97/100\n",
      "39/39 [==============================] - 2s 57ms/step - loss: 0.0018\n",
      "Epoch 98/100\n",
      "39/39 [==============================] - 2s 56ms/step - loss: 0.0018\n",
      "Epoch 99/100\n",
      "39/39 [==============================] - 2s 62ms/step - loss: 0.0019\n",
      "Epoch 100/100\n",
      "39/39 [==============================] - 2s 56ms/step - loss: 0.0016\n"
     ]
    },
    {
     "data": {
      "text/plain": [
       "<tensorflow.python.keras.callbacks.History at 0x287bb6c5710>"
      ]
     },
     "execution_count": 18,
     "metadata": {},
     "output_type": "execute_result"
    }
   ],
   "source": [
    "rnn.fit(x_training_data, y_training_data, epochs = 100, batch_size = 32)"
   ]
  },
  {
   "cell_type": "code",
   "execution_count": 19,
   "metadata": {},
   "outputs": [],
   "source": [
    "test_data = pd.read_csv('FB_test.csv')\n",
    "test_data = test_data.iloc[:, 1].values"
   ]
  },
  {
   "cell_type": "code",
   "execution_count": 20,
   "metadata": {},
   "outputs": [
    {
     "name": "stdout",
     "output_type": "stream",
     "text": [
      "(252,)\n"
     ]
    },
    {
     "data": {
      "text/plain": [
       "[<matplotlib.lines.Line2D at 0x287c4243470>]"
      ]
     },
     "execution_count": 20,
     "metadata": {},
     "output_type": "execute_result"
    },
    {
     "data": {
      "image/png": "[encoded data removed]",
      "text/plain": [
       "<Figure size 432x288 with 1 Axes>"
      ]
     },
     "metadata": {
      "needs_background": "light"
     },
     "output_type": "display_data"
    }
   ],
   "source": [
    "print(test_data.shape)\n",
    "plt.plot(test_data)"
   ]
  },
  {
   "cell_type": "code",
   "execution_count": 21,
   "metadata": {},
   "outputs": [],
   "source": [
    "unscaled_training_data = pd.read_csv('FB_train.csv')\n",
    "unscaled_test_data = pd.read_csv('FB_test.csv')"
   ]
  },
  {
   "cell_type": "code",
   "execution_count": 22,
   "metadata": {},
   "outputs": [
    {
     "name": "stdout",
     "output_type": "stream",
     "text": [
      "1510\n"
     ]
    }
   ],
   "source": [
    "all_data = pd.concat((unscaled_training_data['Open'], unscaled_test_data['Open']), axis = 0)\n",
    "print(len(all_data))"
   ]
  },
  {
   "cell_type": "code",
   "execution_count": 23,
   "metadata": {},
   "outputs": [
    {
     "name": "stdout",
     "output_type": "stream",
     "text": [
      "292\n"
     ]
    }
   ],
   "source": [
    "x_test_data = all_data[len(all_data) - len(test_data) - 40:].values\n",
    "print(len(x_test_data))"
   ]
  },
  {
   "cell_type": "code",
   "execution_count": 24,
   "metadata": {},
   "outputs": [],
   "source": [
    "x_test_data = np.reshape(x_test_data, (-1, 1))"
   ]
  },
  {
   "cell_type": "code",
   "execution_count": 25,
   "metadata": {},
   "outputs": [],
   "source": [
    "x_test_data = scaler.transform(x_test_data)"
   ]
  },
  {
   "cell_type": "code",
   "execution_count": 26,
   "metadata": {},
   "outputs": [],
   "source": [
    "final_x_test_data = []\n",
    "for i in range(40, len(x_test_data)):\n",
    "    final_x_test_data.append(x_test_data[i-40:i, 0])\n",
    "final_x_test_data = np.array(final_x_test_data)"
   ]
  },
  {
   "cell_type": "code",
   "execution_count": 27,
   "metadata": {},
   "outputs": [],
   "source": [
    "final_x_test_data = np.reshape(final_x_test_data, (final_x_test_data.shape[0], \n",
    "                                               final_x_test_data.shape[1], \n",
    "                                               1))"
   ]
  },
  {
   "cell_type": "code",
   "execution_count": 28,
   "metadata": {},
   "outputs": [
    {
     "data": {
      "text/plain": [
       "[<matplotlib.lines.Line2D at 0x287c5619390>]"
      ]
     },
     "execution_count": 28,
     "metadata": {},
     "output_type": "execute_result"
    },
    {
     "data": {
      "image/png": "[encoded data removed]",
      "text/plain": [
       "<Figure size 432x288 with 1 Axes>"
      ]
     },
     "metadata": {
      "needs_background": "light"
     },
     "output_type": "display_data"
    }
   ],
   "source": [
    "predictions = rnn.predict(final_x_test_data)\n",
    "plt.plot(predictions)"
   ]
  },
  {
   "cell_type": "code",
   "execution_count": 29,
   "metadata": {},
   "outputs": [
    {
     "data": {
      "text/plain": [
       "[<matplotlib.lines.Line2D at 0x287c56776d8>]"
      ]
     },
     "execution_count": 29,
     "metadata": {},
     "output_type": "execute_result"
    },
    {
     "data": {
      "image/png": "[encoded data removed]",
      "text/plain": [
       "<Figure size 432x288 with 1 Axes>"
      ]
     },
     "metadata": {
      "needs_background": "light"
     },
     "output_type": "display_data"
    }
   ],
   "source": [
    "unscaled_predictions = scaler.inverse_transform(predictions)\n",
    "plt.plot(unscaled_predictions)"
   ]
  },
  {
   "cell_type": "code",
   "execution_count": 30,
   "metadata": {},
   "outputs": [
    {
     "data": {
      "text/plain": [
       "Text(0.5, 1.0, 'Facebook Stock Price Predictions')"
      ]
     },
     "execution_count": 30,
     "metadata": {},
     "output_type": "execute_result"
    },
    {
     "data": {
      "image/png": "[encoded data removed]",
      "text/plain": [
       "<Figure size 432x288 with 1 Axes>"
      ]
     },
     "metadata": {
      "needs_background": "light"
     },
     "output_type": "display_data"
    }
   ],
   "source": [
    "plt.plot(unscaled_predictions, color = '#135485', label = \"Predictions\")\n",
    "plt.plot(test_data, color = 'black', label = \"Real Data\")\n",
    "plt.title('Facebook Stock Price Predictions')"
   ]
  }
 ],
 "metadata": {
  "kernelspec": {
   "display_name": "Python 3",
   "language": "python",
   "name": "python3"
  },
  "language_info": {
   "codemirror_mode": {
    "name": "ipython",
    "version": 3
   },
   "file_extension": ".py",
   "mimetype": "text/x-python",
   "name": "python",
   "nbconvert_exporter": "python",
   "pygments_lexer": "ipython3",
   "version": "3.7.3"
  }
 },
 "nbformat": 4,
 "nbformat_minor": 2
}
