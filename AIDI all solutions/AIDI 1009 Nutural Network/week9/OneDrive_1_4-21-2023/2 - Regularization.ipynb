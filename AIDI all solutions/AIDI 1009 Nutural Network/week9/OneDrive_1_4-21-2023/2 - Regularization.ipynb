{
 "cells": [
  {
   "cell_type": "markdown",
   "metadata": {},
   "source": [
    "## How does Regularization help reduce Overfitting?\n",
    "<img src=\"3.png\" width=\"600\" height=\"800\">\n",
    "<img src=\"4.png\">"
   ]
  },
  {
   "cell_type": "markdown",
   "metadata": {},
   "source": [
    "## Different Regularization Techniques in Deep Learning\n",
    "### L1 & L2 Regularization\n",
    "<img src=\"5.png\">\n",
    "<img src=\"6.png\">\n",
    "\n",
    "### Dropout\n",
    "<img src=\"7.png\">\n",
    "<img src=\"8.gif\" width=\"500\" height=\"600\">\n",
    "\n",
    "### Early Stopping\n",
    "<img src=\"9.png\" width=\"500\" height=\"600\">\n"
   ]
  },
  {
   "cell_type": "code",
   "execution_count": 1,
   "metadata": {},
   "outputs": [
    {
     "name": "stdout",
     "output_type": "stream",
     "text": [
      "Populating the interactive namespace from numpy and matplotlib\n"
     ]
    }
   ],
   "source": [
    "%pylab inline\n",
    "\n",
    "import numpy as np\n",
    "import pandas as pd\n",
    "from scipy.misc import imread\n",
    "from sklearn.metrics import accuracy_score\n",
    "\n",
    "from matplotlib import pyplot\n",
    "\n",
    "import tensorflow as tf\n",
    "import keras\n",
    "from keras.models import Sequential\n",
    "from keras.layers import Dense, Flatten\n",
    "from tensorflow.keras import datasets\n",
    "\n",
    "# To stop potential randomness\n",
    "seed = 128\n",
    "rng = np.random.RandomState(seed)"
   ]
  },
  {
   "cell_type": "code",
   "execution_count": 2,
   "metadata": {},
   "outputs": [
    {
     "data": {
      "text/plain": [
       "((60000, 28, 28), (60000, 10), (10000, 28, 28), (10000, 10))"
      ]
     },
     "execution_count": 2,
     "metadata": {},
     "output_type": "execute_result"
    }
   ],
   "source": [
    "(x_train, y_train), (x_test, y_test) = datasets.mnist.load_data()\n",
    "\n",
    "y_train = keras.utils.to_categorical(y_train, 10)\n",
    "y_test = keras.utils.to_categorical(y_test, 10)\n",
    "\n",
    "x_train = keras.utils.normalize(x_train, axis=1)\n",
    "x_test = keras.utils.normalize(x_test, axis=1)\n",
    "\n",
    "x_train.shape, y_train.shape, x_test.shape, y_test.shape  "
   ]
  },
  {
   "cell_type": "code",
   "execution_count": 3,
   "metadata": {},
   "outputs": [],
   "source": [
    "epochs = 10\n",
    "batch_size = 128\n",
    "\n",
    "\n",
    "model = Sequential([\n",
    " Flatten(input_shape=x_train[0].shape),\n",
    " Dense(500, activation='relu'),\n",
    " Dense(500, activation='relu'),\n",
    " Dense(500, activation='relu'),\n",
    " Dense(500, activation='relu'),\n",
    " Dense(500, activation='relu'),\n",
    " Dense(10, activation='softmax'),\n",
    " ])"
   ]
  },
  {
   "cell_type": "code",
   "execution_count": 4,
   "metadata": {},
   "outputs": [
    {
     "name": "stdout",
     "output_type": "stream",
     "text": [
      "Epoch 1/10\n",
      "469/469 [==============================] - 21s 40ms/step - loss: 0.4661 - accuracy: 0.8555 - val_loss: 0.1320 - val_accuracy: 0.9589\n",
      "Epoch 2/10\n",
      "469/469 [==============================] - 20s 42ms/step - loss: 0.1000 - accuracy: 0.9706 - val_loss: 0.1026 - val_accuracy: 0.9688\n",
      "Epoch 3/10\n",
      "469/469 [==============================] - 18s 38ms/step - loss: 0.0699 - accuracy: 0.9787 - val_loss: 0.0994 - val_accuracy: 0.9700\n",
      "Epoch 4/10\n",
      "469/469 [==============================] - 15s 33ms/step - loss: 0.0498 - accuracy: 0.9845 - val_loss: 0.1041 - val_accuracy: 0.9719\n",
      "Epoch 5/10\n",
      "469/469 [==============================] - 15s 33ms/step - loss: 0.0386 - accuracy: 0.9882 - val_loss: 0.1045 - val_accuracy: 0.9727\n",
      "Epoch 6/10\n",
      "469/469 [==============================] - 14s 30ms/step - loss: 0.0352 - accuracy: 0.9890 - val_loss: 0.1151 - val_accuracy: 0.9734\n",
      "Epoch 7/10\n",
      "469/469 [==============================] - 16s 34ms/step - loss: 0.0278 - accuracy: 0.9913 - val_loss: 0.1095 - val_accuracy: 0.9736\n",
      "Epoch 8/10\n",
      "469/469 [==============================] - 17s 37ms/step - loss: 0.0220 - accuracy: 0.9929 - val_loss: 0.0955 - val_accuracy: 0.9753\n",
      "Epoch 9/10\n",
      "469/469 [==============================] - 14s 30ms/step - loss: 0.0203 - accuracy: 0.9936 - val_loss: 0.1119 - val_accuracy: 0.9752\n",
      "Epoch 10/10\n",
      "469/469 [==============================] - 13s 28ms/step - loss: 0.0214 - accuracy: 0.9931 - val_loss: 0.1255 - val_accuracy: 0.9713\n"
     ]
    }
   ],
   "source": [
    "model.compile(loss='categorical_crossentropy', optimizer='adam', metrics=['accuracy'])\n",
    "\n",
    "trained_model_5d = model.fit(x_train, y_train, epochs=epochs, batch_size=batch_size, validation_data=(x_test, y_test))"
   ]
  },
  {
   "cell_type": "code",
   "execution_count": 5,
   "metadata": {},
   "outputs": [],
   "source": [
    "from keras import regularizers\n",
    "\n",
    "model = Sequential([\n",
    " Flatten(input_shape=x_train[0].shape),\n",
    " Dense(500, activation='relu',  kernel_regularizer=regularizers.l2(0.0001)),\n",
    " Dense(500, activation='relu',  kernel_regularizer=regularizers.l2(0.0001)),\n",
    " Dense(500, activation='relu',  kernel_regularizer=regularizers.l2(0.0001)),\n",
    " Dense(500, activation='relu',  kernel_regularizer=regularizers.l2(0.0001)),\n",
    " Dense(500, activation='relu',  kernel_regularizer=regularizers.l2(0.0001)),\n",
    " Dense(10, activation='softmax'),\n",
    " ])\n"
   ]
  },
  {
   "cell_type": "code",
   "execution_count": 6,
   "metadata": {},
   "outputs": [
    {
     "name": "stdout",
     "output_type": "stream",
     "text": [
      "Epoch 1/10\n",
      "469/469 [==============================] - 24s 44ms/step - loss: 0.6677 - accuracy: 0.8514 - val_loss: 0.3065 - val_accuracy: 0.9571\n",
      "Epoch 2/10\n",
      "469/469 [==============================] - 17s 37ms/step - loss: 0.2622 - accuracy: 0.9678 - val_loss: 0.2746 - val_accuracy: 0.9591\n",
      "Epoch 3/10\n",
      "469/469 [==============================] - 19s 40ms/step - loss: 0.2068 - accuracy: 0.9772 - val_loss: 0.2154 - val_accuracy: 0.9705\n",
      "Epoch 4/10\n",
      "469/469 [==============================] - 18s 38ms/step - loss: 0.1771 - accuracy: 0.9810 - val_loss: 0.1953 - val_accuracy: 0.9738\n",
      "Epoch 5/10\n",
      "469/469 [==============================] - 19s 41ms/step - loss: 0.1533 - accuracy: 0.9844 - val_loss: 0.1838 - val_accuracy: 0.9743\n",
      "Epoch 6/10\n",
      "469/469 [==============================] - 18s 39ms/step - loss: 0.1324 - accuracy: 0.9873 - val_loss: 0.1775 - val_accuracy: 0.9738\n",
      "Epoch 7/10\n",
      "469/469 [==============================] - 19s 40ms/step - loss: 0.1229 - accuracy: 0.9876 - val_loss: 0.1824 - val_accuracy: 0.9706\n",
      "Epoch 8/10\n",
      "469/469 [==============================] - 18s 38ms/step - loss: 0.1147 - accuracy: 0.9886 - val_loss: 0.1796 - val_accuracy: 0.9730\n",
      "Epoch 9/10\n",
      "469/469 [==============================] - 19s 40ms/step - loss: 0.1137 - accuracy: 0.9879 - val_loss: 0.1966 - val_accuracy: 0.9687\n",
      "Epoch 10/10\n",
      "469/469 [==============================] - 20s 42ms/step - loss: 0.1063 - accuracy: 0.9897 - val_loss: 0.1546 - val_accuracy: 0.9759\n"
     ]
    }
   ],
   "source": [
    "model.compile(loss='categorical_crossentropy', optimizer='adam', metrics=['accuracy'])\n",
    "\n",
    "trained_model_5d = model.fit(x_train, y_train, epochs=epochs, batch_size=batch_size, validation_data=(x_test, y_test))"
   ]
  },
  {
   "cell_type": "code",
   "execution_count": 7,
   "metadata": {},
   "outputs": [],
   "source": [
    "model = Sequential([\n",
    " Flatten(input_shape=x_train[0].shape),\n",
    " Dense(500, activation='relu',  kernel_regularizer=regularizers.l1(0.0001)),\n",
    " Dense(500, activation='relu',  kernel_regularizer=regularizers.l1(0.0001)),\n",
    " Dense(500, activation='relu',  kernel_regularizer=regularizers.l1(0.0001)),\n",
    " Dense(500, activation='relu',  kernel_regularizer=regularizers.l1(0.0001)),\n",
    " Dense(500, activation='relu',  kernel_regularizer=regularizers.l1(0.0001)),\n",
    " Dense(10, activation='softmax'),\n",
    " ])"
   ]
  },
  {
   "cell_type": "code",
   "execution_count": 8,
   "metadata": {},
   "outputs": [
    {
     "name": "stdout",
     "output_type": "stream",
     "text": [
      "Epoch 1/10\n",
      "469/469 [==============================] - 21s 40ms/step - loss: 3.2173 - accuracy: 0.8363 - val_loss: 1.0726 - val_accuracy: 0.9535\n",
      "Epoch 2/10\n",
      "469/469 [==============================] - 18s 39ms/step - loss: 0.9223 - accuracy: 0.9515 - val_loss: 0.5759 - val_accuracy: 0.9605\n",
      "Epoch 3/10\n",
      "469/469 [==============================] - 18s 38ms/step - loss: 0.5224 - accuracy: 0.9640 - val_loss: 0.4503 - val_accuracy: 0.9511\n",
      "Epoch 4/10\n",
      "469/469 [==============================] - 18s 38ms/step - loss: 0.3823 - accuracy: 0.9703 - val_loss: 0.3277 - val_accuracy: 0.9751\n",
      "Epoch 5/10\n",
      "469/469 [==============================] - 19s 40ms/step - loss: 0.3105 - accuracy: 0.9758 - val_loss: 0.3251 - val_accuracy: 0.9629\n",
      "Epoch 6/10\n",
      "469/469 [==============================] - 18s 38ms/step - loss: 0.2816 - accuracy: 0.9750 - val_loss: 0.2717 - val_accuracy: 0.9735\n",
      "Epoch 7/10\n",
      "469/469 [==============================] - 18s 38ms/step - loss: 0.2530 - accuracy: 0.9799 - val_loss: 0.2747 - val_accuracy: 0.9690\n",
      "Epoch 8/10\n",
      "469/469 [==============================] - 18s 38ms/step - loss: 0.2409 - accuracy: 0.9791 - val_loss: 0.2551 - val_accuracy: 0.9728\n",
      "Epoch 9/10\n",
      "469/469 [==============================] - 18s 39ms/step - loss: 0.2216 - accuracy: 0.9827 - val_loss: 0.2528 - val_accuracy: 0.9696\n",
      "Epoch 10/10\n",
      "469/469 [==============================] - 19s 39ms/step - loss: 0.2150 - accuracy: 0.9830 - val_loss: 0.2687 - val_accuracy: 0.9635\n"
     ]
    }
   ],
   "source": [
    "model.compile(loss='categorical_crossentropy', optimizer='adam', metrics=['accuracy'])\n",
    "trained_model_5d = model.fit(x_train, y_train, epochs=epochs, batch_size=batch_size, validation_data=(x_test, y_test))"
   ]
  },
  {
   "cell_type": "code",
   "execution_count": 10,
   "metadata": {},
   "outputs": [],
   "source": [
    "from keras.layers.core import Dropout\n",
    "model = Sequential([\n",
    " Flatten(input_shape=x_train[0].shape),\n",
    " Dense(500, activation='relu'),\n",
    " Dropout(0.25),\n",
    " Dense(500, activation='relu'),\n",
    " Dropout(0.25),\n",
    " Dense(500, activation='relu'),\n",
    " Dropout(0.25),\n",
    " Dense(500, activation='relu'),\n",
    " Dropout(0.25),\n",
    " Dense(500, activation='relu'),\n",
    " Dropout(0.25),\n",
    " Dense(10, activation='softmax'),\n",
    " ])\n"
   ]
  },
  {
   "cell_type": "code",
   "execution_count": 12,
   "metadata": {},
   "outputs": [
    {
     "name": "stdout",
     "output_type": "stream",
     "text": [
      "Epoch 1/10\n",
      "469/469 [==============================] - 24s 48ms/step - loss: 0.0448 - accuracy: 0.9879 - val_loss: 0.0982 - val_accuracy: 0.9779\n",
      "Epoch 2/10\n",
      "469/469 [==============================] - 21s 44ms/step - loss: 0.0364 - accuracy: 0.9893 - val_loss: 0.0954 - val_accuracy: 0.9796\n",
      "Epoch 3/10\n",
      "469/469 [==============================] - 19s 41ms/step - loss: 0.0395 - accuracy: 0.9890 - val_loss: 0.0999 - val_accuracy: 0.9784\n",
      "Epoch 4/10\n",
      "469/469 [==============================] - 19s 41ms/step - loss: 0.0415 - accuracy: 0.9887 - val_loss: 0.0964 - val_accuracy: 0.9786\n",
      "Epoch 5/10\n",
      "469/469 [==============================] - 19s 41ms/step - loss: 0.0322 - accuracy: 0.9903 - val_loss: 0.0924 - val_accuracy: 0.9776\n",
      "Epoch 6/10\n",
      "469/469 [==============================] - 20s 42ms/step - loss: 0.0288 - accuracy: 0.9920 - val_loss: 0.0996 - val_accuracy: 0.9805\n",
      "Epoch 7/10\n",
      "469/469 [==============================] - 19s 42ms/step - loss: 0.0326 - accuracy: 0.9907 - val_loss: 0.1151 - val_accuracy: 0.9787\n",
      "Epoch 8/10\n",
      "469/469 [==============================] - 18s 39ms/step - loss: 0.0268 - accuracy: 0.9927 - val_loss: 0.1266 - val_accuracy: 0.9799\n",
      "Epoch 9/10\n",
      "469/469 [==============================] - 18s 39ms/step - loss: 0.0317 - accuracy: 0.9911 - val_loss: 0.1111 - val_accuracy: 0.9808\n",
      "Epoch 10/10\n",
      "469/469 [==============================] - 18s 39ms/step - loss: 0.0270 - accuracy: 0.9925 - val_loss: 0.1123 - val_accuracy: 0.9800\n"
     ]
    }
   ],
   "source": [
    "model.compile(loss='categorical_crossentropy', optimizer='adam', metrics=['accuracy'])\n",
    "trained_model_5d = model.fit(x_train, y_train, epochs=epochs, batch_size=batch_size, validation_data=(x_test, y_test))"
   ]
  },
  {
   "cell_type": "code",
   "execution_count": 13,
   "metadata": {},
   "outputs": [
    {
     "name": "stdout",
     "output_type": "stream",
     "text": [
      "Epoch 1/10\n",
      "469/469 [==============================] - 23s 44ms/step - loss: 0.0298 - accuracy: 0.9938 - val_loss: 0.1288 - val_accuracy: 0.9793\n",
      "Epoch 2/10\n",
      "469/469 [==============================] - 22s 47ms/step - loss: 0.0305 - accuracy: 0.9922 - val_loss: 0.1228 - val_accuracy: 0.9791\n",
      "Epoch 3/10\n",
      "469/469 [==============================] - 20s 42ms/step - loss: 0.0273 - accuracy: 0.9932 - val_loss: 0.1056 - val_accuracy: 0.9792\n"
     ]
    }
   ],
   "source": [
    "from keras.callbacks import EarlyStopping\n",
    "model.compile(loss='categorical_crossentropy', optimizer='adam', metrics=['accuracy'])\n",
    "trained_model_5d = model.fit(x_train, y_train, epochs=epochs, batch_size=batch_size, validation_data=(x_test, y_test)\n",
    " , callbacks = [EarlyStopping(monitor='val_accuracy', patience=2)])"
   ]
  },
  {
   "cell_type": "code",
   "execution_count": null,
   "metadata": {},
   "outputs": [],
   "source": []
  }
 ],
 "metadata": {
  "kernelspec": {
   "display_name": "Python 3",
   "language": "python",
   "name": "python3"
  },
  "language_info": {
   "codemirror_mode": {
    "name": "ipython",
    "version": 3
   },
   "file_extension": ".py",
   "mimetype": "text/x-python",
   "name": "python",
   "nbconvert_exporter": "python",
   "pygments_lexer": "ipython3",
   "version": "3.7.3"
  }
 },
 "nbformat": 4,
 "nbformat_minor": 2
}
