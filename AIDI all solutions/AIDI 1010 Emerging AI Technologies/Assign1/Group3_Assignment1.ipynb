{
  "nbformat": 4,
  "nbformat_minor": 0,
  "metadata": {
    "colab": {
      "provenance": []
    },
    "kernelspec": {
      "name": "python3",
      "display_name": "Python 3"
    },
    "language_info": {
      "name": "python"
    }
  },
  "cells": [
    {
      "cell_type": "markdown",
      "source": [
        "#**1) Definition**"
      ],
      "metadata": {
        "id": "wymLBqWZl5wJ"
      }
    },
    {
      "cell_type": "markdown",
      "source": [
        "##**Problem Statement**"
      ],
      "metadata": {
        "id": "aZeRuIxnl--A"
      }
    },
    {
      "cell_type": "markdown",
      "source": [
        "###**How detailed is your problem statement?**"
      ],
      "metadata": {
        "id": "3GTgVAghmquH"
      }
    },
    {
      "cell_type": "markdown",
      "source": [
        "###**Does it cover all components of a “regular” problem statement?**"
      ],
      "metadata": {
        "id": "HmrOUUcNm-zE"
      }
    },
    {
      "cell_type": "markdown",
      "source": [
        "###**Does it have a focused scope?**"
      ],
      "metadata": {
        "id": "ZZvwm6V6nDJz"
      }
    },
    {
      "cell_type": "markdown",
      "source": [
        "###**Break down your problem statement into different chunks and explained thoroughly.**"
      ],
      "metadata": {
        "id": "rk0edA2JnRcZ"
      }
    },
    {
      "cell_type": "markdown",
      "source": [
        "#**2) Research**"
      ],
      "metadata": {
        "id": "Nzt0C68znb49"
      }
    },
    {
      "cell_type": "markdown",
      "source": [
        "##**Machine Learning Prediction & Outcomes**"
      ],
      "metadata": {
        "id": "KNZq7uNrneyr"
      }
    },
    {
      "cell_type": "markdown",
      "source": [
        "###**Did your research papers’ predictions match with expectation?**"
      ],
      "metadata": {
        "id": "5Uy7n7z6nx2_"
      }
    },
    {
      "cell_type": "markdown",
      "source": [
        "###**Which algorithm did they use? Why? What were the results?**"
      ],
      "metadata": {
        "id": "JRn0l_Ttn1P-"
      }
    },
    {
      "cell_type": "markdown",
      "source": [
        "###**How did the research papers inspire you to craft your hypothesis?**"
      ],
      "metadata": {
        "id": "EvcCPPCgn9QJ"
      }
    },
    {
      "cell_type": "markdown",
      "source": [
        "#**3) Hypothesis/Proposal**"
      ],
      "metadata": {
        "id": "lazGRgVuoMBD"
      }
    },
    {
      "cell_type": "markdown",
      "source": [
        "##**Machine Learning Solution**"
      ],
      "metadata": {
        "id": "aUuUpmiOoYwM"
      }
    },
    {
      "cell_type": "markdown",
      "source": [
        "###**How different or similar is your approach as compared to your research papers?**"
      ],
      "metadata": {
        "id": "WDRYrZdcoa8i"
      }
    },
    {
      "cell_type": "markdown",
      "source": [
        "###**What algorithm are you proposing to use?**"
      ],
      "metadata": {
        "id": "DDr0nMGXof7M"
      }
    },
    {
      "cell_type": "markdown",
      "source": [
        "###**Why?**"
      ],
      "metadata": {
        "id": "t_j5_ejFou3M"
      }
    },
    {
      "cell_type": "markdown",
      "source": [
        "###**What would be the results?**"
      ],
      "metadata": {
        "id": "_NOte92No3ek"
      }
    },
    {
      "cell_type": "markdown",
      "source": [
        "#**4) Citation**"
      ],
      "metadata": {
        "id": "QfgW9DCdo-Ko"
      }
    },
    {
      "cell_type": "markdown",
      "source": [
        "##**References**"
      ],
      "metadata": {
        "id": "3ZCQg_aDpB0Y"
      }
    },
    {
      "cell_type": "markdown",
      "source": [
        "###**Are all the links provided?**"
      ],
      "metadata": {
        "id": "O_P4Fxv8pGvd"
      }
    }
  ]
}