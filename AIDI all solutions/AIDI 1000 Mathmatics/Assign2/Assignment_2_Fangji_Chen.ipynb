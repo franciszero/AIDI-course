{
 "cells": [
  {
   "cell_type": "markdown",
   "id": "f624450a",
   "metadata": {},
   "source": [
    "# Question 1. \n",
    "\n",
    "(25 points) \n",
    "\n",
    "There are three types of coins which have different probabilities of landing heads when tossed:\n",
    "\n",
    "– Type A coins are fair, with probability 0.5 of heads\n",
    "\n",
    "– Type B coins are bent and have probability 0.6 of heads\n",
    "\n",
    "– Type C coins are bent and have probability 0.9 of heads\n",
    "\n",
    "Suppose I have a drawer containing 5 coins: 2 of type A, 2 of type B, and 1 of type C. I reach into the drawer and pick a coin at random. Without showing you the coin I flip it once and get heads (i.e. event D). What is the probability it is \n",
    "\n",
    "- type A (i.e. $P(H = A|D)$)? \n",
    "\n",
    "- Type B (i.e. $P(H = B|D)$)? \n",
    "\n",
    "- Type C (i.e. $P(H =C|D)$)? \n",
    "\n",
    "Fill out table below with your answers."
   ]
  },
  {
   "cell_type": "markdown",
   "id": "8126b647",
   "metadata": {},
   "source": [
    "***\n",
    "\n",
    "**`Answer`**\n",
    "\n",
    "`Step1:prior knowleges`\n",
    "\n",
    "Fill out what we already know about the prior knowledges\n",
    "\n",
    "| hypothesis | prior | likelihood | posterior |\n",
    "| :- | -: |  -: | :-: |\n",
    "| H | P(H) | P(D\\|H) | P(H\\|D)\n",
    "| A | 0.5\n",
    "| B | 0.6\n",
    "| C | 0.9\n",
    "\n",
    "***"
   ]
  },
  {
   "cell_type": "markdown",
   "id": "0399423a",
   "metadata": {},
   "source": [
    "***\n",
    "\n",
    "**`Answer`**\n",
    "\n",
    "`Step2: Calculate the likelyhood`\n",
    "\n",
    "\n",
    "\n",
    "$\\because P(D|H) = P$\n",
    "\n",
    "| hypothesis | prior | likelihood | posterior |\n",
    "| :- | -: |  -: | :-: |\n",
    "| H | P(H) | P(D\\|H) | P(H\\|D)\n",
    "| A | 0.5\n",
    "| B | 0.6\n",
    "| C | 0.9\n",
    "\n",
    "***"
   ]
  },
  {
   "cell_type": "markdown",
   "id": "ee22521f",
   "metadata": {},
   "source": []
  },
  {
   "cell_type": "code",
   "execution_count": null,
   "id": "8279d042",
   "metadata": {},
   "outputs": [],
   "source": []
  }
 ],
 "metadata": {
  "kernelspec": {
   "display_name": "Python 3 (ipykernel)",
   "language": "python",
   "name": "python3"
  },
  "language_info": {
   "codemirror_mode": {
    "name": "ipython",
    "version": 3
   },
   "file_extension": ".py",
   "mimetype": "text/x-python",
   "name": "python",
   "nbconvert_exporter": "python",
   "pygments_lexer": "ipython3",
   "version": "3.8.12"
  }
 },
 "nbformat": 4,
 "nbformat_minor": 5
}
