{
  "cells": [
    {
      "cell_type": "markdown",
      "id": "1adb6868",
      "metadata": {
        "id": "1adb6868"
      },
      "source": [
        "# Project: Exploratory Data Analysis on Seattle Airbnb Data\n",
        "### Project Due on 3rd April, 11:30 pm EST\n",
        "\n",
        "#### Context\n",
        "Since 2008, guests and hosts have used Airbnb to travel in a more unique, personalized way. As part of the Airbnb Inside initiative, this dataset describes the listing activity of homestays in Seattle, WA.\n",
        "\n",
        "#### Content\n",
        "The following Airbnb data is included in this Seattle dataset:\n",
        "- Listings, including full descriptions and average review score\n",
        "- Reviews, including unique id for each reviewer and detailed comments\n",
        "- Calendar, including listing id and the price and availability for that day\n",
        "\n",
        "**To get the dataset click [here](https://georgiancollege-my.sharepoint.com/:f:/g/personal/katie_tiwari_georgiancollege_ca/Eh6hG8jQX_FBvU_pk5R5wZwB_xn5gS2eBE1vWQ_DmaH1kQ?e=evqomn)**\n",
        "\n",
        "#### Inspiration for questions\n",
        "- Can you describe the vibe of each Seattle neighborhood using listing descriptions?\n",
        "  - What are the busiest times of the year to visit Seattle? By how much do prices spike?\n",
        "- Is there a general upward trend of both new Airbnb listings and total Airbnb visitors to Seattle?\n",
        "\n",
        "#### **Note:** Don't discuss the results, limitations, conclusion, reasons as comment in the code cell. Use separate markdown cells instead. If you are not familier with markdown, refer this [link here](https://www.datacamp.com/community/tutorials/markdown-in-jupyter-notebook). Only add code related comments as comment in the code cell. Also Make sure to add comments in the code.\n",
        "\n",
        "## Table of Contents\n",
        "<ul>\n",
        "<li><a href=\"#intro\">Introduction</a></li>\n",
        "<li><a href=\"#wrangling\">Data Wrangling</a></li>\n",
        "<li><a href=\"#eda\">Exploratory Data Analysis</a></li>\n",
        "<li><a href=\"#conclusions\">Conclusions</a></li>\n",
        "</ul>"
      ]
    },
    {
      "cell_type": "markdown",
      "id": "26a4ee08",
      "metadata": {
        "id": "26a4ee08"
      },
      "source": [
        "<a id='intro'></a>\n",
        "## Introduction\n",
        "\n",
        "> In this section of the report, provide a brief introduction to the dataset you've selected for analysis. \n",
        "\n",
        "- Create atleast three complex and meaningful questions(refer inspiration questions to get an idea), then address those questions in the rest of the analysis. If you're not sure what questions to ask, then make sure you familiarize yourself with the dataset, its variables and the dataset context for ideas of what to explore.\n",
        "- **Include the 3 research questions here**\n",
        "\n"
      ]
    },
    {
      "cell_type": "code",
      "execution_count": 1,
      "id": "adc23424",
      "metadata": {
        "id": "adc23424"
      },
      "outputs": [],
      "source": [
        "# Use this, and more code cells, to explore your data. Don't forget to add markdown cells to document your observations and findings.\n"
      ]
    },
    {
      "cell_type": "code",
      "execution_count": 1,
      "id": "1833c1ee",
      "metadata": {
        "id": "1833c1ee"
      },
      "outputs": [],
      "source": [
        ""
      ]
    },
    {
      "cell_type": "markdown",
      "id": "beabf01f",
      "metadata": {
        "id": "beabf01f"
      },
      "source": [
        "<a id='wrangling'></a>\n",
        "## Data Wrangling\n",
        "\n",
        "> In this section of the report, you will load in the data, check for cleanliness, merging multiple files, printing some rows of the data in output, handling missing values, duplicat values, outliers etc. and then trim and clean your dataset for analysis. Make sure that you document your steps carefully and privde the reasoning for every decision taken."
      ]
    },
    {
      "cell_type": "code",
      "execution_count": 2,
      "id": "f94805e9",
      "metadata": {
        "id": "f94805e9"
      },
      "outputs": [],
      "source": [
        "# Use this, and more code cells, to explore your data. Don't forget to add markdown cells to document your observations and findings. \n"
      ]
    },
    {
      "cell_type": "code",
      "execution_count": 2,
      "id": "10ef5005",
      "metadata": {
        "id": "10ef5005"
      },
      "outputs": [],
      "source": [
        ""
      ]
    },
    {
      "cell_type": "markdown",
      "id": "0a4a23c6",
      "metadata": {
        "id": "0a4a23c6"
      },
      "source": [
        "<a id='eda'></a>\n",
        "## Exploratory Data Analysis\n",
        "\n",
        "> Now you're ready to move on to exploration. Compute statistics and create visualizations with the goal of addressing the research questions that you posed in the Introduction section. Look at one variable at a time, and then follow it up by looking at relationships between variables.\n",
        "\n",
        "- The EDA should include both single-variable (1d) and multiple-variable (2d) explorations. \n",
        "- The project's visualizations should be varied and show multiple comparisons and trends. At least three kinds of plots(eg. histogram, box plot, line plot, bar plot, etc) should be created as part of the explorations.\n",
        "- Please make sure reasoning is provided for each analysis decision, plot, and statistical summary.\n",
        "- Visualizations made in the notebook, should depict the data in an appropriate manner (i.e., has appropriate axis labels, scale, legends, and title) that allows plots to be readily interpreted.\n",
        "\n",
        "### Research Question 1 (Replace this header name with Q1!)"
      ]
    },
    {
      "cell_type": "code",
      "execution_count": 3,
      "id": "9d22dc89",
      "metadata": {
        "id": "9d22dc89"
      },
      "outputs": [],
      "source": [
        "# Use this, and more code cells, to explore your data. Don't forget to add markdown cells to document your observations and findings.\n"
      ]
    },
    {
      "cell_type": "markdown",
      "id": "355e22cc",
      "metadata": {
        "id": "355e22cc"
      },
      "source": [
        "### Research Question 2  (Replace this header name with Q2!)"
      ]
    },
    {
      "cell_type": "code",
      "execution_count": 3,
      "id": "6f0f4aca",
      "metadata": {
        "id": "6f0f4aca"
      },
      "outputs": [],
      "source": [
        ""
      ]
    },
    {
      "cell_type": "markdown",
      "id": "fa519840",
      "metadata": {
        "id": "fa519840"
      },
      "source": [
        "### Research Question 3  (Replace this header name with Q3!)"
      ]
    },
    {
      "cell_type": "code",
      "execution_count": 3,
      "id": "78e9dadc",
      "metadata": {
        "id": "78e9dadc"
      },
      "outputs": [],
      "source": [
        ""
      ]
    },
    {
      "cell_type": "markdown",
      "id": "19ce85ed",
      "metadata": {
        "id": "19ce85ed"
      },
      "source": [
        "<a id='conclusions'></a>\n",
        "## Conclusions\n",
        "\n",
        "> At the end, summarize your findings and the results that have been performed. \n",
        "- The Conclusion should reflect on the steps taken during the data exploration, summarize the main findings in relation to the questions provided at the beginning of the analysis accurately.\n",
        "- The conclusion points out where additional research can be done or where additional information could be useful and **should have at least 1 limitation explained clearly.**\n",
        "- The analysis should not state or imply that one change causes another based solely on a correlation. You can refer to this video on [Correlation does not mean Causation](https://youtu.be/VMUQSMFGBDo)\n"
      ]
    },
    {
      "cell_type": "code",
      "execution_count": 3,
      "id": "e0b59e2b",
      "metadata": {
        "id": "e0b59e2b"
      },
      "outputs": [],
      "source": [
        ""
      ]
    }
  ],
  "metadata": {
    "colab": {
      "collapsed_sections": [],
      "name": "Project_Seattle_EDA.ipynb",
      "provenance": []
    },
    "kernelspec": {
      "display_name": "Python 3 (ipykernel)",
      "language": "python",
      "name": "python3"
    },
    "language_info": {
      "codemirror_mode": {
        "name": "ipython",
        "version": 3
      },
      "file_extension": ".py",
      "mimetype": "text/x-python",
      "name": "python",
      "nbconvert_exporter": "python",
      "pygments_lexer": "ipython3",
      "version": "3.8.6"
    }
  },
  "nbformat": 4,
  "nbformat_minor": 5
}