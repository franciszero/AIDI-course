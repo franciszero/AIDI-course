{
 "cells": [
  {
   "cell_type": "code",
   "execution_count": 3,
   "id": "6eadcc20",
   "metadata": {},
   "outputs": [],
   "source": [
    "import pickle"
   ]
  },
  {
   "cell_type": "code",
   "execution_count": 4,
   "id": "17973946",
   "metadata": {},
   "outputs": [],
   "source": [
    "file=\"/Users/francis/Downloads/cifar-10-batches-py/data_batch_1\""
   ]
  },
  {
   "cell_type": "code",
   "execution_count": 5,
   "id": "6ce09c65",
   "metadata": {},
   "outputs": [],
   "source": [
    "def unpickle(file):\n",
    "    with open(file, 'rb') as fo:\n",
    "        dict = pickle.load(fo, encoding='bytes')\n",
    "    return dict"
   ]
  },
  {
   "cell_type": "code",
   "execution_count": 39,
   "id": "69275ba3",
   "metadata": {},
   "outputs": [],
   "source": [
    "d = unpickle(file)"
   ]
  },
  {
   "cell_type": "code",
   "execution_count": 40,
   "id": "50f912ba",
   "metadata": {},
   "outputs": [
    {
     "data": {
      "text/plain": [
       "dict_keys([b'batch_label', b'labels', b'data', b'filenames'])"
      ]
     },
     "execution_count": 40,
     "metadata": {},
     "output_type": "execute_result"
    }
   ],
   "source": [
    "d.keys()"
   ]
  },
  {
   "cell_type": "code",
   "execution_count": null,
   "id": "69d63925",
   "metadata": {},
   "outputs": [],
   "source": []
  },
  {
   "cell_type": "code",
   "execution_count": 34,
   "id": "8ad9a95e",
   "metadata": {},
   "outputs": [],
   "source": [
    "import numpy as np\n",
    "from PIL import Image\n",
    "\n",
    "# Make random 28x28 RGB image\n",
    "img =np.random.randint(0,256,(50,100,3), dtype=np.uint8)\n",
    "\n",
    "# Convert to PIL Image\n",
    "pImg=Image.fromarray(img, mode='RGB')"
   ]
  },
  {
   "cell_type": "code",
   "execution_count": 35,
   "id": "80096190",
   "metadata": {},
   "outputs": [
    {
     "data": {
      "text/plain": [
       "50"
      ]
     },
     "execution_count": 35,
     "metadata": {},
     "output_type": "execute_result"
    }
   ],
   "source": [
    "len(img)"
   ]
  },
  {
   "cell_type": "code",
   "execution_count": 36,
   "id": "00c639c0",
   "metadata": {},
   "outputs": [],
   "source": [
    "pImg.show()"
   ]
  },
  {
   "cell_type": "code",
   "execution_count": 8,
   "id": "e98581bf",
   "metadata": {},
   "outputs": [],
   "source": [
    "pImg.save('123456.png')"
   ]
  },
  {
   "cell_type": "code",
   "execution_count": null,
   "id": "944122db",
   "metadata": {},
   "outputs": [],
   "source": []
  }
 ],
 "metadata": {
  "kernelspec": {
   "display_name": "Python 3 (ipykernel)",
   "language": "python",
   "name": "python3"
  },
  "language_info": {
   "codemirror_mode": {
    "name": "ipython",
    "version": 3
   },
   "file_extension": ".py",
   "mimetype": "text/x-python",
   "name": "python",
   "nbconvert_exporter": "python",
   "pygments_lexer": "ipython3",
   "version": "3.8.12"
  }
 },
 "nbformat": 4,
 "nbformat_minor": 5
}
