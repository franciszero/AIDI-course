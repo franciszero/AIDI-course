{
  "nbformat": 4,
  "nbformat_minor": 0,
  "metadata": {
    "colab": {
      "name": "Module-1-Lab-space-shuttle-class.ipynb",
      "provenance": [],
      "collapsed_sections": []
    },
    "kernelspec": {
      "name": "python3",
      "display_name": "Python 3"
    },
    "language_info": {
      "name": "python"
    }
  },
  "cells": [
    {
      "cell_type": "markdown",
      "metadata": {
        "id": "mJM2fvmfH3O6"
      },
      "source": [
        "Time-series forecasting and prediction on tabular data using PyTorch. Supports Jetson Nano, TX1/TX2, AGX Xavier, and Xavier NX."
      ]
    },
    {
      "cell_type": "markdown",
      "metadata": {
        "id": "1HosD5F8-OSY"
      },
      "source": [
        "# Space Shuttle Classification\n",
        "\n",
        "This classification [dataset](https://archive.ics.uci.edu/ml/datasets/Statlog+%28Shuttle%29) from the UCI Machine Learning Repository contains the values from 9 sensors and has 7 state classes:"
      ]
    },
    {
      "cell_type": "code",
      "metadata": {
        "id": "4nO86kl6__iQ"
      },
      "source": [
        "class distribution:\n",
        "  [0] 'Rad Flow' - 45586 samples\n",
        "  [1] 'Fpv Close' - 50 samples\n",
        "  [2] 'Fpv Open' - 171 sampless\n",
        "  [3] 'High' - 8903 samples\n",
        "  [4] 'Bypass' - 3267 samples\n",
        "  [5] 'Bpv Close' - 10 samples\n",
        "  [6] 'Bpv Open' - 13 samples\n",
        "\n",
        "total:  58000 samples\n"
      ],
      "execution_count": null,
      "outputs": []
    },
    {
      "cell_type": "markdown",
      "metadata": {
        "id": "FKmCV1Jl_-To"
      },
      "source": [
        "The goal is to predict the state of the system from the current sensor data. Given the unbalanced distribution of data between the classes, this example is akin to anomoly detection."
      ]
    },
    {
      "cell_type": "markdown",
      "metadata": {
        "id": "ofwee72jIS6v"
      },
      "source": [
        "# Getting Started\n",
        "\n",
        "## Software Requirement\n",
        "\n",
        "- PyTorch\n",
        "- CUDA"
      ]
    },
    {
      "cell_type": "markdown",
      "metadata": {
        "id": "QxqN1ZrQC_WD"
      },
      "source": [
        "## Starting the container"
      ]
    },
    {
      "cell_type": "code",
      "metadata": {
        "id": "v82J7ZKbHUIq"
      },
      "source": [
        "!git clone https://github.com/dusty-nv/pytorch-timeseries"
      ],
      "execution_count": null,
      "outputs": []
    },
    {
      "cell_type": "code",
      "metadata": {
        "id": "XmP83rkOIqtQ"
      },
      "source": [
        "cd pytorch-timeseries"
      ],
      "execution_count": null,
      "outputs": []
    },
    {
      "cell_type": "code",
      "metadata": {
        "id": "1jljLeJAIqzf"
      },
      "source": [
        "!docker/run.sh"
      ],
      "execution_count": null,
      "outputs": []
    },
    {
      "cell_type": "code",
      "metadata": {
        "id": "BhmpEJcyIq5Q"
      },
      "source": [
        "cd pytorch-timeseries"
      ],
      "execution_count": null,
      "outputs": []
    },
    {
      "cell_type": "markdown",
      "metadata": {
        "id": "96sgPeu5HmgE"
      },
      "source": [
        "# Running the training script\n",
        "\n",
        "Train.py allows you to:\n",
        "\n",
        "- pick any number of inputs / outputs\n",
        "- support both regression and classification\n",
        "- easily change the model\n",
        "- automatic plotting"
      ]
    },
    {
      "cell_type": "code",
      "metadata": {
        "id": "-wcE7aOXAWKs"
      },
      "source": [
        "!python3 train.py --data data/shuttle.csv --inputs 0,1,2,3,4,5,6,7,8 --outputs class --classification --epochs 100\n"
      ],
      "execution_count": null,
      "outputs": []
    },
    {
      "cell_type": "markdown",
      "metadata": {
        "id": "SxPwczd4_QjB"
      },
      "source": [
        "# Notes\n",
        "\n",
        "* We provide the model files for GRU RNN model and linear model in this repo.Please check the model files in ../models/ "
      ]
    },
    {
      "cell_type": "markdown",
      "metadata": {
        "id": "cqrWXApH_W7Q"
      },
      "source": [
        "# What's next?\n",
        "\n",
        "* For the lab exercise, we encourage you to source\n",
        "your own data, prepare it, and then make a model with train.py.   \n",
        "\n",
        "* Datasets typically require a little preparation, you can see those\n",
        "scripts here:\n",
        "\n",
        "  https://github.com/dusty-nv/pytorch-timeseries/tree/main/scripts"
      ]
    },
    {
      "cell_type": "code",
      "metadata": {
        "id": "90tcBM6eCjVB"
      },
      "source": [
        ""
      ],
      "execution_count": null,
      "outputs": []
    }
  ]
}