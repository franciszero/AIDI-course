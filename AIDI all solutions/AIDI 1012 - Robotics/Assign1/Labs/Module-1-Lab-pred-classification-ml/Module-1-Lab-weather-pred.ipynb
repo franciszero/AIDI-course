{
  "nbformat": 4,
  "nbformat_minor": 0,
  "metadata": {
    "colab": {
      "name": "Module-1-Lab-weather-pred.ipynb",
      "provenance": [],
      "collapsed_sections": []
    },
    "kernelspec": {
      "name": "python3",
      "display_name": "Python 3"
    },
    "language_info": {
      "name": "python"
    }
  },
  "cells": [
    {
      "cell_type": "markdown",
      "metadata": {
        "id": "mJM2fvmfH3O6"
      },
      "source": [
        "Time-series forecasting and prediction on tabular data using PyTorch. Supports Jetson Nano, TX1/TX2, AGX Xavier, and Xavier NX."
      ]
    },
    {
      "cell_type": "markdown",
      "metadata": {
        "id": "UQ7-ofW6IwXS"
      },
      "source": [
        "# Weather Forecasting\n",
        "\n",
        "In this hourly [weather dataset](https://www.kaggle.com/selfishgene/historical-hourly-weather-data), we are forecasting the future weather of a city based on it's past weather. The following data is provided on 1-hour intervals (over a timespan of 40,000 hours):\n",
        "\n",
        "- temperature\n",
        "- humidity\n",
        "- pressure\n",
        "- wind_direction\n",
        "- wind_speed\n",
        "\n"
      ]
    },
    {
      "cell_type": "markdown",
      "metadata": {
        "id": "ofwee72jIS6v"
      },
      "source": [
        "# Getting Started\n",
        "\n",
        "## Software Requirement\n",
        "\n",
        "- PyTorch\n",
        "- CUDA"
      ]
    },
    {
      "cell_type": "markdown",
      "metadata": {
        "id": "QxqN1ZrQC_WD"
      },
      "source": [
        "## Starting the container"
      ]
    },
    {
      "cell_type": "code",
      "metadata": {
        "id": "v82J7ZKbHUIq"
      },
      "source": [
        "!git clone https://github.com/dusty-nv/pytorch-timeseries"
      ],
      "execution_count": null,
      "outputs": []
    },
    {
      "cell_type": "code",
      "metadata": {
        "id": "XmP83rkOIqtQ"
      },
      "source": [
        "cd pytorch-timeseries"
      ],
      "execution_count": null,
      "outputs": []
    },
    {
      "cell_type": "code",
      "metadata": {
        "id": "1jljLeJAIqzf"
      },
      "source": [
        "!docker/run.sh"
      ],
      "execution_count": null,
      "outputs": []
    },
    {
      "cell_type": "code",
      "metadata": {
        "id": "BhmpEJcyIq5Q"
      },
      "source": [
        "cd pytorch-timeseries"
      ],
      "execution_count": null,
      "outputs": []
    },
    {
      "cell_type": "markdown",
      "metadata": {
        "id": "96sgPeu5HmgE"
      },
      "source": [
        "# Running the training script\n",
        "\n",
        "Train.py allows you to:\n",
        "\n",
        "- pick any number of inputs / outputs\n",
        "- support both regression and classification\n",
        "- easily change the model\n",
        "- automatic plotting"
      ]
    },
    {
      "cell_type": "markdown",
      "metadata": {
        "id": "dYJCZoUQJOnH"
      },
      "source": [
        "Let's start by forecasting just the temperature:"
      ]
    },
    {
      "cell_type": "code",
      "metadata": {
        "id": "-1s8hwvJHp0G"
      },
      "source": [
        "!python3 train.py --data data/weather.csv --inputs temperature --outputs temperature --horizon 1"
      ],
      "execution_count": null,
      "outputs": []
    },
    {
      "cell_type": "markdown",
      "metadata": {
        "id": "BfH7bJYtJP4a"
      },
      "source": [
        "Next we can incorporate multiple inputs/outputs and simultaneously predict the temperature, humidity, and barometric pressure:"
      ]
    },
    {
      "cell_type": "code",
      "metadata": {
        "id": "U7WDZ2QHJXq9"
      },
      "source": [
        "!python3 train.py --data data/weather.csv --inputs temperature,humidity,pressure --outputs temperature,humidity,pressure --horizon 1\n"
      ],
      "execution_count": null,
      "outputs": []
    },
    {
      "cell_type": "markdown",
      "metadata": {
        "id": "SxPwczd4_QjB"
      },
      "source": [
        "# Notes\n",
        "\n",
        "We provide the model files for GRU RNN model and linear model in this repo. Please check the model files in ../models/ "
      ]
    },
    {
      "cell_type": "markdown",
      "metadata": {
        "id": "cqrWXApH_W7Q"
      },
      "source": [
        "# What's next?\n",
        "\n",
        "* For the lab exercise, we encourage you to source\n",
        "your own data, prepare it, and then make a model with train.py.   \n",
        "\n",
        "* Datasets typically require a little preparation, you can see those\n",
        "scripts here:\n",
        "\n",
        "  https://github.com/dusty-nv/pytorch-timeseries/tree/main/scripts"
      ]
    },
    {
      "cell_type": "code",
      "metadata": {
        "id": "iQznGrf5CS1H"
      },
      "source": [
        ""
      ],
      "execution_count": null,
      "outputs": []
    }
  ]
}