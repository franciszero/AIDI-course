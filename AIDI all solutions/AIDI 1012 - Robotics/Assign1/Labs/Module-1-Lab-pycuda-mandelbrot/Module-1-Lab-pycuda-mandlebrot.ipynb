{
 "cells": [
  {
   "cell_type": "markdown",
   "metadata": {},
   "source": [
    "### Lab 1.4 AI Hardware and GPUs\n",
    "### Mandelbrot CPU\n",
    "This notebook shows you how to generate Mandelbrot using the CPU and in the second code blocks uses PyCuda to generate a Mandelbrot using the GPU.  \n"
   ]
  },
  {
   "cell_type": "code",
   "execution_count": 7,
   "metadata": {},
   "outputs": [
    {
     "name": "stdout",
     "output_type": "stream",
     "text": [
      "It took 120.47311854362488 seconds to calculate the Mandelbrot graph.\n",
      "It took 0.29725170135498047 seconds to dump the image.\n"
     ]
    },
    {
     "data": {
      "image/png": "[encoded data removed]",
      "text/plain": [
       "<matplotlib.figure.Figure at 0x7f8837ed68>"
      ]
     },
     "metadata": {
      "needs_background": "light"
     },
     "output_type": "display_data"
    }
   ],
   "source": [
    "#cpu\n",
    "from time import time\n",
    "%matplotlib inline\n",
    "#import matplotlib\n",
    "#this will prevent the figure from popping up\n",
    "#matplotlib.use('Agg')\n",
    "\n",
    "from matplotlib import pyplot as plt\n",
    "import numpy as np\n",
    "\n",
    "def simple_mandelbrot(width, height, real_low, real_high, imag_low, imag_high, max_iters, upper_bound):\n",
    "    \n",
    "    real_vals = np.linspace(real_low, real_high, width)\n",
    "    imag_vals = np.linspace(imag_low, imag_high, height)\n",
    "        \n",
    "    # we will represent members as 1, non-members as 0.\n",
    "    \n",
    "    mandelbrot_graph = np.ones((height,width), dtype=np.float32)\n",
    "    \n",
    "    for x in range(width):\n",
    "        \n",
    "        for y in range(height):\n",
    "            \n",
    "            c = np.complex64( real_vals[x] + imag_vals[y] * 1j  )            \n",
    "            z = np.complex64(0)\n",
    "            \n",
    "            for i in range(max_iters):\n",
    "                \n",
    "                z = z**2 + c\n",
    "                \n",
    "                if(np.abs(z) > upper_bound):\n",
    "                    mandelbrot_graph[y,x] = 0\n",
    "                    break\n",
    "                \n",
    "    return mandelbrot_graph\n",
    "\n",
    "\n",
    "if __name__ == '__main__':\n",
    "    \n",
    "    t1 = time()\n",
    "    mandel = simple_mandelbrot(512,512,-2,2,-2,2,256, 2.5)\n",
    "    t2 = time()\n",
    "    mandel_time = t2 - t1\n",
    "    \n",
    "    t1 = time()\n",
    "    fig = plt.figure(1)\n",
    "    plt.imshow(mandel, extent=(-2, 2, -2, 2))\n",
    "    plt.savefig('mandelbrot.png', dpi=fig.dpi)\n",
    "    t2 = time()\n",
    "    \n",
    "    dump_time = t2 - t1\n",
    "    \n",
    "    print('It took {} seconds to calculate the Mandelbrot graph.'.format(mandel_time))\n",
    "    print('It took {} seconds to dump the image.'.format(dump_time))\n"
   ]
  },
  {
   "cell_type": "markdown",
   "metadata": {},
   "source": [
    "### Mandlebrot GPU PyCuda\n",
    "#if you get an error regarding the fatbinaryloader.so file, you can run the command below to see if it exists and confirm the version. \n",
    "#errors can be related to a mismatch between the nvidia jetson image and the container version. Check your version\n",
    "#you can either reinstall a newer image or downgrade to an earlier container version\n",
    "!find / -iname libnvidia-fatbinaryloader.so.*\n",
    "#/var/lib/docker/overlay2/.../diff/<b>usr/lib/aarch64-linux-gnu/libnvidia-fatbinaryloader.so.32.2.0</b>\n",
    "\n",
    "If you do not have pycuda install, run the following command either in a code block or remove the exclamation and run in the container terminal:\n",
    "     !pip3 install pycuda"
   ]
  },
  {
   "cell_type": "code",
   "execution_count": 6,
   "metadata": {},
   "outputs": [
    {
     "name": "stdout",
     "output_type": "stream",
     "text": [
      "It took 0.427534818649292 seconds to calculate the Mandelbrot graph.\n",
      "It took 0.1109006404876709 seconds to dump the image.\n"
     ]
    },
    {
     "data": {
      "image/png": "[encoded data removed]",
      "text/plain": [
       "<matplotlib.figure.Figure at 0x7f83f70198>"
      ]
     },
     "metadata": {
      "needs_background": "light"
     },
     "output_type": "display_data"
    }
   ],
   "source": [
    "#pycuda\n",
    "import pycuda.driver \n",
    "import pycuda.autoinit\n",
    "from pycuda.compiler import SourceModule\n",
    "from pycuda import gpuarray # 4\n",
    "from pycuda.elementwise import ElementwiseKernel # 5\n",
    "\n",
    "mandel_ker = ElementwiseKernel(\n",
    "\"pycuda::complex<float> *lattice, float *mandelbrot_graph, int max_iters, float upper_bound\",\n",
    "\"\"\"\n",
    "mandelbrot_graph[i] = 1;\n",
    "\n",
    "pycuda::complex<float> c = lattice[i]; \n",
    "pycuda::complex<float> z(0,0);\n",
    "\n",
    "for (int j = 0; j < max_iters; j++)\n",
    "    {\n",
    "    \n",
    "     z = z*z + c;\n",
    "     \n",
    "     if(abs(z) > upper_bound)\n",
    "         {\n",
    "          mandelbrot_graph[i] = 0;\n",
    "          break;\n",
    "         }\n",
    "\n",
    "    }\n",
    "         \n",
    "\"\"\",\n",
    "\"mandel_ker\")\n",
    "\n",
    "def gpu_mandelbrot(width, height, real_low, real_high, imag_low, imag_high, max_iters, upper_bound):\n",
    "\n",
    "    # we set up our complex lattice as such\n",
    "    real_vals = np.matrix(np.linspace(real_low, real_high, width), dtype=np.complex64) # 1\n",
    "    imag_vals = np.matrix(np.linspace( imag_high, imag_low, height), dtype=np.complex64) * 1j\n",
    "    mandelbrot_lattice = np.array(real_vals + imag_vals.transpose(), dtype=np.complex64) # 2 \n",
    "    \n",
    "    # copy complex lattice to the GPU\n",
    "    mandelbrot_lattice_gpu = gpuarray.to_gpu(mandelbrot_lattice) # 3\n",
    "\n",
    "    # allocate an empty array on the GPU\n",
    "    mandelbrot_graph_gpu = gpuarray.empty(shape=mandelbrot_lattice.shape, dtype=np.float32) # 4\n",
    "\n",
    "    mandel_ker( mandelbrot_lattice_gpu, mandelbrot_graph_gpu, np.int32(max_iters), np.float32(upper_bound)) # 5\n",
    "              \n",
    "    mandelbrot_graph = mandelbrot_graph_gpu.get() # 6\n",
    "    \n",
    "    return mandelbrot_graph\n",
    "\n",
    "t1 = time()\n",
    "mandel = gpu_mandelbrot(512,512,-2,2,-2,2,512, 2)\n",
    "t2 = time()\n",
    "\n",
    "mandel_time = t2 - t1\n",
    "\n",
    "t1 = time()\n",
    "fig = plt.figure(1)\n",
    "plt.imshow(mandel, extent=(-2, 2, -2, 2))\n",
    "#plt.savefig('mandelbrot.png', dpi=fig.dpi)\n",
    "t2 = time()\n",
    "\n",
    "dump_time = t2 - t1\n",
    "\n",
    "print ('It took {} seconds to calculate the Mandelbrot graph.'.format(mandel_time))\n",
    "print ('It took {} seconds to dump the image.'.format(dump_time))\n",
    "\n",
    "#note the significant reduction in execution time"
   ]
  },
  {
   "cell_type": "code",
   "execution_count": null,
   "metadata": {},
   "outputs": [],
   "source": []
  }
 ],
 "metadata": {
  "kernelspec": {
   "display_name": "Python 3",
   "language": "python",
   "name": "python3"
  },
  "language_info": {
   "codemirror_mode": {
    "name": "ipython",
    "version": 3
   },
   "file_extension": ".py",
   "mimetype": "text/x-python",
   "name": "python",
   "nbconvert_exporter": "python",
   "pygments_lexer": "ipython3",
   "version": "3.6.9"
  }
 },
 "nbformat": 4,
 "nbformat_minor": 4
}
