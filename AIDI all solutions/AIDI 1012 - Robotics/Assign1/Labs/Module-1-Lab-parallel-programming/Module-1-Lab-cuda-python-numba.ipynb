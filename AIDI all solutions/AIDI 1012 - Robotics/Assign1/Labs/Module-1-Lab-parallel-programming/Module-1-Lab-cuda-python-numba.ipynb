{
  "nbformat": 4,
  "nbformat_minor": 0,
  "metadata": {
    "accelerator": "GPU",
    "colab": {
      "name": "Module-1-Lab-cuda-python-numba.ipynb",
      "provenance": [],
      "collapsed_sections": [
        "YAYBnOoiwU6X",
        "zFiFlXrTutaz",
        "MCcozMtIqiMJ",
        "wi9Jb2xqzaUn",
        "xXCKBYsDv4Uv",
        "EC35OoQjuklK",
        "groaqP6RCF-A",
        "OYRFGJGh2nDy",
        "deJvvQSrbimP",
        "vxtpI00D3_XH",
        "q1LiE4Wozj5z",
        "kM95lYiZ0fs7",
        "zGoh-ohYQ2Fv",
        "cKr6k1Lrf7GH",
        "oZrZKvSAiSAS",
        "eyV6eVAhwLeh",
        "2MgExL7KApOC",
        "ub1SSn-OAvOb",
        "K15Vv3vpGQpl",
        "e0IKtbZyGCjS",
        "ibjc40sgHM55",
        "dWtzrmPeTsSN",
        "buA7D_4PdLeh"
      ]
    },
    "kernelspec": {
      "display_name": "Python 3",
      "language": "python",
      "name": "python3"
    },
    "language_info": {
      "codemirror_mode": {
        "name": "ipython",
        "version": 3
      },
      "file_extension": ".py",
      "mimetype": "text/x-python",
      "name": "python",
      "nbconvert_exporter": "python",
      "pygments_lexer": "ipython3",
      "version": "3.8.8"
    }
  },
  "cells": [
    {
      "cell_type": "markdown",
      "metadata": {
        "id": "YAYBnOoiwU6X"
      },
      "source": [
        "# **Introduction to CUDA Python with Numba**"
      ]
    },
    {
      "cell_type": "markdown",
      "metadata": {
        "id": "zFiFlXrTutaz"
      },
      "source": [
        "## **CONCEPT 1: What is Numba?**\n",
        "\n",
        "Numba is a **just-in-time, type-specializing, function compiler** for accelerating **numerically-focused** Python. Let's break down those terms:\n",
        "\n",
        "- **function compiler:** Numba compiles Python functions, not entire applications, and not parts of functions. Numba does not replace your Python interpreter, but is just another Python module that can turn a function into a (usually) faster function.\n",
        "- **type-specializing:** Numba speeds up your function by generating a specialized implementation for the specific data types you are using. Python functions are designed to operate on generic data types, which makes them very flexible, but also very slow. In practice, you only will call a function with a small number of argument types, so Numba will generate a fast implementation for each set of types.\n",
        "- **just-in-time:** Numba translates functions when they are first called. This ensures the compiler knows what argument types you will be using. This also allows Numba to be used interactively in a Jupyter notebook just as easily as a traditional application\n",
        "- **numerically-focused:** Currently, Numba is focused on numerical data types, like int, float, and complex. There is very limited string processing support, and many string use cases are not going to work well on the GPU. To get best results with Numba, you will likely be using NumPy arrays.\n",
        "\n",
        "The most common way to use Numba is through its collection of decorators that can be applied to your functions to instruct Numba to compile them. When a call is made to a Numba decorated function it is compiled to machine code “just-in-time” for execution and all or part of your code can subsequently run at native machine code speed!\n",
        "\n",
        "Numba supports CUDA GPU programming by directly compiling a restricted subset of Python code into CUDA kernels and device functions following the CUDA execution model. Kernels written in Numba appear to have direct access to NumPy arrays. NumPy arrays are transferred between the CPU and the GPU automatically.\n",
        "\n",
        "[Documentation](https://numba.readthedocs.io/en/stable/cuda/index.html)\n",
        "\n",
        "#### **Terminology**\n",
        "* **host**: the CPU\n",
        "* **device**: the GPU\n",
        "* **host memory**: the system main memory\n",
        "* **device memory**: onboard memory on a GPU card\n",
        "* **kernels**: a GPU function launched by the host and executed on the device\n",
        "* **device function**: a GPU function executed on the device which can only be called from the device (i.e. from a kernel or another device function)\n",
        "\n",
        "Most CUDA programming facilities exposed by Numba map directly to the CUDA C language offered by NVIDIA. Therefore, it is recommended you read the official [CUDA C programming guide](https://docs.nvidia.com/cuda/cuda-c-programming-guide/).\n",
        "\n",
        "## **CONCEPT 2: How does Numba work?**\n",
        "\n",
        "Numba reads the Python bytecode for a decorated function and combines this with information about the types of the input arguments to the function. It analyzes and optimizes your code, and finally uses the LLVM compiler library to generate a machine code version of your function, tailored to your CPU capabilities. This compiled version is then used every time your function is called.\n",
        "\n",
        "![Numba flowcart](../numba_flowcart.png)\n",
        "\n",
        "### **Other things of interest:**\n",
        "\n",
        "Numba has quite a few decorators:\n",
        "- `@jit` - compile the decorated function on-the-fly to produce efficient machine code. [Docs are here](https://numba.pydata.org/numba-doc/latest/reference/jit-compilation.html)\n",
        "- `@njit` - this is an alias for `@jit(nopython=True)` as it is so commonly used!\n",
        "- `@vectorize` - produces NumPy `ufunc` s (with all the `ufunc` methods supported). [Docs are here](https://numba.pydata.org/numba-doc/latest/user/vectorize.html#vectorize).\n",
        "- `@guvectorize` - produces NumPy generalized `ufunc` s. [Docs are here](https://numba.pydata.org/numba-doc/latest/user/vectorize.html#guvectorize).\n",
        "- `@stencil` - declare a function as a kernel for a stencil like operation. [Docs are here](https://numba.pydata.org/numba-doc/latest/user/stencil.html#numba-stencil).\n",
        "- `@jitclass` - for jit aware classes. [Docs are here](https://numba.pydata.org/numba-doc/latest/user/jitclass.html#jitclass).\n",
        "- `@cfunc` - declare a function for use as a native call back (to be called from C/C++ etc). [Docs are here](https://numba.pydata.org/numba-doc/latest/user/cfunc.html#cfunc).\n",
        "- `@overload` - register your own implementation of a function for use in nopython mode, e.g. `@overload(scipy.special.j0)`. [Docs are here](https://numba.pydata.org/numba-doc/latest/extending/high-level.html#high-level-extending).\n",
        "\n",
        "\n",
        "\n"
      ]
    },
    {
      "cell_type": "markdown",
      "metadata": {
        "id": "MCcozMtIqiMJ"
      },
      "source": [
        "# **Tutorial: Numba Basics**\n",
        "\n",
        "For this tutorial, we will learn how to write a Numba function and compile it for the CPU, how to create a universal Numpy functions and how to write device functions."
      ]
    },
    {
      "cell_type": "markdown",
      "metadata": {
        "id": "wi9Jb2xqzaUn"
      },
      "source": [
        "## **Compiling Python code with @jit**\n",
        "\n",
        "Numba provides several utilities for code generation, but its central feature is the numba.jit() decorator with an explicit signature. Using Numba decorator @jit, which creates a normal function for execution on the CPU."
      ]
    },
    {
      "cell_type": "markdown",
      "metadata": {
        "id": "xXCKBYsDv4Uv"
      },
      "source": [
        "### Step 1: Import libraries"
      ]
    },
    {
      "cell_type": "code",
      "metadata": {
        "id": "uLBqA0-Atq5_"
      },
      "source": [
        "import numpy as np\n",
        "import math\n",
        "import random\n",
        "from decimal import Decimal\n",
        "\n",
        "import numba\n",
        "from numba import jit\n",
        "from numba import vectorize \n",
        "from numba import guvectorize\n",
        "from numba import cuda"
      ],
      "execution_count": null,
      "outputs": []
    },
    {
      "cell_type": "code",
      "metadata": {
        "id": "tdnVos7OuV39"
      },
      "source": [
        "# Checking Numba version\n",
        "print(numba.__version__)"
      ],
      "execution_count": null,
      "outputs": []
    },
    {
      "cell_type": "markdown",
      "metadata": {
        "id": "EC35OoQjuklK"
      },
      "source": [
        "### Step 2: Compiling functions on the CPU\n",
        "\n",
        "We will write the first Numba function and compile it for the CPU. The Numba compiler is typically enabled by applying a decorator to a Python function. Decorators are functions that transform Python functions. Here we will use the CPU compilation decorator:"
      ]
    },
    {
      "cell_type": "markdown",
      "metadata": {
        "id": "pLSwOJCsszt6"
      },
      "source": [
        " Let’s start by peeking at the numba.jit string-doc:"
      ]
    },
    {
      "cell_type": "code",
      "metadata": {
        "id": "vKvE0BDPswcR"
      },
      "source": [
        "print(numba.jit.__doc__)"
      ],
      "execution_count": null,
      "outputs": []
    },
    {
      "cell_type": "markdown",
      "metadata": {
        "id": "eNpIFFqMtBi6"
      },
      "source": [
        "The recommended way to use the @jit decorator is to let Numba decide when and how to optimize. Let's make a compiled version of a function. In this mode, compilation will be deferred until the first function execution. Numba will infer the argument types at call time, and generate optimized code based on this information."
      ]
    },
    {
      "cell_type": "code",
      "metadata": {
        "id": "UHWsibwZ0yHV"
      },
      "source": [
        "nsamples = 2000\n",
        "# JIT compile a python function conforming to the CUDA-Python specification. To define a CUDA kernel:\n",
        "@jit\n",
        "def monte_carlo_pi(nsamples):\n",
        "    acc = 0\n",
        "    for i in range(nsamples):\n",
        "        x = random.random()\n",
        "        y = random.random()\n",
        "        if (x**2 + y**2) < 1.0:\n",
        "            acc += 1\n",
        "    return 4.0 * acc / nsamples"
      ],
      "execution_count": null,
      "outputs": []
    },
    {
      "cell_type": "markdown",
      "metadata": {
        "id": "groaqP6RCF-A"
      },
      "source": [
        "### Step 3: Benchmarking\n",
        "\n",
        "Measuring the performance of your new code is an important part. Let's see if we actuall speed up between the compiled and uncompiled versions. The easiest way to do is in the Jupyter notebook is to use **%timeit** function.\n",
        " **.py_func** attribute that can be used to access the original uncompiled Python function."
      ]
    },
    {
      "cell_type": "code",
      "metadata": {
        "id": "AwAZZKU80y0e"
      },
      "source": [
        "%timeit monte_carlo_pi.py_func(nsamples)"
      ],
      "execution_count": null,
      "outputs": []
    },
    {
      "cell_type": "code",
      "metadata": {
        "id": "HFN3hD4A0zAl"
      },
      "source": [
        "%timeit monte_carlo_pi(nsamples)"
      ],
      "execution_count": null,
      "outputs": []
    },
    {
      "cell_type": "markdown",
      "metadata": {
        "id": "OYRFGJGh2nDy"
      },
      "source": [
        "The Numba-compiled version had a significant speed-up with this function!\n",
        "\n",
        "### **Signature specifications**\n",
        "\n",
        "In order to generate fast code, the compiler needs type information for the code. This allows a direct mapping from the Python operations to the appropriate machine instruction without any type check/dispatch mechanism. \n",
        "\n",
        "Explicit `@jit` signatures can use a number of types. Here are some common ones:\n",
        "\n",
        "- `void` is the return type of functions returning nothing (which actually return `None` when called from Python)\n",
        "- `intp` and `uintp` are pointer-sized integers (signed and unsigned, respectively)\n",
        "- `intc` and `uintc` are equivalent to C `int` and `unsigned int` integer types\n",
        "- `int8`, `uint8`, `int16`, `uint16`, `int32`, `uint32`, `int64`, `uint64` are fixed-width integers of the corresponding bit width (signed and unsigned)\n",
        "- `float32` and `float64` are single- and double-precision floating-point numbers, respectively\n",
        "- `complex64` and `complex128` are single- and double-precision complex numbers, respectively\n",
        "- array types can be specified by indexing any numeric type, e.g. `float32[:]` for a one-dimensional single-precision array or `int8[:,:]` for a two-dimensional array of 8-bit integers.\n",
        "\n"
      ]
    },
    {
      "cell_type": "markdown",
      "metadata": {
        "id": "deJvvQSrbimP"
      },
      "source": [
        "### Step 4: Compilation options\n",
        "\n",
        "The Numba @jit decorator fundamentally operates in two compilation modes:\n",
        "- `nopython mode`\n",
        "- `object mode`\n",
        "\n",
        "The behaviour of the **nopython** compilation mode is to essentially compile the decorated function so that it will run entirely without the involvement of the Python interpreter. This is the recommended and best-practice way to use the Numba jit decorator as it leads to the best performance.\n",
        "\n",
        "Should the compilation in **nopython mode** fail, Numba can compile using **object mode**. This is a fall back mode for the @jit decorator if **nopython=True** is not set. In this mode Numba will identify loops that it can compile and compile those into functions that run in machine code, and it will run the rest of the code in the interpreter. For best performance avoid using this mode!"
      ]
    },
    {
      "cell_type": "markdown",
      "metadata": {
        "id": "G4p7QkU1FJOp"
      },
      "source": [
        "Numba cannot compile all Python code. Some functions don't have a Numba-translation, and some kinds of Python types can't be efficiently compiled at all (yet). For example, Numba does not support dictionaries (as of this tutorial):"
      ]
    },
    {
      "cell_type": "code",
      "metadata": {
        "id": "p_yCRYEwFWNG"
      },
      "source": [
        "@jit\n",
        "def cannot_compile(x):\n",
        "    return x['key']\n",
        "\n",
        "cannot_compile(dict(key='value'))"
      ],
      "execution_count": null,
      "outputs": []
    },
    {
      "cell_type": "markdown",
      "metadata": {
        "id": "e7CTP84yFzzD"
      },
      "source": [
        "By default, Numba will fall back to a mode, called \"object mode,\" which does not do type-specialization. Object mode exists to enable other Numba functionality, but in many cases, you want Numba to tell you if type inference fails. You can force \"nopython mode\" (the other compilation mode) by passing arguments to the decorator:"
      ]
    },
    {
      "cell_type": "markdown",
      "metadata": {
        "id": "pmbgM6h24Hmx"
      },
      "source": [
        "Let's see nopython mode. The nopython mode will generate the best performance, but has limitations."
      ]
    },
    {
      "cell_type": "code",
      "metadata": {
        "id": "Jg7iyMX9JzG3"
      },
      "source": [
        "#function without error\n",
        "@jit(\"void(f4[:])\",nopython=True)\n",
        "def squared(a):\n",
        "    squared_val = a*a"
      ],
      "execution_count": null,
      "outputs": []
    },
    {
      "cell_type": "markdown",
      "metadata": {
        "id": "8mEK-im0d4Yj"
      },
      "source": [
        "\n",
        "Types that can’t be inferred by the compiler in the nopython mode and it will generate an error."
      ]
    },
    {
      "cell_type": "code",
      "metadata": {
        "id": "WPqVFwR-c11S"
      },
      "source": [
        "#function that contains a variable whose type can’t be inferred by the compiler\n",
        "#nopython mode set to True\n",
        "\n",
        "@jit(\"void(f4[:])\",nopython=True)\n",
        "def squared(a):\n",
        "    squared_val = a*a\n",
        "    val = Decimal(100)"
      ],
      "execution_count": null,
      "outputs": []
    },
    {
      "cell_type": "markdown",
      "metadata": {
        "id": "5gVxFuSQtj6B"
      },
      "source": [
        "If we don’t specify anything like in the function below, where nopython mode is not set to True, the compilation is falling back to object mode and produces a warning but not an error."
      ]
    },
    {
      "cell_type": "code",
      "metadata": {
        "id": "awW0Ijzqd3gM"
      },
      "source": [
        "# function that contains a variable whose type can’t be inferred by the compiler\n",
        "# nopython mode not set to True\n",
        "# compilation is falling back to object mode\n",
        "\n",
        "@jit(\"void(f4[:])\")\n",
        "def squared(a):\n",
        "    squared_val = a*a\n",
        "    val = Decimal(100)"
      ],
      "execution_count": null,
      "outputs": []
    },
    {
      "cell_type": "markdown",
      "metadata": {
        "id": "vxtpI00D3_XH"
      },
      "source": [
        "### Step 4: Type inference\n",
        "\n",
        "The objective of type inference is assigning a type to every single value in the function. The type of a value can either be:\n",
        "\n",
        "* Implicit, in the case of providing an object that will provide its type. For e.g. in literals.\n",
        "* Explicit, in the case of the programmer explicitly writing the type of a given value. For e.g. when a signature is given to numba.jit. That signature explicitly types the arguments.\n",
        "* Inferred, when the type is deduced from an operation and the types of its operands. For e.g. inferring that the type of a + b, when a and b are of type int is going to be an int\n",
        "Type inference is the process by which all the types that are neither implicit nor explicit are deduced."
      ]
    },
    {
      "cell_type": "code",
      "metadata": {
        "id": "Ph3zzdBp3r7A"
      },
      "source": [
        "# Let’s illustrate how type inference works with numba.jit. \n",
        "# We can see the result of type inference by using the .inspect_types() method, which prints an annotated version of the source code.\n",
        "\n",
        "monte_carlo_pi.inspect_types()"
      ],
      "execution_count": null,
      "outputs": []
    },
    {
      "cell_type": "markdown",
      "metadata": {
        "id": "Xj99cpmOEz6P"
      },
      "source": [
        "Note that Numba's type names tend to mirror the NumPy type names, so a Python float is a float64 (also called \"double precision\" in other languages). Taking a look at the data types can sometimes be important in GPU code because the performance of float32 and float64 computations will be very different on CUDA devices. An accidental upcast can dramatically slow down a function."
      ]
    },
    {
      "cell_type": "markdown",
      "metadata": {
        "id": "q1LiE4Wozj5z"
      },
      "source": [
        "## **Creating Numpy universal functions**\n",
        "\n",
        "#### **CUDA Basics**\n",
        "\n",
        "There are two basic approaches to GPU programming in Numba:\n",
        "\n",
        "- ufuncs/gufuncs\n",
        "- CUDA Python kernels. [See documentation here](https://numba.pydata.org/numba-doc/latest/cuda/kernels.html)\n",
        "\n",
        "We will not go into the CUDA hardware too much in this section, but the most important thing to remember is that the hardware is designed for data parallelism. Maximum throughput is achieved when you are computing the same operations on many different elements at once.\n",
        "\n",
        "Universal functions are naturally data parallel, so we will begin with them.\n",
        "\n",
        "#### **Universal Functions** \n",
        "\n",
        "Numba supports generating two types of universal functions:\n",
        "\n",
        "- Those which operate on scalars, these are “universal functions” or ufuncs (@vectorize below).\n",
        "- Those which operate on higher dimensional arrays and scalars, these are “generalized universal functions” or gufuncs (@guvectorize below)."
      ]
    },
    {
      "cell_type": "markdown",
      "metadata": {
        "id": "kM95lYiZ0fs7"
      },
      "source": [
        "#### **Universal functions**\n",
        "\n",
        "Universal functions(ufuncs) are functions that broadcast an elementwise operation across input arrays of varying numbers of dimensions. Most NumPy functions are ufuncs, and Numba makes it easy to compile custom ufuncs using the @vectorize decorator."
      ]
    },
    {
      "cell_type": "markdown",
      "metadata": {
        "id": "zGoh-ohYQ2Fv"
      },
      "source": [
        "#### Step 1: \n",
        "\n",
        "The NumPy documentation has a much more extensive discussion of ufuncs:\n",
        "\n",
        "https://docs.scipy.org/doc/numpy/reference/ufuncs.html"
      ]
    },
    {
      "cell_type": "code",
      "metadata": {
        "id": "wYM7ljjUubTa"
      },
      "source": [
        "# Applying sqrt() method in Numpy\n",
        "def cpu_sqrt(x):\n",
        "  return math.sqrt(x)"
      ],
      "execution_count": null,
      "outputs": []
    },
    {
      "cell_type": "code",
      "metadata": {
        "id": "shfhyJwVwv8n"
      },
      "source": [
        "# Making ufuncs for the CPU\n",
        "@vectorize\n",
        "def cpu_numba_sqrt(x):\n",
        "  return math.sqrt(x)"
      ],
      "execution_count": null,
      "outputs": []
    },
    {
      "cell_type": "code",
      "metadata": {
        "id": "LQLzjk2XxS_8"
      },
      "source": [
        "# Making a ufunc for the GPU\n",
        "# Generating a ufunc that uses CUDA requires giving an explicit type signature and setting the target attribute\n",
        "@vectorize(['float32(float32)'], target='cuda')\n",
        "def gpu_numba_sqrt(x):\n",
        "    return math.sqrt(x)"
      ],
      "execution_count": null,
      "outputs": []
    },
    {
      "cell_type": "code",
      "metadata": {
        "id": "p9v2Oq17xb_B"
      },
      "source": [
        "%timeit np.sqrt(25) # NumPy on CPU"
      ],
      "execution_count": null,
      "outputs": []
    },
    {
      "cell_type": "code",
      "metadata": {
        "id": "s7RMJZQmxk7B"
      },
      "source": [
        "%timeit cpu_sqrt(25)  # NumPy on CPU"
      ],
      "execution_count": null,
      "outputs": []
    },
    {
      "cell_type": "code",
      "metadata": {
        "id": "Pr0DbIVJxtWB"
      },
      "source": [
        "%timeit cpu_numba_sqrt(25) # Numba on CPU"
      ],
      "execution_count": null,
      "outputs": []
    },
    {
      "cell_type": "code",
      "metadata": {
        "id": "dpB23pA_x2N6"
      },
      "source": [
        "%timeit gpu_numba_sqrt(25) # Numba on GPU"
      ],
      "execution_count": null,
      "outputs": []
    },
    {
      "cell_type": "markdown",
      "metadata": {
        "id": "wzRChAmjylCU"
      },
      "source": [
        "Why did we see an increase in the processing time?\n",
        "\n",
        "An overhead is introduced by Numba to each function call that is larger than the function call overhead of Python itself. \n",
        "\n",
        "Functions that are quick to compute are affected by this.\n",
        "\n",
        "Since the function here is too simple to run on the GPU, we experience longer processing time due to data transfer operations taking place.\n",
        "\n",
        "* input data is transferred to the GPU memory\n",
        "* the square root is calculated on the GPU\n",
        "* the resulting value is sent back to the host system"
      ]
    },
    {
      "cell_type": "markdown",
      "metadata": {
        "id": "cKr6k1Lrf7GH"
      },
      "source": [
        "#### **Generalized ufuncs on the GPU**\n",
        "\n",
        "In generalized ufuncs (gufuncs), the calculation can deal with a sub-array of the input array, and return an array of different dimensions."
      ]
    },
    {
      "cell_type": "code",
      "metadata": {
        "id": "hVAb9_6e5VTG"
      },
      "source": [
        "#calculating the sum of elements in each row of the array\n",
        "@guvectorize(['(float32[:], float32[:])'],\n",
        "             '(n)->()',                \n",
        "             target='cuda')\n",
        "def calc_sum(a, out):\n",
        "    sum = 0\n",
        "    for val in a: \n",
        "        sum += val\n",
        "    out[0] = sum"
      ],
      "execution_count": null,
      "outputs": []
    },
    {
      "cell_type": "code",
      "metadata": {
        "id": "8hUPmGrFggZz"
      },
      "source": [
        "a = np.arange(50).reshape(10, 5).astype(np.float32)\n",
        "a"
      ],
      "execution_count": null,
      "outputs": []
    },
    {
      "cell_type": "code",
      "metadata": {
        "id": "V6aGey3jgkWK"
      },
      "source": [
        "calc_sum(a)"
      ],
      "execution_count": null,
      "outputs": []
    },
    {
      "cell_type": "markdown",
      "metadata": {
        "id": "oZrZKvSAiSAS"
      },
      "source": [
        "## **CUDA Device Functions**\n",
        "\n",
        "Uptil now we were compiling all our code in single functions and ufuncs are great, but you should not have to cram all of your logic into a single function body. You can also create normal functions that are only called from other functions running on the GPU. These are called **device** functions.(These are similar to CUDA C functions defined with __device__.)\n",
        "\n",
        "Device functions are created with the numba.cuda.jit decorator:\n",
        "\n",
        "`add_values:` device function to sum up the elements of the array using the numba.cuda.jit decorator\n",
        "\n",
        "`calc_sum:` gufunc to make use of the add_values device function\n",
        "\n",
        "`calc_avg:` gufunc to calculate the average"
      ]
    },
    {
      "cell_type": "code",
      "metadata": {
        "id": "_3FwinUKiY90"
      },
      "source": [
        "# define a device function\n",
        "@cuda.jit(device=True)\n",
        "def add_values(a): \n",
        "  sum = 0\n",
        "  for val in a: \n",
        "    sum += val\n",
        "  return sum\n",
        "\n",
        "# define a gufunc that calls our device function\n",
        "@guvectorize(['(float32[:], float32[:])'],\n",
        "             '(n)->()',                \n",
        "             target='cuda')\n",
        "def calc_sum(a, out):\n",
        "    out[0] = add_values(a)\n",
        "\n",
        "@guvectorize(['(float32[:], float32[:])'],\n",
        "             '(n)->()',                \n",
        "             target='cuda')\n",
        "def calc_avg(a, out):\n",
        "    out[0] = add_values(a)/len(a)"
      ],
      "execution_count": null,
      "outputs": []
    },
    {
      "cell_type": "code",
      "metadata": {
        "id": "zKRmxgs3jgQk"
      },
      "source": [
        "calc_sum(a)"
      ],
      "execution_count": null,
      "outputs": []
    },
    {
      "cell_type": "code",
      "metadata": {
        "id": "rO7lxyh6j19a"
      },
      "source": [
        "calc_avg(a)"
      ],
      "execution_count": null,
      "outputs": []
    },
    {
      "cell_type": "markdown",
      "metadata": {
        "id": "eyV6eVAhwLeh"
      },
      "source": [
        "# **Exercise: Numba Basics**\n",
        "\n",
        "The function below is a naive sum function that sums all the elements of a given array. Let’s get a numba version of this code running."
      ]
    },
    {
      "cell_type": "code",
      "metadata": {
        "id": "2giKI1AXwM2E"
      },
      "source": [
        "#Write your own code"
      ],
      "execution_count": null,
      "outputs": []
    },
    {
      "cell_type": "markdown",
      "metadata": {
        "id": "2MgExL7KApOC"
      },
      "source": [
        "##### **As a function call**\n",
        "\n",
        "Compile **summation_array()** function using numba.jit without providing a type-signature for the function."
      ]
    },
    {
      "cell_type": "code",
      "metadata": {
        "id": "Nt5ttiu9-P-b"
      },
      "source": [
        "# Write your own code"
      ],
      "execution_count": null,
      "outputs": []
    },
    {
      "cell_type": "markdown",
      "metadata": {
        "id": "ub1SSn-OAvOb"
      },
      "source": [
        "##### **As a decorater**"
      ]
    },
    {
      "cell_type": "code",
      "metadata": {
        "id": "GTBjAcPDA0Gg"
      },
      "source": [
        "# Write your own code"
      ],
      "execution_count": null,
      "outputs": []
    },
    {
      "cell_type": "markdown",
      "metadata": {
        "id": "K15Vv3vpGQpl"
      },
      "source": [
        "##### **Benchmarking**\n",
        "\n",
        "Compare NumPy and Numba using %timeit"
      ]
    },
    {
      "cell_type": "code",
      "metadata": {
        "id": "cNdulQtFFnvG"
      },
      "source": [
        "# Write your own code\n"
      ],
      "execution_count": null,
      "outputs": []
    },
    {
      "cell_type": "markdown",
      "metadata": {
        "id": "e0IKtbZyGCjS"
      },
      "source": [
        "##### **Question: When does Numba compile codes?**\n",
        "\n",
        "Write your answer here."
      ]
    },
    {
      "cell_type": "markdown",
      "metadata": {
        "id": "ibjc40sgHM55"
      },
      "source": [
        "# **Tutorial: Memory Management**\n",
        "\n",
        "In order to reduce the impact of host-to-device/device-to-host bandwidth, it is best to copy data to the GPU explicitly and leave it there to amortize the cost over multiple function calls. In addition, allocating device memory can be relatively slow, so allocating GPU arrays once and refilling them with data from the host can also be a performance improvement.\n",
        "\n"
      ]
    },
    {
      "cell_type": "code",
      "metadata": {
        "id": "7OgmyrLDH_re"
      },
      "source": [
        "@vectorize(['float32(float32, float32)'], target='cuda')\n",
        "def add_ufunc(x, y):\n",
        "    return x + y"
      ],
      "execution_count": null,
      "outputs": []
    },
    {
      "cell_type": "code",
      "metadata": {
        "id": "0buPrxtGOEWN"
      },
      "source": [
        "n = 100000\n",
        "x = np.arange(n).astype(np.float32)\n",
        "y = 2 * x"
      ],
      "execution_count": null,
      "outputs": []
    },
    {
      "cell_type": "code",
      "metadata": {
        "id": "r_zmaFwmOM-J"
      },
      "source": [
        "%timeit add_ufunc(x, y)  # Baseline performance with host arrays"
      ],
      "execution_count": null,
      "outputs": []
    },
    {
      "cell_type": "markdown",
      "metadata": {
        "id": "XCAJuScsPlGq"
      },
      "source": [
        "The numba.cuda module includes a function that will copy host data to the GPU and return a CUDA device array:"
      ]
    },
    {
      "cell_type": "code",
      "metadata": {
        "id": "-j4m47L6OXOp"
      },
      "source": [
        "from numba import cuda\n",
        "\n",
        "x_device = cuda.to_device(x)\n",
        "y_device = cuda.to_device(y)\n",
        "\n",
        "print(x_device)\n",
        "print(x_device.shape)\n",
        "print(x_device.dtype)"
      ],
      "execution_count": null,
      "outputs": []
    },
    {
      "cell_type": "markdown",
      "metadata": {
        "id": "GPi-Rgo4PjLH"
      },
      "source": [
        "Device arrays can be passed to CUDA functions just like NumPy arrays, but without the copy overhead:"
      ]
    },
    {
      "cell_type": "code",
      "metadata": {
        "id": "16Tq2D-KPqY-"
      },
      "source": [
        "\n",
        "%timeit add_ufunc(x_device, y_device)"
      ],
      "execution_count": null,
      "outputs": []
    },
    {
      "cell_type": "markdown",
      "metadata": {
        "id": "9p5i5RIOPtHU"
      },
      "source": [
        "That's a big performance improvement already, but we are still allocating a device array for the output of the ufunc and copying it back to the host. We can create the output buffer with the numba.cuda.device_array() function:"
      ]
    },
    {
      "cell_type": "code",
      "metadata": {
        "id": "mcEzUf8hPybJ"
      },
      "source": [
        "out_device = cuda.device_array(shape=(n,), dtype=np.float32)  # does not initialize the contents, like np.empty()"
      ],
      "execution_count": null,
      "outputs": []
    },
    {
      "cell_type": "markdown",
      "metadata": {
        "id": "czWHlgXEP1yy"
      },
      "source": [
        "And then we can use a special out keyword argument to the ufunc to specify the output buffer:"
      ]
    },
    {
      "cell_type": "code",
      "metadata": {
        "id": "i9jLNN_SP4zH"
      },
      "source": [
        "%timeit add_ufunc(x_device, y_device, out=out_device)"
      ],
      "execution_count": null,
      "outputs": []
    },
    {
      "cell_type": "markdown",
      "metadata": {
        "id": "i4P8o8kFP7b0"
      },
      "source": [
        "Now that we have removed the device allocation and copy steps, the computation runs much faster than before. When we want to bring the device array back to the host memory, we can use the copy_to_host() method:"
      ]
    },
    {
      "cell_type": "code",
      "metadata": {
        "id": "LF7dBwiLP-do"
      },
      "source": [
        "out_host = out_device.copy_to_host()\n",
        "print(out_host[:10])"
      ],
      "execution_count": null,
      "outputs": []
    },
    {
      "cell_type": "markdown",
      "metadata": {
        "id": "dWtzrmPeTsSN"
      },
      "source": [
        "# **Tutorial: Writing CUDA kernels**\n",
        "\n",
        "Ufuncs and generalized ufuncs are the easiest way in Numba to use the GPU, and present an abstraction that requires minimal understanding of the CUDA programming model. However, you can not write all functions as ufuncs so you write a CUDA kernel.\n",
        "\n",
        "It's highly recommend to read Chapters 1 and 2 of the CUDA C Programming Guide to understand how to write CUDA kernels with Numba.\n",
        "- Introduction: http://docs.nvidia.com/cuda/cuda-c-programming-guide/index.html#introduction\n",
        "- Programming Model: http://docs.nvidia.com/cuda/cuda-c-programming-guide/index.html#programming-model\n",
        "\n",
        "![[cuda flowchart](https://camo.githubusercontent.com/87204582bdb0422a08cef47cd0bafcfd860cd522/687474703a2f2f646f63732e6e76696469612e636f6d2f637564612f637564612d632d70726f6772616d6d696e672d67756964652f67726170686963732f677269642d6f662d7468726561642d626c6f636b732e706e67)](https://camo.githubusercontent.com/87204582bdb0422a08cef47cd0bafcfd860cd522/687474703a2f2f646f63732e6e76696469612e636f6d2f637564612f637564612d632d70726f6772616d6d696e672d67756964652f67726170686963732f677269642d6f662d7468726561642d626c6f636b732e706e67)\n",
        "\n",
        "We will write a *kernel* that decribes the execution of a single thread in this hierarchy. The CUDA compiler and driver will execute the kernel across a *thread grid* that is divided into *blocks* of threads. Threads within the same block can exchange data very easily during the execution of a kernel, whereas threads in different blocks should generally not communicate with each other (with a few exceptions).\n",
        "\n",
        "Deciding the best size for the CUDA thread grid is a complex problem (and depends on both the algorithm and the specific GPU compute capability), but here are some very rough heuristics that we follow:\n",
        "\n",
        "- the size of a block should be a multiple of 32 threads, with typical block sizes between 128 and 512 threads per block.\n",
        "- the size of the grid should ensure the full GPU is utilized where possible. Launching a grid where the number of blocks is 2x-4x the number of \"multiprocessors\" on the GPU is a good starting place. Something in the range of 20 - 100 blocks is usually a good starting point.\n",
        "- The CUDA kernel launch overhead does depend on the number of blocks, so we find it best not to launch a grid where the number of threads equals the number of input elements when the input size is very big. We'll show a pattern for dealing with large inputs below.\n",
        "\n",
        "Each thread distinguishes itself from the other threads using its unique thread (`threadIdx`) and block (`blockIdx`) index values, which can be multidimensional if launched that way.\n",
        "\n"
      ]
    },
    {
      "cell_type": "markdown",
      "metadata": {
        "id": "K9Li9JQBWfjH"
      },
      "source": [
        "### Step 1: Getting Started\n",
        "\n",
        "In this section, you will learn how to write your own custom CUDA kernels to do accelerated, parallel computing on a GPU, in python with the help of numba and CUDA.\n"
      ]
    },
    {
      "cell_type": "code",
      "metadata": {
        "id": "fD4_efM0WjMy"
      },
      "source": [
        "from numba import cuda"
      ],
      "execution_count": null,
      "outputs": []
    },
    {
      "cell_type": "markdown",
      "metadata": {
        "id": "bx2b-tCFXGC6"
      },
      "source": [
        "### Step 2: Write a CUDA kernel\n",
        "\n",
        "CUDA kernels are compiled using the numba.cuda.jit decorator (not to be confused with the numba.jit decorator for the CPU)."
      ]
    },
    {
      "cell_type": "code",
      "metadata": {
        "id": "AmeAQBNgZgZK"
      },
      "source": [
        "@cuda.jit\n",
        "def add_kernel(x, y, out):\n",
        "    tx = cuda.threadIdx.x # this is the unique thread ID within a 1D block\n",
        "    ty = cuda.blockIdx.x  # Similarly, this is the unique block ID within the 1D grid\n",
        "\n",
        "    block_size = cuda.blockDim.x  # number of threads per block\n",
        "    grid_size = cuda.gridDim.x    # number of blocks in the grid\n",
        "    \n",
        "    start = tx + ty * block_size\n",
        "    stride = block_size * grid_size\n",
        "\n",
        "    # assuming x and y inputs are same length\n",
        "    for i in range(start, x.shape[0], stride):\n",
        "        out[i] = x[i] + y[i]"
      ],
      "execution_count": null,
      "outputs": []
    },
    {
      "cell_type": "markdown",
      "metadata": {
        "id": "SYqEV0l6XPdd"
      },
      "source": [
        "### Step 3: Call the function\n"
      ]
    },
    {
      "cell_type": "code",
      "metadata": {
        "id": "ocISDc5TbLky"
      },
      "source": [
        "import numpy as np\n",
        "\n",
        "n = 100000\n",
        "x = np.arange(n).astype(np.float32)\n",
        "y = 2 * x\n",
        "out = np.empty_like(x)\n",
        "\n",
        "threads_per_block = 128\n",
        "blocks_per_grid = 30\n",
        "\n",
        "add_kernel[blocks_per_grid, threads_per_block](x, y, out)\n",
        "print(out[:10])"
      ],
      "execution_count": null,
      "outputs": []
    },
    {
      "cell_type": "markdown",
      "metadata": {
        "id": "s2mGj4LGb31E"
      },
      "source": [
        "### Step 4: Copy host data to the GPU and return a CUDA device array"
      ]
    },
    {
      "cell_type": "code",
      "metadata": {
        "id": "G6TNYs-ibNjD"
      },
      "source": [
        "x_device = cuda.to_device(x)\n",
        "y_device = cuda.to_device(y)\n",
        "out_device = cuda.device_array_like(x)"
      ],
      "execution_count": null,
      "outputs": []
    },
    {
      "cell_type": "code",
      "metadata": {
        "id": "wbTL7Sh1cB53"
      },
      "source": [
        "%timeit add_kernel[blocks_per_grid, threads_per_block](x, y, out)"
      ],
      "execution_count": null,
      "outputs": []
    },
    {
      "cell_type": "code",
      "metadata": {
        "id": "OZIoMpgfcEsQ"
      },
      "source": [
        "%timeit add_kernel[blocks_per_grid, threads_per_block](x_device, y_device, out_device); out_device.copy_to_host()"
      ],
      "execution_count": null,
      "outputs": []
    },
    {
      "cell_type": "markdown",
      "metadata": {
        "id": "6X9TZkQVcR_o"
      },
      "source": [
        "## Kernel Synchronization\n",
        "\n",
        "CUDA kernel execution is designed to be asynchronous with respect to the host program. This means that the kernel launch (add_kernel[blocks_per_grid, threads_per_block](x_device, y_device, out_device)) returns immediately, allowing the CPU to continue executing while the GPU works in the background. Only host<->device memory copies or an explicit synchronization call will force the CPU to wait until previously queued CUDA kernels are complete.\n",
        "\n",
        "Always be sure to synchronize with the GPU when benchmarking CUDA kernels!"
      ]
    },
    {
      "cell_type": "code",
      "metadata": {
        "id": "onrOp73Fc2ZH"
      },
      "source": [
        "# CPU input/output arrays, implied synchronization for memory copies\n",
        "%time add_kernel[blocks_per_grid, threads_per_block](x, y, out)"
      ],
      "execution_count": null,
      "outputs": []
    },
    {
      "cell_type": "code",
      "metadata": {
        "id": "Ma-OyamjcIne"
      },
      "source": [
        "# GPU input/output arrays, no synchronization (but force sync before and after)\n",
        "cuda.synchronize()\n",
        "%time add_kernel[blocks_per_grid, threads_per_block](x_device, y_device, out_device)\n",
        "cuda.synchronize()"
      ],
      "execution_count": null,
      "outputs": []
    },
    {
      "cell_type": "code",
      "metadata": {
        "id": "rnQzc5VAc526"
      },
      "source": [
        "# GPU input/output arrays, include explicit synchronization in timing\n",
        "cuda.synchronize()\n",
        "%time add_kernel[blocks_per_grid, threads_per_block](x_device, y_device, out_device); cuda.synchronize()"
      ],
      "execution_count": null,
      "outputs": []
    },
    {
      "cell_type": "markdown",
      "metadata": {
        "id": "buA7D_4PdLeh"
      },
      "source": [
        "# **Exercise: Writing CUDA kernels**\n",
        "\n",
        "Below statement is a pure Python implementation of a function. "
      ]
    },
    {
      "cell_type": "code",
      "metadata": {
        "id": "mGYAgIXM3qjT"
      },
      "source": [
        "# Python implementation\n",
        "def mandelbrot(x, y, max_iters):\n",
        "  i = 0\n",
        "  c = complex(x,y)\n",
        "  z = 0.0j\n",
        "  for i in range(max_iters):\n",
        "    z = z * z + c\n",
        "    if z.real * z.real + z.imag * z.imag >= 4:\n",
        "        return i\n",
        "  return 255"
      ],
      "execution_count": null,
      "outputs": []
    },
    {
      "cell_type": "markdown",
      "metadata": {
        "id": "6GcXfdhfGYiH"
      },
      "source": [
        "Step 1: Modify the example by compiling:\n",
        "- @jit decorator, to run as native code on the CPU\n",
        "- @cuda.jit decorator, to run on the GPU"
      ]
    },
    {
      "cell_type": "code",
      "metadata": {
        "id": "vSBKZOcFc9vz"
      },
      "source": [
        "# Write your own code here"
      ],
      "execution_count": null,
      "outputs": []
    },
    {
      "cell_type": "markdown",
      "metadata": {
        "id": "V6rmQjEeGik_"
      },
      "source": [
        "Step 2: Copy host data to the GPU and return a CUDA device array"
      ]
    },
    {
      "cell_type": "code",
      "metadata": {
        "id": "u4YK8Mw5GRae"
      },
      "source": [
        "# Write your own code here"
      ],
      "execution_count": null,
      "outputs": []
    },
    {
      "cell_type": "markdown",
      "metadata": {
        "id": "RGFmzh8oGH1j"
      },
      "source": [
        "Step 3: Can you also rewrite the mandel function using @vectorize for the CUDA target?"
      ]
    },
    {
      "cell_type": "code",
      "metadata": {
        "id": "i96232k2GwF3"
      },
      "source": [
        "# Write your own code here"
      ],
      "execution_count": null,
      "outputs": []
    }
  ]
}