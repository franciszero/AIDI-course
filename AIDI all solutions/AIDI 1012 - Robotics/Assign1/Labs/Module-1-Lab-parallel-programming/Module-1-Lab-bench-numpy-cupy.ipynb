{
 "cells": [
  {
   "cell_type": "markdown",
   "metadata": {
    "id": "bIS7kPs-LZvU"
   },
   "source": [
    "# **Performance best practices**\n",
    "\n",
    "Array operations with GPUs can provide considerable speedups over CPU computing.\n",
    "\n",
    "[CuPy](https://cupy.dev/) is an open-source array library for GPU-accelerated computing with Python. CuPy utilizes CUDA Toolkit libraries including cuBLAS, cuRAND, cuSOLVER, cuSPARSE, cuFFT, cuDNN and NCCL to make full use of the GPU architecture.\n",
    "\n",
    "*  Most operations perform well on a GPU using CuPy. CuPy speeds up some operations more than 100X.\n",
    "\n",
    "*  CuPy's interface is highly compatible with NumPy. CuPy supports various methods, indexing, data types, broadcasting and more. This [comparison table](https://docs.cupy.dev/en/stable/reference/comparison.html) shows a list of NumPy and their corresponding CuPy implementations.\n",
    "\n",
    "[NumPy](https://numpy.org/doc/stable/user/whatisnumpy.html) is the fundamental package for scientific computing in Python. It is a Python library that provides a multidimensional array object, various derived objects (such as masked arrays and matrices), and an assortment of routines for fast operations on arrays, including mathematical, logical, shape manipulation, sorting, selecting, I/O, discrete Fourier transforms, basic linear algebra, basic statistical operations, random simulation and much more.\n",
    "\n"
   ]
  },
  {
   "cell_type": "markdown",
   "metadata": {
    "id": "s3MzFNh0JOx3"
   },
   "source": [
    "## **Benchmarking speed- NumPy vs CuPy**"
   ]
  },
  {
   "cell_type": "markdown",
   "metadata": {
    "id": "D-8IpCusOdfa"
   },
   "source": [
    "In this tutorial, we will perform some opeations using NumPy and CuPy library and we will benchmark the time."
   ]
  },
  {
   "cell_type": "code",
   "execution_count": null,
   "metadata": {
    "id": "wgTcdb1GJOx0"
   },
   "outputs": [],
   "source": [
    "# import libraries\n",
    "import numpy as np\n",
    "import cupy"
   ]
  },
  {
   "cell_type": "markdown",
   "metadata": {
    "id": "9Q8sW5ykRBFn"
   },
   "source": [
    "Let's start with creating an array using NumPy and CuPy and compare the time."
   ]
  },
  {
   "cell_type": "markdown",
   "metadata": {
    "id": "Ku7Gu62CJOx3"
   },
   "source": [
    "### **Creating an array with NumPy**"
   ]
  },
  {
   "cell_type": "code",
   "execution_count": null,
   "metadata": {
    "id": "CnfIHTkGJOx4"
   },
   "outputs": [],
   "source": [
    "%%time\n",
    "np_var1 = np.random.random((10000, 10000))\n",
    "np_var2 = np.random.random((10000, 10000))"
   ]
  },
  {
   "cell_type": "markdown",
   "metadata": {
    "id": "UF2KxiJeNi86"
   },
   "source": [
    "### **Creating and array with CuPy**"
   ]
  },
  {
   "cell_type": "code",
   "execution_count": null,
   "metadata": {
    "id": "1ePwSjMuJOx5"
   },
   "outputs": [],
   "source": [
    "%%time\n",
    "cp_var1 = cupy.random.random((10000, 10000))\n",
    "cp_var2 = cupy.random.random((10000, 10000))\n",
    "cupy.cuda.Stream.null.synchronize()"
   ]
  },
  {
   "cell_type": "code",
   "execution_count": null,
   "metadata": {
    "id": "rFutKMJGJOx5"
   },
   "outputs": [],
   "source": [
    "# print the numpy array\n",
    "np_var1 "
   ]
  },
  {
   "cell_type": "code",
   "execution_count": null,
   "metadata": {
    "id": "vhMq7V8-JOx6"
   },
   "outputs": [],
   "source": [
    "# print the cupy array\n",
    "cp_var1"
   ]
  },
  {
   "cell_type": "markdown",
   "metadata": {
    "id": "jWpib_dLJOx6"
   },
   "source": [
    "### **Trigonometric function**\n",
    "\n",
    "Let's do some trigonometric operations and compare the time."
   ]
  },
  {
   "cell_type": "code",
   "execution_count": null,
   "metadata": {
    "id": "HDCYYekAJOx6"
   },
   "outputs": [],
   "source": [
    "%timeit bool((np.sin(np_var1) ** 2 + np.cos(np_var1) ** 2 == 1).all())"
   ]
  },
  {
   "cell_type": "code",
   "execution_count": null,
   "metadata": {
    "id": "XgQEqhvgJOx7"
   },
   "outputs": [],
   "source": [
    "%timeit bool((cupy.sin(cp_var2) ** 2 + cupy.cos(cp_var2) ** 2 == 1).all())"
   ]
  },
  {
   "cell_type": "markdown",
   "metadata": {
    "id": "v83A4q_oJOx7"
   },
   "source": [
    "### **Multiplying the array**\n",
    "\n",
    "Let's do some aritmetic operations and compare the time."
   ]
  },
  {
   "cell_type": "code",
   "execution_count": null,
   "metadata": {
    "id": "7ImvTgc8JOx7"
   },
   "outputs": [],
   "source": [
    "%%time\n",
    "np_var1 *= 10"
   ]
  },
  {
   "cell_type": "code",
   "execution_count": null,
   "metadata": {
    "id": "b5I5-wD7JOx7"
   },
   "outputs": [],
   "source": [
    "%%time\n",
    "cp_var1 *= 10\n",
    "cupy.cuda.Stream.null.synchronize()"
   ]
  },
  {
   "cell_type": "markdown",
   "metadata": {
    "id": "5vEb7abfJOx8"
   },
   "source": [
    "### **Performing multiple operations on the array**"
   ]
  },
  {
   "cell_type": "code",
   "execution_count": null,
   "metadata": {
    "id": "jDQ37Zu5JOx8"
   },
   "outputs": [],
   "source": [
    "%%time\n",
    "np_var1 *= 10\n",
    "np_var2 *= 20\n",
    "np_var1 *= np_var2"
   ]
  },
  {
   "cell_type": "code",
   "execution_count": null,
   "metadata": {
    "id": "x-Dn9MUzJOx8"
   },
   "outputs": [],
   "source": [
    "%%time\n",
    "cp_var1 *= 10\n",
    "cp_var2 *= 20\n",
    "cp_var1 *= cp_var2\n",
    "cupy.cuda.Stream.null.synchronize()"
   ]
  },
  {
   "cell_type": "markdown",
   "metadata": {
    "id": "_yg2_xxJPvyH"
   },
   "source": [
    "# **Exercise**\n",
    "You can also find other operations from [the comparison table](https://docs.cupy.dev/en/stable/reference/comparison.html).\n",
    "\n",
    "Use the following operations do NumPy and CuPy implementation and then benchmark the times. \n",
    "- numpy.absolute | cupy.absolute\n",
    "- numpy.median | cupy.median\n",
    "- numpy.resize | cupy.resize\n",
    "- numpy.shape | cupy.shape\n",
    "- numpy.ndarray.fill() | cupy.ndarray.fill()"
   ]
  },
  {
   "cell_type": "code",
   "execution_count": null,
   "metadata": {
    "id": "aLmt4013ozUx"
   },
   "outputs": [],
   "source": []
  }
 ],
 "metadata": {
  "colab": {
   "collapsed_sections": [],
   "name": "Module-1-Lab-bench-numpy-cupy.ipynb",
   "provenance": []
  },
  "kernelspec": {
   "display_name": "Python 3 (ipykernel)",
   "language": "python",
   "name": "python3"
  },
  "language_info": {
   "codemirror_mode": {
    "name": "ipython",
    "version": 3
   },
   "file_extension": ".py",
   "mimetype": "text/x-python",
   "name": "python",
   "nbconvert_exporter": "python",
   "pygments_lexer": "ipython3",
   "version": "3.8.12"
  }
 },
 "nbformat": 4,
 "nbformat_minor": 1
}
