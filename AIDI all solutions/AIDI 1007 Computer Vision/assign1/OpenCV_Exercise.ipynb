{
 "cells": [
  {
   "cell_type": "markdown",
   "metadata": {
    "id": "Z_iSdjqBZtCz"
   },
   "source": [
    "## Aim: To get familiar with OpenCV operations\n",
    "### Note: Use matplotlib or OpenCV to display images and write the code after the #Answer comment\n",
    "### Grade points = 20%\n",
    "### Please submit the notebook as the submission and make sure output for each cell is displayed and all cells are executed\n",
    "\n",
    "## Important Note: Please submit your original work and don't share your work with others"
   ]
  },
  {
   "cell_type": "markdown",
   "metadata": {
    "id": "usBhkzDzZtC1"
   },
   "source": [
    "### Question 1"
   ]
  },
  {
   "cell_type": "code",
   "execution_count": 21,
   "metadata": {
    "id": "E86qhVerZtC1"
   },
   "outputs": [
    {
     "name": "stdout",
     "output_type": "stream",
     "text": [
      "img shape: (739, 600, 3), img size: 1330200\n"
     ]
    }
   ],
   "source": [
    "#read image opencv-logo\n",
    "#display shape and size of the image\n",
    "\n",
    "#Answer\n",
    "\n",
    "# import the cv2 library\n",
    "import cv2\n",
    "\n",
    "img_color = cv2.imread('opencv-logo.png',cv2.IMREAD_COLOR)\n",
    "img_grayscale = cv2.imread('opencv-logo.png',cv2.IMREAD_GRAYSCALE)\n",
    "img_unchanged = cv2.imread('opencv-logo.png',cv2.IMREAD_UNCHANGED)\n",
    "\n",
    "print(\"img shape: %s, img size: %s\" % (str(img_color.shape), str(img_color.size)))"
   ]
  },
  {
   "cell_type": "code",
   "execution_count": 25,
   "metadata": {},
   "outputs": [
    {
     "data": {
      "text/plain": [
       "((739, 600), (739, 600, 3))"
      ]
     },
     "execution_count": 25,
     "metadata": {},
     "output_type": "execute_result"
    }
   ],
   "source": [
    "img_grayscale.shape, img_color.shape"
   ]
  },
  {
   "cell_type": "markdown",
   "metadata": {
    "id": "VSkIQy9cZtC2"
   },
   "source": [
    "### Question 2"
   ]
  },
  {
   "cell_type": "code",
   "execution_count": 18,
   "metadata": {
    "id": "URdhOEslZtC2"
   },
   "outputs": [
    {
     "data": {
      "text/plain": [
       "(150, 200)"
      ]
     },
     "execution_count": 18,
     "metadata": {},
     "output_type": "execute_result"
    }
   ],
   "source": [
    "#create a numpy array of zeroes that is 150 pixels tall, 200 pixels wide\n",
    "#display this black image\n",
    "#Similarly create a numpy array on ones with above dimensions and display the white image\n",
    "\n",
    "#Answer\n",
    "import numpy as np\n",
    "arr1 = np.zeros(150*200).reshape(150, 200)\n",
    "arr2 = np.zeros_like(arr1)\n",
    "arr1.shape"
   ]
  },
  {
   "cell_type": "code",
   "execution_count": 28,
   "metadata": {},
   "outputs": [],
   "source": [
    "cv2.imshow('test', arr2)"
   ]
  },
  {
   "cell_type": "markdown",
   "metadata": {
    "id": "BkZPNbwFZtC2"
   },
   "source": [
    "### Question 3"
   ]
  },
  {
   "cell_type": "code",
   "execution_count": null,
   "metadata": {
    "id": "tVqpU56-ZtC3"
   },
   "outputs": [],
   "source": [
    "#read the butterfly image and display the r,g,b channels of the image\n",
    "#Then display the butterfly image in the HSV color space\n",
    "\n",
    "#Answer"
   ]
  },
  {
   "cell_type": "markdown",
   "metadata": {
    "id": "WxDlIwQsZtC3"
   },
   "source": [
    "### Question 4"
   ]
  },
  {
   "cell_type": "code",
   "execution_count": null,
   "metadata": {
    "id": "RwM_YU8kZtC3"
   },
   "outputs": [],
   "source": [
    "#create a 5 by 5 array where every number is a 10\n",
    "#run the cell below to create an array of random numbers and see if you can figure out how it works.\n",
    "#what are the largest and smalled values in this array?\n",
    "#use PIL and matplotlib to read and display the any image of your choice from the given images.\n",
    "#convert the image to a NumPy Array\n",
    "#use slicing to set the RED and GREEN channels of the picture to 0, then use imshow() to show the isolated blue channel\n",
    "\n",
    "#Answer"
   ]
  },
  {
   "cell_type": "markdown",
   "metadata": {
    "id": "rYTXjgTHZtC3"
   },
   "source": [
    "### Question 5"
   ]
  },
  {
   "cell_type": "code",
   "execution_count": null,
   "metadata": {
    "id": "i6A-T4U0ZtC3"
   },
   "outputs": [],
   "source": [
    "#read in the players image\n",
    "#Perform scaling using resize method\n",
    "#a) half the image using dim=(0,0), fx=0.5, fy=0.5\n",
    "#b) stretch the image to dim = (600,600)\n",
    "#c) stretch the image to dim = (600,600 using interpolation=cv2.INTER_NEAREST\n",
    "\n",
    "#Answer"
   ]
  },
  {
   "cell_type": "markdown",
   "metadata": {
    "id": "oaBQphMkZtC3"
   },
   "source": [
    "### Question 6"
   ]
  },
  {
   "cell_type": "code",
   "execution_count": null,
   "metadata": {
    "id": "wRA9GDQKZtC4"
   },
   "outputs": [],
   "source": [
    "#read in the detect_blob image\n",
    "#then draw a box shape around the blue solid box in the image that is your region of interest\n",
    "#crop your region of interest\n",
    "#and then rotate it 45 degrees so that it is not clipped\n",
    "\n",
    "#Answer"
   ]
  },
  {
   "cell_type": "markdown",
   "metadata": {
    "id": "uaCFcxLuZtC4"
   },
   "source": [
    "### Question 7"
   ]
  },
  {
   "cell_type": "code",
   "execution_count": null,
   "metadata": {
    "id": "Si1Q_F5OZtC4"
   },
   "outputs": [],
   "source": [
    "#read in the thresh image, perform thresholding by using gaussian blur with thresholds 5,55\n",
    "#then perform dilation, erosion, opening & closing using a 5x5 kernel with 1 iteration on the original thresh image (Hint: look into Opencv for operations)\n",
    "#Finally apply canny edge detection - experiment using wide and narrow thresholds \n",
    "#(so just 2 images in total one wide and one narrow)\n",
    "\n",
    "#Answer"
   ]
  },
  {
   "cell_type": "markdown",
   "metadata": {
    "id": "t6lYL-jcZtC4"
   },
   "source": [
    "### Question 8"
   ]
  },
  {
   "cell_type": "code",
   "execution_count": null,
   "metadata": {
    "id": "B5TPJNyTZtC4"
   },
   "outputs": [],
   "source": [
    "#read in the butterfly image\n",
    "#open the chess_football image and display it in the notebook. Make sure to correct for the RGB order\n",
    "#flip the image upside down and display it in the notebook.\n",
    "#draw an empty RED rectangle around the butterfly and display the image in the notebook.\n",
    "#draw a BLUE TRIANGLE in the middle of the image. The size and angle is up to you, but it should be a triangle (three sides) in any orientation.\n",
    "#now fill in this triangle\n",
    "#display the original image as well as the resultant image\n",
    "\n",
    "#Answer"
   ]
  },
  {
   "cell_type": "markdown",
   "metadata": {
    "id": "a4NccuL4vxM3"
   },
   "source": [
    "### Question 9"
   ]
  },
  {
   "cell_type": "code",
   "execution_count": null,
   "metadata": {
    "id": "Nv2lC4RRvrLP"
   },
   "outputs": [],
   "source": [
    "#create a script that opens the picture and allows you to draw empty red circles where ever you click the RIGHT MOUSE BUTTON DOWN\n",
    "\n",
    "#Answer"
   ]
  },
  {
   "cell_type": "markdown",
   "metadata": {
    "id": "7j8jyP1wv_Rp"
   },
   "source": [
    "### Question 10"
   ]
  },
  {
   "cell_type": "code",
   "execution_count": null,
   "metadata": {
    "id": "EE_1YQQuwCak"
   },
   "outputs": [],
   "source": [
    "#open and display the any image of your choice\n",
    "#apply a binary threshold onto the image\n",
    "#convert image colorspace to HSV and display the image\n",
    "#create a low pass filter with a 4 by 4 Kernel filled with values of 1/10 (0.01) and then use 2-D Convolution to blur the image (displayed in normal RGB)\n",
    "#create a Horizontal Sobel Filter with a kernel size of 5 to the grayscale version of the image and then display the resulting gradient filtered version of the image.\n",
    "#plot the color histograms for the RED, BLUE, and GREEN channel of the image. Pay careful attention to the ordering of the channels\n",
    "\n",
    "#Answer"
   ]
  }
 ],
 "metadata": {
  "colab": {
   "provenance": []
  },
  "kernelspec": {
   "display_name": "Python 3 (ipykernel)",
   "language": "python",
   "name": "python3"
  },
  "language_info": {
   "codemirror_mode": {
    "name": "ipython",
    "version": 3
   },
   "file_extension": ".py",
   "mimetype": "text/x-python",
   "name": "python",
   "nbconvert_exporter": "python",
   "pygments_lexer": "ipython3",
   "version": "3.8.12"
  }
 },
 "nbformat": 4,
 "nbformat_minor": 1
}
